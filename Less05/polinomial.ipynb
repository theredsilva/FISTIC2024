{
 "cells": [
  {
   "cell_type": "code",
   "execution_count": 1,
   "metadata": {},
   "outputs": [
    {
     "name": "stdout",
     "output_type": "stream",
     "text": [
      "ESEMPIO 1: Una singola feature\n",
      "\n",
      "Dati originali:\n",
      "[[1]\n",
      " [2]\n",
      " [3]]\n"
     ]
    }
   ],
   "source": [
    "import numpy as np\n",
    "from sklearn.preprocessing import PolynomialFeatures\n",
    "\n",
    "# Esempio con una singola feature\n",
    "print(\"ESEMPIO 1: Una singola feature\")\n",
    "X_single = np.array([[1], [2], [3]])\n",
    "print(\"\\nDati originali:\")\n",
    "print(X_single)"
   ]
  },
  {
   "cell_type": "code",
   "execution_count": 2,
   "metadata": {},
   "outputs": [
    {
     "name": "stdout",
     "output_type": "stream",
     "text": [
      "\n",
      "Feature polinomiali (grado 2):\n",
      "[[1. 1. 1.]\n",
      " [1. 2. 4.]\n",
      " [1. 3. 9.]]\n",
      "Nomi delle feature:\n",
      "['1' 'x' 'x^2']\n"
     ]
    }
   ],
   "source": [
    "# Grado 2\n",
    "poly_2 = PolynomialFeatures(degree=2)\n",
    "X_poly_2 = poly_2.fit_transform(X_single)\n",
    "print(\"\\nFeature polinomiali (grado 2):\")\n",
    "print(X_poly_2)\n",
    "print(\"Nomi delle feature:\")\n",
    "print(poly_2.get_feature_names_out(['x']))"
   ]
  },
  {
   "cell_type": "code",
   "execution_count": 3,
   "metadata": {},
   "outputs": [
    {
     "name": "stdout",
     "output_type": "stream",
     "text": [
      "\n",
      "ESEMPIO 2: Due feature\n",
      "\n",
      "Dati originali:\n",
      "[[1 2]\n",
      " [3 4]\n",
      " [5 6]]\n"
     ]
    }
   ],
   "source": [
    "# Esempio con due feature\n",
    "print(\"\\nESEMPIO 2: Due feature\")\n",
    "X_double = np.array([[1, 2],\n",
    "                    [3, 4],\n",
    "                    [5, 6]])\n",
    "print(\"\\nDati originali:\")\n",
    "print(X_double)"
   ]
  },
  {
   "cell_type": "code",
   "execution_count": 4,
   "metadata": {},
   "outputs": [
    {
     "name": "stdout",
     "output_type": "stream",
     "text": [
      "\n",
      "Feature polinomiali (grado 2):\n",
      "[[ 1.  1.  2.  1.  2.  4.]\n",
      " [ 1.  3.  4.  9. 12. 16.]\n",
      " [ 1.  5.  6. 25. 30. 36.]]\n",
      "Nomi delle feature:\n",
      "['1' 'x1' 'x2' 'x1^2' 'x1 x2' 'x2^2']\n"
     ]
    }
   ],
   "source": [
    "# Grado 2 con due feature\n",
    "poly_2_double = PolynomialFeatures(degree=2)\n",
    "X_poly_2_double = poly_2_double.fit_transform(X_double)\n",
    "print(\"\\nFeature polinomiali (grado 2):\")\n",
    "print(X_poly_2_double)\n",
    "print(\"Nomi delle feature:\")\n",
    "print(poly_2_double.get_feature_names_out(['x1', 'x2']))"
   ]
  },
  {
   "cell_type": "code",
   "execution_count": 5,
   "metadata": {},
   "outputs": [
    {
     "name": "stdout",
     "output_type": "stream",
     "text": [
      "\n",
      "ESEMPIO 3: Una feature con grado 3\n",
      "\n",
      "Feature polinomiali (grado 3):\n",
      "[[ 1.  1.  1.  1.]\n",
      " [ 1.  2.  4.  8.]\n",
      " [ 1.  3.  9. 27.]]\n",
      "Nomi delle feature:\n",
      "['1' 'x' 'x^2' 'x^3']\n"
     ]
    }
   ],
   "source": [
    "# Esempio con grado 3\n",
    "print(\"\\nESEMPIO 3: Una feature con grado 3\")\n",
    "poly_3 = PolynomialFeatures(degree=3)\n",
    "X_poly_3 = poly_3.fit_transform(X_single)\n",
    "print(\"\\nFeature polinomiali (grado 3):\")\n",
    "print(X_poly_3)\n",
    "print(\"Nomi delle feature:\")\n",
    "print(poly_3.get_feature_names_out(['x']))"
   ]
  },
  {
   "cell_type": "code",
   "execution_count": 6,
   "metadata": {},
   "outputs": [
    {
     "name": "stdout",
     "output_type": "stream",
     "text": [
      "\n",
      "ESEMPIO 4: Senza termine costante\n",
      "\n",
      "Feature polinomiali (senza bias):\n",
      "[[1. 1.]\n",
      " [2. 4.]\n",
      " [3. 9.]]\n",
      "Nomi delle feature:\n",
      "['x' 'x^2']\n"
     ]
    }
   ],
   "source": [
    "# Esempio senza bias (termine costante)\n",
    "print(\"\\nESEMPIO 4: Senza termine costante\")\n",
    "poly_no_bias = PolynomialFeatures(degree=2, include_bias=False)\n",
    "X_poly_no_bias = poly_no_bias.fit_transform(X_single)\n",
    "print(\"\\nFeature polinomiali (senza bias):\")\n",
    "print(X_poly_no_bias)\n",
    "print(\"Nomi delle feature:\")\n",
    "print(poly_no_bias.get_feature_names_out(['x']))"
   ]
  },
  {
   "cell_type": "code",
   "execution_count": null,
   "metadata": {},
   "outputs": [],
   "source": []
  }
 ],
 "metadata": {
  "kernelspec": {
   "display_name": "Python 3",
   "language": "python",
   "name": "python3"
  },
  "language_info": {
   "codemirror_mode": {
    "name": "ipython",
    "version": 3
   },
   "file_extension": ".py",
   "mimetype": "text/x-python",
   "name": "python",
   "nbconvert_exporter": "python",
   "pygments_lexer": "ipython3",
   "version": "3.11.8"
  }
 },
 "nbformat": 4,
 "nbformat_minor": 2
}
