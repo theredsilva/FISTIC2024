{
 "cells": [
  {
   "cell_type": "markdown",
   "metadata": {
    "id": "h0jBK0mYrE8b"
   },
   "source": [
    "## Real Case \"SMALL DATA\""
   ]
  },
  {
   "cell_type": "markdown",
   "metadata": {
    "id": "EisCn--TrE8f"
   },
   "source": [
    "<img src='https://frenzy86.s3.eu-west-2.amazonaws.com/python/img/tom1.png' width=900>"
   ]
  },
  {
   "cell_type": "markdown",
   "metadata": {
    "id": "8N4cIW11rE8g"
   },
   "source": [
    "<img src='https://frenzy86.s3.eu-west-2.amazonaws.com/python/img/tom2.png' width=900>"
   ]
  },
  {
   "cell_type": "code",
   "execution_count": 2,
   "metadata": {
    "executionInfo": {
     "elapsed": 4,
     "status": "ok",
     "timestamp": 1684175440308,
     "user": {
      "displayName": "T3Lab Vision",
      "userId": "14779383426442114373"
     },
     "user_tz": -120
    },
    "id": "eFl1zV5RrE8h"
   },
   "outputs": [],
   "source": [
    "#!wget https://frenzy86.s3.eu-west-2.amazonaws.com/python/data/realcase/dataset_costi.xlsx\n",
    "\n",
    "#Target colonna \"costi anno 2020\""
   ]
  },
  {
   "cell_type": "code",
   "execution_count": 3,
   "metadata": {
    "executionInfo": {
     "elapsed": 4,
     "status": "ok",
     "timestamp": 1684175440309,
     "user": {
      "displayName": "T3Lab Vision",
      "userId": "14779383426442114373"
     },
     "user_tz": -120
    },
    "id": "Dwl60IRjrE8i"
   },
   "outputs": [],
   "source": [
    "path = 'https://frenzy86.s3.eu-west-2.amazonaws.com/python/data/realcase/dataset_costi.xlsx'"
   ]
  },
  {
   "cell_type": "markdown",
   "metadata": {
    "id": "Qrk2iSu7rE8i"
   },
   "source": [
    "<img src='https://frenzy86.s3.eu-west-2.amazonaws.com/python/data/pandas_.png' width=500>"
   ]
  },
  {
   "cell_type": "code",
   "execution_count": null,
   "metadata": {},
   "outputs": [],
   "source": []
  },
  {
   "cell_type": "code",
   "execution_count": null,
   "metadata": {},
   "outputs": [],
   "source": []
  },
  {
   "cell_type": "code",
   "execution_count": null,
   "metadata": {},
   "outputs": [],
   "source": []
  },
  {
   "cell_type": "code",
   "execution_count": null,
   "metadata": {},
   "outputs": [],
   "source": []
  },
  {
   "cell_type": "code",
   "execution_count": null,
   "metadata": {},
   "outputs": [],
   "source": []
  },
  {
   "cell_type": "code",
   "execution_count": null,
   "metadata": {
    "id": "FClUGFmhrE81"
   },
   "outputs": [],
   "source": []
  }
 ],
 "metadata": {
  "colab": {
   "provenance": []
  },
  "kernelspec": {
   "display_name": "Python 3",
   "language": "python",
   "name": "python3"
  },
  "language_info": {
   "codemirror_mode": {
    "name": "ipython",
    "version": 3
   },
   "file_extension": ".py",
   "mimetype": "text/x-python",
   "name": "python",
   "nbconvert_exporter": "python",
   "pygments_lexer": "ipython3",
   "version": "3.10.9"
  },
  "orig_nbformat": 4
 },
 "nbformat": 4,
 "nbformat_minor": 0
}
