{
 "cells": [
  {
   "cell_type": "markdown",
   "id": "17f5152a-6403-44a4-8110-d857a237ec3a",
   "metadata": {
    "papermill": {
     "duration": 0.005134,
     "end_time": "2024-05-29T23:06:09.435998",
     "exception": false,
     "start_time": "2024-05-29T23:06:09.430864",
     "status": "completed"
    },
    "tags": []
   },
   "source": [
    "# Generation by Technology"
   ]
  },
  {
   "cell_type": "code",
   "execution_count": null,
   "id": "7a04ec31",
   "metadata": {},
   "outputs": [],
   "source": [
    "path = \"https://frenzy86.s3.eu-west-2.amazonaws.com/python/data/p48_2015_2022.csv\""
   ]
  },
  {
   "cell_type": "code",
   "execution_count": 1,
   "id": "399fb95e-d515-47bd-8cee-b0a4fc4b9929",
   "metadata": {
    "execution": {
     "iopub.execute_input": "2024-05-29T23:06:09.452421Z",
     "iopub.status.busy": "2024-05-29T23:06:09.452191Z",
     "iopub.status.idle": "2024-05-29T23:06:10.278184Z",
     "shell.execute_reply": "2024-05-29T23:06:10.277893Z"
    },
    "papermill": {
     "duration": 0.830579,
     "end_time": "2024-05-29T23:06:10.278970",
     "exception": false,
     "start_time": "2024-05-29T23:06:09.448391",
     "status": "completed"
    },
    "tags": [
     "Fixed"
    ]
   },
   "outputs": [
    {
     "data": {
      "text/html": [
       "<div>\n",
       "<style scoped>\n",
       "    .dataframe tbody tr th:only-of-type {\n",
       "        vertical-align: middle;\n",
       "    }\n",
       "\n",
       "    .dataframe tbody tr th {\n",
       "        vertical-align: top;\n",
       "    }\n",
       "\n",
       "    .dataframe thead th {\n",
       "        text-align: right;\n",
       "    }\n",
       "</style>\n",
       "<table border=\"1\" class=\"dataframe\">\n",
       "  <thead>\n",
       "    <tr style=\"text-align: right;\">\n",
       "      <th></th>\n",
       "      <th>Hidráulica</th>\n",
       "      <th>Ajuste P48</th>\n",
       "      <th>Saldo Andorra</th>\n",
       "      <th>Saldo Marruecos</th>\n",
       "      <th>Saldo Francia</th>\n",
       "      <th>Saldo Portugal</th>\n",
       "      <th>Otras Renovables</th>\n",
       "      <th>Residuos No Renovables</th>\n",
       "      <th>Cogeneración</th>\n",
       "      <th>Eólica</th>\n",
       "      <th>Fuel-Gas</th>\n",
       "      <th>Carbón</th>\n",
       "      <th>Enlace Baleares</th>\n",
       "      <th>Consumo Bombeo</th>\n",
       "      <th>Solar Térmica</th>\n",
       "      <th>Solar Fotovoltaica</th>\n",
       "      <th>Ciclo Combinado</th>\n",
       "      <th>Turbinación Bombeo</th>\n",
       "      <th>Nuclear</th>\n",
       "    </tr>\n",
       "    <tr>\n",
       "      <th>datetime_utc</th>\n",
       "      <th></th>\n",
       "      <th></th>\n",
       "      <th></th>\n",
       "      <th></th>\n",
       "      <th></th>\n",
       "      <th></th>\n",
       "      <th></th>\n",
       "      <th></th>\n",
       "      <th></th>\n",
       "      <th></th>\n",
       "      <th></th>\n",
       "      <th></th>\n",
       "      <th></th>\n",
       "      <th></th>\n",
       "      <th></th>\n",
       "      <th></th>\n",
       "      <th></th>\n",
       "      <th></th>\n",
       "      <th></th>\n",
       "    </tr>\n",
       "  </thead>\n",
       "  <tbody>\n",
       "    <tr>\n",
       "      <th>2015-01-01 00:00:00+01:00</th>\n",
       "      <td>2621.90</td>\n",
       "      <td>1300.0</td>\n",
       "      <td>-36.0</td>\n",
       "      <td>-540.0</td>\n",
       "      <td>-1000.0</td>\n",
       "      <td>291.7</td>\n",
       "      <td>486.4</td>\n",
       "      <td>NaN</td>\n",
       "      <td>1586.9</td>\n",
       "      <td>5517.400</td>\n",
       "      <td>421.6</td>\n",
       "      <td>5077.9</td>\n",
       "      <td>-128.0</td>\n",
       "      <td>-850.000</td>\n",
       "      <td>16.0</td>\n",
       "      <td>NaN</td>\n",
       "      <td>3458.10</td>\n",
       "      <td>NaN</td>\n",
       "      <td>7105.00</td>\n",
       "    </tr>\n",
       "    <tr>\n",
       "      <th>2015-01-01 01:00:00+01:00</th>\n",
       "      <td>2532.30</td>\n",
       "      <td>1000.0</td>\n",
       "      <td>-35.0</td>\n",
       "      <td>-600.0</td>\n",
       "      <td>-1100.0</td>\n",
       "      <td>-44.1</td>\n",
       "      <td>486.4</td>\n",
       "      <td>NaN</td>\n",
       "      <td>1591.2</td>\n",
       "      <td>5034.400</td>\n",
       "      <td>422.3</td>\n",
       "      <td>5086.3</td>\n",
       "      <td>-102.0</td>\n",
       "      <td>-850.000</td>\n",
       "      <td>16.0</td>\n",
       "      <td>NaN</td>\n",
       "      <td>3789.50</td>\n",
       "      <td>NaN</td>\n",
       "      <td>7104.00</td>\n",
       "    </tr>\n",
       "    <tr>\n",
       "      <th>...</th>\n",
       "      <td>...</td>\n",
       "      <td>...</td>\n",
       "      <td>...</td>\n",
       "      <td>...</td>\n",
       "      <td>...</td>\n",
       "      <td>...</td>\n",
       "      <td>...</td>\n",
       "      <td>...</td>\n",
       "      <td>...</td>\n",
       "      <td>...</td>\n",
       "      <td>...</td>\n",
       "      <td>...</td>\n",
       "      <td>...</td>\n",
       "      <td>...</td>\n",
       "      <td>...</td>\n",
       "      <td>...</td>\n",
       "      <td>...</td>\n",
       "      <td>...</td>\n",
       "      <td>...</td>\n",
       "    </tr>\n",
       "    <tr>\n",
       "      <th>2022-12-31 22:00:00+01:00</th>\n",
       "      <td>4055.50</td>\n",
       "      <td>-200.0</td>\n",
       "      <td>-67.0</td>\n",
       "      <td>-740.0</td>\n",
       "      <td>-1715.8</td>\n",
       "      <td>3355.0</td>\n",
       "      <td>259.2</td>\n",
       "      <td>264.7</td>\n",
       "      <td>760.6</td>\n",
       "      <td>8871.225</td>\n",
       "      <td>NaN</td>\n",
       "      <td>260.0</td>\n",
       "      <td>-153.0</td>\n",
       "      <td>-1846.700</td>\n",
       "      <td>NaN</td>\n",
       "      <td>1.7</td>\n",
       "      <td>1725.00</td>\n",
       "      <td>689.6000</td>\n",
       "      <td>6457.75</td>\n",
       "    </tr>\n",
       "    <tr>\n",
       "      <th>2022-12-31 23:00:00+01:00</th>\n",
       "      <td>3963.95</td>\n",
       "      <td>-200.0</td>\n",
       "      <td>-62.0</td>\n",
       "      <td>-750.0</td>\n",
       "      <td>-258.0</td>\n",
       "      <td>2755.0</td>\n",
       "      <td>257.2</td>\n",
       "      <td>264.9</td>\n",
       "      <td>761.6</td>\n",
       "      <td>7506.300</td>\n",
       "      <td>NaN</td>\n",
       "      <td>260.0</td>\n",
       "      <td>-128.0</td>\n",
       "      <td>-2632.025</td>\n",
       "      <td>NaN</td>\n",
       "      <td>1.6</td>\n",
       "      <td>2104.55</td>\n",
       "      <td>240.9125</td>\n",
       "      <td>6415.45</td>\n",
       "    </tr>\n",
       "  </tbody>\n",
       "</table>\n",
       "<p>70128 rows × 19 columns</p>\n",
       "</div>"
      ],
      "text/plain": [
       "                           Hidráulica  Ajuste P48  Saldo Andorra  \\\n",
       "datetime_utc                                                       \n",
       "2015-01-01 00:00:00+01:00     2621.90      1300.0          -36.0   \n",
       "2015-01-01 01:00:00+01:00     2532.30      1000.0          -35.0   \n",
       "...                               ...         ...            ...   \n",
       "2022-12-31 22:00:00+01:00     4055.50      -200.0          -67.0   \n",
       "2022-12-31 23:00:00+01:00     3963.95      -200.0          -62.0   \n",
       "\n",
       "                           Saldo Marruecos  Saldo Francia  Saldo Portugal  \\\n",
       "datetime_utc                                                                \n",
       "2015-01-01 00:00:00+01:00           -540.0        -1000.0           291.7   \n",
       "2015-01-01 01:00:00+01:00           -600.0        -1100.0           -44.1   \n",
       "...                                    ...            ...             ...   \n",
       "2022-12-31 22:00:00+01:00           -740.0        -1715.8          3355.0   \n",
       "2022-12-31 23:00:00+01:00           -750.0         -258.0          2755.0   \n",
       "\n",
       "                           Otras Renovables  Residuos No Renovables  \\\n",
       "datetime_utc                                                          \n",
       "2015-01-01 00:00:00+01:00             486.4                     NaN   \n",
       "2015-01-01 01:00:00+01:00             486.4                     NaN   \n",
       "...                                     ...                     ...   \n",
       "2022-12-31 22:00:00+01:00             259.2                   264.7   \n",
       "2022-12-31 23:00:00+01:00             257.2                   264.9   \n",
       "\n",
       "                           Cogeneración    Eólica  Fuel-Gas  Carbón  \\\n",
       "datetime_utc                                                          \n",
       "2015-01-01 00:00:00+01:00        1586.9  5517.400     421.6  5077.9   \n",
       "2015-01-01 01:00:00+01:00        1591.2  5034.400     422.3  5086.3   \n",
       "...                                 ...       ...       ...     ...   \n",
       "2022-12-31 22:00:00+01:00         760.6  8871.225       NaN   260.0   \n",
       "2022-12-31 23:00:00+01:00         761.6  7506.300       NaN   260.0   \n",
       "\n",
       "                           Enlace Baleares  Consumo Bombeo  Solar Térmica  \\\n",
       "datetime_utc                                                                \n",
       "2015-01-01 00:00:00+01:00           -128.0        -850.000           16.0   \n",
       "2015-01-01 01:00:00+01:00           -102.0        -850.000           16.0   \n",
       "...                                    ...             ...            ...   \n",
       "2022-12-31 22:00:00+01:00           -153.0       -1846.700            NaN   \n",
       "2022-12-31 23:00:00+01:00           -128.0       -2632.025            NaN   \n",
       "\n",
       "                           Solar Fotovoltaica  Ciclo Combinado  \\\n",
       "datetime_utc                                                     \n",
       "2015-01-01 00:00:00+01:00                 NaN          3458.10   \n",
       "2015-01-01 01:00:00+01:00                 NaN          3789.50   \n",
       "...                                       ...              ...   \n",
       "2022-12-31 22:00:00+01:00                 1.7          1725.00   \n",
       "2022-12-31 23:00:00+01:00                 1.6          2104.55   \n",
       "\n",
       "                           Turbinación Bombeo  Nuclear  \n",
       "datetime_utc                                            \n",
       "2015-01-01 00:00:00+01:00                 NaN  7105.00  \n",
       "2015-01-01 01:00:00+01:00                 NaN  7104.00  \n",
       "...                                       ...      ...  \n",
       "2022-12-31 22:00:00+01:00            689.6000  6457.75  \n",
       "2022-12-31 23:00:00+01:00            240.9125  6415.45  \n",
       "\n",
       "[70128 rows x 19 columns]"
      ]
     },
     "execution_count": 1,
     "metadata": {},
     "output_type": "execute_result"
    }
   ],
   "source": [
    "import pandas as pd\n",
    "pd.options.plotting.backend = 'plotly'\n",
    "\n",
    "#path = 'p48_2015_2022.csv'\n",
    "\n",
    "df_energy = pd.read_csv(path, \n",
    "                        parse_dates=True,\n",
    "                        index_col=0,\n",
    "                        )\n",
    "\n",
    "df_energy.index = pd.to_datetime(df_energy.index, utc=True).tz_convert('Europe/Madrid')\n",
    "df_energy"
   ]
  },
  {
   "cell_type": "markdown",
   "id": "fcc37936-4470-4ead-8dcb-7555641c63f6",
   "metadata": {
    "papermill": {
     "duration": 0.002046,
     "end_time": "2024-05-29T23:06:10.283353",
     "exception": false,
     "start_time": "2024-05-29T23:06:10.281307",
     "status": "completed"
    },
    "tags": []
   },
   "source": [
    "## Filtering Data for Analysis"
   ]
  },
  {
   "cell_type": "markdown",
   "id": "fbe14c69-c0d8-45a6-8e63-37fbe9aedf5e",
   "metadata": {
    "papermill": {
     "duration": 0.001965,
     "end_time": "2024-05-29T23:06:10.287317",
     "exception": false,
     "start_time": "2024-05-29T23:06:10.285352",
     "status": "completed"
    },
    "tags": []
   },
   "source": [
    "### Technology"
   ]
  },
  {
   "cell_type": "code",
   "execution_count": 2,
   "id": "51dd4b4b-886d-4259-b213-f278834cece1",
   "metadata": {
    "execution": {
     "iopub.execute_input": "2024-05-29T23:06:10.291689Z",
     "iopub.status.busy": "2024-05-29T23:06:10.291560Z",
     "iopub.status.idle": "2024-05-29T23:06:10.294312Z",
     "shell.execute_reply": "2024-05-29T23:06:10.294079Z"
    },
    "papermill": {
     "duration": 0.005818,
     "end_time": "2024-05-29T23:06:10.294992",
     "exception": false,
     "start_time": "2024-05-29T23:06:10.289174",
     "status": "completed"
    },
    "tags": [
     "Fixed"
    ]
   },
   "outputs": [
    {
     "data": {
      "text/plain": [
       "datetime_utc\n",
       "2015-01-01 00:00:00+01:00    NaN\n",
       "2015-01-01 01:00:00+01:00    NaN\n",
       "                            ... \n",
       "2022-12-31 22:00:00+01:00    1.7\n",
       "2022-12-31 23:00:00+01:00    1.6\n",
       "Name: Solar Fotovoltaica, Length: 70128, dtype: float64"
      ]
     },
     "execution_count": 2,
     "metadata": {},
     "output_type": "execute_result"
    }
   ],
   "source": [
    "series = df_energy['Solar Fotovoltaica'] \n",
    "series"
   ]
  },
  {
   "cell_type": "code",
   "execution_count": null,
   "id": "827f104e-41bb-4932-a008-dea66e7cf77c",
   "metadata": {
    "execution": {
     "iopub.execute_input": "2024-05-29T23:06:10.299036Z",
     "iopub.status.busy": "2024-05-29T23:06:10.298953Z",
     "iopub.status.idle": "2024-05-29T23:06:13.209544Z",
     "shell.execute_reply": "2024-05-29T23:06:13.209217Z"
    },
    "papermill": {
     "duration": 2.913526,
     "end_time": "2024-05-29T23:06:13.210333",
     "exception": false,
     "start_time": "2024-05-29T23:06:10.296807",
     "status": "completed"
    },
    "tags": []
   },
   "outputs": [
    {
     "data": {
      "image/svg+xml": [
       "<svg class=\"main-svg\" xmlns=\"http://www.w3.org/2000/svg\" xmlns:xlink=\"http://www.w3.org/1999/xlink\" width=\"700\" height=\"500\" style=\"\" viewBox=\"0 0 700 500\"><rect x=\"0\" y=\"0\" width=\"700\" height=\"500\" style=\"fill: rgb(255, 255, 255); fill-opacity: 1;\"/><defs id=\"defs-091857\"><g class=\"clips\"><clipPath id=\"clip091857xyplot\" class=\"plotclip\"><rect width=\"446\" height=\"360\"/></clipPath><clipPath class=\"axesclip\" id=\"clip091857x\"><rect x=\"80\" y=\"0\" width=\"446\" height=\"500\"/></clipPath><clipPath class=\"axesclip\" id=\"clip091857y\"><rect x=\"0\" y=\"60\" width=\"700\" height=\"360\"/></clipPath><clipPath class=\"axesclip\" id=\"clip091857xy\"><rect x=\"80\" y=\"60\" width=\"446\" height=\"360\"/></clipPath></g><g class=\"gradients\"/><g class=\"patterns\"/></defs><g class=\"bglayer\"><rect class=\"bg\" x=\"80\" y=\"60\" width=\"446\" height=\"360\" style=\"fill: rgb(229, 236, 246); fill-opacity: 1; stroke-width: 0;\"/></g><g class=\"layer-below\"><g class=\"imagelayer\"/><g class=\"shapelayer\"/></g><g class=\"cartesianlayer\"><g class=\"subplot xy\"><g class=\"layer-subplot\"><g class=\"shapelayer\"/><g class=\"imagelayer\"/></g><g class=\"minor-gridlayer\"><g class=\"x\"/><g class=\"y\"/></g><g class=\"gridlayer\"><g class=\"x\"><path class=\"xgrid crisp\" transform=\"translate(135.71,0)\" d=\"M0,60v360\" style=\"stroke: rgb(255, 255, 255); stroke-opacity: 1; stroke-width: 1px;\"/><path class=\"xgrid crisp\" transform=\"translate(247.29,0)\" d=\"M0,60v360\" style=\"stroke: rgb(255, 255, 255); stroke-opacity: 1; stroke-width: 1px;\"/><path class=\"xgrid crisp\" transform=\"translate(358.72,0)\" d=\"M0,60v360\" style=\"stroke: rgb(255, 255, 255); stroke-opacity: 1; stroke-width: 1px;\"/><path class=\"xgrid crisp\" transform=\"translate(470.29,0)\" d=\"M0,60v360\" style=\"stroke: rgb(255, 255, 255); stroke-opacity: 1; stroke-width: 1px;\"/></g><g class=\"y\"><path class=\"ygrid crisp\" transform=\"translate(0,348.11)\" d=\"M80,0h446\" style=\"stroke: rgb(255, 255, 255); stroke-opacity: 1; stroke-width: 1px;\"/><path class=\"ygrid crisp\" transform=\"translate(0,294.22)\" d=\"M80,0h446\" style=\"stroke: rgb(255, 255, 255); stroke-opacity: 1; stroke-width: 1px;\"/><path class=\"ygrid crisp\" transform=\"translate(0,240.33)\" d=\"M80,0h446\" style=\"stroke: rgb(255, 255, 255); stroke-opacity: 1; stroke-width: 1px;\"/><path class=\"ygrid crisp\" transform=\"translate(0,186.44)\" d=\"M80,0h446\" style=\"stroke: rgb(255, 255, 255); stroke-opacity: 1; stroke-width: 1px;\"/><path class=\"ygrid crisp\" transform=\"translate(0,132.55)\" d=\"M80,0h446\" style=\"stroke: rgb(255, 255, 255); stroke-opacity: 1; stroke-width: 1px;\"/><path class=\"ygrid crisp\" transform=\"translate(0,78.65)\" d=\"M80,0h446\" style=\"stroke: rgb(255, 255, 255); stroke-opacity: 1; stroke-width: 1px;\"/></g></g><g class=\"zerolinelayer\"><path class=\"yzl zl crisp\" transform=\"translate(0,402)\" d=\"M80,0h446\" style=\"stroke: rgb(255, 255, 255); stroke-opacity: 1; stroke-width: 2px;\"/></g><path class=\"xlines-below\"/><path class=\"ylines-below\"/><g class=\"overlines-below\"/><g class=\"xaxislayer-below\"/><g class=\"yaxislayer-below\"/><g class=\"overaxes-below\"/><g class=\"plot\" transform=\"translate(80,60)\" clip-path=\"url(#clip091857xyplot)\"/><g class=\"overplot\"/><path class=\"xlines-above crisp\" d=\"M0,0\" style=\"fill: none;\"/><path class=\"ylines-above crisp\" d=\"M0,0\" style=\"fill: none;\"/><g class=\"overlines-above\"/><g class=\"xaxislayer-above\"><g class=\"xtick\"><text text-anchor=\"middle\" x=\"0\" y=\"433\" transform=\"translate(135.71,0)\" style=\"font-family: 'Open Sans', verdana, arial, sans-serif; font-size: 12px; fill: rgb(42, 63, 95); fill-opacity: 1; white-space: pre; opacity: 1;\">2016</text></g><g class=\"xtick\"><text text-anchor=\"middle\" x=\"0\" y=\"433\" style=\"font-family: 'Open Sans', verdana, arial, sans-serif; font-size: 12px; fill: rgb(42, 63, 95); fill-opacity: 1; white-space: pre; opacity: 1;\" transform=\"translate(247.29,0)\">2018</text></g><g class=\"xtick\"><text text-anchor=\"middle\" x=\"0\" y=\"433\" style=\"font-family: 'Open Sans', verdana, arial, sans-serif; font-size: 12px; fill: rgb(42, 63, 95); fill-opacity: 1; white-space: pre; opacity: 1;\" transform=\"translate(358.72,0)\">2020</text></g><g class=\"xtick\"><text text-anchor=\"middle\" x=\"0\" y=\"433\" style=\"font-family: 'Open Sans', verdana, arial, sans-serif; font-size: 12px; fill: rgb(42, 63, 95); fill-opacity: 1; white-space: pre; opacity: 1;\" transform=\"translate(470.29,0)\">2022</text></g></g><g class=\"yaxislayer-above\"><g class=\"ytick\"><text text-anchor=\"end\" x=\"79\" y=\"4.199999999999999\" transform=\"translate(0,402)\" style=\"font-family: 'Open Sans', verdana, arial, sans-serif; font-size: 12px; fill: rgb(42, 63, 95); fill-opacity: 1; white-space: pre; opacity: 1;\">0</text></g><g class=\"ytick\"><text text-anchor=\"end\" x=\"79\" y=\"4.199999999999999\" style=\"font-family: 'Open Sans', verdana, arial, sans-serif; font-size: 12px; fill: rgb(42, 63, 95); fill-opacity: 1; white-space: pre; opacity: 1;\" transform=\"translate(0,348.11)\">2k</text></g><g class=\"ytick\"><text text-anchor=\"end\" x=\"79\" y=\"4.199999999999999\" style=\"font-family: 'Open Sans', verdana, arial, sans-serif; font-size: 12px; fill: rgb(42, 63, 95); fill-opacity: 1; white-space: pre; opacity: 1;\" transform=\"translate(0,294.22)\">4k</text></g><g class=\"ytick\"><text text-anchor=\"end\" x=\"79\" y=\"4.199999999999999\" style=\"font-family: 'Open Sans', verdana, arial, sans-serif; font-size: 12px; fill: rgb(42, 63, 95); fill-opacity: 1; white-space: pre; opacity: 1;\" transform=\"translate(0,240.33)\">6k</text></g><g class=\"ytick\"><text text-anchor=\"end\" x=\"79\" y=\"4.199999999999999\" style=\"font-family: 'Open Sans', verdana, arial, sans-serif; font-size: 12px; fill: rgb(42, 63, 95); fill-opacity: 1; white-space: pre; opacity: 1;\" transform=\"translate(0,186.44)\">8k</text></g><g class=\"ytick\"><text text-anchor=\"end\" x=\"79\" y=\"4.199999999999999\" style=\"font-family: 'Open Sans', verdana, arial, sans-serif; font-size: 12px; fill: rgb(42, 63, 95); fill-opacity: 1; white-space: pre; opacity: 1;\" transform=\"translate(0,132.55)\">10k</text></g><g class=\"ytick\"><text text-anchor=\"end\" x=\"79\" y=\"4.199999999999999\" style=\"font-family: 'Open Sans', verdana, arial, sans-serif; font-size: 12px; fill: rgb(42, 63, 95); fill-opacity: 1; white-space: pre; opacity: 1;\" transform=\"translate(0,78.65)\">12k</text></g></g><g class=\"overaxes-above\"/></g></g><g class=\"polarlayer\"/><g class=\"smithlayer\"/><g class=\"ternarylayer\"/><g class=\"geolayer\"/><g class=\"funnelarealayer\"/><g class=\"pielayer\"/><g class=\"iciclelayer\"/><g class=\"treemaplayer\"/><g class=\"sunburstlayer\"/><g class=\"glimages\"><image xmlns=\"http://www.w3.org/2000/svg\" xlink:href=\"data:image/png;base64,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\" preserveAspectRatio=\"none\" x=\"0\" y=\"0\" width=\"700px\" height=\"500px\"/><image xmlns=\"http://www.w3.org/2000/svg\" xlink:href=\"data:image/png;base64,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\" preserveAspectRatio=\"none\" x=\"0\" y=\"0\" width=\"700px\" height=\"500px\"/></g><defs id=\"topdefs-091857\"><g class=\"clips\"/><clipPath id=\"legend091857\"><rect width=\"153\" height=\"48\" x=\"0\" y=\"0\"/></clipPath></defs><g class=\"layer-above\"><g class=\"imagelayer\"/><g class=\"shapelayer\"/></g><g class=\"infolayer\"><g class=\"legend\" pointer-events=\"all\" transform=\"translate(534.9200000000001,60)\"><rect class=\"bg\" shape-rendering=\"crispEdges\" style=\"stroke: rgb(68, 68, 68); stroke-opacity: 1; fill: rgb(255, 255, 255); fill-opacity: 1; stroke-width: 0px;\" width=\"153\" height=\"48\" x=\"0\" y=\"0\"/><g class=\"scrollbox\" transform=\"\" clip-path=\"url(#legend091857)\"><text class=\"legendtitletext\" text-anchor=\"start\" x=\"2\" y=\"18.2\" style=\"font-family: 'Open Sans', verdana, arial, sans-serif; font-size: 14px; fill: rgb(42, 63, 95); fill-opacity: 1; white-space: pre;\">variable</text><g class=\"groups\" transform=\"\"><g class=\"traces\" transform=\"translate(0,32.7)\" style=\"opacity: 1;\"><text class=\"legendtext\" text-anchor=\"start\" x=\"40\" y=\"4.680000000000001\" style=\"font-family: 'Open Sans', verdana, arial, sans-serif; font-size: 12px; fill: rgb(42, 63, 95); fill-opacity: 1; white-space: pre;\">Solar Fotovoltaica</text><g class=\"layers\" style=\"opacity: 1;\"><g class=\"legendfill\"/><g class=\"legendlines\"><path class=\"js-line\" d=\"M5,0h30\" style=\"fill: none; stroke: rgb(99, 110, 250); stroke-opacity: 1; stroke-width: 2px;\"/></g><g class=\"legendsymbols\"><g class=\"legendpoints\"/></g></g><rect class=\"legendtoggle\" x=\"0\" y=\"-9.5\" width=\"147.890625\" height=\"19\" style=\"fill: rgb(0, 0, 0); fill-opacity: 0;\"/></g></g></g><rect class=\"scrollbar\" rx=\"20\" ry=\"3\" width=\"0\" height=\"0\" style=\"fill: rgb(128, 139, 164); fill-opacity: 1;\" x=\"0\" y=\"0\"/></g><g class=\"g-gtitle\"/><g class=\"g-xtitle\"><text class=\"xtitle\" x=\"303\" y=\"460.3\" text-anchor=\"middle\" style=\"font-family: 'Open Sans', verdana, arial, sans-serif; font-size: 14px; fill: rgb(42, 63, 95); opacity: 1; font-weight: normal; white-space: pre;\">datetime_utc</text></g><g class=\"g-ytitle\"><text class=\"ytitle\" transform=\"rotate(-90,32.340625,240)\" x=\"32.340625\" y=\"240\" text-anchor=\"middle\" style=\"font-family: 'Open Sans', verdana, arial, sans-serif; font-size: 14px; fill: rgb(42, 63, 95); opacity: 1; font-weight: normal; white-space: pre;\">value</text></g></g></svg>"
      ]
     },
     "metadata": {},
     "output_type": "display_data"
    }
   ],
   "source": []
  },
  {
   "cell_type": "markdown",
   "id": "a2bfcce7-a5c9-4ce8-93b2-1612f2553f24",
   "metadata": {
    "papermill": {
     "duration": 0.002664,
     "end_time": "2024-05-29T23:06:13.215680",
     "exception": false,
     "start_time": "2024-05-29T23:06:13.213016",
     "status": "completed"
    },
    "tags": []
   },
   "source": [
    "### Granularity"
   ]
  },
  {
   "cell_type": "code",
   "execution_count": 4,
   "id": "de084d4a-bfd8-418a-8aba-d980517b9f65",
   "metadata": {
    "execution": {
     "iopub.execute_input": "2024-05-29T23:06:13.221889Z",
     "iopub.status.busy": "2024-05-29T23:06:13.221740Z",
     "iopub.status.idle": "2024-05-29T23:06:13.229346Z",
     "shell.execute_reply": "2024-05-29T23:06:13.229130Z"
    },
    "papermill": {
     "duration": 0.011701,
     "end_time": "2024-05-29T23:06:13.229998",
     "exception": false,
     "start_time": "2024-05-29T23:06:13.218297",
     "status": "completed"
    },
    "tags": [
     "Fixed"
    ]
   },
   "outputs": [
    {
     "name": "stderr",
     "output_type": "stream",
     "text": [
      "/var/folders/89/hqh4vvhn24q2xc8ph93krqz80000gn/T/ipykernel_52194/2273797991.py:1: FutureWarning:\n",
      "\n",
      "'H' is deprecated and will be removed in a future version, please use 'h' instead.\n",
      "\n"
     ]
    },
    {
     "data": {
      "text/plain": [
       "datetime_utc\n",
       "2015-01-01 00:00:00+01:00    0.0\n",
       "2015-01-01 01:00:00+01:00    0.0\n",
       "                            ... \n",
       "2022-12-31 22:00:00+01:00    1.7\n",
       "2022-12-31 23:00:00+01:00    1.6\n",
       "Freq: h, Name: Solar Fotovoltaica, Length: 70128, dtype: float64"
      ]
     },
     "execution_count": 4,
     "metadata": {},
     "output_type": "execute_result"
    }
   ],
   "source": [
    "series = series.resample('H').sum() \n",
    "series"
   ]
  },
  {
   "cell_type": "code",
   "execution_count": null,
   "id": "02724279-a45f-484e-8525-057839d0ab64",
   "metadata": {
    "execution": {
     "iopub.execute_input": "2024-05-29T23:06:13.234858Z",
     "iopub.status.busy": "2024-05-29T23:06:13.234763Z",
     "iopub.status.idle": "2024-05-29T23:06:15.517791Z",
     "shell.execute_reply": "2024-05-29T23:06:15.517536Z"
    },
    "papermill": {
     "duration": 2.286373,
     "end_time": "2024-05-29T23:06:15.518582",
     "exception": false,
     "start_time": "2024-05-29T23:06:13.232209",
     "status": "completed"
    },
    "tags": []
   },
   "outputs": [
    {
     "data": {
      "image/svg+xml": [
       "<svg class=\"main-svg\" xmlns=\"http://www.w3.org/2000/svg\" xmlns:xlink=\"http://www.w3.org/1999/xlink\" width=\"700\" height=\"500\" style=\"\" viewBox=\"0 0 700 500\"><rect x=\"0\" y=\"0\" width=\"700\" height=\"500\" style=\"fill: rgb(255, 255, 255); fill-opacity: 1;\"/><defs id=\"defs-ef7961\"><g class=\"clips\"><clipPath id=\"clipef7961xyplot\" class=\"plotclip\"><rect width=\"446\" height=\"360\"/></clipPath><clipPath class=\"axesclip\" id=\"clipef7961x\"><rect x=\"80\" y=\"0\" width=\"446\" height=\"500\"/></clipPath><clipPath class=\"axesclip\" id=\"clipef7961y\"><rect x=\"0\" y=\"60\" width=\"700\" height=\"360\"/></clipPath><clipPath class=\"axesclip\" id=\"clipef7961xy\"><rect x=\"80\" y=\"60\" width=\"446\" height=\"360\"/></clipPath></g><g class=\"gradients\"/><g class=\"patterns\"/></defs><g class=\"bglayer\"><rect class=\"bg\" x=\"80\" y=\"60\" width=\"446\" height=\"360\" style=\"fill: rgb(229, 236, 246); fill-opacity: 1; stroke-width: 0;\"/></g><g class=\"layer-below\"><g class=\"imagelayer\"/><g class=\"shapelayer\"/></g><g class=\"cartesianlayer\"><g class=\"subplot xy\"><g class=\"layer-subplot\"><g class=\"shapelayer\"/><g class=\"imagelayer\"/></g><g class=\"minor-gridlayer\"><g class=\"x\"/><g class=\"y\"/></g><g class=\"gridlayer\"><g class=\"x\"><path class=\"xgrid crisp\" transform=\"translate(135.71,0)\" d=\"M0,60v360\" style=\"stroke: rgb(255, 255, 255); stroke-opacity: 1; stroke-width: 1px;\"/><path class=\"xgrid crisp\" transform=\"translate(247.29,0)\" d=\"M0,60v360\" style=\"stroke: rgb(255, 255, 255); stroke-opacity: 1; stroke-width: 1px;\"/><path class=\"xgrid crisp\" transform=\"translate(358.72,0)\" d=\"M0,60v360\" style=\"stroke: rgb(255, 255, 255); stroke-opacity: 1; stroke-width: 1px;\"/><path class=\"xgrid crisp\" transform=\"translate(470.29,0)\" d=\"M0,60v360\" style=\"stroke: rgb(255, 255, 255); stroke-opacity: 1; stroke-width: 1px;\"/></g><g class=\"y\"><path class=\"ygrid crisp\" transform=\"translate(0,348.11)\" d=\"M80,0h446\" style=\"stroke: rgb(255, 255, 255); stroke-opacity: 1; stroke-width: 1px;\"/><path class=\"ygrid crisp\" transform=\"translate(0,294.22)\" d=\"M80,0h446\" style=\"stroke: rgb(255, 255, 255); stroke-opacity: 1; stroke-width: 1px;\"/><path class=\"ygrid crisp\" transform=\"translate(0,240.33)\" d=\"M80,0h446\" style=\"stroke: rgb(255, 255, 255); stroke-opacity: 1; stroke-width: 1px;\"/><path class=\"ygrid crisp\" transform=\"translate(0,186.44)\" d=\"M80,0h446\" style=\"stroke: rgb(255, 255, 255); stroke-opacity: 1; stroke-width: 1px;\"/><path class=\"ygrid crisp\" transform=\"translate(0,132.55)\" d=\"M80,0h446\" style=\"stroke: rgb(255, 255, 255); stroke-opacity: 1; stroke-width: 1px;\"/><path class=\"ygrid crisp\" transform=\"translate(0,78.65)\" d=\"M80,0h446\" style=\"stroke: rgb(255, 255, 255); stroke-opacity: 1; stroke-width: 1px;\"/></g></g><g class=\"zerolinelayer\"><path class=\"yzl zl crisp\" transform=\"translate(0,402)\" d=\"M80,0h446\" style=\"stroke: rgb(255, 255, 255); stroke-opacity: 1; stroke-width: 2px;\"/></g><path class=\"xlines-below\"/><path class=\"ylines-below\"/><g class=\"overlines-below\"/><g class=\"xaxislayer-below\"/><g class=\"yaxislayer-below\"/><g class=\"overaxes-below\"/><g class=\"plot\" transform=\"translate(80,60)\" clip-path=\"url(#clipef7961xyplot)\"/><g class=\"overplot\"/><path class=\"xlines-above crisp\" d=\"M0,0\" style=\"fill: none;\"/><path class=\"ylines-above crisp\" d=\"M0,0\" style=\"fill: none;\"/><g class=\"overlines-above\"/><g class=\"xaxislayer-above\"><g class=\"xtick\"><text text-anchor=\"middle\" x=\"0\" y=\"433\" transform=\"translate(135.71,0)\" style=\"font-family: 'Open Sans', verdana, arial, sans-serif; font-size: 12px; fill: rgb(42, 63, 95); fill-opacity: 1; white-space: pre; opacity: 1;\">2016</text></g><g class=\"xtick\"><text text-anchor=\"middle\" x=\"0\" y=\"433\" style=\"font-family: 'Open Sans', verdana, arial, sans-serif; font-size: 12px; fill: rgb(42, 63, 95); fill-opacity: 1; white-space: pre; opacity: 1;\" transform=\"translate(247.29,0)\">2018</text></g><g class=\"xtick\"><text text-anchor=\"middle\" x=\"0\" y=\"433\" style=\"font-family: 'Open Sans', verdana, arial, sans-serif; font-size: 12px; fill: rgb(42, 63, 95); fill-opacity: 1; white-space: pre; opacity: 1;\" transform=\"translate(358.72,0)\">2020</text></g><g class=\"xtick\"><text text-anchor=\"middle\" x=\"0\" y=\"433\" style=\"font-family: 'Open Sans', verdana, arial, sans-serif; font-size: 12px; fill: rgb(42, 63, 95); fill-opacity: 1; white-space: pre; opacity: 1;\" transform=\"translate(470.29,0)\">2022</text></g></g><g class=\"yaxislayer-above\"><g class=\"ytick\"><text text-anchor=\"end\" x=\"79\" y=\"4.199999999999999\" transform=\"translate(0,402)\" style=\"font-family: 'Open Sans', verdana, arial, sans-serif; font-size: 12px; fill: rgb(42, 63, 95); fill-opacity: 1; white-space: pre; opacity: 1;\">0</text></g><g class=\"ytick\"><text text-anchor=\"end\" x=\"79\" y=\"4.199999999999999\" style=\"font-family: 'Open Sans', verdana, arial, sans-serif; font-size: 12px; fill: rgb(42, 63, 95); fill-opacity: 1; white-space: pre; opacity: 1;\" transform=\"translate(0,348.11)\">2k</text></g><g class=\"ytick\"><text text-anchor=\"end\" x=\"79\" y=\"4.199999999999999\" style=\"font-family: 'Open Sans', verdana, arial, sans-serif; font-size: 12px; fill: rgb(42, 63, 95); fill-opacity: 1; white-space: pre; opacity: 1;\" transform=\"translate(0,294.22)\">4k</text></g><g class=\"ytick\"><text text-anchor=\"end\" x=\"79\" y=\"4.199999999999999\" style=\"font-family: 'Open Sans', verdana, arial, sans-serif; font-size: 12px; fill: rgb(42, 63, 95); fill-opacity: 1; white-space: pre; opacity: 1;\" transform=\"translate(0,240.33)\">6k</text></g><g class=\"ytick\"><text text-anchor=\"end\" x=\"79\" y=\"4.199999999999999\" style=\"font-family: 'Open Sans', verdana, arial, sans-serif; font-size: 12px; fill: rgb(42, 63, 95); fill-opacity: 1; white-space: pre; opacity: 1;\" transform=\"translate(0,186.44)\">8k</text></g><g class=\"ytick\"><text text-anchor=\"end\" x=\"79\" y=\"4.199999999999999\" style=\"font-family: 'Open Sans', verdana, arial, sans-serif; font-size: 12px; fill: rgb(42, 63, 95); fill-opacity: 1; white-space: pre; opacity: 1;\" transform=\"translate(0,132.55)\">10k</text></g><g class=\"ytick\"><text text-anchor=\"end\" x=\"79\" y=\"4.199999999999999\" style=\"font-family: 'Open Sans', verdana, arial, sans-serif; font-size: 12px; fill: rgb(42, 63, 95); fill-opacity: 1; white-space: pre; opacity: 1;\" transform=\"translate(0,78.65)\">12k</text></g></g><g class=\"overaxes-above\"/></g></g><g class=\"polarlayer\"/><g class=\"smithlayer\"/><g class=\"ternarylayer\"/><g class=\"geolayer\"/><g class=\"funnelarealayer\"/><g class=\"pielayer\"/><g class=\"iciclelayer\"/><g class=\"treemaplayer\"/><g class=\"sunburstlayer\"/><g class=\"glimages\"><image xmlns=\"http://www.w3.org/2000/svg\" xlink:href=\"data:image/png;base64,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\" preserveAspectRatio=\"none\" x=\"0\" y=\"0\" width=\"700px\" height=\"500px\"/><image xmlns=\"http://www.w3.org/2000/svg\" xlink:href=\"data:image/png;base64,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\" preserveAspectRatio=\"none\" x=\"0\" y=\"0\" width=\"700px\" height=\"500px\"/></g><defs id=\"topdefs-ef7961\"><g class=\"clips\"/><clipPath id=\"legendef7961\"><rect width=\"153\" height=\"48\" x=\"0\" y=\"0\"/></clipPath></defs><g class=\"layer-above\"><g class=\"imagelayer\"/><g class=\"shapelayer\"/></g><g class=\"infolayer\"><g class=\"legend\" pointer-events=\"all\" transform=\"translate(534.9200000000001,60)\"><rect class=\"bg\" shape-rendering=\"crispEdges\" width=\"153\" height=\"48\" x=\"0\" y=\"0\" style=\"stroke: rgb(68, 68, 68); stroke-opacity: 1; fill: rgb(255, 255, 255); fill-opacity: 1; stroke-width: 0px;\"/><g class=\"scrollbox\" transform=\"\" clip-path=\"url(#legendef7961)\"><text class=\"legendtitletext\" text-anchor=\"start\" x=\"2\" y=\"18.2\" style=\"font-family: 'Open Sans', verdana, arial, sans-serif; font-size: 14px; fill: rgb(42, 63, 95); fill-opacity: 1; white-space: pre;\">variable</text><g class=\"groups\" transform=\"\"><g class=\"traces\" transform=\"translate(0,32.7)\" style=\"opacity: 1;\"><text class=\"legendtext\" text-anchor=\"start\" x=\"40\" y=\"4.680000000000001\" style=\"font-family: 'Open Sans', verdana, arial, sans-serif; font-size: 12px; fill: rgb(42, 63, 95); fill-opacity: 1; white-space: pre;\">Solar Fotovoltaica</text><g class=\"layers\" style=\"opacity: 1;\"><g class=\"legendfill\"/><g class=\"legendlines\"><path class=\"js-line\" d=\"M5,0h30\" style=\"fill: none; stroke: rgb(99, 110, 250); stroke-opacity: 1; stroke-width: 2px;\"/></g><g class=\"legendsymbols\"><g class=\"legendpoints\"/></g></g><rect class=\"legendtoggle\" x=\"0\" y=\"-9.5\" width=\"147.890625\" height=\"19\" style=\"fill: rgb(0, 0, 0); fill-opacity: 0;\"/></g></g></g><rect class=\"scrollbar\" rx=\"20\" ry=\"3\" width=\"0\" height=\"0\" x=\"0\" y=\"0\" style=\"fill: rgb(128, 139, 164); fill-opacity: 1;\"/></g><g class=\"g-gtitle\"/><g class=\"g-xtitle\"><text class=\"xtitle\" x=\"303\" y=\"460.3\" text-anchor=\"middle\" style=\"font-family: 'Open Sans', verdana, arial, sans-serif; font-size: 14px; fill: rgb(42, 63, 95); opacity: 1; font-weight: normal; white-space: pre;\">datetime_utc</text></g><g class=\"g-ytitle\"><text class=\"ytitle\" transform=\"rotate(-90,32.340625,240)\" x=\"32.340625\" y=\"240\" text-anchor=\"middle\" style=\"font-family: 'Open Sans', verdana, arial, sans-serif; font-size: 14px; fill: rgb(42, 63, 95); opacity: 1; font-weight: normal; white-space: pre;\">value</text></g></g></svg>"
      ]
     },
     "metadata": {},
     "output_type": "display_data"
    }
   ],
   "source": []
  },
  {
   "cell_type": "markdown",
   "id": "9363eca8-9b91-4b22-b8c5-0d033b21c649",
   "metadata": {
    "papermill": {
     "duration": 0.00296,
     "end_time": "2024-05-29T23:06:15.524785",
     "exception": false,
     "start_time": "2024-05-29T23:06:15.521825",
     "status": "completed"
    },
    "tags": []
   },
   "source": [
    "### Filter Time"
   ]
  },
  {
   "cell_type": "code",
   "execution_count": 6,
   "id": "fa5a46ed-bbd1-42b6-bfb7-a7a40f8d5cae",
   "metadata": {
    "execution": {
     "iopub.execute_input": "2024-05-29T23:06:15.531229Z",
     "iopub.status.busy": "2024-05-29T23:06:15.531117Z",
     "iopub.status.idle": "2024-05-29T23:06:15.566570Z",
     "shell.execute_reply": "2024-05-29T23:06:15.566318Z"
    },
    "papermill": {
     "duration": 0.039448,
     "end_time": "2024-05-29T23:06:15.567359",
     "exception": false,
     "start_time": "2024-05-29T23:06:15.527911",
     "status": "completed"
    },
    "tags": [
     "Fixed"
    ]
   },
   "outputs": [
    {
     "data": {
      "image/svg+xml": [
       "<svg class=\"main-svg\" xmlns=\"http://www.w3.org/2000/svg\" xmlns:xlink=\"http://www.w3.org/1999/xlink\" width=\"700\" height=\"500\" style=\"\" viewBox=\"0 0 700 500\"><rect x=\"0\" y=\"0\" width=\"700\" height=\"500\" style=\"fill: rgb(255, 255, 255); fill-opacity: 1;\"/><defs id=\"defs-e92953\"><g class=\"clips\"><clipPath id=\"clipe92953xyplot\" class=\"plotclip\"><rect width=\"446\" height=\"360\"/></clipPath><clipPath class=\"axesclip\" id=\"clipe92953x\"><rect x=\"80\" y=\"0\" width=\"446\" height=\"500\"/></clipPath><clipPath class=\"axesclip\" id=\"clipe92953y\"><rect x=\"0\" y=\"60\" width=\"700\" height=\"360\"/></clipPath><clipPath class=\"axesclip\" id=\"clipe92953xy\"><rect x=\"80\" y=\"60\" width=\"446\" height=\"360\"/></clipPath></g><g class=\"gradients\"/><g class=\"patterns\"/></defs><g class=\"bglayer\"><rect class=\"bg\" x=\"80\" y=\"60\" width=\"446\" height=\"360\" style=\"fill: rgb(229, 236, 246); fill-opacity: 1; stroke-width: 0;\"/></g><g class=\"layer-below\"><g class=\"imagelayer\"/><g class=\"shapelayer\"/></g><g class=\"cartesianlayer\"><g class=\"subplot xy\"><g class=\"layer-subplot\"><g class=\"shapelayer\"/><g class=\"imagelayer\"/></g><g class=\"minor-gridlayer\"><g class=\"x\"/><g class=\"y\"/></g><g class=\"gridlayer\"><g class=\"x\"><path class=\"xgrid crisp\" transform=\"translate(143.9,0)\" d=\"M0,60v360\" style=\"stroke: rgb(255, 255, 255); stroke-opacity: 1; stroke-width: 1px;\"/><path class=\"xgrid crisp\" transform=\"translate(239.76,0)\" d=\"M0,60v360\" style=\"stroke: rgb(255, 255, 255); stroke-opacity: 1; stroke-width: 1px;\"/><path class=\"xgrid crisp\" transform=\"translate(335.62,0)\" d=\"M0,60v360\" style=\"stroke: rgb(255, 255, 255); stroke-opacity: 1; stroke-width: 1px;\"/><path class=\"xgrid crisp\" transform=\"translate(431.47,0)\" d=\"M0,60v360\" style=\"stroke: rgb(255, 255, 255); stroke-opacity: 1; stroke-width: 1px;\"/></g><g class=\"y\"><path class=\"ygrid crisp\" transform=\"translate(0,332.1)\" d=\"M80,0h446\" style=\"stroke: rgb(255, 255, 255); stroke-opacity: 1; stroke-width: 1px;\"/><path class=\"ygrid crisp\" transform=\"translate(0,262.2)\" d=\"M80,0h446\" style=\"stroke: rgb(255, 255, 255); stroke-opacity: 1; stroke-width: 1px;\"/><path class=\"ygrid crisp\" transform=\"translate(0,192.3)\" d=\"M80,0h446\" style=\"stroke: rgb(255, 255, 255); stroke-opacity: 1; stroke-width: 1px;\"/><path class=\"ygrid crisp\" transform=\"translate(0,122.4)\" d=\"M80,0h446\" style=\"stroke: rgb(255, 255, 255); stroke-opacity: 1; stroke-width: 1px;\"/></g></g><g class=\"zerolinelayer\"><path class=\"yzl zl crisp\" transform=\"translate(0,402)\" d=\"M80,0h446\" style=\"stroke: rgb(255, 255, 255); stroke-opacity: 1; stroke-width: 2px;\"/></g><path class=\"xlines-below\"/><path class=\"ylines-below\"/><g class=\"overlines-below\"/><g class=\"xaxislayer-below\"/><g class=\"yaxislayer-below\"/><g class=\"overaxes-below\"/><g class=\"plot\" transform=\"translate(80,60)\" clip-path=\"url(#clipe92953xyplot)\"><g class=\"scatterlayer mlayer\"><g class=\"trace scatter trace6607a0\" style=\"stroke-miterlimit: 2; opacity: 1;\"><g class=\"fills\"/><g class=\"errorbars\"/><g class=\"lines\"><path class=\"js-line\" d=\"M0,342L9.32,341.96L10.65,332.28L14.64,91.48L15.98,66.36L17.31,64.1L18.64,66.86L19.97,102.07L21.3,189.19L22.63,302.18L23.96,341.28L27.96,341.92L29.29,341.97L41.27,341.91L42.6,332.88L43.93,264L45.27,155.35L46.6,92.86L47.93,67.6L49.26,63.69L50.59,76.36L51.92,114.81L53.25,205.04L54.59,309.04L55.92,341.18L58.58,341.6L59.91,341.91L73.22,341.86L74.56,334.76L78.55,195.86L79.88,180.05L81.21,176.41L82.54,190.06L83.87,219.82L85.21,273.82L86.54,324.12L87.87,340.06L89.2,337.09L90.53,340.54L93.19,341.92L94.53,341.93L105.18,341.88L106.51,337.09L107.84,299.37L109.17,238.74L111.83,158.17L113.16,146.15L114.5,157.71L115.83,183.87L118.49,318.29L119.82,341.18L122.48,341.89L123.81,341.92L137.13,341.92L138.46,334.94L143.79,140.85L145.12,133.11L146.45,145.13L147.78,182.51L151.77,340.85L153.1,341.37L161.09,342L162.42,342L169.08,341.95L170.41,334.49L174.41,124.22L175.74,92.64L177.07,83.59L178.4,94.72L179.73,122.75L181.06,204.33L182.39,303.66L183.73,338.33L185.06,336.3L186.39,337.8L189.05,341.94L190.38,341.94L201.03,341.99L202.36,333.82L206.36,106.45L207.69,76.64L209.02,72.6L210.35,83.67L211.68,119.06L213.01,202.09L214.35,305.51L215.68,341.19L218.34,341.92L219.67,341.95L232.99,341.99L234.32,333.31L238.31,124.02L239.64,103.59L240.97,103.95L242.3,112.82L243.64,144.59L244.97,220.08L246.3,305.63L247.63,340.96L250.29,341.88L251.62,341.91L264.94,341.98L266.27,332.86L267.6,255.68L268.93,130.07L270.26,61.44L271.59,36.86L272.93,33.27L274.26,42.06L275.59,84.41L276.92,176.44L278.25,298L279.58,340.94L280.91,341.8L282.24,341.58L288.9,341.99L290.23,341.99L296.89,341.97L298.22,332.87L302.21,46.13L303.55,21.33L304.88,18L306.21,24.3L307.54,65.57L308.87,167.03L310.2,294.05L311.53,340.08L312.87,341.76L314.2,341.81L328.84,341.98L330.17,332.9L334.17,50.42L335.5,27.48L336.83,21.13L338.16,26.28L339.49,62.44L340.82,168.38L342.16,293.07L343.49,340.49L344.82,341.76L346.15,341.83L360.79,341.98L362.13,334.77L364.79,206.59L366.12,153.72L367.45,144.06L368.78,140.95L370.11,152.38L371.44,182.09L375.44,340.38L376.77,341.77L392.75,341.98L394.08,336.23L399.4,138.28L400.73,128.02L402.07,130.82L403.4,154.27L407.39,340.39L408.72,341.81L423.37,341.99L424.7,341.97L426.03,332.53L427.36,251.2L430.02,84.18L431.36,63.68L432.69,64.96L434.02,71.76L435.35,105.15L436.68,191.61L438.01,297.12L439.34,340.4L440.67,341.8L442.01,341.88L446,341.95\" style=\"vector-effect: none; fill: none; stroke: rgb(99, 110, 250); stroke-opacity: 1; stroke-width: 2px; opacity: 1;\"/></g><g class=\"points\"/><g class=\"text\"/></g></g></g><g class=\"overplot\"/><path class=\"xlines-above crisp\" d=\"M0,0\" style=\"fill: none;\"/><path class=\"ylines-above crisp\" d=\"M0,0\" style=\"fill: none;\"/><g class=\"overlines-above\"/><g class=\"xaxislayer-above\"><g class=\"xtick\"><text text-anchor=\"middle\" x=\"0\" y=\"433\" transform=\"translate(143.9,0)\" style=\"font-family: 'Open Sans', verdana, arial, sans-serif; font-size: 12px; fill: rgb(42, 63, 95); fill-opacity: 1; white-space: pre; opacity: 1;\"><tspan class=\"line\" dy=\"0em\" x=\"0\" y=\"433\">Dec 20</tspan><tspan class=\"line\" dy=\"1.3em\" x=\"0\" y=\"433\">2022</tspan></text></g><g class=\"xtick\"><text text-anchor=\"middle\" x=\"0\" y=\"433\" style=\"font-family: 'Open Sans', verdana, arial, sans-serif; font-size: 12px; fill: rgb(42, 63, 95); fill-opacity: 1; white-space: pre; opacity: 1;\" transform=\"translate(239.76,0)\">Dec 23</text></g><g class=\"xtick\"><text text-anchor=\"middle\" x=\"0\" y=\"433\" style=\"font-family: 'Open Sans', verdana, arial, sans-serif; font-size: 12px; fill: rgb(42, 63, 95); fill-opacity: 1; white-space: pre; opacity: 1;\" transform=\"translate(335.62,0)\">Dec 26</text></g><g class=\"xtick\"><text text-anchor=\"middle\" x=\"0\" y=\"433\" style=\"font-family: 'Open Sans', verdana, arial, sans-serif; font-size: 12px; fill: rgb(42, 63, 95); fill-opacity: 1; white-space: pre; opacity: 1;\" transform=\"translate(431.47,0)\">Dec 29</text></g></g><g class=\"yaxislayer-above\"><g class=\"ytick\"><text text-anchor=\"end\" x=\"79\" y=\"4.199999999999999\" transform=\"translate(0,402)\" style=\"font-family: 'Open Sans', verdana, arial, sans-serif; font-size: 12px; fill: rgb(42, 63, 95); fill-opacity: 1; white-space: pre; opacity: 1;\">0</text></g><g class=\"ytick\"><text text-anchor=\"end\" x=\"79\" y=\"4.199999999999999\" style=\"font-family: 'Open Sans', verdana, arial, sans-serif; font-size: 12px; fill: rgb(42, 63, 95); fill-opacity: 1; white-space: pre; opacity: 1;\" transform=\"translate(0,332.1)\">2k</text></g><g class=\"ytick\"><text text-anchor=\"end\" x=\"79\" y=\"4.199999999999999\" style=\"font-family: 'Open Sans', verdana, arial, sans-serif; font-size: 12px; fill: rgb(42, 63, 95); fill-opacity: 1; white-space: pre; opacity: 1;\" transform=\"translate(0,262.2)\">4k</text></g><g class=\"ytick\"><text text-anchor=\"end\" x=\"79\" y=\"4.199999999999999\" style=\"font-family: 'Open Sans', verdana, arial, sans-serif; font-size: 12px; fill: rgb(42, 63, 95); fill-opacity: 1; white-space: pre; opacity: 1;\" transform=\"translate(0,192.3)\">6k</text></g><g class=\"ytick\"><text text-anchor=\"end\" x=\"79\" y=\"4.199999999999999\" style=\"font-family: 'Open Sans', verdana, arial, sans-serif; font-size: 12px; fill: rgb(42, 63, 95); fill-opacity: 1; white-space: pre; opacity: 1;\" transform=\"translate(0,122.4)\">8k</text></g></g><g class=\"overaxes-above\"/></g></g><g class=\"polarlayer\"/><g class=\"smithlayer\"/><g class=\"ternarylayer\"/><g class=\"geolayer\"/><g class=\"funnelarealayer\"/><g class=\"pielayer\"/><g class=\"iciclelayer\"/><g class=\"treemaplayer\"/><g class=\"sunburstlayer\"/><g class=\"glimages\"/><defs id=\"topdefs-e92953\"><g class=\"clips\"/><clipPath id=\"legende92953\"><rect width=\"153\" height=\"48\" x=\"0\" y=\"0\"/></clipPath></defs><g class=\"layer-above\"><g class=\"imagelayer\"/><g class=\"shapelayer\"/></g><g class=\"infolayer\"><g class=\"legend\" pointer-events=\"all\" transform=\"translate(534.9200000000001,60)\"><rect class=\"bg\" shape-rendering=\"crispEdges\" width=\"153\" height=\"48\" x=\"0\" y=\"0\" style=\"stroke: rgb(68, 68, 68); stroke-opacity: 1; fill: rgb(255, 255, 255); fill-opacity: 1; stroke-width: 0px;\"/><g class=\"scrollbox\" transform=\"\" clip-path=\"url(#legende92953)\"><text class=\"legendtitletext\" text-anchor=\"start\" x=\"2\" y=\"18.2\" style=\"font-family: 'Open Sans', verdana, arial, sans-serif; font-size: 14px; fill: rgb(42, 63, 95); fill-opacity: 1; white-space: pre;\">variable</text><g class=\"groups\" transform=\"\"><g class=\"traces\" transform=\"translate(0,32.7)\" style=\"opacity: 1;\"><text class=\"legendtext\" text-anchor=\"start\" x=\"40\" y=\"4.680000000000001\" style=\"font-family: 'Open Sans', verdana, arial, sans-serif; font-size: 12px; fill: rgb(42, 63, 95); fill-opacity: 1; white-space: pre;\">Solar Fotovoltaica</text><g class=\"layers\" style=\"opacity: 1;\"><g class=\"legendfill\"/><g class=\"legendlines\"><path class=\"js-line\" d=\"M5,0h30\" style=\"fill: none; stroke: rgb(99, 110, 250); stroke-opacity: 1; stroke-width: 2px;\"/></g><g class=\"legendsymbols\"><g class=\"legendpoints\"/></g></g><rect class=\"legendtoggle\" x=\"0\" y=\"-9.5\" width=\"147.890625\" height=\"19\" style=\"fill: rgb(0, 0, 0); fill-opacity: 0;\"/></g></g></g><rect class=\"scrollbar\" rx=\"20\" ry=\"3\" width=\"0\" height=\"0\" x=\"0\" y=\"0\" style=\"fill: rgb(128, 139, 164); fill-opacity: 1;\"/></g><g class=\"g-gtitle\"/><g class=\"g-xtitle\"><text class=\"xtitle\" x=\"303\" y=\"475.909375\" text-anchor=\"middle\" style=\"font-family: 'Open Sans', verdana, arial, sans-serif; font-size: 14px; fill: rgb(42, 63, 95); opacity: 1; font-weight: normal; white-space: pre;\">datetime_utc</text></g><g class=\"g-ytitle\"><text class=\"ytitle\" transform=\"rotate(-90,39.965625,240)\" x=\"39.965625\" y=\"240\" text-anchor=\"middle\" style=\"font-family: 'Open Sans', verdana, arial, sans-serif; font-size: 14px; fill: rgb(42, 63, 95); opacity: 1; font-weight: normal; white-space: pre;\">value</text></g></g></svg>"
      ]
     },
     "metadata": {},
     "output_type": "display_data"
    }
   ],
   "source": [
    "weeks = 2 \n",
    "days = 7 * weeks\n",
    "hours = 24 * days\n",
    "\n",
    "series = series.iloc[-hours:]\n",
    "\n",
    "series.plot()"
   ]
  },
  {
   "cell_type": "markdown",
   "id": "f826b7ab-a97f-4233-8bf7-492e8cf3e398",
   "metadata": {
    "papermill": {
     "duration": 0.002611,
     "end_time": "2024-05-29T23:06:15.572993",
     "exception": false,
     "start_time": "2024-05-29T23:06:15.570382",
     "status": "completed"
    },
    "tags": []
   },
   "source": [
    "## Stationarity & Seasonality"
   ]
  },
  {
   "cell_type": "code",
   "execution_count": null,
   "id": "61305912-003b-4820-81d6-7cc760252054",
   "metadata": {
    "execution": {
     "iopub.execute_input": "2024-05-29T23:06:15.578857Z",
     "iopub.status.busy": "2024-05-29T23:06:15.578753Z",
     "iopub.status.idle": "2024-05-29T23:06:15.858467Z",
     "shell.execute_reply": "2024-05-29T23:06:15.858197Z"
    },
    "papermill": {
     "duration": 0.28378,
     "end_time": "2024-05-29T23:06:15.859335",
     "exception": false,
     "start_time": "2024-05-29T23:06:15.575555",
     "status": "completed"
    },
    "tags": []
   },
   "outputs": [
    {
     "data": {
      "text/plain": [
       "(-5.0750557740987565,\n",
       " 1.573175157746431e-05,\n",
       " 16,\n",
       " 319,\n",
       " {'1%': -3.4510167751522642,\n",
       "  '5%': -2.87064334231426,\n",
       "  '10%': -2.5716201744283174},\n",
       " 4542.168158988366)"
      ]
     },
     "execution_count": null,
     "metadata": {},
     "output_type": "execute_result"
    }
   ],
   "source": []
  },
  {
   "cell_type": "markdown",
   "id": "2dcbe58c-118b-4909-ad89-b0cea3425c5c",
   "metadata": {
    "papermill": {
     "duration": 0.00303,
     "end_time": "2024-05-29T23:06:15.866152",
     "exception": false,
     "start_time": "2024-05-29T23:06:15.863122",
     "status": "completed"
    },
    "tags": []
   },
   "source": [
    "## ACF & PACF"
   ]
  },
  {
   "cell_type": "code",
   "execution_count": null,
   "id": "70730194-74d0-412b-91ab-22d130e75a93",
   "metadata": {
    "execution": {
     "iopub.execute_input": "2024-05-29T23:06:15.872502Z",
     "iopub.status.busy": "2024-05-29T23:06:15.872308Z",
     "iopub.status.idle": "2024-05-29T23:06:16.047657Z",
     "shell.execute_reply": "2024-05-29T23:06:16.047354Z"
    },
    "papermill": {
     "duration": 0.179562,
     "end_time": "2024-05-29T23:06:16.048652",
     "exception": false,
     "start_time": "2024-05-29T23:06:15.869090",
     "status": "completed"
    },
    "tags": []
   },
   "outputs": [],
   "source": []
  },
  {
   "cell_type": "code",
   "execution_count": null,
   "id": "62dc64bb-e504-4b22-92a8-4c2c2212d0d8",
   "metadata": {
    "execution": {
     "iopub.execute_input": "2024-05-29T23:06:16.055730Z",
     "iopub.status.busy": "2024-05-29T23:06:16.055458Z",
     "iopub.status.idle": "2024-05-29T23:06:16.187724Z",
     "shell.execute_reply": "2024-05-29T23:06:16.187189Z"
    },
    "papermill": {
     "duration": 0.137568,
     "end_time": "2024-05-29T23:06:16.189372",
     "exception": false,
     "start_time": "2024-05-29T23:06:16.051804",
     "status": "completed"
    },
    "tags": []
   },
   "outputs": [
    {
     "data": {
      "image/png": "[encoded data removed]",
      "text/plain": [
       "<Figure size 800x300 with 2 Axes>"
      ]
     },
     "metadata": {},
     "output_type": "display_data"
    }
   ],
   "source": []
  },
  {
   "cell_type": "markdown",
   "id": "b5c57acb-3ccb-4966-a5cc-30fddf7a58b5",
   "metadata": {
    "papermill": {
     "duration": 0.006258,
     "end_time": "2024-05-29T23:06:16.203415",
     "exception": false,
     "start_time": "2024-05-29T23:06:16.197157",
     "status": "completed"
    },
    "tags": []
   },
   "source": [
    "## Modelling"
   ]
  },
  {
   "cell_type": "markdown",
   "id": "3d0df8f7-7fba-4a92-8415-2dbee01c6924",
   "metadata": {
    "papermill": {
     "duration": 0.003442,
     "end_time": "2024-05-29T23:06:16.214575",
     "exception": false,
     "start_time": "2024-05-29T23:06:16.211133",
     "status": "completed"
    },
    "tags": []
   },
   "source": [
    "### ARIMA"
   ]
  },
  {
   "cell_type": "code",
   "execution_count": null,
   "id": "8b5c7848-d8f0-4ae4-b8c5-c01ff5c83e1b",
   "metadata": {
    "execution": {
     "iopub.execute_input": "2024-05-29T23:06:16.225837Z",
     "iopub.status.busy": "2024-05-29T23:06:16.225331Z",
     "iopub.status.idle": "2024-05-29T23:06:16.263486Z",
     "shell.execute_reply": "2024-05-29T23:06:16.262700Z"
    },
    "papermill": {
     "duration": 0.044911,
     "end_time": "2024-05-29T23:06:16.265318",
     "exception": false,
     "start_time": "2024-05-29T23:06:16.220407",
     "status": "completed"
    },
    "tags": []
   },
   "outputs": [],
   "source": []
  },
  {
   "cell_type": "code",
   "execution_count": null,
   "id": "282845f8-43a3-4b89-8368-4d37746df5ff",
   "metadata": {
    "execution": {
     "iopub.execute_input": "2024-05-29T23:06:16.279285Z",
     "iopub.status.busy": "2024-05-29T23:06:16.278682Z",
     "iopub.status.idle": "2024-05-29T23:06:16.542452Z",
     "shell.execute_reply": "2024-05-29T23:06:16.542142Z"
    },
    "papermill": {
     "duration": 0.270618,
     "end_time": "2024-05-29T23:06:16.543276",
     "exception": false,
     "start_time": "2024-05-29T23:06:16.272658",
     "status": "completed"
    },
    "tags": []
   },
   "outputs": [
    {
     "data": {
      "text/plain": [
       "<statsmodels.tsa.arima.model.ARIMAResultsWrapper at 0x31622f8c0>"
      ]
     },
     "execution_count": null,
     "metadata": {},
     "output_type": "execute_result"
    }
   ],
   "source": []
  },
  {
   "cell_type": "code",
   "execution_count": null,
   "id": "0b997cae-2f87-453b-91b4-f530bfcb5445",
   "metadata": {
    "execution": {
     "iopub.execute_input": "2024-05-29T23:06:16.550550Z",
     "iopub.status.busy": "2024-05-29T23:06:16.550398Z",
     "iopub.status.idle": "2024-05-29T23:06:16.555145Z",
     "shell.execute_reply": "2024-05-29T23:06:16.554934Z"
    },
    "papermill": {
     "duration": 0.009256,
     "end_time": "2024-05-29T23:06:16.555901",
     "exception": false,
     "start_time": "2024-05-29T23:06:16.546645",
     "status": "completed"
    },
    "tags": []
   },
   "outputs": [],
   "source": []
  },
  {
   "cell_type": "code",
   "execution_count": null,
   "id": "6bb785bc-e381-46e3-8605-94ae0217e80a",
   "metadata": {
    "execution": {
     "iopub.execute_input": "2024-05-29T23:06:16.562723Z",
     "iopub.status.busy": "2024-05-29T23:06:16.562610Z",
     "iopub.status.idle": "2024-05-29T23:06:16.605524Z",
     "shell.execute_reply": "2024-05-29T23:06:16.605280Z"
    },
    "papermill": {
     "duration": 0.047492,
     "end_time": "2024-05-29T23:06:16.606348",
     "exception": false,
     "start_time": "2024-05-29T23:06:16.558856",
     "status": "completed"
    },
    "tags": []
   },
   "outputs": [
    {
     "data": {
      "image/svg+xml": [
       "<svg class=\"main-svg\" xmlns=\"http://www.w3.org/2000/svg\" xmlns:xlink=\"http://www.w3.org/1999/xlink\" width=\"700\" height=\"500\" style=\"\" viewBox=\"0 0 700 500\"><rect x=\"0\" y=\"0\" width=\"700\" height=\"500\" style=\"fill: rgb(255, 255, 255); fill-opacity: 1;\"/><defs id=\"defs-fdbd3e\"><g class=\"clips\"><clipPath id=\"clipfdbd3exyplot\" class=\"plotclip\"><rect width=\"446\" height=\"360\"/></clipPath><clipPath class=\"axesclip\" id=\"clipfdbd3ex\"><rect x=\"80\" y=\"0\" width=\"446\" height=\"500\"/></clipPath><clipPath class=\"axesclip\" id=\"clipfdbd3ey\"><rect x=\"0\" y=\"60\" width=\"700\" height=\"360\"/></clipPath><clipPath class=\"axesclip\" id=\"clipfdbd3exy\"><rect x=\"80\" y=\"60\" width=\"446\" height=\"360\"/></clipPath></g><g class=\"gradients\"/><g class=\"patterns\"/></defs><g class=\"bglayer\"><rect class=\"bg\" x=\"80\" y=\"60\" width=\"446\" height=\"360\" style=\"fill: rgb(229, 236, 246); fill-opacity: 1; stroke-width: 0;\"/></g><g class=\"layer-below\"><g class=\"imagelayer\"/><g class=\"shapelayer\"/></g><g class=\"cartesianlayer\"><g class=\"subplot xy\"><g class=\"layer-subplot\"><g class=\"shapelayer\"/><g class=\"imagelayer\"/></g><g class=\"minor-gridlayer\"><g class=\"x\"/><g class=\"y\"/></g><g class=\"gridlayer\"><g class=\"x\"><path class=\"xgrid crisp\" transform=\"translate(135.9,0)\" d=\"M0,60v360\" style=\"stroke: rgb(255, 255, 255); stroke-opacity: 1; stroke-width: 1px;\"/><path class=\"xgrid crisp\" transform=\"translate(219.74,0)\" d=\"M0,60v360\" style=\"stroke: rgb(255, 255, 255); stroke-opacity: 1; stroke-width: 1px;\"/><path class=\"xgrid crisp\" transform=\"translate(303.58000000000004,0)\" d=\"M0,60v360\" style=\"stroke: rgb(255, 255, 255); stroke-opacity: 1; stroke-width: 1px;\"/><path class=\"xgrid crisp\" transform=\"translate(387.43,0)\" d=\"M0,60v360\" style=\"stroke: rgb(255, 255, 255); stroke-opacity: 1; stroke-width: 1px;\"/><path class=\"xgrid crisp\" transform=\"translate(471.27,0)\" d=\"M0,60v360\" style=\"stroke: rgb(255, 255, 255); stroke-opacity: 1; stroke-width: 1px;\"/></g><g class=\"y\"><path class=\"ygrid crisp\" transform=\"translate(0,311.89)\" d=\"M80,0h446\" style=\"stroke: rgb(255, 255, 255); stroke-opacity: 1; stroke-width: 1px;\"/><path class=\"ygrid crisp\" transform=\"translate(0,247.55)\" d=\"M80,0h446\" style=\"stroke: rgb(255, 255, 255); stroke-opacity: 1; stroke-width: 1px;\"/><path class=\"ygrid crisp\" transform=\"translate(0,183.20999999999998)\" d=\"M80,0h446\" style=\"stroke: rgb(255, 255, 255); stroke-opacity: 1; stroke-width: 1px;\"/><path class=\"ygrid crisp\" transform=\"translate(0,118.87)\" d=\"M80,0h446\" style=\"stroke: rgb(255, 255, 255); stroke-opacity: 1; stroke-width: 1px;\"/></g></g><g class=\"zerolinelayer\"><path class=\"yzl zl crisp\" transform=\"translate(0,376.23)\" d=\"M80,0h446\" style=\"stroke: rgb(255, 255, 255); stroke-opacity: 1; stroke-width: 2px;\"/></g><path class=\"xlines-below\"/><path class=\"ylines-below\"/><g class=\"overlines-below\"/><g class=\"xaxislayer-below\"/><g class=\"yaxislayer-below\"/><g class=\"overaxes-below\"/><g class=\"plot\" transform=\"translate(80,60)\" clip-path=\"url(#clipfdbd3exyplot)\"><g class=\"scatterlayer mlayer\"><g class=\"trace scatter trace509b64\" style=\"stroke-miterlimit: 2; opacity: 1;\"><g class=\"fills\"/><g class=\"errorbars\"/><g class=\"lines\"><path class=\"js-line\" d=\"M0,316.23L8.15,316.19L9.32,307.28L12.81,85.64L13.97,62.51L15.14,60.44L16.3,62.98L17.47,95.38L18.63,175.57L19.8,279.57L20.96,315.56L24.45,316.15L25.62,316.2L36.1,316.14L37.26,307.83L40.76,86.9L41.92,63.66L43.09,60.06L44.25,71.71L45.42,107.11L46.58,190.16L47.74,285.89L48.91,315.47L52.4,316.15L53.57,316.15L64.05,316.1L65.21,309.56L68.7,181.71L69.87,167.16L71.03,163.8L72.2,176.37L73.36,203.77L74.53,253.47L75.69,299.76L76.86,314.44L78.02,311.71L79.19,314.88L81.51,316.15L82.68,316.16L91.99,316.12L93.16,311.71L95.49,221.18L96.65,176.41L98.98,135.95L100.15,146.6L101.31,170.68L102.48,229.2L103.64,294.4L104.8,315.47L107.13,316.12L108.3,316.15L119.94,316.15L121.11,309.73L125.77,131.08L126.93,123.95L128.09,135.01L129.26,169.43L132.75,315.16L133.92,315.65L142.07,316.23L143.23,316.23L147.89,316.18L149.05,309.32L153.71,86.7L154.88,78.37L156.04,88.62L157.21,114.42L160.7,312.85L161.86,310.98L163.03,312.36L164.19,314.93L165.36,316.17L166.52,316.17L175.84,316.22L177,308.69L180.5,99.42L181.66,71.97L182.83,68.26L183.99,78.45L185.15,111.02L186.32,187.45L187.48,282.64L188.65,315.48L190.98,316.15L192.14,316.18L203.79,316.21L204.95,308.23L208.44,115.59L209.61,96.78L210.77,97.11L211.94,105.28L213.1,134.52L214.27,204.01L216.6,315.27L217.76,316.1L231.73,316.21L232.9,307.81L236.39,57.99L237.56,35.36L238.72,32.06L239.89,40.14L241.05,79.13L242.21,163.83L244.54,315.25L245.71,316.04L249.2,316.13L250.37,316.14L259.68,316.2L260.85,307.82L264.34,43.89L265.5,21.07L266.67,18L267.83,23.8L269,61.78L270.16,155.17L272.49,314.46L273.66,316L287.63,316.21L288.79,307.85L292.29,47.84L293.45,26.72L294.62,20.88L295.78,25.62L296.95,58.9L298.11,156.42L300.44,314.84L301.6,316.01L315.58,316.21L316.74,309.57L320.23,142.93L321.4,134.03L322.56,131.17L323.73,141.69L324.89,169.04L326.06,225.95L328.39,314.73L329.55,316.01L343.52,316.21L344.69,310.91L349.35,128.71L350.51,119.27L351.68,121.84L352.84,143.43L356.33,314.75L357.5,316.06L371.47,316.2L372.64,307.51L376.13,78.92L377.3,60.04L378.46,61.22L379.62,67.49L380.79,98.22L381.95,177.8L384.28,314.75L385.45,316.05L390.1,316.18\" style=\"vector-effect: none; fill: none; stroke: rgb(99, 110, 250); stroke-opacity: 1; stroke-width: 2px; opacity: 1;\"/></g><g class=\"points\"/><g class=\"text\"/></g><g class=\"trace scatter trace7885a4\" style=\"stroke-miterlimit: 2; opacity: 1;\"><g class=\"fills\"/><g class=\"errorbars\"/><g class=\"lines\"><path class=\"js-line\" d=\"M391.27,313.79L392.43,323.61L393.6,342L394.76,336.87L395.93,297.07L397.09,253.47L398.26,238.85L399.42,245.62L400.58,241.75L402.91,206.62L404.08,223.26L405.24,252.3L406.41,262.47L408.74,247.11L409.9,263.56L411.07,281.91L412.23,277.7L414.56,246.93L415.72,257.44L416.89,267.86L418.05,258.9L419.22,240.82L420.38,237.89L422.71,264.15L423.87,256.65L425.04,243.68L426.2,245.96L428.53,268.55L429.7,258.3L430.86,246.27L432.03,249.69L433.19,262.6L434.36,265.4L436.68,244.17L437.85,249.95L439.01,261.84L440.18,262.4L442.51,245.11L443.67,252.85L444.84,263.16L446,261.38\" style=\"vector-effect: none; fill: none; stroke: rgb(239, 85, 59); stroke-opacity: 1; stroke-width: 2px; opacity: 1;\"/></g><g class=\"points\"/><g class=\"text\"/></g></g></g><g class=\"overplot\"/><path class=\"xlines-above crisp\" d=\"M0,0\" style=\"fill: none;\"/><path class=\"ylines-above crisp\" d=\"M0,0\" style=\"fill: none;\"/><g class=\"overlines-above\"/><g class=\"xaxislayer-above\"><g class=\"xtick\"><text text-anchor=\"middle\" x=\"0\" y=\"433\" transform=\"translate(135.9,0)\" style=\"font-family: 'Open Sans', verdana, arial, sans-serif; font-size: 12px; fill: rgb(42, 63, 95); fill-opacity: 1; white-space: pre; opacity: 1;\"><tspan class=\"line\" dy=\"0em\" x=\"0\" y=\"433\">Dec 20</tspan><tspan class=\"line\" dy=\"1.3em\" x=\"0\" y=\"433\">2022</tspan></text></g><g class=\"xtick\"><text text-anchor=\"middle\" x=\"0\" y=\"433\" style=\"font-family: 'Open Sans', verdana, arial, sans-serif; font-size: 12px; fill: rgb(42, 63, 95); fill-opacity: 1; white-space: pre; opacity: 1;\" transform=\"translate(219.74,0)\">Dec 23</text></g><g class=\"xtick\"><text text-anchor=\"middle\" x=\"0\" y=\"433\" style=\"font-family: 'Open Sans', verdana, arial, sans-serif; font-size: 12px; fill: rgb(42, 63, 95); fill-opacity: 1; white-space: pre; opacity: 1;\" transform=\"translate(303.58000000000004,0)\">Dec 26</text></g><g class=\"xtick\"><text text-anchor=\"middle\" x=\"0\" y=\"433\" style=\"font-family: 'Open Sans', verdana, arial, sans-serif; font-size: 12px; fill: rgb(42, 63, 95); fill-opacity: 1; white-space: pre; opacity: 1;\" transform=\"translate(387.43,0)\">Dec 29</text></g><g class=\"xtick\"><text text-anchor=\"middle\" x=\"0\" y=\"433\" style=\"font-family: 'Open Sans', verdana, arial, sans-serif; font-size: 12px; fill: rgb(42, 63, 95); fill-opacity: 1; white-space: pre; opacity: 1;\" transform=\"translate(471.27,0)\"><tspan class=\"line\" dy=\"0em\" x=\"0\" y=\"433\">Jan 1</tspan><tspan class=\"line\" dy=\"1.3em\" x=\"0\" y=\"433\">2023</tspan></text></g></g><g class=\"yaxislayer-above\"><g class=\"ytick\"><text text-anchor=\"end\" x=\"79\" y=\"4.199999999999999\" transform=\"translate(0,376.23)\" style=\"font-family: 'Open Sans', verdana, arial, sans-serif; font-size: 12px; fill: rgb(42, 63, 95); fill-opacity: 1; white-space: pre; opacity: 1;\">0</text></g><g class=\"ytick\"><text text-anchor=\"end\" x=\"79\" y=\"4.199999999999999\" style=\"font-family: 'Open Sans', verdana, arial, sans-serif; font-size: 12px; fill: rgb(42, 63, 95); fill-opacity: 1; white-space: pre; opacity: 1;\" transform=\"translate(0,311.89)\">2k</text></g><g class=\"ytick\"><text text-anchor=\"end\" x=\"79\" y=\"4.199999999999999\" style=\"font-family: 'Open Sans', verdana, arial, sans-serif; font-size: 12px; fill: rgb(42, 63, 95); fill-opacity: 1; white-space: pre; opacity: 1;\" transform=\"translate(0,247.55)\">4k</text></g><g class=\"ytick\"><text text-anchor=\"end\" x=\"79\" y=\"4.199999999999999\" style=\"font-family: 'Open Sans', verdana, arial, sans-serif; font-size: 12px; fill: rgb(42, 63, 95); fill-opacity: 1; white-space: pre; opacity: 1;\" transform=\"translate(0,183.20999999999998)\">6k</text></g><g class=\"ytick\"><text text-anchor=\"end\" x=\"79\" y=\"4.199999999999999\" style=\"font-family: 'Open Sans', verdana, arial, sans-serif; font-size: 12px; fill: rgb(42, 63, 95); fill-opacity: 1; white-space: pre; opacity: 1;\" transform=\"translate(0,118.87)\">8k</text></g></g><g class=\"overaxes-above\"/></g></g><g class=\"polarlayer\"/><g class=\"smithlayer\"/><g class=\"ternarylayer\"/><g class=\"geolayer\"/><g class=\"funnelarealayer\"/><g class=\"pielayer\"/><g class=\"iciclelayer\"/><g class=\"treemaplayer\"/><g class=\"sunburstlayer\"/><g class=\"glimages\"/><defs id=\"topdefs-fdbd3e\"><g class=\"clips\"/><clipPath id=\"legendfdbd3e\"><rect width=\"153\" height=\"67\" x=\"0\" y=\"0\"/></clipPath></defs><g class=\"layer-above\"><g class=\"imagelayer\"/><g class=\"shapelayer\"/></g><g class=\"infolayer\"><g class=\"legend\" pointer-events=\"all\" transform=\"translate(534.9200000000001,60)\"><rect class=\"bg\" shape-rendering=\"crispEdges\" style=\"stroke: rgb(68, 68, 68); stroke-opacity: 1; fill: rgb(255, 255, 255); fill-opacity: 1; stroke-width: 0px;\" width=\"153\" height=\"67\" x=\"0\" y=\"0\"/><g class=\"scrollbox\" transform=\"\" clip-path=\"url(#legendfdbd3e)\"><text class=\"legendtitletext\" text-anchor=\"start\" x=\"2\" y=\"18.2\" style=\"font-family: 'Open Sans', verdana, arial, sans-serif; font-size: 14px; fill: rgb(42, 63, 95); fill-opacity: 1; white-space: pre;\">variable</text><g class=\"groups\" transform=\"\"><g class=\"traces\" transform=\"translate(0,32.7)\" style=\"opacity: 1;\"><text class=\"legendtext\" text-anchor=\"start\" x=\"40\" y=\"4.680000000000001\" style=\"font-family: 'Open Sans', verdana, arial, sans-serif; font-size: 12px; fill: rgb(42, 63, 95); fill-opacity: 1; white-space: pre;\">Solar Fotovoltaica</text><g class=\"layers\" style=\"opacity: 1;\"><g class=\"legendfill\"/><g class=\"legendlines\"><path class=\"js-line\" d=\"M5,0h30\" style=\"fill: none; stroke: rgb(99, 110, 250); stroke-opacity: 1; stroke-width: 2px;\"/></g><g class=\"legendsymbols\"><g class=\"legendpoints\"/></g></g><rect class=\"legendtoggle\" x=\"0\" y=\"-9.5\" width=\"147.890625\" height=\"19\" style=\"fill: rgb(0, 0, 0); fill-opacity: 0;\"/></g></g><g class=\"groups\" transform=\"\"><g class=\"traces\" transform=\"translate(0,51.7)\" style=\"opacity: 1;\"><text class=\"legendtext\" text-anchor=\"start\" x=\"40\" y=\"4.680000000000001\" style=\"font-family: 'Open Sans', verdana, arial, sans-serif; font-size: 12px; fill: rgb(42, 63, 95); fill-opacity: 1; white-space: pre;\">Forecast (4, 0, 4)</text><g class=\"layers\" style=\"opacity: 1;\"><g class=\"legendfill\"/><g class=\"legendlines\"><path class=\"js-line\" d=\"M5,0h30\" style=\"fill: none; stroke: rgb(239, 85, 59); stroke-opacity: 1; stroke-width: 2px;\"/></g><g class=\"legendsymbols\"><g class=\"legendpoints\"/></g></g><rect class=\"legendtoggle\" x=\"0\" y=\"-9.5\" width=\"147.890625\" height=\"19\" style=\"fill: rgb(0, 0, 0); fill-opacity: 0;\"/></g></g></g><rect class=\"scrollbar\" rx=\"20\" ry=\"3\" width=\"0\" height=\"0\" style=\"fill: rgb(128, 139, 164); fill-opacity: 1;\" x=\"0\" y=\"0\"/></g><g class=\"g-gtitle\"/><g class=\"g-xtitle\"><text class=\"xtitle\" x=\"303\" y=\"475.909375\" text-anchor=\"middle\" style=\"font-family: 'Open Sans', verdana, arial, sans-serif; font-size: 14px; fill: rgb(42, 63, 95); opacity: 1; font-weight: normal; white-space: pre;\">index</text></g><g class=\"g-ytitle\"><text class=\"ytitle\" transform=\"rotate(-90,39.965625,240)\" x=\"39.965625\" y=\"240\" text-anchor=\"middle\" style=\"font-family: 'Open Sans', verdana, arial, sans-serif; font-size: 14px; fill: rgb(42, 63, 95); opacity: 1; font-weight: normal; white-space: pre;\">value</text></g></g></svg>"
      ]
     },
     "metadata": {},
     "output_type": "display_data"
    }
   ],
   "source": []
  },
  {
   "cell_type": "markdown",
   "id": "842456db-b927-4e67-8a2c-162b460d222a",
   "metadata": {
    "papermill": {
     "duration": 0.003434,
     "end_time": "2024-05-29T23:06:16.612857",
     "exception": false,
     "start_time": "2024-05-29T23:06:16.609423",
     "status": "completed"
    },
    "tags": []
   },
   "source": [
    "### SARIMA"
   ]
  },
  {
   "cell_type": "code",
   "execution_count": null,
   "id": "a8974534-40dc-41e5-9788-9de85992a9b8",
   "metadata": {
    "execution": {
     "iopub.execute_input": "2024-05-29T23:06:16.619636Z",
     "iopub.status.busy": "2024-05-29T23:06:16.619425Z",
     "iopub.status.idle": "2024-05-29T23:06:16.621070Z",
     "shell.execute_reply": "2024-05-29T23:06:16.620845Z"
    },
    "papermill": {
     "duration": 0.006015,
     "end_time": "2024-05-29T23:06:16.621794",
     "exception": false,
     "start_time": "2024-05-29T23:06:16.615779",
     "status": "completed"
    },
    "tags": []
   },
   "outputs": [],
   "source": []
  },
  {
   "cell_type": "code",
   "execution_count": null,
   "id": "54fce8a2-6644-4c60-9298-35114addcf06",
   "metadata": {
    "execution": {
     "iopub.execute_input": "2024-05-29T23:06:16.628711Z",
     "iopub.status.busy": "2024-05-29T23:06:16.628479Z",
     "iopub.status.idle": "2024-05-29T23:06:18.608137Z",
     "shell.execute_reply": "2024-05-29T23:06:18.607859Z"
    },
    "papermill": {
     "duration": 1.984332,
     "end_time": "2024-05-29T23:06:18.609193",
     "exception": false,
     "start_time": "2024-05-29T23:06:16.624861",
     "status": "completed"
    },
    "tags": []
   },
   "outputs": [
    {
     "name": "stderr",
     "output_type": "stream",
     "text": [
      " This problem is unconstrained.\n"
     ]
    },
    {
     "name": "stdout",
     "output_type": "stream",
     "text": [
      "RUNNING THE L-BFGS-B CODE\n",
      "\n",
      "           * * *\n",
      "\n",
      "Machine precision = 2.220D-16\n",
      " N =            9     M =           10\n",
      "\n",
      "At X0         0 variables are exactly at the bounds\n",
      "\n",
      "At iterate    0    f=  6.69453D+00    |proj g|=  1.76698D-01\n",
      "\n",
      "At iterate    5    f=  6.61309D+00    |proj g|=  7.67122D-02\n"
     ]
    },
    {
     "name": "stdout",
     "output_type": "stream",
     "text": [
      "\n",
      "At iterate   10    f=  6.61042D+00    |proj g|=  7.48464D-03\n",
      "\n",
      "At iterate   15    f=  6.61005D+00    |proj g|=  5.14293D-03\n",
      "\n",
      "At iterate   20    f=  6.60983D+00    |proj g|=  8.09990D-03\n"
     ]
    },
    {
     "name": "stdout",
     "output_type": "stream",
     "text": [
      "\n",
      "At iterate   25    f=  6.60763D+00    |proj g|=  1.46734D-02\n",
      "\n",
      "At iterate   30    f=  6.60481D+00    |proj g|=  2.07547D-02\n",
      "\n",
      "At iterate   35    f=  6.60370D+00    |proj g|=  2.54368D-03\n"
     ]
    },
    {
     "name": "stdout",
     "output_type": "stream",
     "text": [
      "\n",
      "At iterate   40    f=  6.60213D+00    |proj g|=  4.06395D-03\n",
      "\n",
      "At iterate   45    f=  6.59535D+00    |proj g|=  3.31564D-02\n"
     ]
    },
    {
     "name": "stdout",
     "output_type": "stream",
     "text": [
      "\n",
      "At iterate   50    f=  6.55241D+00    |proj g|=  8.55135D-02\n",
      "\n",
      "At iterate   55    f=  6.46306D+00    |proj g|=  2.03624D+00\n"
     ]
    },
    {
     "name": "stdout",
     "output_type": "stream",
     "text": [
      "\n",
      "At iterate   60    f=  6.37587D+00    |proj g|=  5.17219D-01\n",
      "\n",
      "At iterate   65    f=  6.25353D+00    |proj g|=  9.77845D-01\n",
      "\n",
      "At iterate   70    f=  6.22583D+00    |proj g|=  1.30388D+00\n"
     ]
    },
    {
     "name": "stdout",
     "output_type": "stream",
     "text": [
      "\n",
      "           * * *\n",
      "\n",
      "Tit   = total number of iterations\n",
      "Tnf   = total number of function evaluations\n",
      "Tnint = total number of segments explored during Cauchy searches\n",
      "Skip  = number of BFGS updates skipped\n",
      "Nact  = number of active bounds at final generalized Cauchy point\n",
      "Projg = norm of the final projected gradient\n",
      "F     = final function value\n",
      "\n",
      "           * * *\n",
      "\n",
      "   N    Tit     Tnf  Tnint  Skip  Nact     Projg        F\n",
      "    9     73    108      1     0     0   2.740D-01   6.222D+00\n",
      "  F =   6.2216911319529276     \n",
      "\n",
      "CONVERGENCE: REL_REDUCTION_OF_F_<=_FACTR*EPSMCH             \n"
     ]
    },
    {
     "name": "stderr",
     "output_type": "stream",
     "text": [
      "\n",
      " Warning:  more than 10 function and gradient\n",
      "   evaluations in the last line search.  Termination\n",
      "   may possibly be caused by a bad search direction.\n"
     ]
    },
    {
     "data": {
      "text/html": [
       "<table class=\"simpletable\">\n",
       "<caption>SARIMAX Results</caption>\n",
       "<tr>\n",
       "  <th>Dep. Variable:</th>          <td>Solar Fotovoltaica</td>        <th>  No. Observations:  </th>    <td>336</td>   \n",
       "</tr>\n",
       "<tr>\n",
       "  <th>Model:</th>           <td>SARIMAX(3, 0, 3)x(1, 0, [1], 24)</td> <th>  Log Likelihood     </th> <td>-2090.488</td>\n",
       "</tr>\n",
       "<tr>\n",
       "  <th>Date:</th>                    <td>Thu, 30 May 2024</td>         <th>  AIC                </th> <td>4198.976</td> \n",
       "</tr>\n",
       "<tr>\n",
       "  <th>Time:</th>                        <td>01:06:18</td>             <th>  BIC                </th> <td>4232.547</td> \n",
       "</tr>\n",
       "<tr>\n",
       "  <th>Sample:</th>                     <td>12-18-2022</td>            <th>  HQIC               </th> <td>4212.400</td> \n",
       "</tr>\n",
       "<tr>\n",
       "  <th></th>                           <td>- 12-31-2022</td>           <th>                     </th>     <td> </td>    \n",
       "</tr>\n",
       "<tr>\n",
       "  <th>Covariance Type:</th>                <td>opg</td>               <th>                     </th>     <td> </td>    \n",
       "</tr>\n",
       "</table>\n",
       "<table class=\"simpletable\">\n",
       "<tr>\n",
       "      <td></td>        <th>coef</th>     <th>std err</th>      <th>z</th>      <th>P>|z|</th>  <th>[0.025</th>    <th>0.975]</th>  \n",
       "</tr>\n",
       "<tr>\n",
       "  <th>ar.L1</th>    <td>   -1.0947</td> <td>    0.021</td> <td>  -52.628</td> <td> 0.000</td> <td>   -1.136</td> <td>   -1.054</td>\n",
       "</tr>\n",
       "<tr>\n",
       "  <th>ar.L2</th>    <td>    0.7825</td> <td>    0.029</td> <td>   27.252</td> <td> 0.000</td> <td>    0.726</td> <td>    0.839</td>\n",
       "</tr>\n",
       "<tr>\n",
       "  <th>ar.L3</th>    <td>    0.8803</td> <td>    0.019</td> <td>   46.946</td> <td> 0.000</td> <td>    0.844</td> <td>    0.917</td>\n",
       "</tr>\n",
       "<tr>\n",
       "  <th>ma.L1</th>    <td>    2.6888</td> <td>    0.050</td> <td>   53.287</td> <td> 0.000</td> <td>    2.590</td> <td>    2.788</td>\n",
       "</tr>\n",
       "<tr>\n",
       "  <th>ma.L2</th>    <td>    2.3842</td> <td>    0.089</td> <td>   26.827</td> <td> 0.000</td> <td>    2.210</td> <td>    2.558</td>\n",
       "</tr>\n",
       "<tr>\n",
       "  <th>ma.L3</th>    <td>    0.6954</td> <td>    0.040</td> <td>   17.369</td> <td> 0.000</td> <td>    0.617</td> <td>    0.774</td>\n",
       "</tr>\n",
       "<tr>\n",
       "  <th>ar.S.L24</th> <td>    1.0265</td> <td>    0.003</td> <td>  342.678</td> <td> 0.000</td> <td>    1.021</td> <td>    1.032</td>\n",
       "</tr>\n",
       "<tr>\n",
       "  <th>ma.S.L24</th> <td>   -0.8808</td> <td>    0.036</td> <td>  -24.626</td> <td> 0.000</td> <td>   -0.951</td> <td>   -0.811</td>\n",
       "</tr>\n",
       "<tr>\n",
       "  <th>sigma2</th>   <td> 3.217e+04</td> <td> 6.96e-06</td> <td> 4.62e+09</td> <td> 0.000</td> <td> 3.22e+04</td> <td> 3.22e+04</td>\n",
       "</tr>\n",
       "</table>\n",
       "<table class=\"simpletable\">\n",
       "<tr>\n",
       "  <th>Ljung-Box (L1) (Q):</th>     <td>38.74</td> <th>  Jarque-Bera (JB):  </th> <td>250.89</td>\n",
       "</tr>\n",
       "<tr>\n",
       "  <th>Prob(Q):</th>                <td>0.00</td>  <th>  Prob(JB):          </th>  <td>0.00</td> \n",
       "</tr>\n",
       "<tr>\n",
       "  <th>Heteroskedasticity (H):</th> <td>1.25</td>  <th>  Skew:              </th>  <td>-0.05</td>\n",
       "</tr>\n",
       "<tr>\n",
       "  <th>Prob(H) (two-sided):</th>    <td>0.26</td>  <th>  Kurtosis:          </th>  <td>7.42</td> \n",
       "</tr>\n",
       "</table><br/><br/>Warnings:<br/>[1] Covariance matrix calculated using the outer product of gradients (complex-step).<br/>[2] Covariance matrix is singular or near-singular, with condition number 3.49e+24. Standard errors may be unstable."
      ],
      "text/latex": [
       "\\begin{center}\n",
       "\\begin{tabular}{lclc}\n",
       "\\toprule\n",
       "\\textbf{Dep. Variable:}          &        Solar Fotovoltaica        & \\textbf{  No. Observations:  } &    336      \\\\\n",
       "\\textbf{Model:}                  & SARIMAX(3, 0, 3)x(1, 0, [1], 24) & \\textbf{  Log Likelihood     } & -2090.488   \\\\\n",
       "\\textbf{Date:}                   &         Thu, 30 May 2024         & \\textbf{  AIC                } &  4198.976   \\\\\n",
       "\\textbf{Time:}                   &             01:06:18             & \\textbf{  BIC                } &  4232.547   \\\\\n",
       "\\textbf{Sample:}                 &            12-18-2022            & \\textbf{  HQIC               } &  4212.400   \\\\\n",
       "\\textbf{}                        &           - 12-31-2022           & \\textbf{                     } &             \\\\\n",
       "\\textbf{Covariance Type:}        &               opg                & \\textbf{                     } &             \\\\\n",
       "\\bottomrule\n",
       "\\end{tabular}\n",
       "\\begin{tabular}{lcccccc}\n",
       "                  & \\textbf{coef} & \\textbf{std err} & \\textbf{z} & \\textbf{P$> |$z$|$} & \\textbf{[0.025} & \\textbf{0.975]}  \\\\\n",
       "\\midrule\n",
       "\\textbf{ar.L1}    &      -1.0947  &        0.021     &   -52.628  &         0.000        &       -1.136    &       -1.054     \\\\\n",
       "\\textbf{ar.L2}    &       0.7825  &        0.029     &    27.252  &         0.000        &        0.726    &        0.839     \\\\\n",
       "\\textbf{ar.L3}    &       0.8803  &        0.019     &    46.946  &         0.000        &        0.844    &        0.917     \\\\\n",
       "\\textbf{ma.L1}    &       2.6888  &        0.050     &    53.287  &         0.000        &        2.590    &        2.788     \\\\\n",
       "\\textbf{ma.L2}    &       2.3842  &        0.089     &    26.827  &         0.000        &        2.210    &        2.558     \\\\\n",
       "\\textbf{ma.L3}    &       0.6954  &        0.040     &    17.369  &         0.000        &        0.617    &        0.774     \\\\\n",
       "\\textbf{ar.S.L24} &       1.0265  &        0.003     &   342.678  &         0.000        &        1.021    &        1.032     \\\\\n",
       "\\textbf{ma.S.L24} &      -0.8808  &        0.036     &   -24.626  &         0.000        &       -0.951    &       -0.811     \\\\\n",
       "\\textbf{sigma2}   &    3.217e+04  &     6.96e-06     &  4.62e+09  &         0.000        &     3.22e+04    &     3.22e+04     \\\\\n",
       "\\bottomrule\n",
       "\\end{tabular}\n",
       "\\begin{tabular}{lclc}\n",
       "\\textbf{Ljung-Box (L1) (Q):}     & 38.74 & \\textbf{  Jarque-Bera (JB):  } & 250.89  \\\\\n",
       "\\textbf{Prob(Q):}                &  0.00 & \\textbf{  Prob(JB):          } &  0.00   \\\\\n",
       "\\textbf{Heteroskedasticity (H):} &  1.25 & \\textbf{  Skew:              } & -0.05   \\\\\n",
       "\\textbf{Prob(H) (two-sided):}    &  0.26 & \\textbf{  Kurtosis:          } &  7.42   \\\\\n",
       "\\bottomrule\n",
       "\\end{tabular}\n",
       "%\\caption{SARIMAX Results}\n",
       "\\end{center}\n",
       "\n",
       "Warnings: \\newline\n",
       " [1] Covariance matrix calculated using the outer product of gradients (complex-step). \\newline\n",
       " [2] Covariance matrix is singular or near-singular, with condition number 3.49e+24. Standard errors may be unstable."
      ],
      "text/plain": [
       "<class 'statsmodels.iolib.summary.Summary'>\n",
       "\"\"\"\n",
       "                                      SARIMAX Results                                       \n",
       "============================================================================================\n",
       "Dep. Variable:                   Solar Fotovoltaica   No. Observations:                  336\n",
       "Model:             SARIMAX(3, 0, 3)x(1, 0, [1], 24)   Log Likelihood               -2090.488\n",
       "Date:                              Thu, 30 May 2024   AIC                           4198.976\n",
       "Time:                                      01:06:18   BIC                           4232.547\n",
       "Sample:                                  12-18-2022   HQIC                          4212.400\n",
       "                                       - 12-31-2022                                         \n",
       "Covariance Type:                                opg                                         \n",
       "==============================================================================\n",
       "                 coef    std err          z      P>|z|      [0.025      0.975]\n",
       "------------------------------------------------------------------------------\n",
       "ar.L1         -1.0947      0.021    -52.628      0.000      -1.136      -1.054\n",
       "ar.L2          0.7825      0.029     27.252      0.000       0.726       0.839\n",
       "ar.L3          0.8803      0.019     46.946      0.000       0.844       0.917\n",
       "ma.L1          2.6888      0.050     53.287      0.000       2.590       2.788\n",
       "ma.L2          2.3842      0.089     26.827      0.000       2.210       2.558\n",
       "ma.L3          0.6954      0.040     17.369      0.000       0.617       0.774\n",
       "ar.S.L24       1.0265      0.003    342.678      0.000       1.021       1.032\n",
       "ma.S.L24      -0.8808      0.036    -24.626      0.000      -0.951      -0.811\n",
       "sigma2      3.217e+04   6.96e-06   4.62e+09      0.000    3.22e+04    3.22e+04\n",
       "===================================================================================\n",
       "Ljung-Box (L1) (Q):                  38.74   Jarque-Bera (JB):               250.89\n",
       "Prob(Q):                              0.00   Prob(JB):                         0.00\n",
       "Heteroskedasticity (H):               1.25   Skew:                            -0.05\n",
       "Prob(H) (two-sided):                  0.26   Kurtosis:                         7.42\n",
       "===================================================================================\n",
       "\n",
       "Warnings:\n",
       "[1] Covariance matrix calculated using the outer product of gradients (complex-step).\n",
       "[2] Covariance matrix is singular or near-singular, with condition number 3.49e+24. Standard errors may be unstable.\n",
       "\"\"\""
      ]
     },
     "execution_count": null,
     "metadata": {},
     "output_type": "execute_result"
    }
   ],
   "source": []
  },
  {
   "cell_type": "code",
   "execution_count": null,
   "id": "97b43182-c85a-409e-9e17-ac51907f7a17",
   "metadata": {
    "execution": {
     "iopub.execute_input": "2024-05-29T23:06:18.616675Z",
     "iopub.status.busy": "2024-05-29T23:06:18.616559Z",
     "iopub.status.idle": "2024-05-29T23:06:18.620157Z",
     "shell.execute_reply": "2024-05-29T23:06:18.619941Z"
    },
    "papermill": {
     "duration": 0.008007,
     "end_time": "2024-05-29T23:06:18.620927",
     "exception": false,
     "start_time": "2024-05-29T23:06:18.612920",
     "status": "completed"
    },
    "tags": []
   },
   "outputs": [],
   "source": []
  },
  {
   "cell_type": "code",
   "execution_count": null,
   "id": "58e28b9f-bf7b-4f90-b5d0-fe58e376b492",
   "metadata": {
    "execution": {
     "iopub.execute_input": "2024-05-29T23:06:18.627618Z",
     "iopub.status.busy": "2024-05-29T23:06:18.627532Z",
     "iopub.status.idle": "2024-05-29T23:06:18.903315Z",
     "shell.execute_reply": "2024-05-29T23:06:18.902983Z"
    },
    "papermill": {
     "duration": 0.280108,
     "end_time": "2024-05-29T23:06:18.904271",
     "exception": false,
     "start_time": "2024-05-29T23:06:18.624163",
     "status": "completed"
    },
    "tags": []
   },
   "outputs": [
    {
     "data": {
      "image/svg+xml": [
       "<svg class=\"main-svg\" xmlns=\"http://www.w3.org/2000/svg\" xmlns:xlink=\"http://www.w3.org/1999/xlink\" width=\"700\" height=\"500\" style=\"\" viewBox=\"0 0 700 500\"><rect x=\"0\" y=\"0\" width=\"700\" height=\"500\" style=\"fill: rgb(255, 255, 255); fill-opacity: 1;\"/><defs id=\"defs-597714\"><g class=\"clips\"><clipPath id=\"clip597714xyplot\" class=\"plotclip\"><rect width=\"370\" height=\"360\"/></clipPath><clipPath class=\"axesclip\" id=\"clip597714x\"><rect x=\"80\" y=\"0\" width=\"370\" height=\"500\"/></clipPath><clipPath class=\"axesclip\" id=\"clip597714y\"><rect x=\"0\" y=\"60\" width=\"700\" height=\"360\"/></clipPath><clipPath class=\"axesclip\" id=\"clip597714xy\"><rect x=\"80\" y=\"60\" width=\"370\" height=\"360\"/></clipPath></g><g class=\"gradients\"/><g class=\"patterns\"/></defs><g class=\"bglayer\"><rect class=\"bg\" x=\"80\" y=\"60\" width=\"370\" height=\"360\" style=\"fill: rgb(229, 236, 246); fill-opacity: 1; stroke-width: 0;\"/></g><g class=\"layer-below\"><g class=\"imagelayer\"/><g class=\"shapelayer\"/></g><g class=\"cartesianlayer\"><g class=\"subplot xy\"><g class=\"layer-subplot\"><g class=\"shapelayer\"/><g class=\"imagelayer\"/></g><g class=\"minor-gridlayer\"><g class=\"x\"/><g class=\"y\"/></g><g class=\"gridlayer\"><g class=\"x\"><path class=\"xgrid crisp\" transform=\"translate(126.37,0)\" d=\"M0,60v360\" style=\"stroke: rgb(255, 255, 255); stroke-opacity: 1; stroke-width: 1px;\"/><path class=\"xgrid crisp\" transform=\"translate(195.93,0)\" d=\"M0,60v360\" style=\"stroke: rgb(255, 255, 255); stroke-opacity: 1; stroke-width: 1px;\"/><path class=\"xgrid crisp\" transform=\"translate(265.48,0)\" d=\"M0,60v360\" style=\"stroke: rgb(255, 255, 255); stroke-opacity: 1; stroke-width: 1px;\"/><path class=\"xgrid crisp\" transform=\"translate(335.03999999999996,0)\" d=\"M0,60v360\" style=\"stroke: rgb(255, 255, 255); stroke-opacity: 1; stroke-width: 1px;\"/><path class=\"xgrid crisp\" transform=\"translate(404.6,0)\" d=\"M0,60v360\" style=\"stroke: rgb(255, 255, 255); stroke-opacity: 1; stroke-width: 1px;\"/></g><g class=\"y\"><path class=\"ygrid crisp\" transform=\"translate(0,311.89)\" d=\"M80,0h370\" style=\"stroke: rgb(255, 255, 255); stroke-opacity: 1; stroke-width: 1px;\"/><path class=\"ygrid crisp\" transform=\"translate(0,247.55)\" d=\"M80,0h370\" style=\"stroke: rgb(255, 255, 255); stroke-opacity: 1; stroke-width: 1px;\"/><path class=\"ygrid crisp\" transform=\"translate(0,183.20999999999998)\" d=\"M80,0h370\" style=\"stroke: rgb(255, 255, 255); stroke-opacity: 1; stroke-width: 1px;\"/><path class=\"ygrid crisp\" transform=\"translate(0,118.87)\" d=\"M80,0h370\" style=\"stroke: rgb(255, 255, 255); stroke-opacity: 1; stroke-width: 1px;\"/></g></g><g class=\"zerolinelayer\"><path class=\"yzl zl crisp\" transform=\"translate(0,376.23)\" d=\"M80,0h370\" style=\"stroke: rgb(255, 255, 255); stroke-opacity: 1; stroke-width: 2px;\"/></g><path class=\"xlines-below\"/><path class=\"ylines-below\"/><g class=\"overlines-below\"/><g class=\"xaxislayer-below\"/><g class=\"yaxislayer-below\"/><g class=\"overaxes-below\"/><g class=\"plot\" transform=\"translate(80,60)\" clip-path=\"url(#clip597714xyplot)\"/><g class=\"overplot\"/><path class=\"xlines-above crisp\" d=\"M0,0\" style=\"fill: none;\"/><path class=\"ylines-above crisp\" d=\"M0,0\" style=\"fill: none;\"/><g class=\"overlines-above\"/><g class=\"xaxislayer-above\"><g class=\"xtick\"><text text-anchor=\"middle\" x=\"0\" y=\"433\" transform=\"translate(126.37,0)\" style=\"font-family: 'Open Sans', verdana, arial, sans-serif; font-size: 12px; fill: rgb(42, 63, 95); fill-opacity: 1; white-space: pre; opacity: 1;\"><tspan class=\"line\" dy=\"0em\" x=\"0\" y=\"433\">Dec 20</tspan><tspan class=\"line\" dy=\"1.3em\" x=\"0\" y=\"433\">2022</tspan></text></g><g class=\"xtick\"><text text-anchor=\"middle\" x=\"0\" y=\"433\" style=\"font-family: 'Open Sans', verdana, arial, sans-serif; font-size: 12px; fill: rgb(42, 63, 95); fill-opacity: 1; white-space: pre; opacity: 1;\" transform=\"translate(195.93,0)\">Dec 23</text></g><g class=\"xtick\"><text text-anchor=\"middle\" x=\"0\" y=\"433\" style=\"font-family: 'Open Sans', verdana, arial, sans-serif; font-size: 12px; fill: rgb(42, 63, 95); fill-opacity: 1; white-space: pre; opacity: 1;\" transform=\"translate(265.48,0)\">Dec 26</text></g><g class=\"xtick\"><text text-anchor=\"middle\" x=\"0\" y=\"433\" style=\"font-family: 'Open Sans', verdana, arial, sans-serif; font-size: 12px; fill: rgb(42, 63, 95); fill-opacity: 1; white-space: pre; opacity: 1;\" transform=\"translate(335.03999999999996,0)\">Dec 29</text></g><g class=\"xtick\"><text text-anchor=\"middle\" x=\"0\" y=\"433\" style=\"font-family: 'Open Sans', verdana, arial, sans-serif; font-size: 12px; fill: rgb(42, 63, 95); fill-opacity: 1; white-space: pre; opacity: 1;\" transform=\"translate(404.6,0)\"><tspan class=\"line\" dy=\"0em\" x=\"0\" y=\"433\">Jan 1</tspan><tspan class=\"line\" dy=\"1.3em\" x=\"0\" y=\"433\">2023</tspan></text></g></g><g class=\"yaxislayer-above\"><g class=\"ytick\"><text text-anchor=\"end\" x=\"79\" y=\"4.199999999999999\" transform=\"translate(0,376.23)\" style=\"font-family: 'Open Sans', verdana, arial, sans-serif; font-size: 12px; fill: rgb(42, 63, 95); fill-opacity: 1; white-space: pre; opacity: 1;\">0</text></g><g class=\"ytick\"><text text-anchor=\"end\" x=\"79\" y=\"4.199999999999999\" style=\"font-family: 'Open Sans', verdana, arial, sans-serif; font-size: 12px; fill: rgb(42, 63, 95); fill-opacity: 1; white-space: pre; opacity: 1;\" transform=\"translate(0,311.89)\">2k</text></g><g class=\"ytick\"><text text-anchor=\"end\" x=\"79\" y=\"4.199999999999999\" style=\"font-family: 'Open Sans', verdana, arial, sans-serif; font-size: 12px; fill: rgb(42, 63, 95); fill-opacity: 1; white-space: pre; opacity: 1;\" transform=\"translate(0,247.55)\">4k</text></g><g class=\"ytick\"><text text-anchor=\"end\" x=\"79\" y=\"4.199999999999999\" style=\"font-family: 'Open Sans', verdana, arial, sans-serif; font-size: 12px; fill: rgb(42, 63, 95); fill-opacity: 1; white-space: pre; opacity: 1;\" transform=\"translate(0,183.20999999999998)\">6k</text></g><g class=\"ytick\"><text text-anchor=\"end\" x=\"79\" y=\"4.199999999999999\" style=\"font-family: 'Open Sans', verdana, arial, sans-serif; font-size: 12px; fill: rgb(42, 63, 95); fill-opacity: 1; white-space: pre; opacity: 1;\" transform=\"translate(0,118.87)\">8k</text></g></g><g class=\"overaxes-above\"/></g></g><g class=\"polarlayer\"/><g class=\"smithlayer\"/><g class=\"ternarylayer\"/><g class=\"geolayer\"/><g class=\"funnelarealayer\"/><g class=\"pielayer\"/><g class=\"iciclelayer\"/><g class=\"treemaplayer\"/><g class=\"sunburstlayer\"/><g class=\"glimages\"><image xmlns=\"http://www.w3.org/2000/svg\" xlink:href=\"data:image/png;base64,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\" preserveAspectRatio=\"none\" x=\"0\" y=\"0\" width=\"700px\" height=\"500px\"/><image xmlns=\"http://www.w3.org/2000/svg\" xlink:href=\"data:image/png;base64,iVBORw0KGgoAAAANSUhEUgAABXgAAAPoCAYAAABkvZZOAAAgAElEQVR4XuzYQQ0AAAwCseHf9HRc0ikgHS92jgABAgQIECBAgAABAgQIECBAgAABAgSSAkumFpoAAQIECBAgQIAAAQIECBAgQIAAAQIEzsCrBAQIECBAgAABAgQIECBAgAABAgQIEIgKGHijjxObAAECBAgQIECAAAECBAgQIECAAAECBl4dIECAAAECBAgQIECAAAECBAgQIECAQFTAwBt9nNgECBAgQIAAAQIECBAgQIAAAQIECBAw8OoAAQIECBAgQIAAAQIECBAgQIAAAQIEogIG3ujjxCZAgAABAgQIECBAgAABAgQIECBAgICBVwcIECBAgAABAgQIECBAgAABAgQIECAQFTDwRh8nNgECBAgQIECAAAECBAgQIECAAAECBAy8OkCAAAECBAgQIECAAAECBAgQIECAAIGogIE3+jixCRAgQIAAAQIECBAgQIAAAQIECBAgYODVAQIECBAgQIAAAQIECBAgQIAAAQIECEQFDLzRx4lNgAABAgQIECBAgAABAgQIECBAgAABA68OECBAgAABAgQIECBAgAABAgQIECBAICpg4I0+TmwCBAgQIECAAAECBAgQIECAAAECBAgYeHWAAAECBAgQIECAAAECBAgQIECAAAECUQEDb/RxYhMgQIAAAQIECBAgQIAAAQIECBAgQMDAqwMECBAgQIAAAQIECBAgQIAAAQIECBCIChh4o48TmwABAgQIECBAgAABAgQIECBAgAABAgZeHSBAgAABAgQIECBAgAABAgQIECBAgEBUwMAbfZzYBAgQIECAAAECBAgQIECAAAECBAgQMPDqAAECBAgQIECAAAECBAgQIECAAAECBKICBt7o48QmQIAAAQIECBAgQIAAAQIECBAgQICAgVcHCBAgQIAAAQIECBAgQIAAAQIECBAgEBUw8EYfJzYBAgQIECBAgAABAgQIECBAgAABAgQMvDpAgAABAgQIECBAgAABAgQIECBAgACBqICBN/o4sQkQIECAAAECBAgQIECAAAECBAgQIGDg1QECBAgQIECAAAECBAgQIECAAAECBAhEBQy80ceJTYAAAQIECBAgQIAAAQIECBAgQIAAAQOvDhAgQIAAAQIECBAgQIAAAQIECBAgQCAqYOCNPk5sAgQIECBAgAABAgQIECBAgAABAgQIGHh1gAABAgQIECBAgAABAgQIECBAgAABAlEBA2/0cWITIECAAAECBAgQIECAAAECBAgQIEDAwKsDBAgQIECAAAECBAgQIECAAAECBAgQiAoYeKOPE5sAAQIECBAgQIAAAQIECBAgQIAAAQIGXh0gQIAAAQIECBAgQIAAAQIECBAgQIBAVMDAG32c2AQIECBAgAABAgQIECBAgAABAgQIEDDw6gABAgQIECBAgAABAgQIECBAgAABAgSiAgbe6OPEJkCAAAECBAgQIECAAAECBAgQIECAgIFXBwgQIECAAAECBAgQIECAAAECBAgQIBAVMPBGHyc2AQIECBAgQIAAAQIECBAgQIAAAQIEDLw6QIAAAQIECBAgQIAAAQIECBAgQIAAgaiAgTf6OLEJECBAgAABAgQIECBAgAABAgQIECBg4NUBAgQIECBAgAABAgQIECBAgAABAgQIRAUMvNHHiU2AAAECBAgQIECAAAECBAgQIECAAAEDrw4QIECAAAECBAgQIECAAAECBAgQIEAgKmDgjT5ObAIECBAgQIAAAQIECBAgQIAAAQIECBh4dYAAAQIECBAgQIAAAQIECBAgQIAAAQJRAQNv9HFiEyBAgAABAgQIECBAgAABAgQIECBAwMCrAwQIECBAgAABAgQIECBAgAABAgQIEIgKGHijjxObAAECBAgQIECAAAECBAgQIECAAAECBl4dIECAAAECBAgQIECAAAECBAgQIECAQFTAwBt9nNgECBAgQIAAAQIECBAgQIAAAQIECBAw8OoAAQIECBAgQIAAAQIECBAgQIAAAQIEogIG3ujjxCZAgAABAgQIECBAgAABAgQIECBAgICBVwcIECBAgAABAgQIECBAgAABAgQIECAQFTDwRh8nNgECBAgQIECAAAECBAgQIECAAAECBAy8OkCAAAECBAgQIECAAAECBAgQIECAAIGogIE3+jixCRAgQIAAAQIECBAgQIAAAQIECBAgYODVAQIECBAgQIAAAQIECBAgQIAAAQIECEQFDLzRx4lNgAABAgQIECBAgAABAgQIECBAgAABA68OECBAgAABAgQIECBAgAABAgQIECBAICpg4I0+TmwCBAgQIECAAAECBAgQIECAAAECBAgYeHWAAAECBAgQIECAAAECBAgQIECAAAECUQEDb/RxYhMgQIAAAQIECBAgQIAAAQIECBAgQMDAqwMECBAgQIAAAQIECBAgQIAAAQIECBCIChh4o48TmwABAgQIECBAgAABAgQIECBAgAABAgZeHSBAgAABAgQIECBAgAABAgQIECBAgEBUwMAbfZzYBAgQIECAAAECBAgQIECAAAECBAgQMPDqAAECBAgQIECAAAECBAgQIECAAAECBKICBt7o48QmQIAAAQIECBAgQIAAAQIECBAgQICAgVcHCBAgQIAAAQIECBAgQIAAAQIECBAgEBUw8EYfJzYBAgQIECBAgAABAgQIECBAgAABAgQMvDpAgAABAgQIECBAgAABAgQIECBAgACBqICBN/o4sQkQIECAAAECBAgQIECAAAECBAgQIGDg1QECBAgQIECAAAECBAgQIECAAAECBAhEBQy80ceJTYAAAQIECBAgQIAAAQIECBAgQIAAAQOvDhAgQIAAAQIECBAgQIAAAQIECBAgQCAqYOCNPk5sAgQIECBAgAABAgQIECBAgAABAgQIGHh1gAABAgQIECBAgAABAgQIECBAgAABAlEBA2/0cWITIECAAAECBAgQIECAAAECBAgQIEDAwKsDBAgQIECAAAECBAgQIECAAAECBAgQiAoYeKOPE5sAAQIECBAgQIAAAQIECBAgQIAAAQIGXh0gQIAAAQIECBAgQIAAAQIECBAgQIBAVMDAG32c2AQIECBAgAABAgQIECBAgAABAgQIEDDw6gABAgQIECBAgAABAgQIECBAgAABAgSiAgbe6OPEJkCAAAECBAgQIECAAAECBAgQIECAgIFXBwgQIECAAAECBAgQIECAAAECBAgQIBAVMPBGHyc2AQIECBAgQIAAAQIECBAgQIAAAQIEDLw6QIAAAQIECBAgQIAAAQIECBAgQIAAgaiAgTf6OLEJECBAgAABAgQIECBAgAABAgQIECBg4NUBAgQIECBAgAABAgQIECBAgAABAgQIRAUMvNHHiU2AAAECBAgQIECAAAECBAgQIECAAAEDrw4QIECAAAECBAgQIECAAAECBAgQIEAgKmDgjT5ObAIECBAgQIAAAQIECBAgQIAAAQIECBh4dYAAAQIECBAgQIAAAQIECBAgQIAAAQJRAQNv9HFiEyBAgAABAgQIECBAgAABAgQIECBAwMCrAwQIECBAgAABAgQIECBAgAABAgQIEIgKGHijjxObAAECBAgQIECAAAECBAgQIECAAAECBl4dIECAAAECBAgQIECAAAECBAgQIECAQFTAwBt9nNgECBAgQIAAAQIECBAgQIAAAQIECBAw8OoAAQIECBAgQIAAAQIECBAgQIAAAQIEogIG3ujjxCZAgAABAgQIECBAgAABAgQIECBAgICBVwcIECBAgAABAgQIECBAgAABAgQIECAQFTDwRh8nNgECBAgQIECAAAECBAgQIECAAAECBAy8OkCAAAECBAgQIECAAAECBAgQIECAAIGogIE3+jixCRAgQIAAAQIECBAgQIAAAQIECBAgYODVAQIECBAgQIAAAQIECBAgQIAAAQIECEQFDLzRx4lNgAABAgQIECBAgAABAgQIECBAgAABA68OECBAgAABAgQIECBAgAABAgQIECBAICpg4I0+TmwCBAgQIECAAAECBAgQIECAAAECBAgYeHWAAAECBAgQIECAAAECBAgQIECAAAECUQEDb/RxYhMgQIAAAQIECBAgQIAAAQIECBAgQMDAqwMECBAgQIAAAQIECBAgQIAAAQIECBCIChh4o48TmwABAgQIECBAgAABAgQIECBAgAABAgZeHSBAgAABAgQIECBAgAABAgQIECBAgEBUwMAbfZzYBAgQIECAAAECBAgQIECAAAECBAgQMPDqAAECBAgQIECAAAECBAgQIECAAAECBKICBt7o48QmQIAAAQIECBAgQIAAAQIECBAgQICAgVcHCBAgQIAAAQIECBAgQIAAAQIECBAgEBUw8EYfJzYBAgQIECBAgAABAgQIECBAgAABAgQMvDpAgAABAgQIECBAgAABAgQIECBAgACBqICBN/o4sQkQIECAAAECBAgQIECAAAECBAgQIGDg1QECBAgQIECAAAECBAgQIECAAAECBAhEBQy80ceJTYAAAQIECBAgQIAAAQIECBAgQIAAAQOvDhAgQIAAAQIECBAgQIAAAQIECBAgQCAqYOCNPk5sAgQIECBAgAABAgQIECBAgAABAgQIGHh1gAABAgQIECBAgAABAgQIECBAgAABAlEBA2/0cWITIECAAAECBAgQIECAAAECBAgQIEDAwKsDBAgQIECAAAECBAgQIECAAAECBAgQiAoYeKOPE5sAAQIECBAgQIAAAQIECBAgQIAAAQIGXh0gQIAAAQIECBAgQIAAAQIECBAgQIBAVMDAG32c2AQIECBAgAABAgQIECBAgAABAgQIEDDw6gABAgQIECBAgAABAgQIECBAgAABAgSiAgbe6OPEJkCAAAECBAgQIECAAAECBAgQIECAgIFXBwgQIECAAAECBAgQIECAAAECBAgQIBAVMPBGHyc2AQIECBAgQIAAAQIECBAgQIAAAQIEDLw6QIAAAQIECBAgQIAAAQIECBAgQIAAgaiAgTf6OLEJECBAgAABAgQIECBAgAABAgQIECBg4NUBAgQIECBAgAABAgQIECBAgAABAgQIRAUMvNHHiU2AAAECBAgQIECAAAECBAgQIECAAAEDrw4QIECAAAECBAgQIECAAAECBAgQIEAgKmDgjT5ObAIECBAgQIAAAQIECBAgQIAAAQIECBh4dYAAAQIECBAgQIAAAQIECBAgQIAAAQJRAQNv9HFiEyBAgAABAgQIECBAgAABAgQIECBAwMCrAwQIECBAgAABAgQIECBAgAABAgQIEIgKGHijjxObAAECBAgQIECAAAECBAgQIECAAAECBl4dIECAAAECBAgQIECAAAECBAgQIECAQFTAwBt9nNgECBAgQIAAAQIECBAgQIAAAQIECBAw8OoAAQIECBAgQIAAAQIECBAgQIAAAQIEogIG3ujjxCZAgAABAgQIECBAgAABAgQIECBAgICBVwcIECBAgAABAgQIECBAgAABAgQIECAQFTDwRh8nNgECBAgQIECAAAECBAgQIECAAAECBAy8OkCAAAECBAgQIECAAAECBAgQIECAAIGogIE3+jixCRAgQIAAAQIECBAgQIAAAQIECBAgYODVAQIECBAgQIAAAQIECBAgQIAAAQIECEQFDLzRx4lNgAABAgQIECBAgAABAgQIECBAgAABA68OECBAgAABAgQIECBAgAABAgQIECBAICpg4I0+TmwCBAgQIECAAAECBAgQIECAAAECBAgYeHWAAAECBAgQIECAAAECBAgQIECAAAECUQEDb/RxYhMgQIAAAQIECBAgQIAAAQIECBAgQMDAqwMECBAgQIAAAQIECBAgQIAAAQIECBCIChh4o48TmwABAgQIECBAgAABAgQIECBAgAABAgZeHSBAgAABAgQIECBAgAABAgQIECBAgEBUwMAbfZzYBAgQIECAAAECBAgQIECAAAECBAgQMPDqAAECBAgQIECAAAECBAgQIECAAAECBKICBt7o48QmQIAAAQIECBAgQIAAAQIECBAgQICAgVcHCBAgQIAAAQIECBAgQIAAAQIECBAgEBUw8EYfJzYBAgQIECBAgAABAgQIECBAgAABAgQMvDpAgAABAgQIECBAgAABAgQIECBAgACBqICBN/o4sQkQIECAAAECBAgQIECAAAECBAgQIGDg1QECBAgQIECAAAECBAgQIECAAAECBAhEBQy80ceJTYAAAQIECBAgQIAAAQIECBAgQIAAAQOvDhAgQIAAAQIECBAgQIAAAQIECBAgQCAqYOCNPk5sAgQIECBAgAABAgQIECBAgAABAgQIGHh1gAABAgQIECBAgAABAgQIECBAgAABAlEBA2/0cWITIECAAAECBAgQIECAAAECBAgQIEDAwKsDBAgQIECAAAECBAgQIECAAAECBAgQiAoYeKOPE5sAAQIECBAgQIAAAQIECBAgQIAAAQIGXh0gQIAAAQIECBAgQIAAAQIECBAgQIBAVMDAG32c2AQIECBAgAABAgQIECBAgAABAgQIEDDw6gABAgQIECBAgAABAgQIECBAgAABAgSiAgbe6OPEJkCAAAECBAgQIECAAAECBAgQIECAgIFXBwgQIECAAAECBAgQIECAAAECBAgQIBAVMPBGHyc2AQIECBAgQIAAAQIECBAgQIAAAQIEDLw6QIAAAQIECBAgQIAAAQIECBAgQIAAgaiAgTf6OLEJECBAgAABAgQIECBAgAABAgQIECBg4NUBAgQIECBAgAABAgQIECBAgAABAgQIRAUMvNHHiU2AAAECBAgQIECAAAECBAgQIECAAAEDrw4QIECAAAECBAgQIECAAAECBAgQIEAgKmDgjT5ObAIECBAgQIAAAQIECBAgQIAAAQIECBh4dYAAAQIECBAgQIAAAQIECBAgQIAAAQJRAQNv9HFiEyBAgAABAgQIECBAgAABAgQIECBAwMCrAwQIECBAgAABAgQIECBAgAABAgQIEIgKGHijjxObAAECBAgQIECAAAECBAgQIECAAAECBl4dIECAAAECBAgQIECAAAECBAgQIECAQFTAwBt9nNgECBAgQIAAAQIECBAgQIAAAQIECBAw8OoAAQIECBAgQIAAAQIECBAgQIAAAQIEogIG3ujjxCZAgAABAgQIECBAgAABAgQIECBAgICBVwcIECBAgAABAgQIECBAgAABAgQIECAQFTDwRh8nNgECBAgQIECAAAECBAgQIECAAAECBAy8OkCAAAECBAgQIECAAAECBAgQIECAAIGogIE3+jixCRAgQIAAAQIECBAgQIAAAQIECBAgYODVAQIECBAgQIAAAQIECBAgQIAAAQIECEQFDLzRx4lNgAABAgQIECBAgAABAgQIECBAgAABA68OECBAgAABAgQIECBAgAABAgQIECBAICpg4I0+TmwCBAgQIECAAAECBAgQIECAAAECBAgYeHWAAAECBAgQIECAAAECBAgQIECAAAECUQEDb/RxYhMgQIAAAQIECBAgQIAAAQIECBAgQMDAqwMECBAgQIAAAQIECBAgQIAAAQIECBCIChh4o48TmwABAgQIECBAgAABAgQIECBAgAABAgZeHSBAgAABAgQIECBAgAABAgQIECBAgEBUwMAbfZzYBAgQIECAAAECBAgQIECAAAECBAgQMPDqAAECBAgQIECAAAECBAgQIECAAAECBKICBt7o48QmQIAAAQIECBAgQIAAAQIECBAgQICAgVcHCBAgQIAAAQIECBAgQIAAAQIECBAgEBUw8EYfJzYBAgQIECBAgAABAgQIECBAgAABAgQMvDpAgAABAgQIECBAgAABAgQIECBAgACBqICBN/o4sQkQIECAAAECBAgQIECAAAECBAgQIGDg1QECBAgQIECAAAECBAgQIECAAAECBAhEBQy80ceJTYAAAQIECBAgQIAAAQIECBAgQIAAAQOvDhAgQIAAAQIECBAgQIAAAQIECBAgQCAqYOCNPk5sAgQIECBAgAABAgQIECBAgAABAgQIGHh1gAABAgQIECBAgAABAgQIECBAgAABAlEBA2/0cWITIECAAAECBAgQIECAAAECBAgQIEDAwKsDBAgQIECAAAECBAgQIECAAAECBAgQiAoYeKOPE5sAAQIECBAgQIAAAQIECBAgQIAAAQIGXh0gQIAAAQIECBAgQIAAAQIECBAgQIBAVMDAG32c2AQIECBAgAABAgQIECBAgAABAgQIEDDw6gABAgQIECBAgAABAgQIECBAgAABAgSiAgbe6OPEJkCAAAECBAgQIECAAAECBAgQIECAgIFXBwgQIECAAAECBAgQIECAAAECBAgQIBAVMPBGHyc2AQIECBAgQIAAAQIECBAgQIAAAQIEDLw6QIAAAQIECBAgQIAAAQIECBAgQIAAgaiAgTf6OLEJECBAgAABAgQIECBAgAABAgQIECBg4NUBAgQIECBAgAABAgQIECBAgAABAgQIRAUMvNHHiU2AAAECBAgQIECAAAECBAgQIECAAAEDrw4QIECAAAECBAgQIECAAAECBAgQIEAgKmDgjT5ObAIECBAgQIAAAQIECBAgQIAAAQIECBh4dYAAAQIECBAgQIAAAQIECBAgQIAAAQJRAQNv9HFiEyBAgAABAgQIECBAgAABAgQIECBAwMCrAwQIECBAgAABAgQIECBAgAABAgQIEIgKGHijjxObAAECBAgQIECAAAECBAgQIECAAAECBl4dIECAAAECBAgQIECAAAECBAgQIECAQFTAwBt9nNgECBAgQIAAAQIECBAgQIAAAQIECBAw8OoAAQIECBAgQIAAAQIECBAgQIAAAQIEogIG3ujjxCZAgAABAgQIECBAgAABAgQIECBAgICBVwcIECBAgAABAgQIECBAgAABAgQIECAQFTDwRh8nNgECBAgQIECAAAECBAgQIECAAAECBAy8OkCAAAECBAgQIECAAAECBAgQIECAAIGogIE3+jixCRAgQIAAAQIECBAgQIAAAQIECBAgYODVAQIECBAgQIAAAQIECBAgQIAAAQIECEQFDLzRx4lNgAABAgQIECBAgAABAgQIECBAgAABA68OECBAgAABAgQIECBAgAABAgQIECBAICpg4I0+TmwCBAgQIECAAAECBAgQIECAAAECBAgYeHWAAAECBAgQIECAAAECBAgQIECAAAECUQEDb/RxYhMgQIAAAQIECBAgQIAAAQIECBAgQMDAqwMECBAgQIAAAQIECBAgQIAAAQIECBCIChh4o48TmwABAgQIECBAgAABAgQIECBAgAABAgZeHSBAgAABAgQIECBAgAABAgQIECBAgEBUwMAbfZzYBAgQIECAAAECBAgQIECAAAECBAgQMPDqAAECBAgQIECAAAECBAgQIECAAAECBKICBt7o48QmQIAAAQIECBAgQIAAAQIECBAgQICAgVcHCBAgQIAAAQIECBAgQIAAAQIECBAgEBUw8EYfJzYBAgQIECBAgAABAgQIECBAgAABAgQMvDpAgAABAgQIECBAgAABAgQIECBAgACBqICBN/o4sQkQIECAAAECBAgQIECAAAECBAgQIGDg1QECBAgQIECAAAECBAgQIECAAAECBAhEBQy80ceJTYAAAQIECBAgQIAAAQIECBAgQIAAAQOvDhAgQIAAAQIECBAgQIAAAQIECBAgQCAqYOCNPk5sAgQIECBAgAABAgQIECBAgAABAgQIGHh1gAABAgQIECBAgAABAgQIECBAgAABAlEBA2/0cWITIECAAAECBAgQIECAAAECBAgQIEDAwKsDBAgQIECAAAECBAgQIECAAAECBAgQiAoYeKOPE5sAAQIECBAgQIAAAQIECBAgQIAAAQIGXh0gQIAAAQIECBAgQIAAAQIECBAgQIBAVMDAG32c2AQIECBAgAABAgQIECBAgAABAgQIEDDw6gABAgQIECBAgAABAgQIECBAgAABAgSiAgbe6OPEJkCAAAECBAgQIECAAAECBAgQIECAgIFXBwgQIECAAAECBAgQIECAAAECBAgQIBAVMPBGHyc2AQIECBAgQIAAAQIECBAgQIAAAQIEDLw6QIAAAQIECBAgQIAAAQIECBAgQIAAgaiAgTf6OLEJECBAgAABAgQIECBAgAABAgQIECBg4NUBAgQIECBAgAABAgQIECBAgAABAgQIRAUMvNHHiU2AAAECBAgQIECAAAECBAgQIECAAAEDrw4QIECAAAECBAgQIECAAAECBAgQIEAgKmDgjT5ObAIECBAgQIAAAQIECBAgQIAAAQIECBh4dYAAAQIECBAgQIAAAQIECBAgQIAAAQJRAQNv9HFiEyBAgAABAgQIECBAgAABAgQIECBAwMCrAwQIECBAgAABAgQIECBAgAABAgQIEIgKGHijjxObAAECBAgQIECAAAECBAgQIECAAAECBl4dIECAAAECBAgQIECAAAECBAgQIECAQFTAwBt9nNgECBAgQIAAAQIECBAgQIAAAQIECBAw8OoAAQIECBAgQIAAAQIECBAgQIAAAQIEogIG3ujjxCZAgAABAgQIECBAgAABAgQIECBAgICBVwcIECBAgAABAgQIECBAgAABAgQIECAQFTDwRh8nNgECBAgQIECAAAECBAgQIECAAAECBAy8OkCAAAECBAgQIECAAAECBAgQIECAAIGogIE3+jixCRAgQIAAAQIECBAgQIAAAQIECBAgYODVAQIECBAgQIAAAQIECBAgQIAAAQIECEQFDLzRx4lNgAABAgQIECBAgAABAgQIECBAgAABA68OECBAgAABAgQIECBAgAABAgQIECBAICpg4I0+TmwCBAgQIECAAAECBAgQIECAAAECBAgYeHWAAAECBAgQIECAAAECBAgQIECAAAECUQEDb/RxYhMgQIAAAQIECBAgQIAAAQIECBAgQMDAqwMECItpQoUAACAASURBVBAgQIAAAQIECBAgQIAAAQIECBCIChh4o48TmwABAgQIECBAgAABAgQIECBAgAABAgZeHSBAgAABAgQIECBAgAABAgQIECBAgEBUwMAbfZzYBAgQIECAAAECBAgQIECAAAECBAgQMPDqAAECBAgQIECAAAECBAgQIECAAAECBKICBt7o48QmQIAAAQIECBAgQIAAAQIECBAgQICAgVcHCBAgQIAAAQIECBAgQIAAAQIECBAgEBUw8EYfJzYBAgQIECBAgAABAgQIECBAgAABAgQMvDpAgAABAgQIECBAgAABAgQIECBAgACBqICBN/o4sQkQIECAAAECBAgQIECAAAECBAgQIGDg1QECBAgQIECAAAECBAgQIECAAAECBAhEBQy80ceJTYAAAQIECBAgQIAAAQIECBAgQIAAAQOvDhAgQIAAAQIECBAgQIAAAQIECBAgQCAqYOCNPk5sAgQIECBAgAABAgQIECBAgAABAgQIGHh1gAABAgQIECBAgAABAgQIECBAgAABAlEBA2/0cWITIECAAAECBAgQIECAAAECBAgQIEDAwKsDBAgQIECAAAECBAgQIECAAAECBAgQiAoYeKOPE5sAAQIECBAgQIAAAQIECBAgQIAAAQIGXh0gQIAAAQIECBAgQIAAAQIECBAgQIBAVMDAG32c2AQIECBAgAABAgQIECBAgAABAgQIEDDw6gABAgQIECBAgAABAgQIECBAgAABAgSiAgbe6OPEJkCAAAECBAgQIECAAAECBAgQIECAgIFXBwgQIECAAAECBAgQIECAAAECBAgQIBAVMPBGHyc2AQIECBAgQIAAAQIECBAgQIAAAQIEDLw6QIAAAQIECBAgQIAAAQIECBAgQIAAgaiAgTf6OLEJECBAgAABAgQIECBAgAABAgQIECBg4NUBAgQIECBAgAABAgQIECBAgAABAgQIRAUMvNHHiU2AAAECBAgQIECAAAECBAgQIECAAAEDrw4QIECAAAECBAgQIECAAAECBAgQIEAgKmDgjT5ObAIECBAgQIAAAQIECBAgQIAAAQIECBh4dYAAAQIECBAgQIAAAQIECBAgQIAAAQJRAQNv9HFiEyBAgAABAgQIECBAgAABAgQIECBAwMCrAwQIECBAgAABAgQIECBAgAABAgQIEIgKGHijjxObAAECBAgQIECAAAECBAgQIECAAAECBl4dIECAAAECBAgQIECAAAECBAgQIECAQFTAwBt9nNgECBAgQIAAAQIECBAgQIAAAQIECBAw8OoAAQIECBAgQIAAAQIECBAgQIAAAQIEogIG3ujjxCZAgAABAgQIECBAgAABAgQIECBAgICBVwcIECBAgAABAgQIECBAgAABAgQIECAQFTDwRh8nNgECBAgQIECAAAECBAgQIECAAAECBAy8OkCAAAECBAgQIECAAAECBAgQIECAAIGogIE3+jixCRAgQIAAAQIECBAgQIAAAQIECBAgYODVAQIECBAgQIAAAQIECBAgQIAAAQIECEQFDLzRx4lNgAABAgQIECBAgAABAgQIECBAgAABA68OECBAgAABAgQIECBAgAABAgQIECBAICpg4I0+TmwCBAgQIECAAAECBAgQIECAAAECBAgYeHWAAAECBAgQIECAAAECBAgQIECAAAECUQEDb/RxYhMgQIAAAQIECBAgQIAAAQIECBAgQMDAqwMECBAgQIAAAQIECBAgQIAAAQIECBCIChh4o48TmwABAgQIECBAgAABAgQIECBAgAABAgZeHSBAgAABAgQIECBAgAABAgQIECBAgEBUwMAbfZzYBAgQIECAAAECBAgQIECAAAECBAgQMPDqAAECBAgQIECAAAECBAgQIECAAAECBKICBt7o48QmQIAAAQIECBAgQIAAAQIECBAgQICAgVcHCBAgQIAAAQIECBAgQIAAAQIECBAgEBUw8EYfJzYBAgQIECBAgAABAgQIECBAgAABAgQMvDpAgAABAgQIECBAgAABAgQIECBAgACBqICBN/o4sQkQIECAAAECBAgQIECAAAECBAgQIGDg1QECBAgQIECAAAECBAgQIECAAAECBAhEBQy80ceJTYAAAQIECBAgQIAAAQIECBAgQIAAAQOvDhAgQIAAAQIECBAgQIAAAQIECBAgQCAqYOCNPk5sAgQIECBAgAABAgQIECBAgAABAgQIGHh1gAABAgQIECBAgAABAgQIECBAgAABAlEBA2/0cWITIECAAAECBAgQIECAAAECBAgQIEDAwKsDBAgQIECAAAECBAgQIECAAAECBAgQiAoYeKOPE5sAAQIECBAgQIAAAQIECBAgQIAAAQIGXh0gQIAAAQIECBAgQIAAAQIECBAgQIBAVMDAG32c2AQIECBAgAABAgQIECBAgAABAgQIEDDw6gABAgQIECBAgAABAgQIECBAgAABAgSiAgbe6OPEJkCAAAECBAgQIECAAAECBAgQIECAgIFXBwgQIECAAAECBAgQIECAAAECBAgQIBAVMPBGHyc2AQIECBAgQIAAAQIECBAgQIAAAQIEDLw6QIAAAQIECBAgQIAAAQIECBAgQIAAgaiAgTf6OLEJECBAgAABAgQIECBAgAABAgQIECBg4NUBAgQIECBAgAABAgQIECBAgAABAgQIRAUMvNHHiU2AAAECBAgQIECAAAECBAgQIECAAAEDrw4QIECAAAECBAgQIECAAAECBAgQIEAgKmDgjT5ObAIECBAgQIAAAQIECBAgQIAAAQIECBh4dYAAAQIECBAgQIAAAQIECBAgQIAAAQJRAQNv9HFiEyBAgAABAgQIECBAgAABAgQIECBAwMCrAwQIECBAgAABAgQIECBAgAABAgQIEIgKGHijjxObAAECBAgQIECAAAECBAgQIECAAAECBl4dIECAAAECBAgQIECAAAECBAgQIECAQFTAwBt9nNgECBAgQIAAAQIECBAgQIAAAQIECBAw8OoAAQIECBAgQIAAAQIECBAgQIAAAQIEogIG3ujjxCZAgAABAgQIECBAgAABAgQIECBAgICBVwcIECBAgAABAgQIECBAgAABAgQIECAQFTDwRh8nNgECBAgQIECAAAECBAgQIECAAAECBAy8OkCAAAECBAgQIECAAAECBAgQIECAAIGogIE3+jixCRAgQIAAAQIECBAgQIAAAQIECBAgYODVAQIECBAgQIAAAQIECBAgQIAAAQIECEQFDLzRx4lNgAABAgQIECBAgAABAgQIECBAgAABA68OECBAgAABAgQIECBAgAABAgQIECBAICpg4I0+TmwCBAgQIECAAAECBAgQIECAAAECBAgYeHWAAAECBAgQIECAAAECBAgQIECAAAECUQEDb/RxYhMgQIAAAQIECBAgQIAAAQIECBAgQMDAqwMECBAgQIAAAQIECBAgQIAAAQIECBCIChh4o48TmwABAgQIECBAgAABAgQIECBAgAABAgZeHSBAgAABAgQIECBAgAABAgQIECBAgEBUwMAbfZzYBAgQIECAAAECBAgQIECAAAECBAgQMPDqAAECBAgQIECAAAECBAgQIECAAAECBKICBt7o48QmQIAAAQIECBAgQIAAAQIECBAgQICAgVcHCBAgQIAAAQIECBAgQIAAAQIECBAgEBUw8EYfJzYBAgQIECBAgAABAgQIECBAgAABAgQMvDpAgAABAgQIECBAgAABAgQIECBAgACBqICBN/o4sQkQIECAAAECBAgQIECAAAECBAgQIGDg1QECBAgQIECAAAECBAgQIECAAAECBAhEBQy80ceJTYAAAQIECBAgQIAAAQIECBAgQIAAAQOvDhAgQIAAAQIECBAgQIAAAQIECBAgQCAqYOCNPk5sAgQIECBAgAABAgQIECBAgAABAgQIGHh1gAABAgQIECBAgAABAgQIECBAgAABAlEBA2/0cWITIECAAAECBAgQIECAAAECBAgQIEDAwKsDBAgQIECAAAECBAgQIECAAAECBAgQiAoYeKOPE5sAAQIECBAgQIAAAQIECBAgQIAAAQIGXh0gQIAAAQIECBAgQIAAAQIECBAgQIBAVMDAG32c2AQIECBAgAABAgQIECBAgAABAgQIEDDw6gABAgQIECBAgAABAgQIECBAgAABAgSiAgbe6OPEJkCAAAECBAgQIECAAAECBAgQIECAgIFXBwgQIECAAAECBAgQIECAAAECBAgQIBAVMPBGHyc2AQIECBAgQIAAAQIECBAgQIAAAQIEDLw6QIAAAQIECBAgQIAAAQIECBAgQIAAgaiAgTf6OLEJECBAgAABAgQIECBAgAABAgQIECBg4NUBAgQIECBAgAABAgQIECBAgAABAgQIRAUMvNHHiU2AAAECBAgQIECAAAECBAgQIECAAAEDrw4QIECAAAECBAgQIECAAAECBAgQIEAgKmDgjT5ObAIECBAgQIAAAQIECBAgQIAAAQIECBh4dYAAAQIECBAgQIAAAQIECBAgQIAAAQJRAQNv9HFiEyBAgAABAgQIECBAgAABAgQIECBAwMCrAwQIECBAgAABAgQIECBAgAABAgQIEIgKGHijjxObAAECBAgQIECAAAECBAgQIECAAAECBl4dIECAAAECBAgQIECAAAECBAgQIECAQFTAwBt9nNgECBAgQIAAAQIECBAgQIAAAQIECBAw8OoAAQIECBAgQIAAAQIECBAgQIAAAQIEogIG3ujjxCZAgAABAgQIECBAgAABAgQIECBAgICBVwcIECBAgAABAgQIECBAgAABAgQIECAQFTDwRh8nNgECBAgQIECAAAECBAgQIECAAAECBAy8OkCAAAECBAgQIECAAAECBAgQIECAAIGogIE3+jixCRAgQIAAAQIECBAgQIAAAQIECBAgYODVAQIECBAgQIAAAQIECBAgQIAAAQIECEQFDLzRx4lNgAABAgQIECBAgAABAgQIECBAgAABA68OECBAgAABAgQIECBAgAABAgQIECBAICpg4I0+TmwCBAgQIECAAAECBAgQIECAAAECBAgYeHWAAAECBAgQIECAAAECBAgQIECAAAECUQEDb/RxYhMgQIAAAQIECBAgQIAAAQIECBAgQMDAqwMECBAgQIAAAQIECBAgQIAAAQIECBCIChh4o48TmwABAgQIECBAgAABAgQIECBAgAABAgZeHSBAgAABAgQIECBAgAABAgQIECBAgEBUwMAbfZzYBAgQIECAAAECBAgQIECAAAECBAgQMPDqAAECBAgQIECAAAECBAgQIECAAAECBKICBt7o48QmQIAAAQIECBAgQIAAAQIECBAgQICAgVcHCBAgQIAAAQIECBAgQIAAAQIECBAgEBUw8EYfJzYBAgQIECBAgAABAgQIECBAgAABAgQMvDpAgAABAgQIECBAgAABAgQIECBAgACBqICBN/o4sQkQIECAAAECBAgQIECAAAECBAgQIGDg1QECBAgQIECAAAECBAgQIECAAAECBAhEBQy80ceJTYAAAQIECBAgQIAAAQIECBAgQIAAAQOvDhAgQIAAAQIECBAgQIAAAQIECBAgQCAqYOCNPk5sAgQIECBAgAABAgQIECBAgAABAgQIGHh1gAABAgQIECBAgAABAgQIECBAgAABAlEBA2/0cWITIECAAAECBAgQIECAAAECBAgQIEDAwKsDBAgQIECAAAECBAgQIECAAAECBAgQiAoYeKOPE5sAAQIECBAgQIAAAQIECBAgQIAAAQIGXh0gQIAAAQIECBAgQIAAAQIECBAgQIBAVMDAG32c2AQIECBAgAABAgQIECBAgAABAgQIEDDw6gABAgQIECBAgAABAgQIECBAgAABAgSiAgbe6OPEJkCAAAECBAgQIECAAAECBAgQIECAgIFXBwgQIECAAAECBAgQIECAAAECBAgQIBAVMPBGHyc2AQIECBAgQIAAAQIECBAgQIAAAQIEDLw6QIAAAQIECBAgQIAAAQIECBAgQIAAgaiAgTf6OLEJECBAgAABAgQIECBAgAABAgQIECBg4NUBAgQIECBAgAABAgQIECBAgAABAgQIRAUMvNHHiU2AAAECBAgQIECAAAECBAgQIECAAAEDrw4QIECAAAECBAgQIECAAAECBAgQIEAgKmDgjT5ObAIECBAgQIAAAQIECBAgQIAAAQIECBh4dYAAAQIECBAgQIAAAQIECBAgQIAAAQJRAQNv9HFiEyBAgAABAgQIECBAgAABAgQIECBAwMCrAwQIECBAgAABAgQIECBAgAABAgQIEIgKGHijjxObAAECBAgQIECAAAECBAgQIECAAAECBl4dIECAAAECBAgQIECAAAECBAgQIECAQFTAwBt9nNgECBAgQIAAAQIECBAgQIAAAQIECBAw8OoAAQIECBAgQIAAAQIECBAgQIAAAQIEogIG3ujjxCZAgAABAgQIECBAgAABAgQIECBAgICBVwcIECBAgAABAgQIECBAgAABAgQIECAQFTDwRh8nNgECBAgQIECAAAECBAgQIECAAAECBAy8OkCAAAECBAgQIECAAAECBAgQIECAAIGogIE3+jixCRAgQIAAAQIECBAgQIAAAQIECBAgYODVAQIECBAgQIAAAQIECBAgQIAAAQIECEQFDLzRx4lNgAABAgQIECBAgAABAgQIECBAgAABA68OECBAgAABAgQIECBAgAABAgQIECBAICpg4I0+TmwCBAgQIECAAAECBAgQIECAAAECBAgYeHWAAAECBAgQIECAAAECBAgQIECAAAECUQEDb/RxYhMgQIAAAQIECBAgQIAAAQIECBAgQMDAqwMECBAgQIAAAQIECBAgQIAAAQIECBCIChh4o48TmwABAgQIECBAgAABAgQIECBAgAABAgZeHSBAgAABAgQIECBAgAABAgQIECBAgEBUwMAbfZzYBAgQIECAAAECBAgQIECAAAECBAgQMPDqAAECBAgQIECAAAECBAgQIECAAAECBKICBt7o48QmQIAAAQIECBAgQIAAAQIECBAgQICAgVcHCBAgQIAAAQIECBAgQIAAAQIECBAgEBUw8EYfJzYBAgQIECBAgAABAgQIECBAgAABAgQMvDpAgAABAgQIECBAgAABAgQIECBAgACBqICBN/o4sQkQIECAAAECBAgQIECAAAECBAgQIGDg1QECBAgQIECAAAECBAgQIECAAAECBAhEBQy80ceJTYAAAQIECBAgQIAAAQIECBAgQIAAAQOvDhAgQIAAAQIECBAgQIAAAQIECBAgQCAqYOCNPk5sAgQIECBAgAABAgQIECBAgAABAgQIGHh1gAABAgQIECBAgAABAgQIECBAgAABAlEBA2/0cWITIECAAAECBAgQIECAAAECBAgQIEDAwKsDBAgQIECAAAECBAgQIECAAAECBAgQiAoYeKOPE5sAAQIECBAgQIAAAQIECBAgQIAAAQIGXh0gQIAAAQIECBAgQIAAAQIECBAgQIBAVMDAG32c2AQIECBAgAABAgQIECBAgAABAgQIEDDw6gABAgQIECBAgAABAgQIECBAgAABAgSiAgbe6OPEJkCAAAECBAgQIECAAAECBAgQIECAgIFXBwgQIECAAAECBAgQIECAAAECBAgQIBAVMPBGHyc2AQIECBAgQIAAAQIECBAgQIAAAQIEDLw6QIAAAQIECBAgQIAAAQIECBAgQIAAgaiAgTf6OLEJECBAgAABAgQIECBAgAABAgQIECBg4NUBAgQIECBAgAABAgQIECBAgAABAgQIRAUMvNHHiU2AAAECBAgQIECAAAECBAgQIECAAAEDrw4QIECAAAECBAgQIECAAAECBAgQIEAgKmDgjT5ObAIECBAgQIAAAQIECBAgQIAAAQIECBh4dYAAAQIECBAgQIAAAQIECBAgQIAAAQJRAQNv9HFiEyBAgAABAgQIECBAgAABAgQIECBAwMCrAwQIECBAgAABAgQIECBAgAABAgQIEIgKGHijjxObAAECBAgQIECAAAECBAgQIECAAAECBl4dIECAAAECBAgQIECAAAECBAgQIECAQFTAwBt9nNgECBAgQIAAAQIECBAgQIAAAQIECBAw8OoAAQIECBAgQIAAAQIECBAgQIAAAQIEogIG3ujjxCZAgAABAgQIECBAgAABAgQIECBAgICBVwcIECBAgAABAgQIECBAgAABAgQIECAQFTDwRh8nNgECBAgQIECAAAECBAgQIECAAAECBAy8OkCAAAECBAgQIECAAAECBAgQIECAAIGogIE3+jixCRAgQIAAAQIECBAgQIAAAQIECBAgYODVAQIECBAgQIAAAQIECBAgQIAAAQIECEQFDLzRx4lNgAABAgQIECBAgAABAgQIECBAgAABA68OECBAgAABAgQIECBAgAABAgQIECBAICpg4I0+TmwCBAgQIECAAAECBAgQIECAAAECBAgYeHWAAAECBAgQIECAAAECBAgQIECAAAECUQEDb/RxYhMgQIAAAQIECBAgQIAAAQIECBAgQMDAqwMECBAgQIAAAQIECBAgQIAAAQIECBCIChh4o48TmwABAgQIECBAgAABAgQIECBAgAABAgZeHSBAgAABAgQIECBAgAABAgQIECBAgEBUwMAbfZzYBAgQIECAAAECBAgQIECAAAECBAgQMPDqAAECBAgQIECAAAECBAgQIECAAAECBKICBt7o48QmQIAAAQIECBAgQIAAAQIECBAgQICAgVcHCBAgQIAAAQIECBAgQIAAAQIECBAgEBUw8EYfJzYBAgQIECBAgAABAgQIECBAgAABAgQMvDpAgAABAgQIECBAgAABAgQIECBAgACBqICBN/o4sQkQIECAAAECBAgQIECAAAECBAgQIGDg1QECBAgQIECAAAECBAgQIECAAAECBAhEBQy80ceJTYAAAQIECBAgQIAAAQIECBAgQIAAAQOvDhAgQIAAAQIECBAgQIAAAQIECBAgQCAqYOCNPk5sAgQIECBAgAABAgQIECBAgAABAgQIGHh1gAABAgQIECBAgAABAgQIECBAgAABAlEBA2/0cWITIECAAAECBAgQIECAAAECBAgQIEDAwKsDBAgQIECAAAECBAgQIECAAAECBAgQiAoYeKOPE5sAAQIECBAgQIAAAQIECBAgQIAAAQIGXh0gQIAAAQIECBAgQIAAAQIECBAgQIBAVMDAG32c2AQIECBAgAABAgQIECBAgAABAgQIEDDw6gABAgQIECBAgAABAgQIECBAgAABAgSiAgbe6OPEJkCAAAECBAgQIECAAAECBAgQIECAgIFXBwgQIECAAAECBAgQIECAAAECBAgQIBAVMPBGHyc2AQIECBAgQIAAAQIECBAgQIAAAQIEDLw6QIAAAQIECBAgQIAAAQIECBAgQIAAgaiAgTf6OLEJECBAgAABAgQIECBAgAABAgQIECBg4NUBAgQIECBAgAABAgQIECBAgAABAgQIRAUMvNHHiU2AAAECBAgQIECAAAECBAgQIECAAAEDrw4QIECAAAECBAgQIECAAAECBAgQIEAgKmDgjT5ObAIECBAgQIAAAQIECBAgQIAAAQIECBh4dYAAAQIECBAgQIAAAQIECBAgQIAAAQJRAQNv9HFiEyBAgAABAgQIECBAgAABAgQIECBAwMCrAwQIECBAgAABAgQIECBAgAABAgQIEIgKGHijjxObAAECBAgQIECAAAECBAgQIECAAAECBl4dIECAAAECBAgQIECAAAECBAgQIECAQFTAwBt9nNgECBAgQIAAAQIECBAgQIAAAQIECBAw8OoAAQIECBAgQIAAAQIECBAgQIAAAQIEogIG3ujjxCZAgAABAgQIECBAgAABAgQIECBAgICBVwcIECBAgAABAgQIECBAgAABAgQIECAQFTDwRh8nNgECBAgQIECAAAECBAgQIECAAAECBAy8OkCAAAECBAgQIECAAAECBAgQIECAAIGogIE3+jixCRAgQIAAAQIECBAgQIAAAQIECBAgYODVAQIECBAgQIAAAQIECBAgQIAAAQIECEQFDLzRx4lNgAABAgQIECBAgAABAgQIECBAgAABA68OECBAgAABAgQIECBAgAABAgQIECBAICpg4I0+TmwCBAgQIECAAAECBAgQIECAAAECBAgYeHWAAAECBAgQIECAAAECBAgQIECAAAECUQEDb/RxYhMgQIAAAQIECBAgQIAAAQIECBAgQMDAqwMECBAgQIAAAQIECBAgQIAAAQIECBCIChh4o48TmwABAgQIECBAgAABAgQIECBAgAABAgZeHSBAgAABAgQIECBAgAABAgQIECBAgEBUwMAbfZzYBAgQIECAAAECBAgQIECAAAECBAgQMPDqAAECBAgQIECAAAECBAgQIECAAAECBKICBt7o48QmQIAAAQIECBAgQIAAAQIECBAgQICAgVcHCBAgQIAAAQIECBAgQIAAAQIECBAgEBUw8EYfJzYBAgQIECBAgAABAgQIECBAgAABAgQMvDpAgAABAgQIECBAgAABAgQIECBAgACBqICBN/o4sQkQIECAAAECBAgQIECAAAECBAgQIGDg1QECBAgQIECAAAECBAgQIECAAAECBAhEBQy80ceJTYAAAQIECBAgQIAAAQIECBAgQIAAAQOvDhAgQIAAAQIECBAgQIAAAQIECBAgQCAqYOCNPk5sAgQIECBAgAABAgQIECBAgAABAgQIGHh1gAABAgQIECBAgAABAgQIECBAgAABAlEBA2/0cWITIECAAAECBAgQIECAAAECBAgQIEDAwKsDBAgQIECAAAECBAgQIECAAAECBAgQiAoYeKOPE5sAAQIECBAgQIAAAQIECBAgQIAAAQIGXh0gQIAAAQIECBAgQIAAAQIECBAgQIBAVMDAG32cEmx79AAAIABJREFU2AQIECBAgAABAgQIECBAgAABAgQIEDDw6gABAgQIECBAgAABAgQIECBAgAABAgSiAgbe6OPEJkCAAAECBAgQIECAAAECBAgQIECAgIFXBwgQIECAAAECBAgQIECAAAECBAgQIBAVMPBGHyc2AQIECBAgQIAAAQIECBAgQIAAAQIEDLw6QIAAAQIECBAgQIAAAQIECBAgQIAAgaiAgTf6OLEJECBAgAABAgQIECBAgAABAgQIECBg4NUBAgQIECBAgAABAgQIECBAgAABAgQIRAUMvNHHiU2AAAECBAgQIECAAAECBAgQIECAAAEDrw4QIECAAAECBAgQIECAAAECBAgQIEAgKmDgjT5ObAIECBAgQIAAAQIECBAgQIAAAQIECBh4dYAAAQIECBAgQIAAAQIECBAgQIAAAQJRAQNv9HFiEyBAgAABAgQIECBAgAABAgQIECBAwMCrAwQIECBAgAABAgQIECBAgAABAgQIEIgKGHijjxObAAECBAgQIECAAAECBAgQIECAAAECBl4dIECAAAECBAgQIECAAAECBAgQIECAQFTAwBt9nNgECBAgQIAAAQIECBAgQIAAAQIECBAw8OoAAQIECBAgQIAAAQIECBAgQIAAAQIEogIG3ujjxCZAgAABAgQIECBAgAABAgQIECBAgICBVwcIECBAgAABAgQIECBAgAABAgQIECAQFTDwRh8nNgECBAgQIECAAAECBAgQIECAAAECBAy8OkCAAAECBAgQIECAAAECBAgQIECAAIGogIE3+jixCRAgQIAAAQIECBAgQIAAAQIECBAgYODVAQIECBAgQIAAAQIECBAgQIAAAQIECEQFDLzRx4lNgAABAgQIECBAgAABAgQIECBAgAABA68OECBAgAABAgQIECBAgAABAgQIECBAICpg4I0+TmwCBAgQIECAAAECBAgQIECAAAECBAgYeHWAAAECBAgQIECAAAECBAgQIECAAAECUQEDb/RxYhMgQIAAAQIECBAgQIAAAQIECBAgQMDAqwMECBAgQIAAAQIECBAgQIAAAQIECBCIChh4o48TmwABAgQIECBAgAABAgQIECBAgAABAgZeHSBAgAABAgQIECBAgAABAgQIECBAgEBUwMAbfZzYBAgQIECAAAECBAgQIECAAAECBAgQMPDqAAECBAgQIECAAAECBAgQIECAAAECBKICBt7o48QmQIAAAQIECBAgQIAAAQIECBAgQICAgVcHCBAgQIAAAQIECBAgQIAAAQIECBAgEBUw8EYfJzYBAgQIECBAgAABAgQIECBAgAABAgQMvDpAgAABAgQIECBAgAABAgQIECBAgACBqICBN/o4sQkQIECAAAECBAgQIECAAAECBAgQIGDg1QECBAgQIECAAAECBAgQIECAAAECBAhEBQy80ceJTYAAAQIECBAgQIAAAQIECBAgQIAAAQOvDhAgQIAAAQIECBAgQIAAAQIECBAgQCAqYOCNPk5sAgQIECBAgAABAgQIECBAgAABAgQIGHh1gAABAgQIECBAgAABAgQIECBAgAABAlEBA2/0cWITIECAAAECBAgQIECAAAECBAgQIEDAwKsDBAgQIECAAAECBAgQIECAAAECBAgQiAoYeKOPE5sAAQIECBAgQIAAAQIECBAgQIAAAQIGXh0gQIAAAQIECBAgQIAAAQIECBAgQIBAVMDAG32c2AQIECBAgAABAgQIECBAgAABAgQIEDDw6gABAgQIECBAgAABAgQIECBAgAABAgSiAgbe6OPEJkCAAAECBAgQIECAAAECBAgQIECAgIFXBwgQIECAAAECBAgQIECAAAECBAgQIBAVMPBGHyc2AQIECBAgQIAAAQIECBAgQIAAAQIEDLw6QIAAAQIECBAgQIAAAQIECBAgQIAAgaiAgTf6OLEJECBAgAABAgQIECBAgAABAgQIECBg4NUBAgQIECBAgAABAgQIECBAgAABAgQIRAUMvNHHiU2AAAECBAgQIECAAAECBAgQIECAAAEDrw4QIECAAAECBAgQIECAAAECBAgQIEAgKmDgjT5ObAIECBAgQIAAAQIECBAgQIAAAQIECBh4dYAAAQIECBAgQIAAAQIECBAgQIAAAQJRAQNv9HFiEyBAgAABAgQIECBAgAABAgQIECBAwMCrAwQIECBAgAABAgQIECBAgAABAgQIEIgKGHijjxObAAECBAgQIECAAAECBAgQIECAAAECBl4dIECAAAECBAgQIECAAAECBAgQIECAQFTAwBt9nNgECBAgQIAAAQIECBAgQIAAAQIECBAw8OoAAQIECBAgQIAAAQIECBAgQIAAAQIEogIG3ujjxCZAgAABAgQIECBAgAABAgQIECBAgICBVwcIECBAgAABAgQIECBAgAABAgQIECAQFTDwRh8nNgECBAgQIECAAAECBAgQIECAAAECBAy8OkCAAAECBAgQIECAAAECBAgQIECAAIGogIE3+jixCRAgQIAAAQIECBAgQIAAAQIECBAgYODVAQIECBAgQIAAAQIECBAgQIAAAQIECEQFDLzRx4lNgAABAgQIECBAgAABAgQIECBAgAABA68OECBAgAABAgQIECBAgAABAgQIECBAICpg4I0+TmwCBAgQIECAAAECBAgQIECAAAECBAgYeHWAAAECBAgQIECAAAECBAgQIECAAAECUQEDb/RxYhMgQIAAAQIECBAgQIAAAQIECBAgQMDAqwMECBAgQIAAAQIECBAgQIAAAQIECBCIChh4o48TmwABAgQIECBAgAABAgQIECBAgAABAgZeHSBAgAABAgQIECBAgAABAgQIECBAgEBUwMAbfZzYBAgQIECAAAECBAgQIECAAAECBAgQMPDqAAECBAgQIECAAAECBAgQIECAAAECBKICBt7o48QmQIAAAQIECBAgQIAAAQIECBAgQICAgVcHCBAgQIAAAQIECBAgQIAAAQIECBAgEBUw8EYfJzYBAgQIECBAgAABAgQIECBAgAABAgQMvDpAgAABAgQIECBAgAABAgQIECBAgACBqICBN/o4sQkQIECAAAECBAgQIECAAAECBAgQIGDg1QECBAgQIECAAAECBAgQIECAAAECBAhEBQy80ceJTYAAAQIECBAgQIAAAQIECBAgQIAAAQOvDhAgQIAAAQIECBAgQIAAAQIECBAgQCAqYOCNPk5sAgQIECBAgAABAgQIECBAgAABAgQIGHh1gAABAgQIECBAgAABAgQIECBAgAABAlEBA2/0cWITIECAAAECBAgQIECAAAECBAgQIEDAwKsDBAgQIECAAAECBAgQIECAAAECBAgQiAoYeKOPE5sAAQIECBAgQIAAAQIECBAgQIAAAQIGXh0gQIAAAQIECBAgQIAAAQIECBAgQIBAVMDAG32c2AQIECBAgAABAgQIECBAgAABAgQIEDDw6gABAgQIECBAgAABAgQIECBAgAABAgSiAgbe6OPEJkCAAAECBAgQIECAAAECBAgQIECAgIFXBwgQIECAAAECBAgQIECAAAECBAgQIBAVMPBGHyc2AQIECBAgQIAAAQIECBAgQIAAAQIEDLw6QIAAAQIECBAgQIAAAQIECBAgQIAAgaiAgTf6OLEJECBAgAABAgQIECBAgAABAgQIECBg4NUBAgQIECBAgAABAgQIECBAgAABAgQIRAUMvNHHiU2AAAECBAgQIECAAAECBAgQIECAAAEDrw4QIECAAAECBAgQIECAAAECBAgQIEAgKmDgjT5ObAIECBAgQIAAAQIECBAgQIAAAQIECBh4dYAAAQIECBAgQIAAAQIECBAgQIAAAQJRAQNv9HFiEyBAgAABAgQIECBAgAABAgQIECBAwMCrAwQIECBAgAABAgQIECBAgAABAgQIEIgKGHijjxObAAECBAgQIECAAAECBAgQIECAAAECBl4dIECAAAECBAgQIECAAAECBAgQIECAQFTAwBt9nNgECBAgQIAAAQIECBAgQIAAAQIECBAw8OoAAQIECBAgQIAAAQIECBAgQIAAAQIEogIG3ujjxCZAgAABAgQIECBAgAABAgQIECBAgICBVwcIECBAgAABAgQIECBAgAABAgQIECAQFTDwRh8nNgECBAgQIECAAAECBAgQIECAAAECBAy8OkCAAAECBAgQIECAAAECBAgQIECAAIGogIE3+jixCRAgQIAAAQIECBAgQIAAAQIECBAgYODVAQIECBAgQIAAAQIECBAgQIAAAQIECEQFDLzRx4lNgAABAgQIECBAgAABAgQIECBAgAABA68OECBAgAABAgQIECBAgAABAgQIECBAICpg4I0+TmwCBAgQIECAAAECBAgQIECAAAECBAgYeHWAAAECBAgQIECAAAECBAgQIECAAAECUQEDb/RxYhMgQIAAAQIECBAgQIAAAQIECBAgQMDAqwMECBAgQIAAAQIECBAgQIAAAQIECBCIChh4o48TmwABAgQIECBAgAABAgQIECBAgAABAgZeHSBAgAABAgQIECBAgAABAgQIECBAgEBUwMAbfZzYBAgQIECAAAECBAgQIECAAAECBAgQMPDqAAECBAgQIECAAAECBAgQIECAAAECBKICBt7o48QmQIAAAQIECBAgQIAAAQIECBAgQICAgVcHCBAgQIAAAQIECHw7dkwDAACAMMy/6+lYUgekcEGAAAECBAgQIECAwFTAwTstTmwCBAgQIECAAAECBAgQIECAAAECBAg4eG2AAAECBAgQIECAAAECBAgQIECAAAECUwEH77Q4sQkQIECAAAECBAgQIECAAAECBAgQIODgtQECBAgQIECAAAECBAgQIECAAAECBAhMBRy80+LEJkCAAAECBAgQIECAAAECBAgQIECAgIPXBggQIECAAAECBAgQIECAAAECBAgQIDAVcPBOixObAAECBAgQIECAAAECBAgQIECAAAECDl4bIECAAAECBAgQIECAAAECBAgQIECAwFTAwTstTmwCBAgQIECAAAECBAgQIECAAAECBAg4eG2AAAECBAgQIECAAAECBAgQIECAAAECUwEH77Q4sQkQIECAAAECBAgQIECAAAECBAgQIODgtQECBAgQIECAAAECBAgQIECAAAECBAhMBRy80+LEJkCAAAECBAgQIECAAAECBAgQIECAgIPXBggQIECAAAECBAgQIECAAAECBAgQIDAVcPBOixObAAECBAgQIECAAAECBAgQIECAAAECDl4bIECAAAECBAgQIECAAAECBAgQIECAwFTAwTstTmwCBAgQIECAAAECBAgQIECAAAECBAg4eG2AAAECBAgQIECAAAECBAgQIECAAAECUwEH77Q4sQkQIECAAAECBAgQIECAAAECBAgQIODgtQECBAgQIECAAAECBAgQIECAAAECBAhMBRy80+LEJkCAAAECBAgQIECAAAECBAgQIECAgIPXBggQIECAAAECBAgQIECAAAECBAgQIDAVcPBOixObAAECBAgQIECAAAECBAgQIECAAAECDl4bIECAAAECBAgQIECAAAECBAgQIECAwFTAwTstTmwCBAgQIECAAAECBAgQIECAAAECBAg4eG2AAAECBAgQIECAAAECBAgQIECAAAECUwEH77Q4sQkQIECAAAECBAgQIECAAAECBAgQIODgtQECBAgQIECAAAECBAgQIECAAAECBAhMBRy80+LEJkCAAAECBAgQIECAAAECBAgQIECAgIPXBggQIECAAAECBAgQIECAAAECBAgQIDAVcPBOixObAAECBAgQIECAAAECBAgQIECAAAECDl4bIECAAAECBAgQIECAAAECBAgQIECAwFTAwTstTmwCBAgQIECAAAECBAgQIECAAAECBAg4eG2AAAECBAgQIECAAAECBAgQIECAAAECUwEH77Q4sQkQIECAAAECBAgQIECAAAECBAgQIODgtQECBAgQIECAAAECBAgQIECAAAECBAhMBRy80+LEJkCAAAECBAgQIECAAAECBAgQIECAgIPXBggQIECAAAECBAgQIECAAAECBAgQIDAVcPBOixObAAECBAgQIECAAAECBAgQIECAAAECDl4bIECAAAECBAgQIECAAAECBAgQIECAwFTAwTstTmwCBAgQIECAAAECBAgQIECAAAECBAg4eG2AAAECBAgQIECAAAECBAgQIECAAAECUwEH77Q4sQkQIECAAAECBAgQIECAAAECBAgQIODgtQECBAgQIECAAAECBAgQIECAAAECBAhMBRy80+LEJkCAAAECBAgQIECAAAECBAgQIECAgIPXBggQIECAAAECBAgQIECAAAECBAgQIDAVcPBOixObAAECBAgQIECAAAECBAgQIECAAAECDl4bIECAAAECBAgQIECAAAECBAgQIECAwFTAwTstTmwCBAgQIECAAAECBAgQIECAAAECBAg4eG2AAAECBAgQIECAAAECBAgQIECAAAECUwEH77Q4sQkQIECAAAECBAgQIECAAAECBAgQIODgtQECBAgQIECAAAECBAgQIECAAAECBAhMBRy80+LEJkCAAAECBAgQIECAAAECBAgQIECAgIPXBggQIECAAAECBAgQIECAAAECBAgQIDAVcPBOixObAAECBAgQIECAAAECBAgQIECAAAECDl4bIECAAAECBAgQIECAAAECBAgQIECAwFTAwTstTmwCBAgQIECAAAECBAgQIECAAAECBAg4eG2AAAECBAgQIECAAAECBAgQIECAAAECUwEH77Q4sQkQIECAAAECBAgQIECAAAECBAgQIODgtQECBAgQIECAAAECBAgQIECAAAECBAhMBRy80+LEJkCAAAECBAgQIECAAAECBAgQIECAgIPXBggQIECAAAECBAgQIECAAAECBAgQIDAVcPBOixObAAECBAgQIECAAAECBAgQIECAAAECDl4bIECAAAECBAgQIECAAAECBAgQIECAwFTAwTstTmwCBAgQIECAAAECBAgQIECAAAECBAg4eG2AAAECBAgQIECAAAECBAgQIECAAAECUwEH77Q4sQkQIECAAAECBAgQIECAAAECBAgQIODgtQECBAgQIECAAAECBAgQIECAAAECBAhMBRy80+LEJkCAAAECBAgQIECAAAECBAgQIECAgIPXBggQIECAAAECBAgQIECAAAECBAgQIDAVcPBOixObAAECBAgQIECAAAECBAgQIECAAAECDl4bIECAAAECBAgQIECAAAECBAgQIECAwFTAwTstTmwCBAgQIECAAAECBAgQIECAAAECBAg4eG2AAAECBAgQIECAAAECBAgQIECAAAECUwEH77Q4sQkQIECAAAECBAgQIECAAAECBAgQIODgtQECBAgQIECAAAECBAgQIECAAAECBAhMBRy80+LEJkCAAAECBAgQIECAAAECBAgQIECAgIPXBggQIECAAAECBAgQIECAAAECBAgQIDAVcPBOixObAAECBAgQIECAAAECBAgQIECAAAECDl4bIECAAAECBAgQIECAAAECBAgQIECAwFTAwTstTmwCBAgQIECAAAECBAgQIECAAAECBAg4eG2AAAECBAgQIECAAAECBAgQIECAAAECUwEH77Q4sQkQIECAAAECBAgQIECAAAECBAgQIODgtQECBAgQIECAAAECBAgQIECAAAECBAhMBRy80+LEJkCAAAECBAgQIECAAAECBAgQIECAgIPXBggQIECAAAECBAgQIECAAAECBAgQIDAVcPBOixObAAECBAgQIECAAAECBAgQIECAAAECDl4bIECAAAECBAgQIECAAAECBAgQIECAwFTAwTstTmwCBAgQIECAAAECBAgQIECAAAECBAg4eG2AAAECBAgQIECAAAECBAgQIECAAAECUwEH77Q4sQkQIECAAAECBAgQIECAAAECBAgQIODgtQECBAgQIECAAAECBAgQIECAAAECBAhMBRy80+LEJkCAAAECBAgQIECAAAECBAgQIECAgIPXBggQIECAAAECBAgQIECAAAECBAgQIDAVcPBOixObAAECBAgQIECAAAECBAgQIECAAAECDl4bIECAAAECBAgQIECAAAECBAgQIECAwFTAwTstTmwCBAgQIECAAAECBAgQIECAAAECBAg4eG2AAAECBAgQIECAAAECBAgQIECAAAECUwEH77Q4sQkQIECAAAECBAgQIECAAAECBAgQIODgtQECBAgQIECAAAECBAgQIECAAAECBAhMBRy80+LEJkCAAAECBAgQIECAAAECBAgQIECAgIPXBggQIECAAAECBAgQIECAAAECBAgQIDAVcPBOixObAAECBAgQIECAAAECBAgQIECAAAECDl4bIECAAAECBAgQIECAAAECBAgQIECAwFTAwTstTmwCBAgQIECAAAECBAgQIECAAAECBAg4eG2AAAECBAgQIECAAAECBAgQIECAAAECUwEH77Q4sQkQIECAAAECBAgQIECAAAECBAgQIODgtQECBAgQIECAAAECBAgQIECAAAECBAhMBRy80+LEJkCAAAECBAgQIECAAAECBAgQIECAgIPXBggQIECAAAECBAgQIECAAAECBAgQIDAVcPBOixObAAECBAgQIECAAAECBAgQIECAAAECDl4bIECAAAECBAgQIECAAAECBAgQIECAwFTAwTstTmwCBAgQIECAAAECBAgQIECAAAECBAg4eG2AAAECBAgQIECAAAECBAgQIECAAAECUwEH77Q4sQkQIECAAAECBAgQIECAAAECBAgQIODgtQECBAgQIECAAAECBAgQIECAAAECBAhMBRy80+LEJkCAAAECBAgQIECAAAECBAgQIECAgIPXBggQIECAAAECBAgQIECAAAECBAgQIDAVcPBOixObAAECBAgQIECAAAECBAgQIECAAAECDl4bIECAAAECBAgQIECAAAECBAgQIECAwFTAwTstTmwCBAgQIECAAAECBAgQIECAAAECBAg4eG2AAAECBAgQIECAAAECBAgQIECAAAECUwEH77Q4sQkQIECAAAECBAgQIECAAAECBAgQIODgtQECBAgQIECAAAECBAgQIECAAAECBAhMBRy80+LEJkCAAAECBAgQIECAAAECBAgQIECAgIPXBggQIECAAAECBAgQIECAAAECBAgQIDAVcPBOixObAAECBAgQIECAAAECBAgQIECAAAECDl4bIECAAAECBAgQIECAAAECBAgQIECAwFTAwTstTmwCBAgQIECAAAECBAgQIECAAAECBAg4eG2AAAECBAgQIECAAAECBAgQIECAAAECUwEH77Q4sQkQIECAAAECBAgQIECAAAECBAgQIODgtQECBAgQIECAAAECBAgQIECAAAECBAhMBRy80+LEJkCAAAECBAgQIECAAAECBAgQIECAgIPXBggQIECAAAECBAgQIECAAAECBAgQIDAVcPBOixObAAECBAgQIECAAAECBAgQIECAAAECDl4bIECAAAECBAgQIECAAAECBAgQIECAwFTAwTstTmwCBAgQIECAAAECBAgQIECAAAECBAg4eG2AAAECBAgQIECAAAECBAgQIECAAAECUwEH77Q4sQkQIECAAAECBAgQIECAAAECBAgQIODgtQECBAgQIECAAAECBAgQIECAAAECBAhMBRy80+LEJkCAAAECBAgQIECAAAECBAgQIECAgIPXBggQIECAAAECBAgQIECAAAECBAgQIDAVcPBOixObAAECBAgQIECAAAECBAgQIECAAAECDl4bIECAAAECBAgQIECAAAECBAgQIECAwFTAwTstTmwCBAgQIECAAAECBAgQIECAAAECBAg4eG2AAAECBAgQIECAAAECBAgQIECAAAECUwEH77Q4sQkQIECAAAECBAgQIECAAAECBAgQIODgtQECBAgQIECAAAECBAgQIECAAAECBAhMBRy80+LEJkCAAAECBAgQIECAAAECBAgQIECAgIPXBggQIECAAAECBAgQIECAAAECBAgQIDAVcPBOixObAAECBAgQIECAAAECBAgQIECAAAECDl4bIECAAAECBAgQIECAAAECBAgQIECAwFTAwTstTmwCBAgQIECAAAECBAgQIECAAAECBAg4eG2AAAECBAgQIECAAAECBAgQIECAAAECUwEH77Q4sQkQIECAAAECBAgQIECAAAECBAgQIODgtQECBAgQIECAAAECBAgQIECAAAECBAhMBRy80+LEJkCAAAECBAgQIECAAAECBAgQIECAgIPXBggQIECAAAECBAgQIECAAAECBAgQIDAVcPBOixObAAECBAgQIECAAAECBAgQIECAAAECDl4bIECAAAECBAgQIECAAAECBAgQIECAwFTAwTstTmwCBAgQIECAAAECBAgQIECAAAECBAg4eG2AAAECBAgQIECAAAECBAgQIECAAAECUwEH77Q4sQkQIECAAAECBAgQIECAAAECBAgQIODgtQECBAgQIECAAAECBAgQIECAAAECBAhMBRy80+LEJkCAAAECBAgQIECAAAECBAgQIECAgIPXBggQIECAAAECBAgQIECAAAECBAgQIDAVcPBOixObAAECBAgQIECAAAECBAgQIECAAAECDl4bIECAAAECBAgQIECAAAECBAgQIECAwFTAwTstTmwCBAgQIECAAAECBAgQIECAAAECBAg4eG2AAAECBAgQIECAAAECBAgQIECAAAECUwEH77Q4sQkQIECAAAECBAgQIECAAAECBAgQIODgtQECBAgQIECAAAECBAgQIECAAAECBAhMBRy80+LEJkCAAAECBAgQIECAAAECBAgQIECAgIPXBggQIECAAAECBAgQIECAAAECBAgQIDAVcPBOixObAAECBAgQIECAAAECBAgQIEAiXzwpAAAIW0lEQVSAAAECDl4bIECAAAECBAgQIECAAAECBAgQIECAwFTAwTstTmwCBAgQIECAAAECBAgQIECAAAECBAg4eG2AAAECBAgQIECAAAECBAgQIECAAAECUwEH77Q4sQkQIECAAAECBAgQIECAAAECBAgQIODgtQECBAgQIECAAAECBAgQIECAAAECBAhMBRy80+LEJkCAAAECBAgQIECAAAECBAgQIECAgIPXBggQIECAAAECBAgQIECAAAECBAgQIDAVcPBOixObAAECBAgQIECAAAECBAgQIECAAAECDl4bIECAAAECBAgQIECAAAECBAgQIECAwFTAwTstTmwCBAgQIECAAAECBAgQIECAAAECBAg4eG2AAAECBAgQIECAAAECBAgQIECAAAECUwEH77Q4sQkQIECAAAECBAgQIECAAAECBAgQIODgtQECBAgQIECAAAECBAgQIECAAAECBAhMBRy80+LEJkCAAAECBAgQIECAAAECBAgQIECAgIPXBggQIECAAAECBAgQIECAAAECBAgQIDAVcPBOixObAAECBAgQIECAAAECBAgQIECAAAECDl4bIECAAAECBAgQIECAAAECBAgQIECAwFTAwTstTmwCBAgQIECAAAECBAgQIECAAAECBAg4eG2AAAECBAgQIECAAAECBAgQIECAAAECUwEH77Q4sQkQIECAAAECBAgQIECAAAECBAgQIODgtQECBAgQIECAAAECBAgQIECAAAECBAhMBRy80+LEJkCAAAECBAgQIECAAAECBAgQIECAgIPXBggQIECAAAECBAgQIECAAAECBAgQIDAVcPBOixObAAECBAgQIECAAAECBAgQIECAAAECDl4bIECAAAECBAgQIECAAAECBAgQIECAwFTAwTstTmwCBAgQIECAAAECBAgQIECAAAECBAg4eG2AAAECBAgQIECAAAECBAgQIECAAAECUwEH77Q4sQkQIECAAAECBAgQIECAAAECBAgQIODgtQECBAgQIECAAAECBAgQIECAAAECBAhMBRy80+LEJkCAAAECBAgQIECAAAECBAgQIECAgIPXBggQIECAAAECBAgQIECAAAECBAgQIDAVcPBOixObAAECBAgQIECAAAECBAgQIECAAAECDl4bIECAAAECBAgQIECAAAECBAgQIECAwFTAwTstTmwCBAgQIECAAAECBAgQIECAAAECBAg4eG2AAAECBAgQIECAAAECBAgQIECAAAECUwEH77Q4sQkQIECAAAECBAgQIECAAAECBAgQIODgtQECBAgQIECAAAECBAgQIECAAAECBAhMBRy80+LEJkCAAAECBAgQIECAAAECBAgQIECAgIPXBggQIECAAAECBAgQIECAAAECBAgQIDAVcPBOixObAAECBAgQIECAAAECBAgQIECAAAECDl4bIECAAAECBAgQIECAAAECBAgQIECAwFTAwTstTmwCBAgQIECAAAECBAgQIECAAAECBAg4eG2AAAECBAgQIECAAAECBAgQIECAAAECUwEH77Q4sQkQIECAAAECBAgQIECAAAECBAgQIODgtQECBAgQIECAAAECBAgQIECAAAECBAhMBRy80+LEJkCAAAECBAgQIECAAAECBAgQIECAgIPXBggQIECAAAECBAgQIECAAAECBAgQIDAVcPBOixObAAECBAgQIECAAAECBAgQIECAAAECDl4bIECAAAECBAgQIECAAAECBAgQIECAwFTAwTstTmwCBAgQIECAAAECBAgQIECAAAECBAg4eG2AAAECBAgQIECAAAECBAgQIECAAAECUwEH77Q4sQkQIECAAAECBAgQIECAAAECBAgQIODgtQECBAgQIECAAAECBAgQIECAAAECBAhMBRy80+LEJkCAAAECBAgQIECAAAECBAgQIECAgIPXBggQIECAAAECBAgQIECAAAECBAgQIDAVcPBOixObAAECBAgQIECAAAECBAgQIECAAAECDl4bIECAAAECBAgQIECAAAECBAgQIECAwFTAwTstTmwCBAgQIECAAAECBAgQIECAAAECBAg4eG2AAAECBAgQIECAAAECBAgQIECAAAECUwEH77Q4sQkQIECAAAECBAgQIECAAAECBAgQIODgtQECBAgQIECAAAECBAgQIECAAAECBAhMBRy80+LEJkCAAAECBAgQIECAAAECBAgQIECAgIPXBggQIECAAAECBAgQIECAAAECBAgQIDAVcPBOixObAAECBAgQIECAAAECBAgQIECAAAECDl4bIECAAAECBAgQIECAAAECBAgQIECAwFTAwTstTmwCBAgQIECAAAECBAgQIECAAAECBAg4eG2AAAECBAgQIECAAAECBAgQIECAAAECUwEH77Q4sQkQIECAAAECBAgQIECAAAECBAgQIODgtQECBAgQIECAAAECBAgQIECAAAECBAhMBRy80+LEJkCAAAECBAgQIECAAAECBAgQIECAgIPXBggQIECAAAECBAgQIECAAAECBAgQIDAVcPBOixObAAECBAgQIECAAAECBAgQIECAAAECDl4bIECAAAECBAgQIECAAAECBAgQIECAwFTAwTstTmwCBAgQIECAAAECBAgQIECAAAECBAg4eG2AAAECBAgQIECAAAECBAgQIECAAAECUwEH77Q4sQkQIECAAAECBAgQIECAAAECBAgQIODgtQECBAgQIECAAAECBAgQIECAAAECBAhMBRy80+LEJkCAAAECBAgQIECAAAECBAgQIECAgIPXBggQIECAAAECBAgQIECAAAECBAgQIDAVcPBOixObAAECBAgQIECAAAECBAgQIECAAAECAT9mA+nAlSFsAAAAAElFTkSuQmCC\" preserveAspectRatio=\"none\" x=\"0\" y=\"0\" width=\"700px\" height=\"500px\"/></g><defs id=\"topdefs-597714\"><g class=\"clips\"/><clipPath id=\"legend597714\"><rect width=\"231\" height=\"86\" x=\"0\" y=\"0\"/></clipPath></defs><g class=\"layer-above\"><g class=\"imagelayer\"/><g class=\"shapelayer\"/></g><g class=\"infolayer\"><g class=\"legend\" pointer-events=\"all\" transform=\"translate(457.40000000000003,60)\"><rect class=\"bg\" shape-rendering=\"crispEdges\" style=\"stroke: rgb(68, 68, 68); stroke-opacity: 1; fill: rgb(255, 255, 255); fill-opacity: 1; stroke-width: 0px;\" width=\"231\" height=\"86\" x=\"0\" y=\"0\"/><g class=\"scrollbox\" transform=\"\" clip-path=\"url(#legend597714)\"><text class=\"legendtitletext\" text-anchor=\"start\" x=\"2\" y=\"18.2\" style=\"font-family: 'Open Sans', verdana, arial, sans-serif; font-size: 14px; fill: rgb(42, 63, 95); fill-opacity: 1; white-space: pre;\">variable</text><g class=\"groups\" transform=\"\"><g class=\"traces\" transform=\"translate(0,32.7)\" style=\"opacity: 1;\"><text class=\"legendtext\" text-anchor=\"start\" x=\"40\" y=\"4.680000000000001\" style=\"font-family: 'Open Sans', verdana, arial, sans-serif; font-size: 12px; fill: rgb(42, 63, 95); fill-opacity: 1; white-space: pre;\">Solar Fotovoltaica</text><g class=\"layers\" style=\"opacity: 1;\"><g class=\"legendfill\"/><g class=\"legendlines\"><path class=\"js-line\" d=\"M5,0h30\" style=\"fill: none; stroke: rgb(99, 110, 250); stroke-opacity: 1; stroke-width: 2px;\"/></g><g class=\"legendsymbols\"><g class=\"legendpoints\"/></g></g><rect class=\"legendtoggle\" x=\"0\" y=\"-9.5\" width=\"225.078125\" height=\"19\" style=\"fill: rgb(0, 0, 0); fill-opacity: 0;\"/></g></g><g class=\"groups\" transform=\"\"><g class=\"traces\" transform=\"translate(0,51.7)\" style=\"opacity: 1;\"><text class=\"legendtext\" text-anchor=\"start\" x=\"40\" y=\"4.680000000000001\" style=\"font-family: 'Open Sans', verdana, arial, sans-serif; font-size: 12px; fill: rgb(42, 63, 95); fill-opacity: 1; white-space: pre;\">Forecast (4, 0, 4)</text><g class=\"layers\" style=\"opacity: 1;\"><g class=\"legendfill\"/><g class=\"legendlines\"><path class=\"js-line\" d=\"M5,0h30\" style=\"fill: none; stroke: rgb(239, 85, 59); stroke-opacity: 1; stroke-width: 2px;\"/></g><g class=\"legendsymbols\"><g class=\"legendpoints\"/></g></g><rect class=\"legendtoggle\" x=\"0\" y=\"-9.5\" width=\"225.078125\" height=\"19\" style=\"fill: rgb(0, 0, 0); fill-opacity: 0;\"/></g></g><g class=\"groups\" transform=\"\"><g class=\"traces\" transform=\"translate(0,70.7)\" style=\"opacity: 1;\"><text class=\"legendtext\" text-anchor=\"start\" x=\"40\" y=\"4.680000000000001\" style=\"font-family: 'Open Sans', verdana, arial, sans-serif; font-size: 12px; fill: rgb(42, 63, 95); fill-opacity: 1; white-space: pre;\">Forecast (3, 0, 3) (1, 0, 1, 24)</text><g class=\"layers\" style=\"opacity: 1;\"><g class=\"legendfill\"/><g class=\"legendlines\"><path class=\"js-line\" d=\"M5,0h30\" style=\"fill: none; stroke: rgb(0, 204, 150); stroke-opacity: 1; stroke-width: 2px;\"/></g><g class=\"legendsymbols\"><g class=\"legendpoints\"/></g></g><rect class=\"legendtoggle\" x=\"0\" y=\"-9.5\" width=\"225.078125\" height=\"19\" style=\"fill: rgb(0, 0, 0); fill-opacity: 0;\"/></g></g></g><rect class=\"scrollbar\" rx=\"20\" ry=\"3\" width=\"0\" height=\"0\" style=\"fill: rgb(128, 139, 164); fill-opacity: 1;\" x=\"0\" y=\"0\"/></g><g class=\"g-gtitle\"/><g class=\"g-xtitle\"><text class=\"xtitle\" x=\"265\" y=\"475.909375\" text-anchor=\"middle\" style=\"font-family: 'Open Sans', verdana, arial, sans-serif; font-size: 14px; fill: rgb(42, 63, 95); opacity: 1; font-weight: normal; white-space: pre;\">index</text></g><g class=\"g-ytitle\"><text class=\"ytitle\" transform=\"rotate(-90,39.965625,240)\" x=\"39.965625\" y=\"240\" text-anchor=\"middle\" style=\"font-family: 'Open Sans', verdana, arial, sans-serif; font-size: 14px; fill: rgb(42, 63, 95); opacity: 1; font-weight: normal; white-space: pre;\">value</text></g></g></svg>"
      ]
     },
     "metadata": {},
     "output_type": "display_data"
    }
   ],
   "source": []
  },
  {
   "cell_type": "markdown",
   "id": "30d277fa-dd4b-4b82-bb94-94df852032fb",
   "metadata": {
    "papermill": {
     "duration": 0.004021,
     "end_time": "2024-05-29T23:06:18.912515",
     "exception": false,
     "start_time": "2024-05-29T23:06:18.908494",
     "status": "completed"
    },
    "tags": []
   },
   "source": [
    "## Grid Search"
   ]
  },
  {
   "cell_type": "code",
   "execution_count": null,
   "id": "53c40f39-99dc-4d4c-a55d-785628e32a83",
   "metadata": {
    "execution": {
     "iopub.execute_input": "2024-05-29T23:06:18.920671Z",
     "iopub.status.busy": "2024-05-29T23:06:18.920544Z",
     "iopub.status.idle": "2024-05-29T23:06:18.922147Z",
     "shell.execute_reply": "2024-05-29T23:06:18.921935Z"
    },
    "papermill": {
     "duration": 0.006412,
     "end_time": "2024-05-29T23:06:18.922867",
     "exception": false,
     "start_time": "2024-05-29T23:06:18.916455",
     "status": "completed"
    },
    "tags": []
   },
   "outputs": [],
   "source": []
  },
  {
   "cell_type": "code",
   "execution_count": null,
   "id": "c82f6768-9916-4c5b-b05b-2dd7704e7b2c",
   "metadata": {
    "execution": {
     "iopub.execute_input": "2024-05-29T23:06:18.931062Z",
     "iopub.status.busy": "2024-05-29T23:06:18.930964Z",
     "iopub.status.idle": "2024-05-29T23:06:18.932692Z",
     "shell.execute_reply": "2024-05-29T23:06:18.932497Z"
    },
    "papermill": {
     "duration": 0.006452,
     "end_time": "2024-05-29T23:06:18.933349",
     "exception": false,
     "start_time": "2024-05-29T23:06:18.926897",
     "status": "completed"
    },
    "tags": []
   },
   "outputs": [],
   "source": []
  },
  {
   "cell_type": "code",
   "execution_count": null,
   "id": "f546ce4c-44e3-49bd-b824-03bff5f6b154",
   "metadata": {
    "execution": {
     "iopub.execute_input": "2024-05-29T23:06:18.940648Z",
     "iopub.status.busy": "2024-05-29T23:06:18.940552Z",
     "iopub.status.idle": "2024-05-29T23:06:18.942208Z",
     "shell.execute_reply": "2024-05-29T23:06:18.942016Z"
    },
    "papermill": {
     "duration": 0.006168,
     "end_time": "2024-05-29T23:06:18.942996",
     "exception": false,
     "start_time": "2024-05-29T23:06:18.936828",
     "status": "completed"
    },
    "tags": []
   },
   "outputs": [],
   "source": []
  },
  {
   "cell_type": "code",
   "execution_count": null,
   "id": "d0ec7a69-9baa-40c7-a4a9-bb4a90f7a9f0",
   "metadata": {
    "execution": {
     "iopub.execute_input": "2024-05-29T23:06:18.950482Z",
     "iopub.status.busy": "2024-05-29T23:06:18.950375Z",
     "iopub.status.idle": "2024-05-29T23:06:18.952296Z",
     "shell.execute_reply": "2024-05-29T23:06:18.952082Z"
    },
    "papermill": {
     "duration": 0.006526,
     "end_time": "2024-05-29T23:06:18.953057",
     "exception": false,
     "start_time": "2024-05-29T23:06:18.946531",
     "status": "completed"
    },
    "tags": []
   },
   "outputs": [
    {
     "data": {
      "text/plain": [
       "[(1, 0, 1), (1, 1, 1)]"
      ]
     },
     "execution_count": null,
     "metadata": {},
     "output_type": "execute_result"
    }
   ],
   "source": []
  },
  {
   "cell_type": "code",
   "execution_count": null,
   "id": "210e6ff9-ce4c-480f-ae78-4c582c139257",
   "metadata": {
    "execution": {
     "iopub.execute_input": "2024-05-29T23:06:18.960887Z",
     "iopub.status.busy": "2024-05-29T23:06:18.960794Z",
     "iopub.status.idle": "2024-05-29T23:06:18.962597Z",
     "shell.execute_reply": "2024-05-29T23:06:18.962372Z"
    },
    "papermill": {
     "duration": 0.006279,
     "end_time": "2024-05-29T23:06:18.963212",
     "exception": false,
     "start_time": "2024-05-29T23:06:18.956933",
     "status": "completed"
    },
    "tags": []
   },
   "outputs": [
    {
     "data": {
      "text/plain": [
       "[(1, 0, 1, 24), (1, 1, 1, 24)]"
      ]
     },
     "execution_count": null,
     "metadata": {},
     "output_type": "execute_result"
    }
   ],
   "source": []
  },
  {
   "cell_type": "code",
   "execution_count": null,
   "id": "d57a4adf-c1ab-4007-b757-96bdbf5a746a",
   "metadata": {
    "execution": {
     "iopub.execute_input": "2024-05-29T23:06:18.971300Z",
     "iopub.status.busy": "2024-05-29T23:06:18.971198Z",
     "iopub.status.idle": "2024-05-29T23:06:24.551286Z",
     "shell.execute_reply": "2024-05-29T23:06:24.548811Z"
    },
    "papermill": {
     "duration": 5.585558,
     "end_time": "2024-05-29T23:06:24.552580",
     "exception": false,
     "start_time": "2024-05-29T23:06:18.967022",
     "status": "completed"
    },
    "tags": []
   },
   "outputs": [
    {
     "name": "stderr",
     "output_type": "stream",
     "text": [
      "/var/folders/89/hqh4vvhn24q2xc8ph93krqz80000gn/T/ipykernel_52194/1904758550.py:8: TqdmDeprecationWarning:\n",
      "\n",
      "This function will be removed in tqdm==5.0.0\n",
      "Please use `tqdm.notebook.tqdm` instead of `tqdm.tqdm_notebook`\n",
      "\n"
     ]
    },
    {
     "data": {
      "application/vnd.jupyter.widget-view+json": {
       "model_id": "6aaa90591e504426b907c5c386bf8137",
       "version_major": 2,
       "version_minor": 0
      },
      "text/plain": [
       "  0%|          | 0/2 [00:00<?, ?it/s]"
      ]
     },
     "metadata": {},
     "output_type": "display_data"
    },
    {
     "name": "stderr",
     "output_type": "stream",
     "text": [
      "/var/folders/89/hqh4vvhn24q2xc8ph93krqz80000gn/T/ipykernel_52194/1904758550.py:9: TqdmDeprecationWarning:\n",
      "\n",
      "This function will be removed in tqdm==5.0.0\n",
      "Please use `tqdm.notebook.tqdm` instead of `tqdm.tqdm_notebook`\n",
      "\n"
     ]
    },
    {
     "data": {
      "application/vnd.jupyter.widget-view+json": {
       "model_id": "210e0358b4464aee81c6298f5e102ddf",
       "version_major": 2,
       "version_minor": 0
      },
      "text/plain": [
       "  0%|          | 0/2 [00:00<?, ?it/s]"
      ]
     },
     "metadata": {},
     "output_type": "display_data"
    },
    {
     "name": "stderr",
     "output_type": "stream",
     "text": [
      " This problem is unconstrained.\n"
     ]
    },
    {
     "name": "stdout",
     "output_type": "stream",
     "text": [
      "RUNNING THE L-BFGS-B CODE\n",
      "\n",
      "           * * *\n",
      "\n",
      "Machine precision = 2.220D-16\n",
      " N =            5     M =           10\n",
      "\n",
      "At X0         0 variables are exactly at the bounds\n",
      "\n",
      "At iterate    0    f=  7.24069D+00    |proj g|=  6.78150D-01\n",
      "\n",
      "At iterate    5    f=  7.07232D+00    |proj g|=  5.56521D-03\n"
     ]
    },
    {
     "name": "stdout",
     "output_type": "stream",
     "text": [
      "\n",
      "At iterate   10    f=  7.07199D+00    |proj g|=  1.16482D-03\n",
      "\n",
      "At iterate   15    f=  7.06845D+00    |proj g|=  3.46876D-02\n",
      "\n",
      "At iterate   20    f=  6.90224D+00    |proj g|=  7.49472D-01\n"
     ]
    },
    {
     "name": "stdout",
     "output_type": "stream",
     "text": [
      "\n",
      "At iterate   25    f=  6.24719D+00    |proj g|=  3.14447D-01\n",
      "\n",
      "At iterate   30    f=  6.21393D+00    |proj g|=  8.30223D-01\n",
      "\n",
      "At iterate   35    f=  6.20643D+00    |proj g|=  1.09959D-02\n",
      "\n",
      "           * * *\n",
      "\n",
      "Tit   = total number of iterations\n",
      "Tnf   = total number of function evaluations\n",
      "Tnint = total number of segments explored during Cauchy searches\n",
      "Skip  = number of BFGS updates skipped\n",
      "Nact  = number of active bounds at final generalized Cauchy point\n",
      "Projg = norm of the final projected gradient\n",
      "F     = final function value\n",
      "\n",
      "           * * *\n",
      "\n",
      "   N    Tit     Tnf  Tnint  Skip  Nact     Projg        F\n",
      "    5     39     59      1     0     0   2.716D-05   6.206D+00\n",
      "  F =   6.2064276532636447     \n",
      "\n",
      "CONVERGENCE: REL_REDUCTION_OF_F_<=_FACTR*EPSMCH             \n"
     ]
    },
    {
     "name": "stderr",
     "output_type": "stream",
     "text": [
      " This problem is unconstrained.\n"
     ]
    },
    {
     "name": "stdout",
     "output_type": "stream",
     "text": [
      "RUNNING THE L-BFGS-B CODE\n",
      "\n",
      "           * * *\n",
      "\n",
      "Machine precision = 2.220D-16\n",
      " N =            5     M =           10\n",
      "\n",
      "At X0         0 variables are exactly at the bounds\n",
      "\n",
      "At iterate    0    f=  5.88008D+00    |proj g|=  1.30776D+00\n"
     ]
    },
    {
     "name": "stdout",
     "output_type": "stream",
     "text": [
      "\n",
      "At iterate    5    f=  5.77903D+00    |proj g|=  4.78303D-02\n"
     ]
    },
    {
     "name": "stdout",
     "output_type": "stream",
     "text": [
      "\n",
      "At iterate   10    f=  5.75079D+00    |proj g|=  7.98439D-02\n"
     ]
    },
    {
     "name": "stdout",
     "output_type": "stream",
     "text": [
      "\n",
      "At iterate   15    f=  5.74654D+00    |proj g|=  9.39509D-04\n",
      "\n",
      "At iterate   20    f=  5.74649D+00    |proj g|=  1.06864D-02\n"
     ]
    },
    {
     "name": "stdout",
     "output_type": "stream",
     "text": [
      "\n",
      "At iterate   25    f=  5.74147D+00    |proj g|=  9.22200D-02\n",
      "\n",
      "At iterate   30    f=  5.72568D+00    |proj g|=  2.10557D-03\n"
     ]
    },
    {
     "name": "stdout",
     "output_type": "stream",
     "text": [
      "\n",
      "           * * *\n",
      "\n",
      "Tit   = total number of iterations\n",
      "Tnf   = total number of function evaluations\n",
      "Tnint = total number of segments explored during Cauchy searches\n",
      "Skip  = number of BFGS updates skipped\n",
      "Nact  = number of active bounds at final generalized Cauchy point\n",
      "Projg = norm of the final projected gradient\n",
      "F     = final function value\n",
      "\n",
      "           * * *\n",
      "\n",
      "   N    Tit     Tnf  Tnint  Skip  Nact     Projg        F\n",
      "    5     34     42      1     0     0   4.428D-05   5.726D+00\n",
      "  F =   5.7256788820026765     \n",
      "\n",
      "CONVERGENCE: REL_REDUCTION_OF_F_<=_FACTR*EPSMCH             \n"
     ]
    },
    {
     "name": "stderr",
     "output_type": "stream",
     "text": [
      "/var/folders/89/hqh4vvhn24q2xc8ph93krqz80000gn/T/ipykernel_52194/1904758550.py:9: TqdmDeprecationWarning:\n",
      "\n",
      "This function will be removed in tqdm==5.0.0\n",
      "Please use `tqdm.notebook.tqdm` instead of `tqdm.tqdm_notebook`\n",
      "\n"
     ]
    },
    {
     "data": {
      "application/vnd.jupyter.widget-view+json": {
       "model_id": "87a404aad8e44ad5b491369a113f4f18",
       "version_major": 2,
       "version_minor": 0
      },
      "text/plain": [
       "  0%|          | 0/2 [00:00<?, ?it/s]"
      ]
     },
     "metadata": {},
     "output_type": "display_data"
    },
    {
     "name": "stderr",
     "output_type": "stream",
     "text": [
      " This problem is unconstrained.\n"
     ]
    },
    {
     "name": "stdout",
     "output_type": "stream",
     "text": [
      "RUNNING THE L-BFGS-B CODE\n",
      "\n",
      "           * * *\n",
      "\n",
      "Machine precision = 2.220D-16\n",
      " N =            5     M =           10\n",
      "\n",
      "At X0         0 variables are exactly at the bounds\n",
      "\n",
      "At iterate    0    f=  6.80018D+00    |proj g|=  4.47507D-01\n",
      "\n",
      "At iterate    5    f=  6.75128D+00    |proj g|=  3.31958D-03\n",
      "\n",
      "At iterate   10    f=  6.75107D+00    |proj g|=  3.21712D-03\n"
     ]
    },
    {
     "name": "stdout",
     "output_type": "stream",
     "text": [
      "\n",
      "At iterate   15    f=  6.74632D+00    |proj g|=  5.70429D-02\n",
      "\n",
      "At iterate   20    f=  6.59999D+00    |proj g|=  1.35228D+00\n",
      "\n",
      "At iterate   25    f=  6.18399D+00    |proj g|=  1.48704D-01\n"
     ]
    },
    {
     "name": "stdout",
     "output_type": "stream",
     "text": [
      "\n",
      "At iterate   30    f=  6.16396D+00    |proj g|=  4.27005D-01\n",
      "\n",
      "At iterate   35    f=  6.15720D+00    |proj g|=  2.10985D-02\n",
      "\n",
      "At iterate   40    f=  6.15718D+00    |proj g|=  4.54926D-04\n",
      "\n",
      "           * * *\n",
      "\n",
      "Tit   = total number of iterations\n",
      "Tnf   = total number of function evaluations\n",
      "Tnint = total number of segments explored during Cauchy searches\n",
      "Skip  = number of BFGS updates skipped\n",
      "Nact  = number of active bounds at final generalized Cauchy point\n",
      "Projg = norm of the final projected gradient\n",
      "F     = final function value\n",
      "\n",
      "           * * *\n",
      "\n",
      "   N    Tit     Tnf  Tnint  Skip  Nact     Projg        F\n",
      "    5     40     52      1     0     0   4.549D-04   6.157D+00\n",
      "  F =   6.1571807435919039     \n",
      "\n",
      "CONVERGENCE: REL_REDUCTION_OF_F_<=_FACTR*EPSMCH             \n"
     ]
    },
    {
     "name": "stderr",
     "output_type": "stream",
     "text": [
      " This problem is unconstrained.\n"
     ]
    },
    {
     "name": "stdout",
     "output_type": "stream",
     "text": [
      "RUNNING THE L-BFGS-B CODE\n",
      "\n",
      "           * * *\n",
      "\n",
      "Machine precision = 2.220D-16\n",
      " N =            5     M =           10\n",
      "\n",
      "At X0         0 variables are exactly at the bounds\n",
      "\n",
      "At iterate    0    f=  5.73230D+00    |proj g|=  8.89047D-02\n"
     ]
    },
    {
     "name": "stdout",
     "output_type": "stream",
     "text": [
      "\n",
      "At iterate    5    f=  5.69457D+00    |proj g|=  9.88134D-02\n"
     ]
    },
    {
     "name": "stdout",
     "output_type": "stream",
     "text": [
      "\n",
      "At iterate   10    f=  5.68618D+00    |proj g|=  1.85290D-03\n"
     ]
    },
    {
     "name": "stdout",
     "output_type": "stream",
     "text": [
      "\n",
      "At iterate   15    f=  5.68610D+00    |proj g|=  7.44653D-03\n"
     ]
    },
    {
     "name": "stdout",
     "output_type": "stream",
     "text": [
      "\n",
      "At iterate   20    f=  5.67874D+00    |proj g|=  7.73067D-02\n"
     ]
    },
    {
     "name": "stdout",
     "output_type": "stream",
     "text": [
      "\n",
      "At iterate   25    f=  5.67121D+00    |proj g|=  2.09572D-03\n",
      "\n",
      "           * * *\n",
      "\n",
      "Tit   = total number of iterations\n",
      "Tnf   = total number of function evaluations\n",
      "Tnint = total number of segments explored during Cauchy searches\n",
      "Skip  = number of BFGS updates skipped\n",
      "Nact  = number of active bounds at final generalized Cauchy point\n",
      "Projg = norm of the final projected gradient\n",
      "F     = final function value\n",
      "\n",
      "           * * *\n",
      "\n",
      "   N    Tit     Tnf  Tnint  Skip  Nact     Projg        F\n",
      "    5     28     35      1     0     0   2.355D-05   5.671D+00\n",
      "  F =   5.6712032900907703     \n",
      "\n",
      "CONVERGENCE: REL_REDUCTION_OF_F_<=_FACTR*EPSMCH             \n"
     ]
    }
   ],
   "source": []
  },
  {
   "cell_type": "code",
   "execution_count": null,
   "id": "7941176c-ce25-4731-a906-1bf7f2ce93a9",
   "metadata": {
    "execution": {
     "iopub.execute_input": "2024-05-29T23:06:24.575859Z",
     "iopub.status.busy": "2024-05-29T23:06:24.575550Z",
     "iopub.status.idle": "2024-05-29T23:06:24.584950Z",
     "shell.execute_reply": "2024-05-29T23:06:24.584471Z"
    },
    "papermill": {
     "duration": 0.022952,
     "end_time": "2024-05-29T23:06:24.586319",
     "exception": false,
     "start_time": "2024-05-29T23:06:24.563367",
     "status": "completed"
    },
    "tags": []
   },
   "outputs": [
    {
     "data": {
      "text/html": [
       "<div>\n",
       "<style scoped>\n",
       "    .dataframe tbody tr th:only-of-type {\n",
       "        vertical-align: middle;\n",
       "    }\n",
       "\n",
       "    .dataframe tbody tr th {\n",
       "        vertical-align: top;\n",
       "    }\n",
       "\n",
       "    .dataframe thead th {\n",
       "        text-align: right;\n",
       "    }\n",
       "</style>\n",
       "<table border=\"1\" class=\"dataframe\">\n",
       "  <thead>\n",
       "    <tr style=\"text-align: right;\">\n",
       "      <th></th>\n",
       "      <th>AIC</th>\n",
       "      <th>order</th>\n",
       "      <th>order_seasonal</th>\n",
       "    </tr>\n",
       "  </thead>\n",
       "  <tbody>\n",
       "    <tr>\n",
       "      <th>0</th>\n",
       "      <td>4180.719383</td>\n",
       "      <td>(1, 0, 1)</td>\n",
       "      <td>(1, 0, 1, 24)</td>\n",
       "    </tr>\n",
       "    <tr>\n",
       "      <th>1</th>\n",
       "      <td>3857.656209</td>\n",
       "      <td>(1, 0, 1)</td>\n",
       "      <td>(1, 1, 1, 24)</td>\n",
       "    </tr>\n",
       "    <tr>\n",
       "      <th>2</th>\n",
       "      <td>4147.625460</td>\n",
       "      <td>(1, 1, 1)</td>\n",
       "      <td>(1, 0, 1, 24)</td>\n",
       "    </tr>\n",
       "    <tr>\n",
       "      <th>3</th>\n",
       "      <td>3821.048611</td>\n",
       "      <td>(1, 1, 1)</td>\n",
       "      <td>(1, 1, 1, 24)</td>\n",
       "    </tr>\n",
       "  </tbody>\n",
       "</table>\n",
       "</div>"
      ],
      "text/plain": [
       "           AIC      order order_seasonal\n",
       "0  4180.719383  (1, 0, 1)  (1, 0, 1, 24)\n",
       "1  3857.656209  (1, 0, 1)  (1, 1, 1, 24)\n",
       "2  4147.625460  (1, 1, 1)  (1, 0, 1, 24)\n",
       "3  3821.048611  (1, 1, 1)  (1, 1, 1, 24)"
      ]
     },
     "execution_count": null,
     "metadata": {},
     "output_type": "execute_result"
    }
   ],
   "source": []
  },
  {
   "cell_type": "code",
   "execution_count": null,
   "id": "73559eee-1a0a-4a07-994c-98ca40cda920",
   "metadata": {
    "execution": {
     "iopub.execute_input": "2024-05-29T23:06:24.602440Z",
     "iopub.status.busy": "2024-05-29T23:06:24.602190Z",
     "iopub.status.idle": "2024-05-29T23:06:30.976749Z",
     "shell.execute_reply": "2024-05-29T23:06:30.976282Z"
    },
    "papermill": {
     "duration": 6.382425,
     "end_time": "2024-05-29T23:06:30.978613",
     "exception": false,
     "start_time": "2024-05-29T23:06:24.596188",
     "status": "completed"
    },
    "tags": []
   },
   "outputs": [
    {
     "name": "stderr",
     "output_type": "stream",
     "text": [
      "/Users/sota/miniconda3/envs/work/lib/python3.12/site-packages/statsmodels/base/model.py:607: ConvergenceWarning:\n",
      "\n",
      "Maximum Likelihood optimization failed to converge. Check mle_retvals\n",
      "\n"
     ]
    },
    {
     "data": {
      "text/html": [
       "<table class=\"simpletable\">\n",
       "<caption>SARIMAX Results</caption>\n",
       "<tr>\n",
       "  <th>Dep. Variable:</th>         <td>Solar Fotovoltaica</td>       <th>  No. Observations:  </th>    <td>336</td>   \n",
       "</tr>\n",
       "<tr>\n",
       "  <th>Model:</th>           <td>SARIMAX(1, 1, 3)x(1, 0, 3, 12)</td> <th>  Log Likelihood     </th> <td>-2393.096</td>\n",
       "</tr>\n",
       "<tr>\n",
       "  <th>Date:</th>                   <td>Thu, 30 May 2024</td>        <th>  AIC                </th> <td>4804.192</td> \n",
       "</tr>\n",
       "<tr>\n",
       "  <th>Time:</th>                       <td>01:06:30</td>            <th>  BIC                </th> <td>4838.519</td> \n",
       "</tr>\n",
       "<tr>\n",
       "  <th>Sample:</th>                    <td>12-18-2022</td>           <th>  HQIC               </th> <td>4817.877</td> \n",
       "</tr>\n",
       "<tr>\n",
       "  <th></th>                          <td>- 12-31-2022</td>          <th>                     </th>     <td> </td>    \n",
       "</tr>\n",
       "<tr>\n",
       "  <th>Covariance Type:</th>               <td>opg</td>              <th>                     </th>     <td> </td>    \n",
       "</tr>\n",
       "</table>\n",
       "<table class=\"simpletable\">\n",
       "<tr>\n",
       "      <td></td>        <th>coef</th>     <th>std err</th>      <th>z</th>      <th>P>|z|</th>  <th>[0.025</th>    <th>0.975]</th>  \n",
       "</tr>\n",
       "<tr>\n",
       "  <th>ar.L1</th>    <td>   -0.9998</td> <td>    0.780</td> <td>   -1.282</td> <td> 0.200</td> <td>   -2.528</td> <td>    0.529</td>\n",
       "</tr>\n",
       "<tr>\n",
       "  <th>ma.L1</th>    <td>    2.1803</td> <td>    1.143</td> <td>    1.908</td> <td> 0.056</td> <td>   -0.059</td> <td>    4.420</td>\n",
       "</tr>\n",
       "<tr>\n",
       "  <th>ma.L2</th>    <td>    1.6947</td> <td>    1.350</td> <td>    1.255</td> <td> 0.209</td> <td>   -0.951</td> <td>    4.340</td>\n",
       "</tr>\n",
       "<tr>\n",
       "  <th>ma.L3</th>    <td>    0.5143</td> <td>    0.586</td> <td>    0.878</td> <td> 0.380</td> <td>   -0.634</td> <td>    1.663</td>\n",
       "</tr>\n",
       "<tr>\n",
       "  <th>ar.S.L12</th> <td>   -1.0000</td> <td>    0.001</td> <td> -864.745</td> <td> 0.000</td> <td>   -1.002</td> <td>   -0.998</td>\n",
       "</tr>\n",
       "<tr>\n",
       "  <th>ma.S.L12</th> <td>    1.5251</td> <td>    0.379</td> <td>    4.023</td> <td> 0.000</td> <td>    0.782</td> <td>    2.268</td>\n",
       "</tr>\n",
       "<tr>\n",
       "  <th>ma.S.L24</th> <td>    1.1453</td> <td>    0.210</td> <td>    5.451</td> <td> 0.000</td> <td>    0.733</td> <td>    1.557</td>\n",
       "</tr>\n",
       "<tr>\n",
       "  <th>ma.S.L36</th> <td>    0.6147</td> <td>    0.244</td> <td>    2.514</td> <td> 0.012</td> <td>    0.135</td> <td>    1.094</td>\n",
       "</tr>\n",
       "<tr>\n",
       "  <th>sigma2</th>   <td>  9.73e+04</td> <td> 5.13e-05</td> <td>  1.9e+09</td> <td> 0.000</td> <td> 9.73e+04</td> <td> 9.73e+04</td>\n",
       "</tr>\n",
       "</table>\n",
       "<table class=\"simpletable\">\n",
       "<tr>\n",
       "  <th>Ljung-Box (L1) (Q):</th>     <td>0.25</td> <th>  Jarque-Bera (JB):  </th> <td>26.42</td>\n",
       "</tr>\n",
       "<tr>\n",
       "  <th>Prob(Q):</th>                <td>0.61</td> <th>  Prob(JB):          </th> <td>0.00</td> \n",
       "</tr>\n",
       "<tr>\n",
       "  <th>Heteroskedasticity (H):</th> <td>1.24</td> <th>  Skew:              </th> <td>0.07</td> \n",
       "</tr>\n",
       "<tr>\n",
       "  <th>Prob(H) (two-sided):</th>    <td>0.25</td> <th>  Kurtosis:          </th> <td>4.37</td> \n",
       "</tr>\n",
       "</table><br/><br/>Warnings:<br/>[1] Covariance matrix calculated using the outer product of gradients (complex-step).<br/>[2] Covariance matrix is singular or near-singular, with condition number 2.13e+25. Standard errors may be unstable."
      ],
      "text/latex": [
       "\\begin{center}\n",
       "\\begin{tabular}{lclc}\n",
       "\\toprule\n",
       "\\textbf{Dep. Variable:}          &       Solar Fotovoltaica       & \\textbf{  No. Observations:  } &    336      \\\\\n",
       "\\textbf{Model:}                  & SARIMAX(1, 1, 3)x(1, 0, 3, 12) & \\textbf{  Log Likelihood     } & -2393.096   \\\\\n",
       "\\textbf{Date:}                   &        Thu, 30 May 2024        & \\textbf{  AIC                } &  4804.192   \\\\\n",
       "\\textbf{Time:}                   &            01:06:30            & \\textbf{  BIC                } &  4838.519   \\\\\n",
       "\\textbf{Sample:}                 &           12-18-2022           & \\textbf{  HQIC               } &  4817.877   \\\\\n",
       "\\textbf{}                        &          - 12-31-2022          & \\textbf{                     } &             \\\\\n",
       "\\textbf{Covariance Type:}        &              opg               & \\textbf{                     } &             \\\\\n",
       "\\bottomrule\n",
       "\\end{tabular}\n",
       "\\begin{tabular}{lcccccc}\n",
       "                  & \\textbf{coef} & \\textbf{std err} & \\textbf{z} & \\textbf{P$> |$z$|$} & \\textbf{[0.025} & \\textbf{0.975]}  \\\\\n",
       "\\midrule\n",
       "\\textbf{ar.L1}    &      -0.9998  &        0.780     &    -1.282  &         0.200        &       -2.528    &        0.529     \\\\\n",
       "\\textbf{ma.L1}    &       2.1803  &        1.143     &     1.908  &         0.056        &       -0.059    &        4.420     \\\\\n",
       "\\textbf{ma.L2}    &       1.6947  &        1.350     &     1.255  &         0.209        &       -0.951    &        4.340     \\\\\n",
       "\\textbf{ma.L3}    &       0.5143  &        0.586     &     0.878  &         0.380        &       -0.634    &        1.663     \\\\\n",
       "\\textbf{ar.S.L12} &      -1.0000  &        0.001     &  -864.745  &         0.000        &       -1.002    &       -0.998     \\\\\n",
       "\\textbf{ma.S.L12} &       1.5251  &        0.379     &     4.023  &         0.000        &        0.782    &        2.268     \\\\\n",
       "\\textbf{ma.S.L24} &       1.1453  &        0.210     &     5.451  &         0.000        &        0.733    &        1.557     \\\\\n",
       "\\textbf{ma.S.L36} &       0.6147  &        0.244     &     2.514  &         0.012        &        0.135    &        1.094     \\\\\n",
       "\\textbf{sigma2}   &     9.73e+04  &     5.13e-05     &   1.9e+09  &         0.000        &     9.73e+04    &     9.73e+04     \\\\\n",
       "\\bottomrule\n",
       "\\end{tabular}\n",
       "\\begin{tabular}{lclc}\n",
       "\\textbf{Ljung-Box (L1) (Q):}     & 0.25 & \\textbf{  Jarque-Bera (JB):  } & 26.42  \\\\\n",
       "\\textbf{Prob(Q):}                & 0.61 & \\textbf{  Prob(JB):          } &  0.00  \\\\\n",
       "\\textbf{Heteroskedasticity (H):} & 1.24 & \\textbf{  Skew:              } &  0.07  \\\\\n",
       "\\textbf{Prob(H) (two-sided):}    & 0.25 & \\textbf{  Kurtosis:          } &  4.37  \\\\\n",
       "\\bottomrule\n",
       "\\end{tabular}\n",
       "%\\caption{SARIMAX Results}\n",
       "\\end{center}\n",
       "\n",
       "Warnings: \\newline\n",
       " [1] Covariance matrix calculated using the outer product of gradients (complex-step). \\newline\n",
       " [2] Covariance matrix is singular or near-singular, with condition number 2.13e+25. Standard errors may be unstable."
      ],
      "text/plain": [
       "<class 'statsmodels.iolib.summary.Summary'>\n",
       "\"\"\"\n",
       "                                     SARIMAX Results                                      \n",
       "==========================================================================================\n",
       "Dep. Variable:                 Solar Fotovoltaica   No. Observations:                  336\n",
       "Model:             SARIMAX(1, 1, 3)x(1, 0, 3, 12)   Log Likelihood               -2393.096\n",
       "Date:                            Thu, 30 May 2024   AIC                           4804.192\n",
       "Time:                                    01:06:30   BIC                           4838.519\n",
       "Sample:                                12-18-2022   HQIC                          4817.877\n",
       "                                     - 12-31-2022                                         \n",
       "Covariance Type:                              opg                                         \n",
       "==============================================================================\n",
       "                 coef    std err          z      P>|z|      [0.025      0.975]\n",
       "------------------------------------------------------------------------------\n",
       "ar.L1         -0.9998      0.780     -1.282      0.200      -2.528       0.529\n",
       "ma.L1          2.1803      1.143      1.908      0.056      -0.059       4.420\n",
       "ma.L2          1.6947      1.350      1.255      0.209      -0.951       4.340\n",
       "ma.L3          0.5143      0.586      0.878      0.380      -0.634       1.663\n",
       "ar.S.L12      -1.0000      0.001   -864.745      0.000      -1.002      -0.998\n",
       "ma.S.L12       1.5251      0.379      4.023      0.000       0.782       2.268\n",
       "ma.S.L24       1.1453      0.210      5.451      0.000       0.733       1.557\n",
       "ma.S.L36       0.6147      0.244      2.514      0.012       0.135       1.094\n",
       "sigma2       9.73e+04   5.13e-05    1.9e+09      0.000    9.73e+04    9.73e+04\n",
       "===================================================================================\n",
       "Ljung-Box (L1) (Q):                   0.25   Jarque-Bera (JB):                26.42\n",
       "Prob(Q):                              0.61   Prob(JB):                         0.00\n",
       "Heteroskedasticity (H):               1.24   Skew:                             0.07\n",
       "Prob(H) (two-sided):                  0.25   Kurtosis:                         4.37\n",
       "===================================================================================\n",
       "\n",
       "Warnings:\n",
       "[1] Covariance matrix calculated using the outer product of gradients (complex-step).\n",
       "[2] Covariance matrix is singular or near-singular, with condition number 2.13e+25. Standard errors may be unstable.\n",
       "\"\"\""
      ]
     },
     "execution_count": null,
     "metadata": {},
     "output_type": "execute_result"
    }
   ],
   "source": []
  },
  {
   "cell_type": "code",
   "execution_count": null,
   "id": "b64551a3-657f-4e5f-8a95-072c93ea973e",
   "metadata": {
    "execution": {
     "iopub.execute_input": "2024-05-29T23:06:31.003464Z",
     "iopub.status.busy": "2024-05-29T23:06:31.002966Z",
     "iopub.status.idle": "2024-05-29T23:06:31.012666Z",
     "shell.execute_reply": "2024-05-29T23:06:31.011529Z"
    },
    "papermill": {
     "duration": 0.024481,
     "end_time": "2024-05-29T23:06:31.014104",
     "exception": false,
     "start_time": "2024-05-29T23:06:30.989623",
     "status": "completed"
    },
    "tags": []
   },
   "outputs": [],
   "source": []
  },
  {
   "cell_type": "code",
   "execution_count": null,
   "id": "f4fe3b3c-ace9-4420-b268-8041d381570a",
   "metadata": {
    "execution": {
     "iopub.execute_input": "2024-05-29T23:06:31.030642Z",
     "iopub.status.busy": "2024-05-29T23:06:31.030083Z",
     "iopub.status.idle": "2024-05-29T23:06:31.040397Z",
     "shell.execute_reply": "2024-05-29T23:06:31.039596Z"
    },
    "papermill": {
     "duration": 0.017635,
     "end_time": "2024-05-29T23:06:31.041994",
     "exception": false,
     "start_time": "2024-05-29T23:06:31.024359",
     "status": "completed"
    },
    "tags": []
   },
   "outputs": [
    {
     "data": {
      "text/html": [
       "<div>\n",
       "<style scoped>\n",
       "    .dataframe tbody tr th:only-of-type {\n",
       "        vertical-align: middle;\n",
       "    }\n",
       "\n",
       "    .dataframe tbody tr th {\n",
       "        vertical-align: top;\n",
       "    }\n",
       "\n",
       "    .dataframe thead th {\n",
       "        text-align: right;\n",
       "    }\n",
       "</style>\n",
       "<table border=\"1\" class=\"dataframe\">\n",
       "  <thead>\n",
       "    <tr style=\"text-align: right;\">\n",
       "      <th></th>\n",
       "      <th>Solar Fotovoltaica</th>\n",
       "      <th>Forecast (4, 0, 4)</th>\n",
       "      <th>Forecast (3, 0, 3) (1, 0, 1, 24)</th>\n",
       "      <th>Forecast (1, 1, 3) (1, 0, 3, 12)</th>\n",
       "    </tr>\n",
       "  </thead>\n",
       "  <tbody>\n",
       "    <tr>\n",
       "      <th>2022-12-18 00:00:00+01:00</th>\n",
       "      <td>0.1</td>\n",
       "      <td>NaN</td>\n",
       "      <td>NaN</td>\n",
       "      <td>NaN</td>\n",
       "    </tr>\n",
       "    <tr>\n",
       "      <th>2022-12-18 01:00:00+01:00</th>\n",
       "      <td>0.1</td>\n",
       "      <td>NaN</td>\n",
       "      <td>NaN</td>\n",
       "      <td>NaN</td>\n",
       "    </tr>\n",
       "    <tr>\n",
       "      <th>...</th>\n",
       "      <td>...</td>\n",
       "      <td>...</td>\n",
       "      <td>...</td>\n",
       "      <td>...</td>\n",
       "    </tr>\n",
       "    <tr>\n",
       "      <th>2023-01-02 22:00:00+01:00</th>\n",
       "      <td>NaN</td>\n",
       "      <td>1649.47413</td>\n",
       "      <td>11.303982</td>\n",
       "      <td>-370.965362</td>\n",
       "    </tr>\n",
       "    <tr>\n",
       "      <th>2023-01-02 23:00:00+01:00</th>\n",
       "      <td>NaN</td>\n",
       "      <td>1704.80436</td>\n",
       "      <td>-4.122676</td>\n",
       "      <td>-1157.099312</td>\n",
       "    </tr>\n",
       "  </tbody>\n",
       "</table>\n",
       "<p>384 rows × 4 columns</p>\n",
       "</div>"
      ],
      "text/plain": [
       "                           Solar Fotovoltaica  Forecast (4, 0, 4)  \\\n",
       "2022-12-18 00:00:00+01:00                 0.1                 NaN   \n",
       "2022-12-18 01:00:00+01:00                 0.1                 NaN   \n",
       "...                                       ...                 ...   \n",
       "2023-01-02 22:00:00+01:00                 NaN          1649.47413   \n",
       "2023-01-02 23:00:00+01:00                 NaN          1704.80436   \n",
       "\n",
       "                           Forecast (3, 0, 3) (1, 0, 1, 24)  \\\n",
       "2022-12-18 00:00:00+01:00                               NaN   \n",
       "2022-12-18 01:00:00+01:00                               NaN   \n",
       "...                                                     ...   \n",
       "2023-01-02 22:00:00+01:00                         11.303982   \n",
       "2023-01-02 23:00:00+01:00                         -4.122676   \n",
       "\n",
       "                           Forecast (1, 1, 3) (1, 0, 3, 12)  \n",
       "2022-12-18 00:00:00+01:00                               NaN  \n",
       "2022-12-18 01:00:00+01:00                               NaN  \n",
       "...                                                     ...  \n",
       "2023-01-02 22:00:00+01:00                       -370.965362  \n",
       "2023-01-02 23:00:00+01:00                      -1157.099312  \n",
       "\n",
       "[384 rows x 4 columns]"
      ]
     },
     "execution_count": null,
     "metadata": {},
     "output_type": "execute_result"
    }
   ],
   "source": []
  },
  {
   "cell_type": "code",
   "execution_count": null,
   "id": "b8d7660c-9c28-4c93-af11-a53479ecc597",
   "metadata": {
    "execution": {
     "iopub.execute_input": "2024-05-29T23:06:31.060435Z",
     "iopub.status.busy": "2024-05-29T23:06:31.059978Z",
     "iopub.status.idle": "2024-05-29T23:06:31.392506Z",
     "shell.execute_reply": "2024-05-29T23:06:31.392218Z"
    },
    "papermill": {
     "duration": 0.341118,
     "end_time": "2024-05-29T23:06:31.393530",
     "exception": false,
     "start_time": "2024-05-29T23:06:31.052412",
     "status": "completed"
    },
    "tags": []
   },
   "outputs": [
    {
     "data": {
      "image/svg+xml": [
       "<svg class=\"main-svg\" xmlns=\"http://www.w3.org/2000/svg\" xmlns:xlink=\"http://www.w3.org/1999/xlink\" width=\"700\" height=\"500\" style=\"\" viewBox=\"0 0 700 500\"><rect x=\"0\" y=\"0\" width=\"700\" height=\"500\" style=\"fill: rgb(255, 255, 255); fill-opacity: 1;\"/><defs id=\"defs-039f90\"><g class=\"clips\"><clipPath id=\"clip039f90xyplot\" class=\"plotclip\"><rect width=\"370\" height=\"360\"/></clipPath><clipPath class=\"axesclip\" id=\"clip039f90x\"><rect x=\"80\" y=\"0\" width=\"370\" height=\"500\"/></clipPath><clipPath class=\"axesclip\" id=\"clip039f90y\"><rect x=\"0\" y=\"60\" width=\"700\" height=\"360\"/></clipPath><clipPath class=\"axesclip\" id=\"clip039f90xy\"><rect x=\"80\" y=\"60\" width=\"370\" height=\"360\"/></clipPath></g><g class=\"gradients\"/><g class=\"patterns\"/></defs><g class=\"bglayer\"><rect class=\"bg\" x=\"80\" y=\"60\" width=\"370\" height=\"360\" style=\"fill: rgb(229, 236, 246); fill-opacity: 1; stroke-width: 0;\"/></g><g class=\"layer-below\"><g class=\"imagelayer\"/><g class=\"shapelayer\"/></g><g class=\"cartesianlayer\"><g class=\"subplot xy\"><g class=\"layer-subplot\"><g class=\"shapelayer\"/><g class=\"imagelayer\"/></g><g class=\"minor-gridlayer\"><g class=\"x\"/><g class=\"y\"/></g><g class=\"gridlayer\"><g class=\"x\"><path class=\"xgrid crisp\" transform=\"translate(126.37,0)\" d=\"M0,60v360\" style=\"stroke: rgb(255, 255, 255); stroke-opacity: 1; stroke-width: 1px;\"/><path class=\"xgrid crisp\" transform=\"translate(195.93,0)\" d=\"M0,60v360\" style=\"stroke: rgb(255, 255, 255); stroke-opacity: 1; stroke-width: 1px;\"/><path class=\"xgrid crisp\" transform=\"translate(265.48,0)\" d=\"M0,60v360\" style=\"stroke: rgb(255, 255, 255); stroke-opacity: 1; stroke-width: 1px;\"/><path class=\"xgrid crisp\" transform=\"translate(335.03999999999996,0)\" d=\"M0,60v360\" style=\"stroke: rgb(255, 255, 255); stroke-opacity: 1; stroke-width: 1px;\"/><path class=\"xgrid crisp\" transform=\"translate(404.6,0)\" d=\"M0,60v360\" style=\"stroke: rgb(255, 255, 255); stroke-opacity: 1; stroke-width: 1px;\"/></g><g class=\"y\"><path class=\"ygrid crisp\" transform=\"translate(0,415.02)\" d=\"M80,0h370\" style=\"stroke: rgb(255, 255, 255); stroke-opacity: 1; stroke-width: 1px;\"/><path class=\"ygrid crisp\" transform=\"translate(0,295.40999999999997)\" d=\"M80,0h370\" style=\"stroke: rgb(255, 255, 255); stroke-opacity: 1; stroke-width: 1px;\"/><path class=\"ygrid crisp\" transform=\"translate(0,235.6)\" d=\"M80,0h370\" style=\"stroke: rgb(255, 255, 255); stroke-opacity: 1; stroke-width: 1px;\"/><path class=\"ygrid crisp\" transform=\"translate(0,175.79000000000002)\" d=\"M80,0h370\" style=\"stroke: rgb(255, 255, 255); stroke-opacity: 1; stroke-width: 1px;\"/><path class=\"ygrid crisp\" transform=\"translate(0,115.99000000000001)\" d=\"M80,0h370\" style=\"stroke: rgb(255, 255, 255); stroke-opacity: 1; stroke-width: 1px;\"/></g></g><g class=\"zerolinelayer\"><path class=\"yzl zl crisp\" transform=\"translate(0,355.21)\" d=\"M80,0h370\" style=\"stroke: rgb(255, 255, 255); stroke-opacity: 1; stroke-width: 2px;\"/></g><path class=\"xlines-below\"/><path class=\"ylines-below\"/><g class=\"overlines-below\"/><g class=\"xaxislayer-below\"/><g class=\"yaxislayer-below\"/><g class=\"overaxes-below\"/><g class=\"plot\" transform=\"translate(80,60)\" clip-path=\"url(#clip039f90xyplot)\"/><g class=\"overplot\"/><path class=\"xlines-above crisp\" d=\"M0,0\" style=\"fill: none;\"/><path class=\"ylines-above crisp\" d=\"M0,0\" style=\"fill: none;\"/><g class=\"overlines-above\"/><g class=\"xaxislayer-above\"><g class=\"xtick\"><text text-anchor=\"middle\" x=\"0\" y=\"433\" transform=\"translate(126.37,0)\" style=\"font-family: 'Open Sans', verdana, arial, sans-serif; font-size: 12px; fill: rgb(42, 63, 95); fill-opacity: 1; white-space: pre; opacity: 1;\"><tspan class=\"line\" dy=\"0em\" x=\"0\" y=\"433\">Dec 20</tspan><tspan class=\"line\" dy=\"1.3em\" x=\"0\" y=\"433\">2022</tspan></text></g><g class=\"xtick\"><text text-anchor=\"middle\" x=\"0\" y=\"433\" style=\"font-family: 'Open Sans', verdana, arial, sans-serif; font-size: 12px; fill: rgb(42, 63, 95); fill-opacity: 1; white-space: pre; opacity: 1;\" transform=\"translate(195.93,0)\">Dec 23</text></g><g class=\"xtick\"><text text-anchor=\"middle\" x=\"0\" y=\"433\" style=\"font-family: 'Open Sans', verdana, arial, sans-serif; font-size: 12px; fill: rgb(42, 63, 95); fill-opacity: 1; white-space: pre; opacity: 1;\" transform=\"translate(265.48,0)\">Dec 26</text></g><g class=\"xtick\"><text text-anchor=\"middle\" x=\"0\" y=\"433\" style=\"font-family: 'Open Sans', verdana, arial, sans-serif; font-size: 12px; fill: rgb(42, 63, 95); fill-opacity: 1; white-space: pre; opacity: 1;\" transform=\"translate(335.03999999999996,0)\">Dec 29</text></g><g class=\"xtick\"><text text-anchor=\"middle\" x=\"0\" y=\"433\" style=\"font-family: 'Open Sans', verdana, arial, sans-serif; font-size: 12px; fill: rgb(42, 63, 95); fill-opacity: 1; white-space: pre; opacity: 1;\" transform=\"translate(404.6,0)\"><tspan class=\"line\" dy=\"0em\" x=\"0\" y=\"433\">Jan 1</tspan><tspan class=\"line\" dy=\"1.3em\" x=\"0\" y=\"433\">2023</tspan></text></g></g><g class=\"yaxislayer-above\"><g class=\"ytick\"><text text-anchor=\"end\" x=\"79\" y=\"4.199999999999999\" transform=\"translate(0,415.02)\" style=\"font-family: 'Open Sans', verdana, arial, sans-serif; font-size: 12px; fill: rgb(42, 63, 95); fill-opacity: 1; white-space: pre; opacity: 1;\">−2k</text></g><g class=\"ytick\"><text text-anchor=\"end\" x=\"79\" y=\"4.199999999999999\" style=\"font-family: 'Open Sans', verdana, arial, sans-serif; font-size: 12px; fill: rgb(42, 63, 95); fill-opacity: 1; white-space: pre; opacity: 1;\" transform=\"translate(0,355.21)\">0</text></g><g class=\"ytick\"><text text-anchor=\"end\" x=\"79\" y=\"4.199999999999999\" style=\"font-family: 'Open Sans', verdana, arial, sans-serif; font-size: 12px; fill: rgb(42, 63, 95); fill-opacity: 1; white-space: pre; opacity: 1;\" transform=\"translate(0,295.40999999999997)\">2k</text></g><g class=\"ytick\"><text text-anchor=\"end\" x=\"79\" y=\"4.199999999999999\" style=\"font-family: 'Open Sans', verdana, arial, sans-serif; font-size: 12px; fill: rgb(42, 63, 95); fill-opacity: 1; white-space: pre; opacity: 1;\" transform=\"translate(0,235.6)\">4k</text></g><g class=\"ytick\"><text text-anchor=\"end\" x=\"79\" y=\"4.199999999999999\" style=\"font-family: 'Open Sans', verdana, arial, sans-serif; font-size: 12px; fill: rgb(42, 63, 95); fill-opacity: 1; white-space: pre; opacity: 1;\" transform=\"translate(0,175.79000000000002)\">6k</text></g><g class=\"ytick\"><text text-anchor=\"end\" x=\"79\" y=\"4.199999999999999\" style=\"font-family: 'Open Sans', verdana, arial, sans-serif; font-size: 12px; fill: rgb(42, 63, 95); fill-opacity: 1; white-space: pre; opacity: 1;\" transform=\"translate(0,115.99000000000001)\">8k</text></g></g><g class=\"overaxes-above\"/></g></g><g class=\"polarlayer\"/><g class=\"smithlayer\"/><g class=\"ternarylayer\"/><g class=\"geolayer\"/><g class=\"funnelarealayer\"/><g class=\"pielayer\"/><g class=\"iciclelayer\"/><g class=\"treemaplayer\"/><g class=\"sunburstlayer\"/><g class=\"glimages\"><image xmlns=\"http://www.w3.org/2000/svg\" xlink:href=\"data:image/png;base64,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\" preserveAspectRatio=\"none\" x=\"0\" y=\"0\" width=\"700px\" height=\"500px\"/><image xmlns=\"http://www.w3.org/2000/svg\" xlink:href=\"data:image/png;base64,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\" preserveAspectRatio=\"none\" x=\"0\" y=\"0\" width=\"700px\" height=\"500px\"/></g><defs id=\"topdefs-039f90\"><g class=\"clips\"/><clipPath id=\"legend039f90\"><rect width=\"231\" height=\"105\" x=\"0\" y=\"0\"/></clipPath></defs><g class=\"layer-above\"><g class=\"imagelayer\"/><g class=\"shapelayer\"/></g><g class=\"infolayer\"><g class=\"legend\" pointer-events=\"all\" transform=\"translate(457.40000000000003,60)\"><rect class=\"bg\" shape-rendering=\"crispEdges\" style=\"stroke: rgb(68, 68, 68); stroke-opacity: 1; fill: rgb(255, 255, 255); fill-opacity: 1; stroke-width: 0px;\" width=\"231\" height=\"105\" x=\"0\" y=\"0\"/><g class=\"scrollbox\" transform=\"\" clip-path=\"url(#legend039f90)\"><text class=\"legendtitletext\" text-anchor=\"start\" x=\"2\" y=\"18.2\" style=\"font-family: 'Open Sans', verdana, arial, sans-serif; font-size: 14px; fill: rgb(42, 63, 95); fill-opacity: 1; white-space: pre;\">variable</text><g class=\"groups\" transform=\"\"><g class=\"traces\" transform=\"translate(0,32.7)\" style=\"opacity: 1;\"><text class=\"legendtext\" text-anchor=\"start\" x=\"40\" y=\"4.680000000000001\" style=\"font-family: 'Open Sans', verdana, arial, sans-serif; font-size: 12px; fill: rgb(42, 63, 95); fill-opacity: 1; white-space: pre;\">Solar Fotovoltaica</text><g class=\"layers\" style=\"opacity: 1;\"><g class=\"legendfill\"/><g class=\"legendlines\"><path class=\"js-line\" d=\"M5,0h30\" style=\"fill: none; stroke: rgb(99, 110, 250); stroke-opacity: 1; stroke-width: 2px;\"/></g><g class=\"legendsymbols\"><g class=\"legendpoints\"/></g></g><rect class=\"legendtoggle\" x=\"0\" y=\"-9.5\" width=\"225.078125\" height=\"19\" style=\"fill: rgb(0, 0, 0); fill-opacity: 0;\"/></g></g><g class=\"groups\" transform=\"\"><g class=\"traces\" transform=\"translate(0,51.7)\" style=\"opacity: 1;\"><text class=\"legendtext\" text-anchor=\"start\" x=\"40\" y=\"4.680000000000001\" style=\"font-family: 'Open Sans', verdana, arial, sans-serif; font-size: 12px; fill: rgb(42, 63, 95); fill-opacity: 1; white-space: pre;\">Forecast (4, 0, 4)</text><g class=\"layers\" style=\"opacity: 1;\"><g class=\"legendfill\"/><g class=\"legendlines\"><path class=\"js-line\" d=\"M5,0h30\" style=\"fill: none; stroke: rgb(239, 85, 59); stroke-opacity: 1; stroke-width: 2px;\"/></g><g class=\"legendsymbols\"><g class=\"legendpoints\"/></g></g><rect class=\"legendtoggle\" x=\"0\" y=\"-9.5\" width=\"225.078125\" height=\"19\" style=\"fill: rgb(0, 0, 0); fill-opacity: 0;\"/></g></g><g class=\"groups\" transform=\"\"><g class=\"traces\" transform=\"translate(0,70.7)\" style=\"opacity: 1;\"><text class=\"legendtext\" text-anchor=\"start\" x=\"40\" y=\"4.680000000000001\" style=\"font-family: 'Open Sans', verdana, arial, sans-serif; font-size: 12px; fill: rgb(42, 63, 95); fill-opacity: 1; white-space: pre;\">Forecast (3, 0, 3) (1, 0, 1, 24)</text><g class=\"layers\" style=\"opacity: 1;\"><g class=\"legendfill\"/><g class=\"legendlines\"><path class=\"js-line\" d=\"M5,0h30\" style=\"fill: none; stroke: rgb(0, 204, 150); stroke-opacity: 1; stroke-width: 2px;\"/></g><g class=\"legendsymbols\"><g class=\"legendpoints\"/></g></g><rect class=\"legendtoggle\" x=\"0\" y=\"-9.5\" width=\"225.078125\" height=\"19\" style=\"fill: rgb(0, 0, 0); fill-opacity: 0;\"/></g></g><g class=\"groups\" transform=\"\"><g class=\"traces\" transform=\"translate(0,89.7)\" style=\"opacity: 1;\"><text class=\"legendtext\" text-anchor=\"start\" x=\"40\" y=\"4.680000000000001\" style=\"font-family: 'Open Sans', verdana, arial, sans-serif; font-size: 12px; fill: rgb(42, 63, 95); fill-opacity: 1; white-space: pre;\">Forecast (1, 1, 3) (1, 0, 3, 12)</text><g class=\"layers\" style=\"opacity: 1;\"><g class=\"legendfill\"/><g class=\"legendlines\"><path class=\"js-line\" d=\"M5,0h30\" style=\"fill: none; stroke: rgb(171, 99, 250); stroke-opacity: 1; stroke-width: 2px;\"/></g><g class=\"legendsymbols\"><g class=\"legendpoints\"/></g></g><rect class=\"legendtoggle\" x=\"0\" y=\"-9.5\" width=\"225.078125\" height=\"19\" style=\"fill: rgb(0, 0, 0); fill-opacity: 0;\"/></g></g></g><rect class=\"scrollbar\" rx=\"20\" ry=\"3\" width=\"0\" height=\"0\" style=\"fill: rgb(128, 139, 164); fill-opacity: 1;\" x=\"0\" y=\"0\"/></g><g class=\"g-gtitle\"/><g class=\"g-xtitle\"><text class=\"xtitle\" x=\"265\" y=\"475.909375\" text-anchor=\"middle\" style=\"font-family: 'Open Sans', verdana, arial, sans-serif; font-size: 14px; fill: rgb(42, 63, 95); opacity: 1; font-weight: normal; white-space: pre;\">index</text></g><g class=\"g-ytitle\"><text class=\"ytitle\" transform=\"rotate(-90,30.137500000000003,240)\" x=\"30.137500000000003\" y=\"240\" text-anchor=\"middle\" style=\"font-family: 'Open Sans', verdana, arial, sans-serif; font-size: 14px; fill: rgb(42, 63, 95); opacity: 1; font-weight: normal; white-space: pre;\">value</text></g></g></svg>"
      ]
     },
     "metadata": {},
     "output_type": "display_data"
    }
   ],
   "source": []
  }
 ],
 "metadata": {
  "kernelspec": {
   "display_name": "Python 3 (ipykernel)",
   "language": "python",
   "name": "python3"
  },
  "language_info": {
   "codemirror_mode": {
    "name": "ipython",
    "version": 3
   },
   "file_extension": ".py",
   "mimetype": "text/x-python",
   "name": "python",
   "nbconvert_exporter": "python",
   "pygments_lexer": "ipython3",
   "version": "3.12.2"
  },
  "papermill": {
   "default_parameters": {},
   "duration": 25.575103,
   "end_time": "2024-05-29T23:06:34.015837",
   "environment_variables": {},
   "exception": null,
   "input_path": "/Users/sota/Library/CloudStorage/Dropbox/2 Business/1 Datons/2 Areas/Courses/22 TS/solutions-new/notebooks/40_Forecasting I Stats/4_Assignment/1.ipynb",
   "output_path": "/Users/sota/Library/CloudStorage/Dropbox/2 Business/1 Datons/2 Areas/Courses/22 TS/solutions-new/notebooks/40_Forecasting I Stats/4_Assignment/1.ipynb",
   "parameters": {},
   "start_time": "2024-05-29T23:06:08.440734",
   "version": "2.5.0"
  },
  "widgets": {
   "application/vnd.jupyter.widget-state+json": {
    "state": {
     "102135c6b103424b894ee6dbb5176792": {
      "model_module": "@jupyter-widgets/controls",
      "model_module_version": "2.0.0",
      "model_name": "HTMLModel",
      "state": {
       "_dom_classes": [],
       "_model_module": "@jupyter-widgets/controls",
       "_model_module_version": "2.0.0",
       "_model_name": "HTMLModel",
       "_view_count": null,
       "_view_module": "@jupyter-widgets/controls",
       "_view_module_version": "2.0.0",
       "_view_name": "HTMLView",
       "description": "",
       "description_allow_html": false,
       "layout": "IPY_MODEL_5673c0671c9249d592cf8803126b4fc6",
       "placeholder": "​",
       "style": "IPY_MODEL_506741bf64ca454795f5bf8e0378c05a",
       "tabbable": null,
       "tooltip": null,
       "value": " 2/2 [00:05&lt;00:00,  2.75s/it]"
      }
     },
     "13e85ea94ef5401eaa4d014d3b23b015": {
      "model_module": "@jupyter-widgets/controls",
      "model_module_version": "2.0.0",
      "model_name": "HTMLModel",
      "state": {
       "_dom_classes": [],
       "_model_module": "@jupyter-widgets/controls",
       "_model_module_version": "2.0.0",
       "_model_name": "HTMLModel",
       "_view_count": null,
       "_view_module": "@jupyter-widgets/controls",
       "_view_module_version": "2.0.0",
       "_view_name": "HTMLView",
       "description": "",
       "description_allow_html": false,
       "layout": "IPY_MODEL_c053df10220e48a5868231f81d71b2c8",
       "placeholder": "​",
       "style": "IPY_MODEL_991f0a6e138547b494f46abc69c197ae",
       "tabbable": null,
       "tooltip": null,
       "value": " 2/2 [00:02&lt;00:00,  1.54s/it]"
      }
     },
     "18a18fa22a974065a083dec5d954b822": {
      "model_module": "@jupyter-widgets/base",
      "model_module_version": "2.0.0",
      "model_name": "LayoutModel",
      "state": {
       "_model_module": "@jupyter-widgets/base",
       "_model_module_version": "2.0.0",
       "_model_name": "LayoutModel",
       "_view_count": null,
       "_view_module": "@jupyter-widgets/base",
       "_view_module_version": "2.0.0",
       "_view_name": "LayoutView",
       "align_content": null,
       "align_items": null,
       "align_self": null,
       "border_bottom": null,
       "border_left": null,
       "border_right": null,
       "border_top": null,
       "bottom": null,
       "display": null,
       "flex": null,
       "flex_flow": null,
       "grid_area": null,
       "grid_auto_columns": null,
       "grid_auto_flow": null,
       "grid_auto_rows": null,
       "grid_column": null,
       "grid_gap": null,
       "grid_row": null,
       "grid_template_areas": null,
       "grid_template_columns": null,
       "grid_template_rows": null,
       "height": null,
       "justify_content": null,
       "justify_items": null,
       "left": null,
       "margin": null,
       "max_height": null,
       "max_width": null,
       "min_height": null,
       "min_width": null,
       "object_fit": null,
       "object_position": null,
       "order": null,
       "overflow": null,
       "padding": null,
       "right": null,
       "top": null,
       "visibility": null,
       "width": null
      }
     },
     "1aeb1b60050b4a72a2d9ba8af1443f58": {
      "model_module": "@jupyter-widgets/controls",
      "model_module_version": "2.0.0",
      "model_name": "HTMLModel",
      "state": {
       "_dom_classes": [],
       "_model_module": "@jupyter-widgets/controls",
       "_model_module_version": "2.0.0",
       "_model_name": "HTMLModel",
       "_view_count": null,
       "_view_module": "@jupyter-widgets/controls",
       "_view_module_version": "2.0.0",
       "_view_name": "HTMLView",
       "description": "",
       "description_allow_html": false,
       "layout": "IPY_MODEL_18a18fa22a974065a083dec5d954b822",
       "placeholder": "​",
       "style": "IPY_MODEL_c1ae997f39df4b37a3de0e286e14c6aa",
       "tabbable": null,
       "tooltip": null,
       "value": " 2/2 [00:02&lt;00:00,  1.45s/it]"
      }
     },
     "210e0358b4464aee81c6298f5e102ddf": {
      "model_module": "@jupyter-widgets/controls",
      "model_module_version": "2.0.0",
      "model_name": "HBoxModel",
      "state": {
       "_dom_classes": [],
       "_model_module": "@jupyter-widgets/controls",
       "_model_module_version": "2.0.0",
       "_model_name": "HBoxModel",
       "_view_count": null,
       "_view_module": "@jupyter-widgets/controls",
       "_view_module_version": "2.0.0",
       "_view_name": "HBoxView",
       "box_style": "",
       "children": [
        "IPY_MODEL_a5e5f1bb599c48b084356d2e328b5018",
        "IPY_MODEL_bc450ae25a92479abb7e798f06851ae1",
        "IPY_MODEL_13e85ea94ef5401eaa4d014d3b23b015"
       ],
       "layout": "IPY_MODEL_b65af4eca6be4a3d9a231b92ea7a3472",
       "tabbable": null,
       "tooltip": null
      }
     },
     "22a73bc504ef4474a06cd7169c6ee9b2": {
      "model_module": "@jupyter-widgets/controls",
      "model_module_version": "2.0.0",
      "model_name": "FloatProgressModel",
      "state": {
       "_dom_classes": [],
       "_model_module": "@jupyter-widgets/controls",
       "_model_module_version": "2.0.0",
       "_model_name": "FloatProgressModel",
       "_view_count": null,
       "_view_module": "@jupyter-widgets/controls",
       "_view_module_version": "2.0.0",
       "_view_name": "ProgressView",
       "bar_style": "success",
       "description": "",
       "description_allow_html": false,
       "layout": "IPY_MODEL_23e5030cbfcd4c00a2d4a77bbc90de7e",
       "max": 2,
       "min": 0,
       "orientation": "horizontal",
       "style": "IPY_MODEL_6f6d32c534dc49c6a4f500a69c97ea20",
       "tabbable": null,
       "tooltip": null,
       "value": 2
      }
     },
     "232a605cd04944ee91ce88cd32c1d4fd": {
      "model_module": "@jupyter-widgets/controls",
      "model_module_version": "2.0.0",
      "model_name": "FloatProgressModel",
      "state": {
       "_dom_classes": [],
       "_model_module": "@jupyter-widgets/controls",
       "_model_module_version": "2.0.0",
       "_model_name": "FloatProgressModel",
       "_view_count": null,
       "_view_module": "@jupyter-widgets/controls",
       "_view_module_version": "2.0.0",
       "_view_name": "ProgressView",
       "bar_style": "success",
       "description": "",
       "description_allow_html": false,
       "layout": "IPY_MODEL_c2fcc4d195d34ed1aa48f3e6ab9d3c70",
       "max": 2,
       "min": 0,
       "orientation": "horizontal",
       "style": "IPY_MODEL_72bb5485d89b4a978310216e1a2b915d",
       "tabbable": null,
       "tooltip": null,
       "value": 2
      }
     },
     "23e5030cbfcd4c00a2d4a77bbc90de7e": {
      "model_module": "@jupyter-widgets/base",
      "model_module_version": "2.0.0",
      "model_name": "LayoutModel",
      "state": {
       "_model_module": "@jupyter-widgets/base",
       "_model_module_version": "2.0.0",
       "_model_name": "LayoutModel",
       "_view_count": null,
       "_view_module": "@jupyter-widgets/base",
       "_view_module_version": "2.0.0",
       "_view_name": "LayoutView",
       "align_content": null,
       "align_items": null,
       "align_self": null,
       "border_bottom": null,
       "border_left": null,
       "border_right": null,
       "border_top": null,
       "bottom": null,
       "display": null,
       "flex": null,
       "flex_flow": null,
       "grid_area": null,
       "grid_auto_columns": null,
       "grid_auto_flow": null,
       "grid_auto_rows": null,
       "grid_column": null,
       "grid_gap": null,
       "grid_row": null,
       "grid_template_areas": null,
       "grid_template_columns": null,
       "grid_template_rows": null,
       "height": null,
       "justify_content": null,
       "justify_items": null,
       "left": null,
       "margin": null,
       "max_height": null,
       "max_width": null,
       "min_height": null,
       "min_width": null,
       "object_fit": null,
       "object_position": null,
       "order": null,
       "overflow": null,
       "padding": null,
       "right": null,
       "top": null,
       "visibility": null,
       "width": null
      }
     },
     "3d784fd98c6a42359330e210b0f3a0b7": {
      "model_module": "@jupyter-widgets/controls",
      "model_module_version": "2.0.0",
      "model_name": "HTMLModel",
      "state": {
       "_dom_classes": [],
       "_model_module": "@jupyter-widgets/controls",
       "_model_module_version": "2.0.0",
       "_model_name": "HTMLModel",
       "_view_count": null,
       "_view_module": "@jupyter-widgets/controls",
       "_view_module_version": "2.0.0",
       "_view_name": "HTMLView",
       "description": "",
       "description_allow_html": false,
       "layout": "IPY_MODEL_a7d12fba2230493bbaf4fd4a55e3519d",
       "placeholder": "​",
       "style": "IPY_MODEL_5955700a0023480b869fa56fcb91c3ec",
       "tabbable": null,
       "tooltip": null,
       "value": "100%"
      }
     },
     "506741bf64ca454795f5bf8e0378c05a": {
      "model_module": "@jupyter-widgets/controls",
      "model_module_version": "2.0.0",
      "model_name": "HTMLStyleModel",
      "state": {
       "_model_module": "@jupyter-widgets/controls",
       "_model_module_version": "2.0.0",
       "_model_name": "HTMLStyleModel",
       "_view_count": null,
       "_view_module": "@jupyter-widgets/base",
       "_view_module_version": "2.0.0",
       "_view_name": "StyleView",
       "background": null,
       "description_width": "",
       "font_size": null,
       "text_color": null
      }
     },
     "5673c0671c9249d592cf8803126b4fc6": {
      "model_module": "@jupyter-widgets/base",
      "model_module_version": "2.0.0",
      "model_name": "LayoutModel",
      "state": {
       "_model_module": "@jupyter-widgets/base",
       "_model_module_version": "2.0.0",
       "_model_name": "LayoutModel",
       "_view_count": null,
       "_view_module": "@jupyter-widgets/base",
       "_view_module_version": "2.0.0",
       "_view_name": "LayoutView",
       "align_content": null,
       "align_items": null,
       "align_self": null,
       "border_bottom": null,
       "border_left": null,
       "border_right": null,
       "border_top": null,
       "bottom": null,
       "display": null,
       "flex": null,
       "flex_flow": null,
       "grid_area": null,
       "grid_auto_columns": null,
       "grid_auto_flow": null,
       "grid_auto_rows": null,
       "grid_column": null,
       "grid_gap": null,
       "grid_row": null,
       "grid_template_areas": null,
       "grid_template_columns": null,
       "grid_template_rows": null,
       "height": null,
       "justify_content": null,
       "justify_items": null,
       "left": null,
       "margin": null,
       "max_height": null,
       "max_width": null,
       "min_height": null,
       "min_width": null,
       "object_fit": null,
       "object_position": null,
       "order": null,
       "overflow": null,
       "padding": null,
       "right": null,
       "top": null,
       "visibility": null,
       "width": null
      }
     },
     "5955700a0023480b869fa56fcb91c3ec": {
      "model_module": "@jupyter-widgets/controls",
      "model_module_version": "2.0.0",
      "model_name": "HTMLStyleModel",
      "state": {
       "_model_module": "@jupyter-widgets/controls",
       "_model_module_version": "2.0.0",
       "_model_name": "HTMLStyleModel",
       "_view_count": null,
       "_view_module": "@jupyter-widgets/base",
       "_view_module_version": "2.0.0",
       "_view_name": "StyleView",
       "background": null,
       "description_width": "",
       "font_size": null,
       "text_color": null
      }
     },
     "6aaa90591e504426b907c5c386bf8137": {
      "model_module": "@jupyter-widgets/controls",
      "model_module_version": "2.0.0",
      "model_name": "HBoxModel",
      "state": {
       "_dom_classes": [],
       "_model_module": "@jupyter-widgets/controls",
       "_model_module_version": "2.0.0",
       "_model_name": "HBoxModel",
       "_view_count": null,
       "_view_module": "@jupyter-widgets/controls",
       "_view_module_version": "2.0.0",
       "_view_name": "HBoxView",
       "box_style": "",
       "children": [
        "IPY_MODEL_3d784fd98c6a42359330e210b0f3a0b7",
        "IPY_MODEL_22a73bc504ef4474a06cd7169c6ee9b2",
        "IPY_MODEL_102135c6b103424b894ee6dbb5176792"
       ],
       "layout": "IPY_MODEL_a2ffe9e8702c4aba994a390ecc1e855d",
       "tabbable": null,
       "tooltip": null
      }
     },
     "6f6d32c534dc49c6a4f500a69c97ea20": {
      "model_module": "@jupyter-widgets/controls",
      "model_module_version": "2.0.0",
      "model_name": "ProgressStyleModel",
      "state": {
       "_model_module": "@jupyter-widgets/controls",
       "_model_module_version": "2.0.0",
       "_model_name": "ProgressStyleModel",
       "_view_count": null,
       "_view_module": "@jupyter-widgets/base",
       "_view_module_version": "2.0.0",
       "_view_name": "StyleView",
       "bar_color": null,
       "description_width": ""
      }
     },
     "7054c2b45cac4319935af585b62b7c55": {
      "model_module": "@jupyter-widgets/controls",
      "model_module_version": "2.0.0",
      "model_name": "HTMLModel",
      "state": {
       "_dom_classes": [],
       "_model_module": "@jupyter-widgets/controls",
       "_model_module_version": "2.0.0",
       "_model_name": "HTMLModel",
       "_view_count": null,
       "_view_module": "@jupyter-widgets/controls",
       "_view_module_version": "2.0.0",
       "_view_name": "HTMLView",
       "description": "",
       "description_allow_html": false,
       "layout": "IPY_MODEL_acb62b09672a4d27a2f4b63f2b2aa1ba",
       "placeholder": "​",
       "style": "IPY_MODEL_8eeeb0e22e834c6b9b5405a1b4ee6b00",
       "tabbable": null,
       "tooltip": null,
       "value": "100%"
      }
     },
     "72bb5485d89b4a978310216e1a2b915d": {
      "model_module": "@jupyter-widgets/controls",
      "model_module_version": "2.0.0",
      "model_name": "ProgressStyleModel",
      "state": {
       "_model_module": "@jupyter-widgets/controls",
       "_model_module_version": "2.0.0",
       "_model_name": "ProgressStyleModel",
       "_view_count": null,
       "_view_module": "@jupyter-widgets/base",
       "_view_module_version": "2.0.0",
       "_view_name": "StyleView",
       "bar_color": null,
       "description_width": ""
      }
     },
     "7651725d8bff42fa849ea9a5621ecd99": {
      "model_module": "@jupyter-widgets/controls",
      "model_module_version": "2.0.0",
      "model_name": "HTMLStyleModel",
      "state": {
       "_model_module": "@jupyter-widgets/controls",
       "_model_module_version": "2.0.0",
       "_model_name": "HTMLStyleModel",
       "_view_count": null,
       "_view_module": "@jupyter-widgets/base",
       "_view_module_version": "2.0.0",
       "_view_name": "StyleView",
       "background": null,
       "description_width": "",
       "font_size": null,
       "text_color": null
      }
     },
     "7d7e24f354de494984993fbece40205a": {
      "model_module": "@jupyter-widgets/base",
      "model_module_version": "2.0.0",
      "model_name": "LayoutModel",
      "state": {
       "_model_module": "@jupyter-widgets/base",
       "_model_module_version": "2.0.0",
       "_model_name": "LayoutModel",
       "_view_count": null,
       "_view_module": "@jupyter-widgets/base",
       "_view_module_version": "2.0.0",
       "_view_name": "LayoutView",
       "align_content": null,
       "align_items": null,
       "align_self": null,
       "border_bottom": null,
       "border_left": null,
       "border_right": null,
       "border_top": null,
       "bottom": null,
       "display": null,
       "flex": null,
       "flex_flow": null,
       "grid_area": null,
       "grid_auto_columns": null,
       "grid_auto_flow": null,
       "grid_auto_rows": null,
       "grid_column": null,
       "grid_gap": null,
       "grid_row": null,
       "grid_template_areas": null,
       "grid_template_columns": null,
       "grid_template_rows": null,
       "height": null,
       "justify_content": null,
       "justify_items": null,
       "left": null,
       "margin": null,
       "max_height": null,
       "max_width": null,
       "min_height": null,
       "min_width": null,
       "object_fit": null,
       "object_position": null,
       "order": null,
       "overflow": null,
       "padding": null,
       "right": null,
       "top": null,
       "visibility": null,
       "width": null
      }
     },
     "87a404aad8e44ad5b491369a113f4f18": {
      "model_module": "@jupyter-widgets/controls",
      "model_module_version": "2.0.0",
      "model_name": "HBoxModel",
      "state": {
       "_dom_classes": [],
       "_model_module": "@jupyter-widgets/controls",
       "_model_module_version": "2.0.0",
       "_model_name": "HBoxModel",
       "_view_count": null,
       "_view_module": "@jupyter-widgets/controls",
       "_view_module_version": "2.0.0",
       "_view_name": "HBoxView",
       "box_style": "",
       "children": [
        "IPY_MODEL_7054c2b45cac4319935af585b62b7c55",
        "IPY_MODEL_232a605cd04944ee91ce88cd32c1d4fd",
        "IPY_MODEL_1aeb1b60050b4a72a2d9ba8af1443f58"
       ],
       "layout": "IPY_MODEL_7d7e24f354de494984993fbece40205a",
       "tabbable": null,
       "tooltip": null
      }
     },
     "8eeeb0e22e834c6b9b5405a1b4ee6b00": {
      "model_module": "@jupyter-widgets/controls",
      "model_module_version": "2.0.0",
      "model_name": "HTMLStyleModel",
      "state": {
       "_model_module": "@jupyter-widgets/controls",
       "_model_module_version": "2.0.0",
       "_model_name": "HTMLStyleModel",
       "_view_count": null,
       "_view_module": "@jupyter-widgets/base",
       "_view_module_version": "2.0.0",
       "_view_name": "StyleView",
       "background": null,
       "description_width": "",
       "font_size": null,
       "text_color": null
      }
     },
     "991f0a6e138547b494f46abc69c197ae": {
      "model_module": "@jupyter-widgets/controls",
      "model_module_version": "2.0.0",
      "model_name": "HTMLStyleModel",
      "state": {
       "_model_module": "@jupyter-widgets/controls",
       "_model_module_version": "2.0.0",
       "_model_name": "HTMLStyleModel",
       "_view_count": null,
       "_view_module": "@jupyter-widgets/base",
       "_view_module_version": "2.0.0",
       "_view_name": "StyleView",
       "background": null,
       "description_width": "",
       "font_size": null,
       "text_color": null
      }
     },
     "a2ffe9e8702c4aba994a390ecc1e855d": {
      "model_module": "@jupyter-widgets/base",
      "model_module_version": "2.0.0",
      "model_name": "LayoutModel",
      "state": {
       "_model_module": "@jupyter-widgets/base",
       "_model_module_version": "2.0.0",
       "_model_name": "LayoutModel",
       "_view_count": null,
       "_view_module": "@jupyter-widgets/base",
       "_view_module_version": "2.0.0",
       "_view_name": "LayoutView",
       "align_content": null,
       "align_items": null,
       "align_self": null,
       "border_bottom": null,
       "border_left": null,
       "border_right": null,
       "border_top": null,
       "bottom": null,
       "display": null,
       "flex": null,
       "flex_flow": null,
       "grid_area": null,
       "grid_auto_columns": null,
       "grid_auto_flow": null,
       "grid_auto_rows": null,
       "grid_column": null,
       "grid_gap": null,
       "grid_row": null,
       "grid_template_areas": null,
       "grid_template_columns": null,
       "grid_template_rows": null,
       "height": null,
       "justify_content": null,
       "justify_items": null,
       "left": null,
       "margin": null,
       "max_height": null,
       "max_width": null,
       "min_height": null,
       "min_width": null,
       "object_fit": null,
       "object_position": null,
       "order": null,
       "overflow": null,
       "padding": null,
       "right": null,
       "top": null,
       "visibility": null,
       "width": null
      }
     },
     "a5e5f1bb599c48b084356d2e328b5018": {
      "model_module": "@jupyter-widgets/controls",
      "model_module_version": "2.0.0",
      "model_name": "HTMLModel",
      "state": {
       "_dom_classes": [],
       "_model_module": "@jupyter-widgets/controls",
       "_model_module_version": "2.0.0",
       "_model_name": "HTMLModel",
       "_view_count": null,
       "_view_module": "@jupyter-widgets/controls",
       "_view_module_version": "2.0.0",
       "_view_name": "HTMLView",
       "description": "",
       "description_allow_html": false,
       "layout": "IPY_MODEL_d4d27a0daf3e440daba485f7db71c240",
       "placeholder": "​",
       "style": "IPY_MODEL_7651725d8bff42fa849ea9a5621ecd99",
       "tabbable": null,
       "tooltip": null,
       "value": "100%"
      }
     },
     "a7d12fba2230493bbaf4fd4a55e3519d": {
      "model_module": "@jupyter-widgets/base",
      "model_module_version": "2.0.0",
      "model_name": "LayoutModel",
      "state": {
       "_model_module": "@jupyter-widgets/base",
       "_model_module_version": "2.0.0",
       "_model_name": "LayoutModel",
       "_view_count": null,
       "_view_module": "@jupyter-widgets/base",
       "_view_module_version": "2.0.0",
       "_view_name": "LayoutView",
       "align_content": null,
       "align_items": null,
       "align_self": null,
       "border_bottom": null,
       "border_left": null,
       "border_right": null,
       "border_top": null,
       "bottom": null,
       "display": null,
       "flex": null,
       "flex_flow": null,
       "grid_area": null,
       "grid_auto_columns": null,
       "grid_auto_flow": null,
       "grid_auto_rows": null,
       "grid_column": null,
       "grid_gap": null,
       "grid_row": null,
       "grid_template_areas": null,
       "grid_template_columns": null,
       "grid_template_rows": null,
       "height": null,
       "justify_content": null,
       "justify_items": null,
       "left": null,
       "margin": null,
       "max_height": null,
       "max_width": null,
       "min_height": null,
       "min_width": null,
       "object_fit": null,
       "object_position": null,
       "order": null,
       "overflow": null,
       "padding": null,
       "right": null,
       "top": null,
       "visibility": null,
       "width": null
      }
     },
     "acb62b09672a4d27a2f4b63f2b2aa1ba": {
      "model_module": "@jupyter-widgets/base",
      "model_module_version": "2.0.0",
      "model_name": "LayoutModel",
      "state": {
       "_model_module": "@jupyter-widgets/base",
       "_model_module_version": "2.0.0",
       "_model_name": "LayoutModel",
       "_view_count": null,
       "_view_module": "@jupyter-widgets/base",
       "_view_module_version": "2.0.0",
       "_view_name": "LayoutView",
       "align_content": null,
       "align_items": null,
       "align_self": null,
       "border_bottom": null,
       "border_left": null,
       "border_right": null,
       "border_top": null,
       "bottom": null,
       "display": null,
       "flex": null,
       "flex_flow": null,
       "grid_area": null,
       "grid_auto_columns": null,
       "grid_auto_flow": null,
       "grid_auto_rows": null,
       "grid_column": null,
       "grid_gap": null,
       "grid_row": null,
       "grid_template_areas": null,
       "grid_template_columns": null,
       "grid_template_rows": null,
       "height": null,
       "justify_content": null,
       "justify_items": null,
       "left": null,
       "margin": null,
       "max_height": null,
       "max_width": null,
       "min_height": null,
       "min_width": null,
       "object_fit": null,
       "object_position": null,
       "order": null,
       "overflow": null,
       "padding": null,
       "right": null,
       "top": null,
       "visibility": null,
       "width": null
      }
     },
     "b65af4eca6be4a3d9a231b92ea7a3472": {
      "model_module": "@jupyter-widgets/base",
      "model_module_version": "2.0.0",
      "model_name": "LayoutModel",
      "state": {
       "_model_module": "@jupyter-widgets/base",
       "_model_module_version": "2.0.0",
       "_model_name": "LayoutModel",
       "_view_count": null,
       "_view_module": "@jupyter-widgets/base",
       "_view_module_version": "2.0.0",
       "_view_name": "LayoutView",
       "align_content": null,
       "align_items": null,
       "align_self": null,
       "border_bottom": null,
       "border_left": null,
       "border_right": null,
       "border_top": null,
       "bottom": null,
       "display": null,
       "flex": null,
       "flex_flow": null,
       "grid_area": null,
       "grid_auto_columns": null,
       "grid_auto_flow": null,
       "grid_auto_rows": null,
       "grid_column": null,
       "grid_gap": null,
       "grid_row": null,
       "grid_template_areas": null,
       "grid_template_columns": null,
       "grid_template_rows": null,
       "height": null,
       "justify_content": null,
       "justify_items": null,
       "left": null,
       "margin": null,
       "max_height": null,
       "max_width": null,
       "min_height": null,
       "min_width": null,
       "object_fit": null,
       "object_position": null,
       "order": null,
       "overflow": null,
       "padding": null,
       "right": null,
       "top": null,
       "visibility": null,
       "width": null
      }
     },
     "b9a8d15db45148cfb5fa0e50c83f5127": {
      "model_module": "@jupyter-widgets/base",
      "model_module_version": "2.0.0",
      "model_name": "LayoutModel",
      "state": {
       "_model_module": "@jupyter-widgets/base",
       "_model_module_version": "2.0.0",
       "_model_name": "LayoutModel",
       "_view_count": null,
       "_view_module": "@jupyter-widgets/base",
       "_view_module_version": "2.0.0",
       "_view_name": "LayoutView",
       "align_content": null,
       "align_items": null,
       "align_self": null,
       "border_bottom": null,
       "border_left": null,
       "border_right": null,
       "border_top": null,
       "bottom": null,
       "display": null,
       "flex": null,
       "flex_flow": null,
       "grid_area": null,
       "grid_auto_columns": null,
       "grid_auto_flow": null,
       "grid_auto_rows": null,
       "grid_column": null,
       "grid_gap": null,
       "grid_row": null,
       "grid_template_areas": null,
       "grid_template_columns": null,
       "grid_template_rows": null,
       "height": null,
       "justify_content": null,
       "justify_items": null,
       "left": null,
       "margin": null,
       "max_height": null,
       "max_width": null,
       "min_height": null,
       "min_width": null,
       "object_fit": null,
       "object_position": null,
       "order": null,
       "overflow": null,
       "padding": null,
       "right": null,
       "top": null,
       "visibility": null,
       "width": null
      }
     },
     "bc450ae25a92479abb7e798f06851ae1": {
      "model_module": "@jupyter-widgets/controls",
      "model_module_version": "2.0.0",
      "model_name": "FloatProgressModel",
      "state": {
       "_dom_classes": [],
       "_model_module": "@jupyter-widgets/controls",
       "_model_module_version": "2.0.0",
       "_model_name": "FloatProgressModel",
       "_view_count": null,
       "_view_module": "@jupyter-widgets/controls",
       "_view_module_version": "2.0.0",
       "_view_name": "ProgressView",
       "bar_style": "success",
       "description": "",
       "description_allow_html": false,
       "layout": "IPY_MODEL_b9a8d15db45148cfb5fa0e50c83f5127",
       "max": 2,
       "min": 0,
       "orientation": "horizontal",
       "style": "IPY_MODEL_d8119759e1da45baa0c4ce4fc4eba259",
       "tabbable": null,
       "tooltip": null,
       "value": 2
      }
     },
     "c053df10220e48a5868231f81d71b2c8": {
      "model_module": "@jupyter-widgets/base",
      "model_module_version": "2.0.0",
      "model_name": "LayoutModel",
      "state": {
       "_model_module": "@jupyter-widgets/base",
       "_model_module_version": "2.0.0",
       "_model_name": "LayoutModel",
       "_view_count": null,
       "_view_module": "@jupyter-widgets/base",
       "_view_module_version": "2.0.0",
       "_view_name": "LayoutView",
       "align_content": null,
       "align_items": null,
       "align_self": null,
       "border_bottom": null,
       "border_left": null,
       "border_right": null,
       "border_top": null,
       "bottom": null,
       "display": null,
       "flex": null,
       "flex_flow": null,
       "grid_area": null,
       "grid_auto_columns": null,
       "grid_auto_flow": null,
       "grid_auto_rows": null,
       "grid_column": null,
       "grid_gap": null,
       "grid_row": null,
       "grid_template_areas": null,
       "grid_template_columns": null,
       "grid_template_rows": null,
       "height": null,
       "justify_content": null,
       "justify_items": null,
       "left": null,
       "margin": null,
       "max_height": null,
       "max_width": null,
       "min_height": null,
       "min_width": null,
       "object_fit": null,
       "object_position": null,
       "order": null,
       "overflow": null,
       "padding": null,
       "right": null,
       "top": null,
       "visibility": null,
       "width": null
      }
     },
     "c1ae997f39df4b37a3de0e286e14c6aa": {
      "model_module": "@jupyter-widgets/controls",
      "model_module_version": "2.0.0",
      "model_name": "HTMLStyleModel",
      "state": {
       "_model_module": "@jupyter-widgets/controls",
       "_model_module_version": "2.0.0",
       "_model_name": "HTMLStyleModel",
       "_view_count": null,
       "_view_module": "@jupyter-widgets/base",
       "_view_module_version": "2.0.0",
       "_view_name": "StyleView",
       "background": null,
       "description_width": "",
       "font_size": null,
       "text_color": null
      }
     },
     "c2fcc4d195d34ed1aa48f3e6ab9d3c70": {
      "model_module": "@jupyter-widgets/base",
      "model_module_version": "2.0.0",
      "model_name": "LayoutModel",
      "state": {
       "_model_module": "@jupyter-widgets/base",
       "_model_module_version": "2.0.0",
       "_model_name": "LayoutModel",
       "_view_count": null,
       "_view_module": "@jupyter-widgets/base",
       "_view_module_version": "2.0.0",
       "_view_name": "LayoutView",
       "align_content": null,
       "align_items": null,
       "align_self": null,
       "border_bottom": null,
       "border_left": null,
       "border_right": null,
       "border_top": null,
       "bottom": null,
       "display": null,
       "flex": null,
       "flex_flow": null,
       "grid_area": null,
       "grid_auto_columns": null,
       "grid_auto_flow": null,
       "grid_auto_rows": null,
       "grid_column": null,
       "grid_gap": null,
       "grid_row": null,
       "grid_template_areas": null,
       "grid_template_columns": null,
       "grid_template_rows": null,
       "height": null,
       "justify_content": null,
       "justify_items": null,
       "left": null,
       "margin": null,
       "max_height": null,
       "max_width": null,
       "min_height": null,
       "min_width": null,
       "object_fit": null,
       "object_position": null,
       "order": null,
       "overflow": null,
       "padding": null,
       "right": null,
       "top": null,
       "visibility": null,
       "width": null
      }
     },
     "d4d27a0daf3e440daba485f7db71c240": {
      "model_module": "@jupyter-widgets/base",
      "model_module_version": "2.0.0",
      "model_name": "LayoutModel",
      "state": {
       "_model_module": "@jupyter-widgets/base",
       "_model_module_version": "2.0.0",
       "_model_name": "LayoutModel",
       "_view_count": null,
       "_view_module": "@jupyter-widgets/base",
       "_view_module_version": "2.0.0",
       "_view_name": "LayoutView",
       "align_content": null,
       "align_items": null,
       "align_self": null,
       "border_bottom": null,
       "border_left": null,
       "border_right": null,
       "border_top": null,
       "bottom": null,
       "display": null,
       "flex": null,
       "flex_flow": null,
       "grid_area": null,
       "grid_auto_columns": null,
       "grid_auto_flow": null,
       "grid_auto_rows": null,
       "grid_column": null,
       "grid_gap": null,
       "grid_row": null,
       "grid_template_areas": null,
       "grid_template_columns": null,
       "grid_template_rows": null,
       "height": null,
       "justify_content": null,
       "justify_items": null,
       "left": null,
       "margin": null,
       "max_height": null,
       "max_width": null,
       "min_height": null,
       "min_width": null,
       "object_fit": null,
       "object_position": null,
       "order": null,
       "overflow": null,
       "padding": null,
       "right": null,
       "top": null,
       "visibility": null,
       "width": null
      }
     },
     "d8119759e1da45baa0c4ce4fc4eba259": {
      "model_module": "@jupyter-widgets/controls",
      "model_module_version": "2.0.0",
      "model_name": "ProgressStyleModel",
      "state": {
       "_model_module": "@jupyter-widgets/controls",
       "_model_module_version": "2.0.0",
       "_model_name": "ProgressStyleModel",
       "_view_count": null,
       "_view_module": "@jupyter-widgets/base",
       "_view_module_version": "2.0.0",
       "_view_name": "StyleView",
       "bar_color": null,
       "description_width": ""
      }
     }
    },
    "version_major": 2,
    "version_minor": 0
   }
  }
 },
 "nbformat": 4,
 "nbformat_minor": 5
}
