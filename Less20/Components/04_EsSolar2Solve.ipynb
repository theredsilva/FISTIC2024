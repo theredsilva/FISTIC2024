{
 "cells": [
  {
   "cell_type": "markdown",
   "id": "7aea32ac",
   "metadata": {
    "papermill": {
     "duration": 0.011732,
     "end_time": "2024-05-29T22:25:33.893332",
     "exception": false,
     "start_time": "2024-05-29T22:25:33.881600",
     "status": "completed"
    },
    "tags": []
   },
   "source": [
    "# Solar Power Generation Trends"
   ]
  },
  {
   "cell_type": "code",
   "execution_count": 1,
   "id": "09c15573",
   "metadata": {
    "execution": {
     "iopub.execute_input": "2024-05-29T22:25:33.918764Z",
     "iopub.status.busy": "2024-05-29T22:25:33.918568Z",
     "iopub.status.idle": "2024-05-29T22:25:34.117881Z",
     "shell.execute_reply": "2024-05-29T22:25:34.117664Z"
    },
    "papermill": {
     "duration": 0.202662,
     "end_time": "2024-05-29T22:25:34.118669",
     "exception": false,
     "start_time": "2024-05-29T22:25:33.916007",
     "status": "completed"
    },
    "tags": [
     "Fixed"
    ]
   },
   "outputs": [
    {
     "name": "stderr",
     "output_type": "stream",
     "text": [
      "C:\\Users\\danie\\AppData\\Local\\Temp\\ipykernel_27856\\1569748749.py:8: FutureWarning: 'M' is deprecated and will be removed in a future version, please use 'ME' instead.\n",
      "  s_solar_monthly = s_solar.resample('M').sum()\n"
     ]
    },
    {
     "data": {
      "text/plain": [
       "datetime_utc\n",
       "2014-01-01 00:00:00+01:00    13.6\n",
       "2014-01-01 01:00:00+01:00    13.3\n",
       "2014-01-01 02:00:00+01:00    13.3\n",
       "2014-01-01 03:00:00+01:00    12.2\n",
       "2014-01-01 04:00:00+01:00     7.8\n",
       "                             ... \n",
       "2022-12-31 19:00:00+01:00     5.7\n",
       "2022-12-31 20:00:00+01:00     3.6\n",
       "2022-12-31 21:00:00+01:00     2.2\n",
       "2022-12-31 22:00:00+01:00     1.7\n",
       "2022-12-31 23:00:00+01:00     1.6\n",
       "Freq: h, Name: Solar fotovoltaica, Length: 78888, dtype: float64"
      ]
     },
     "execution_count": 1,
     "metadata": {},
     "output_type": "execute_result"
    }
   ],
   "source": [
    "import pandas as pd\n",
    "\n",
    "df = pd.read_csv('solar_2014-2023.csv', index_col=0)\n",
    "df.index = pd.to_datetime(df.index, utc=True)\n",
    "df = df.tz_convert('Europe/Madrid')\n",
    "df = df.resample('1h').mean()\n",
    "s_solar = df.loc[:'2022', 'Solar fotovoltaica']\n",
    "s_solar_monthly = s_solar.resample('M').sum()\n",
    "s_solar"
   ]
  },
  {
   "cell_type": "code",
   "execution_count": null,
   "id": "44561ec9",
   "metadata": {
    "execution": {
     "iopub.execute_input": "2024-05-29T22:25:34.121920Z",
     "iopub.status.busy": "2024-05-29T22:25:34.121812Z",
     "iopub.status.idle": "2024-05-29T22:25:34.311770Z",
     "shell.execute_reply": "2024-05-29T22:25:34.311515Z"
    },
    "papermill": {
     "duration": 0.192336,
     "end_time": "2024-05-29T22:25:34.312501",
     "exception": false,
     "start_time": "2024-05-29T22:25:34.120165",
     "status": "completed"
    },
    "tags": []
   },
   "outputs": [],
   "source": []
  },
  {
   "cell_type": "markdown",
   "id": "f2162b75",
   "metadata": {
    "papermill": {
     "duration": 0.001204,
     "end_time": "2024-05-29T22:25:34.315154",
     "exception": false,
     "start_time": "2024-05-29T22:25:34.313950",
     "status": "completed"
    },
    "tags": []
   },
   "source": [
    "## Multiplicative Model\n",
    "\n",
    "$y_t = T_t \\times S_t \\times e_t$"
   ]
  },
  {
   "cell_type": "code",
   "execution_count": null,
   "id": "528407a1",
   "metadata": {
    "execution": {
     "iopub.execute_input": "2024-05-29T22:25:34.318328Z",
     "iopub.status.busy": "2024-05-29T22:25:34.318210Z",
     "iopub.status.idle": "2024-05-29T22:25:34.322051Z",
     "shell.execute_reply": "2024-05-29T22:25:34.321852Z"
    },
    "papermill": {
     "duration": 0.00623,
     "end_time": "2024-05-29T22:25:34.322751",
     "exception": false,
     "start_time": "2024-05-29T22:25:34.316521",
     "status": "completed"
    },
    "tags": []
   },
   "outputs": [],
   "source": []
  },
  {
   "cell_type": "code",
   "execution_count": null,
   "id": "a08675c6",
   "metadata": {
    "execution": {
     "iopub.execute_input": "2024-05-29T22:25:34.325782Z",
     "iopub.status.busy": "2024-05-29T22:25:34.325696Z",
     "iopub.status.idle": "2024-05-29T22:25:34.653771Z",
     "shell.execute_reply": "2024-05-29T22:25:34.653491Z"
    },
    "papermill": {
     "duration": 0.33041,
     "end_time": "2024-05-29T22:25:34.654537",
     "exception": false,
     "start_time": "2024-05-29T22:25:34.324127",
     "status": "completed"
    },
    "tags": []
   },
   "outputs": [],
   "source": []
  },
  {
   "cell_type": "code",
   "execution_count": null,
   "id": "03029bb2",
   "metadata": {
    "execution": {
     "iopub.execute_input": "2024-05-29T22:25:34.658459Z",
     "iopub.status.busy": "2024-05-29T22:25:34.658266Z",
     "iopub.status.idle": "2024-05-29T22:25:35.171131Z",
     "shell.execute_reply": "2024-05-29T22:25:35.170791Z"
    },
    "papermill": {
     "duration": 0.515638,
     "end_time": "2024-05-29T22:25:35.172002",
     "exception": false,
     "start_time": "2024-05-29T22:25:34.656364",
     "status": "completed"
    },
    "tags": []
   },
   "outputs": [],
   "source": []
  },
  {
   "cell_type": "code",
   "execution_count": null,
   "id": "363cf1df",
   "metadata": {
    "execution": {
     "iopub.execute_input": "2024-05-29T22:25:35.176950Z",
     "iopub.status.busy": "2024-05-29T22:25:35.176775Z",
     "iopub.status.idle": "2024-05-29T22:25:35.234307Z",
     "shell.execute_reply": "2024-05-29T22:25:35.234072Z"
    },
    "papermill": {
     "duration": 0.061155,
     "end_time": "2024-05-29T22:25:35.235229",
     "exception": false,
     "start_time": "2024-05-29T22:25:35.174074",
     "status": "completed"
    },
    "tags": []
   },
   "outputs": [],
   "source": []
  },
  {
   "cell_type": "markdown",
   "id": "eb1bacbd",
   "metadata": {
    "papermill": {
     "duration": 0.001941,
     "end_time": "2024-05-29T22:25:35.296695",
     "exception": false,
     "start_time": "2024-05-29T22:25:35.294754",
     "status": "completed"
    },
    "tags": []
   },
   "source": [
    "## Additive Model\n",
    "\n",
    "$y_t = T_t + S_t + e_t$"
   ]
  },
  {
   "cell_type": "code",
   "execution_count": null,
   "id": "7341d1c8",
   "metadata": {
    "execution": {
     "iopub.execute_input": "2024-05-29T22:25:35.300688Z",
     "iopub.status.busy": "2024-05-29T22:25:35.300481Z",
     "iopub.status.idle": "2024-05-29T22:25:35.306520Z",
     "shell.execute_reply": "2024-05-29T22:25:35.306292Z"
    },
    "papermill": {
     "duration": 0.008972,
     "end_time": "2024-05-29T22:25:35.307410",
     "exception": false,
     "start_time": "2024-05-29T22:25:35.298438",
     "status": "completed"
    },
    "tags": []
   },
   "outputs": [],
   "source": []
  },
  {
   "cell_type": "code",
   "execution_count": null,
   "id": "fd7aa7bd",
   "metadata": {
    "execution": {
     "iopub.execute_input": "2024-05-29T22:25:35.311166Z",
     "iopub.status.busy": "2024-05-29T22:25:35.311070Z",
     "iopub.status.idle": "2024-05-29T22:25:35.312596Z",
     "shell.execute_reply": "2024-05-29T22:25:35.312376Z"
    },
    "papermill": {
     "duration": 0.004213,
     "end_time": "2024-05-29T22:25:35.313314",
     "exception": false,
     "start_time": "2024-05-29T22:25:35.309101",
     "status": "completed"
    },
    "tags": []
   },
   "outputs": [],
   "source": []
  },
  {
   "cell_type": "code",
   "execution_count": null,
   "id": "8257f6f7",
   "metadata": {
    "execution": {
     "iopub.execute_input": "2024-05-29T22:25:35.317359Z",
     "iopub.status.busy": "2024-05-29T22:25:35.317271Z",
     "iopub.status.idle": "2024-05-29T22:25:35.342330Z",
     "shell.execute_reply": "2024-05-29T22:25:35.342114Z"
    },
    "papermill": {
     "duration": 0.02789,
     "end_time": "2024-05-29T22:25:35.343122",
     "exception": false,
     "start_time": "2024-05-29T22:25:35.315232",
     "status": "completed"
    },
    "tags": []
   },
   "outputs": [],
   "source": []
  },
  {
   "cell_type": "code",
   "execution_count": null,
   "id": "fc0209e1",
   "metadata": {
    "execution": {
     "iopub.execute_input": "2024-05-29T22:25:35.350256Z",
     "iopub.status.busy": "2024-05-29T22:25:35.350134Z",
     "iopub.status.idle": "2024-05-29T22:25:35.354262Z",
     "shell.execute_reply": "2024-05-29T22:25:35.353542Z"
    },
    "papermill": {
     "duration": 0.008381,
     "end_time": "2024-05-29T22:25:35.355411",
     "exception": false,
     "start_time": "2024-05-29T22:25:35.347030",
     "status": "completed"
    },
    "tags": []
   },
   "outputs": [],
   "source": []
  },
  {
   "cell_type": "code",
   "execution_count": null,
   "id": "ab805910",
   "metadata": {
    "execution": {
     "iopub.execute_input": "2024-05-29T22:25:35.360560Z",
     "iopub.status.busy": "2024-05-29T22:25:35.360436Z",
     "iopub.status.idle": "2024-05-29T22:25:35.406093Z",
     "shell.execute_reply": "2024-05-29T22:25:35.405854Z"
    },
    "papermill": {
     "duration": 0.04923,
     "end_time": "2024-05-29T22:25:35.406905",
     "exception": false,
     "start_time": "2024-05-29T22:25:35.357675",
     "status": "completed"
    },
    "tags": []
   },
   "outputs": [],
   "source": []
  }
 ],
 "metadata": {
  "kernelspec": {
   "display_name": "Python 3",
   "language": "python",
   "name": "python3"
  },
  "language_info": {
   "codemirror_mode": {
    "name": "ipython",
    "version": 3
   },
   "file_extension": ".py",
   "mimetype": "text/x-python",
   "name": "python",
   "nbconvert_exporter": "python",
   "pygments_lexer": "ipython3",
   "version": "3.11.9"
  },
  "papermill": {
   "default_parameters": {},
   "duration": 2.799358,
   "end_time": "2024-05-29T22:25:35.778255",
   "environment_variables": {},
   "exception": null,
   "input_path": "/Users/sota/Library/CloudStorage/Dropbox/2 Business/1 Datons/2 Areas/Courses/22 TS/solutions-new/notebooks/20_Components/4_Solar Monthly/1.ipynb",
   "output_path": "/Users/sota/Library/CloudStorage/Dropbox/2 Business/1 Datons/2 Areas/Courses/22 TS/solutions-new/notebooks/20_Components/4_Solar Monthly/1.ipynb",
   "parameters": {},
   "start_time": "2024-05-29T22:25:32.978897",
   "version": "2.5.0"
  }
 },
 "nbformat": 4,
 "nbformat_minor": 5
}
