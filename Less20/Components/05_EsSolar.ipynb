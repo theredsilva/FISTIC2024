{
 "cells": [
  {
   "cell_type": "markdown",
   "id": "62329c6a",
   "metadata": {
    "papermill": {
     "duration": 0.003598,
     "end_time": "2024-05-29T22:25:30.909061",
     "exception": false,
     "start_time": "2024-05-29T22:25:30.905463",
     "status": "completed"
    },
    "tags": []
   },
   "source": [
    "# Solar Power Generation Trends: Daily"
   ]
  },
  {
   "cell_type": "code",
   "execution_count": 1,
   "id": "95d7a2ea",
   "metadata": {
    "execution": {
     "iopub.execute_input": "2024-05-29T22:25:30.927630Z",
     "iopub.status.busy": "2024-05-29T22:25:30.927308Z",
     "iopub.status.idle": "2024-05-29T22:25:31.128755Z",
     "shell.execute_reply": "2024-05-29T22:25:31.128500Z"
    },
    "papermill": {
     "duration": 0.204728,
     "end_time": "2024-05-29T22:25:31.129572",
     "exception": false,
     "start_time": "2024-05-29T22:25:30.924844",
     "status": "completed"
    },
    "tags": [
     "Fixed"
    ]
   },
   "outputs": [
    {
     "data": {
      "text/html": [
       "<div>\n",
       "<style scoped>\n",
       "    .dataframe tbody tr th:only-of-type {\n",
       "        vertical-align: middle;\n",
       "    }\n",
       "\n",
       "    .dataframe tbody tr th {\n",
       "        vertical-align: top;\n",
       "    }\n",
       "\n",
       "    .dataframe thead th {\n",
       "        text-align: right;\n",
       "    }\n",
       "</style>\n",
       "<table border=\"1\" class=\"dataframe\">\n",
       "  <thead>\n",
       "    <tr style=\"text-align: right;\">\n",
       "      <th></th>\n",
       "      <th>Solar fotovoltaica</th>\n",
       "    </tr>\n",
       "    <tr>\n",
       "      <th>datetime_utc</th>\n",
       "      <th></th>\n",
       "    </tr>\n",
       "  </thead>\n",
       "  <tbody>\n",
       "    <tr>\n",
       "      <th>2014-01-01 00:00:00+01:00</th>\n",
       "      <td>13.600</td>\n",
       "    </tr>\n",
       "    <tr>\n",
       "      <th>2014-01-01 01:00:00+01:00</th>\n",
       "      <td>13.300</td>\n",
       "    </tr>\n",
       "    <tr>\n",
       "      <th>2014-01-01 02:00:00+01:00</th>\n",
       "      <td>13.300</td>\n",
       "    </tr>\n",
       "    <tr>\n",
       "      <th>2014-01-01 03:00:00+01:00</th>\n",
       "      <td>12.200</td>\n",
       "    </tr>\n",
       "    <tr>\n",
       "      <th>2014-01-01 04:00:00+01:00</th>\n",
       "      <td>7.800</td>\n",
       "    </tr>\n",
       "    <tr>\n",
       "      <th>...</th>\n",
       "      <td>...</td>\n",
       "    </tr>\n",
       "    <tr>\n",
       "      <th>2023-10-01 19:00:00+02:00</th>\n",
       "      <td>2123.425</td>\n",
       "    </tr>\n",
       "    <tr>\n",
       "      <th>2023-10-01 20:00:00+02:00</th>\n",
       "      <td>194.450</td>\n",
       "    </tr>\n",
       "    <tr>\n",
       "      <th>2023-10-01 21:00:00+02:00</th>\n",
       "      <td>17.800</td>\n",
       "    </tr>\n",
       "    <tr>\n",
       "      <th>2023-10-01 22:00:00+02:00</th>\n",
       "      <td>16.900</td>\n",
       "    </tr>\n",
       "    <tr>\n",
       "      <th>2023-10-01 23:00:00+02:00</th>\n",
       "      <td>7.500</td>\n",
       "    </tr>\n",
       "  </tbody>\n",
       "</table>\n",
       "<p>85463 rows × 1 columns</p>\n",
       "</div>"
      ],
      "text/plain": [
       "                           Solar fotovoltaica\n",
       "datetime_utc                                 \n",
       "2014-01-01 00:00:00+01:00              13.600\n",
       "2014-01-01 01:00:00+01:00              13.300\n",
       "2014-01-01 02:00:00+01:00              13.300\n",
       "2014-01-01 03:00:00+01:00              12.200\n",
       "2014-01-01 04:00:00+01:00               7.800\n",
       "...                                       ...\n",
       "2023-10-01 19:00:00+02:00            2123.425\n",
       "2023-10-01 20:00:00+02:00             194.450\n",
       "2023-10-01 21:00:00+02:00              17.800\n",
       "2023-10-01 22:00:00+02:00              16.900\n",
       "2023-10-01 23:00:00+02:00               7.500\n",
       "\n",
       "[85463 rows x 1 columns]"
      ]
     },
     "execution_count": 1,
     "metadata": {},
     "output_type": "execute_result"
    }
   ],
   "source": [
    "import pandas as pd\n",
    "\n",
    "path = 'solar_2014-2023.csv'\n",
    "df = pd.read_csv(path, \n",
    "                 index_col=0,\n",
    "                 )\n",
    "df.index = pd.to_datetime(df.index, utc=True)\n",
    "\n",
    "df = df.tz_convert('Europe/Madrid')\n",
    "df = df.resample('1h').mean()\n",
    "df"
   ]
  },
  {
   "cell_type": "code",
   "execution_count": 2,
   "id": "0b6b35f7",
   "metadata": {},
   "outputs": [
    {
     "data": {
      "text/plain": [
       "datetime_utc\n",
       "2022-07-01 00:00:00+02:00       0.100\n",
       "2022-07-01 01:00:00+02:00       0.100\n",
       "2022-07-01 02:00:00+02:00       0.100\n",
       "2022-07-01 03:00:00+02:00       0.100\n",
       "2022-07-01 04:00:00+02:00       0.100\n",
       "                               ...   \n",
       "2022-07-07 19:00:00+02:00    6084.130\n",
       "2022-07-07 20:00:00+02:00    2568.325\n",
       "2022-07-07 21:00:00+02:00     352.200\n",
       "2022-07-07 22:00:00+02:00       2.600\n",
       "2022-07-07 23:00:00+02:00       0.400\n",
       "Freq: h, Name: Solar fotovoltaica, Length: 168, dtype: float64"
      ]
     },
     "execution_count": 2,
     "metadata": {},
     "output_type": "execute_result"
    }
   ],
   "source": [
    "s_solar = df.loc[:'2022', 'Solar fotovoltaica']\n",
    "s_solar = s_solar.loc['2022-07-01':'2022-07-07']\n",
    "s_solar"
   ]
  },
  {
   "cell_type": "code",
   "execution_count": 3,
   "id": "370dfb38",
   "metadata": {
    "execution": {
     "iopub.execute_input": "2024-05-29T22:25:31.132869Z",
     "iopub.status.busy": "2024-05-29T22:25:31.132766Z",
     "iopub.status.idle": "2024-05-29T22:25:31.323507Z",
     "shell.execute_reply": "2024-05-29T22:25:31.323207Z"
    },
    "papermill": {
     "duration": 0.193141,
     "end_time": "2024-05-29T22:25:31.324326",
     "exception": false,
     "start_time": "2024-05-29T22:25:31.131185",
     "status": "completed"
    },
    "tags": []
   },
   "outputs": [
    {
     "data": {
      "image/png": "[encoded data removed]",
      "text/plain": [
       "<Figure size 640x480 with 1 Axes>"
      ]
     },
     "metadata": {},
     "output_type": "display_data"
    }
   ],
   "source": [
    "s_solar.plot();"
   ]
  },
  {
   "cell_type": "markdown",
   "id": "0be361db",
   "metadata": {
    "papermill": {
     "duration": 0.001219,
     "end_time": "2024-05-29T22:25:31.327891",
     "exception": false,
     "start_time": "2024-05-29T22:25:31.326672",
     "status": "completed"
    },
    "tags": []
   },
   "source": [
    "## Multiplicative Model\n",
    "\n",
    "$y_t = T_t \\times S_t \\times e_t$"
   ]
  },
  {
   "cell_type": "code",
   "execution_count": 4,
   "id": "4169c3f4",
   "metadata": {
    "execution": {
     "iopub.execute_input": "2024-05-29T22:25:31.331204Z",
     "iopub.status.busy": "2024-05-29T22:25:31.331061Z",
     "iopub.status.idle": "2024-05-29T22:25:31.335239Z",
     "shell.execute_reply": "2024-05-29T22:25:31.335056Z"
    },
    "papermill": {
     "duration": 0.006667,
     "end_time": "2024-05-29T22:25:31.335917",
     "exception": false,
     "start_time": "2024-05-29T22:25:31.329250",
     "status": "completed"
    },
    "tags": []
   },
   "outputs": [
    {
     "data": {
      "text/html": [
       "<div>\n",
       "<style scoped>\n",
       "    .dataframe tbody tr th:only-of-type {\n",
       "        vertical-align: middle;\n",
       "    }\n",
       "\n",
       "    .dataframe tbody tr th {\n",
       "        vertical-align: top;\n",
       "    }\n",
       "\n",
       "    .dataframe thead th {\n",
       "        text-align: right;\n",
       "    }\n",
       "</style>\n",
       "<table border=\"1\" class=\"dataframe\">\n",
       "  <thead>\n",
       "    <tr style=\"text-align: right;\">\n",
       "      <th></th>\n",
       "      <th>generation</th>\n",
       "    </tr>\n",
       "    <tr>\n",
       "      <th>datetime_utc</th>\n",
       "      <th></th>\n",
       "    </tr>\n",
       "  </thead>\n",
       "  <tbody>\n",
       "    <tr>\n",
       "      <th>2022-07-01 00:00:00+02:00</th>\n",
       "      <td>0.100</td>\n",
       "    </tr>\n",
       "    <tr>\n",
       "      <th>2022-07-01 01:00:00+02:00</th>\n",
       "      <td>0.100</td>\n",
       "    </tr>\n",
       "    <tr>\n",
       "      <th>2022-07-01 02:00:00+02:00</th>\n",
       "      <td>0.100</td>\n",
       "    </tr>\n",
       "    <tr>\n",
       "      <th>2022-07-01 03:00:00+02:00</th>\n",
       "      <td>0.100</td>\n",
       "    </tr>\n",
       "    <tr>\n",
       "      <th>2022-07-01 04:00:00+02:00</th>\n",
       "      <td>0.100</td>\n",
       "    </tr>\n",
       "    <tr>\n",
       "      <th>...</th>\n",
       "      <td>...</td>\n",
       "    </tr>\n",
       "    <tr>\n",
       "      <th>2022-07-07 19:00:00+02:00</th>\n",
       "      <td>6084.130</td>\n",
       "    </tr>\n",
       "    <tr>\n",
       "      <th>2022-07-07 20:00:00+02:00</th>\n",
       "      <td>2568.325</td>\n",
       "    </tr>\n",
       "    <tr>\n",
       "      <th>2022-07-07 21:00:00+02:00</th>\n",
       "      <td>352.200</td>\n",
       "    </tr>\n",
       "    <tr>\n",
       "      <th>2022-07-07 22:00:00+02:00</th>\n",
       "      <td>2.600</td>\n",
       "    </tr>\n",
       "    <tr>\n",
       "      <th>2022-07-07 23:00:00+02:00</th>\n",
       "      <td>0.400</td>\n",
       "    </tr>\n",
       "  </tbody>\n",
       "</table>\n",
       "<p>168 rows × 1 columns</p>\n",
       "</div>"
      ],
      "text/plain": [
       "                           generation\n",
       "datetime_utc                         \n",
       "2022-07-01 00:00:00+02:00       0.100\n",
       "2022-07-01 01:00:00+02:00       0.100\n",
       "2022-07-01 02:00:00+02:00       0.100\n",
       "2022-07-01 03:00:00+02:00       0.100\n",
       "2022-07-01 04:00:00+02:00       0.100\n",
       "...                               ...\n",
       "2022-07-07 19:00:00+02:00    6084.130\n",
       "2022-07-07 20:00:00+02:00    2568.325\n",
       "2022-07-07 21:00:00+02:00     352.200\n",
       "2022-07-07 22:00:00+02:00       2.600\n",
       "2022-07-07 23:00:00+02:00       0.400\n",
       "\n",
       "[168 rows x 1 columns]"
      ]
     },
     "execution_count": 4,
     "metadata": {},
     "output_type": "execute_result"
    }
   ],
   "source": [
    "df_solar = s_solar.to_frame(name='generation')\n",
    "df_solar"
   ]
  },
  {
   "cell_type": "code",
   "execution_count": 5,
   "id": "db2fa134",
   "metadata": {
    "execution": {
     "iopub.execute_input": "2024-05-29T22:25:31.339097Z",
     "iopub.status.busy": "2024-05-29T22:25:31.339009Z",
     "iopub.status.idle": "2024-05-29T22:25:31.669192Z",
     "shell.execute_reply": "2024-05-29T22:25:31.668958Z"
    },
    "papermill": {
     "duration": 0.332616,
     "end_time": "2024-05-29T22:25:31.670011",
     "exception": false,
     "start_time": "2024-05-29T22:25:31.337395",
     "status": "completed"
    },
    "tags": []
   },
   "outputs": [
    {
     "data": {
      "text/html": [
       "<div>\n",
       "<style scoped>\n",
       "    .dataframe tbody tr th:only-of-type {\n",
       "        vertical-align: middle;\n",
       "    }\n",
       "\n",
       "    .dataframe tbody tr th {\n",
       "        vertical-align: top;\n",
       "    }\n",
       "\n",
       "    .dataframe thead th {\n",
       "        text-align: right;\n",
       "    }\n",
       "</style>\n",
       "<table border=\"1\" class=\"dataframe\">\n",
       "  <thead>\n",
       "    <tr style=\"text-align: right;\">\n",
       "      <th></th>\n",
       "      <th>generation</th>\n",
       "      <th>trend</th>\n",
       "      <th>seasonal</th>\n",
       "      <th>residual</th>\n",
       "      <th>component_all</th>\n",
       "    </tr>\n",
       "    <tr>\n",
       "      <th>datetime_utc</th>\n",
       "      <th></th>\n",
       "      <th></th>\n",
       "      <th></th>\n",
       "      <th></th>\n",
       "      <th></th>\n",
       "    </tr>\n",
       "  </thead>\n",
       "  <tbody>\n",
       "    <tr>\n",
       "      <th>2022-07-01 12:00:00+02:00</th>\n",
       "      <td>10658.400</td>\n",
       "      <td>4673.235458</td>\n",
       "      <td>2.358597</td>\n",
       "      <td>0.966987</td>\n",
       "      <td>10658.400</td>\n",
       "    </tr>\n",
       "    <tr>\n",
       "      <th>2022-07-01 13:00:00+02:00</th>\n",
       "      <td>10722.100</td>\n",
       "      <td>4673.241708</td>\n",
       "      <td>2.395936</td>\n",
       "      <td>0.957605</td>\n",
       "      <td>10722.100</td>\n",
       "    </tr>\n",
       "    <tr>\n",
       "      <th>2022-07-01 14:00:00+02:00</th>\n",
       "      <td>10845.200</td>\n",
       "      <td>4673.241708</td>\n",
       "      <td>2.403090</td>\n",
       "      <td>0.965716</td>\n",
       "      <td>10845.200</td>\n",
       "    </tr>\n",
       "    <tr>\n",
       "      <th>2022-07-01 15:00:00+02:00</th>\n",
       "      <td>10289.381</td>\n",
       "      <td>4673.241708</td>\n",
       "      <td>2.353735</td>\n",
       "      <td>0.935435</td>\n",
       "      <td>10289.381</td>\n",
       "    </tr>\n",
       "    <tr>\n",
       "      <th>2022-07-01 16:00:00+02:00</th>\n",
       "      <td>10001.975</td>\n",
       "      <td>4673.241708</td>\n",
       "      <td>2.239531</td>\n",
       "      <td>0.955675</td>\n",
       "      <td>10001.975</td>\n",
       "    </tr>\n",
       "    <tr>\n",
       "      <th>...</th>\n",
       "      <td>...</td>\n",
       "      <td>...</td>\n",
       "      <td>...</td>\n",
       "      <td>...</td>\n",
       "      <td>...</td>\n",
       "    </tr>\n",
       "    <tr>\n",
       "      <th>2022-07-07 07:00:00+02:00</th>\n",
       "      <td>861.858</td>\n",
       "      <td>4655.687833</td>\n",
       "      <td>0.164421</td>\n",
       "      <td>1.125884</td>\n",
       "      <td>861.858</td>\n",
       "    </tr>\n",
       "    <tr>\n",
       "      <th>2022-07-07 08:00:00+02:00</th>\n",
       "      <td>3636.675</td>\n",
       "      <td>4671.169188</td>\n",
       "      <td>0.769768</td>\n",
       "      <td>1.011391</td>\n",
       "      <td>3636.675</td>\n",
       "    </tr>\n",
       "    <tr>\n",
       "      <th>2022-07-07 09:00:00+02:00</th>\n",
       "      <td>7027.300</td>\n",
       "      <td>4675.043146</td>\n",
       "      <td>1.478827</td>\n",
       "      <td>1.016449</td>\n",
       "      <td>7027.300</td>\n",
       "    </tr>\n",
       "    <tr>\n",
       "      <th>2022-07-07 10:00:00+02:00</th>\n",
       "      <td>9076.450</td>\n",
       "      <td>4675.522833</td>\n",
       "      <td>1.928396</td>\n",
       "      <td>1.006676</td>\n",
       "      <td>9076.450</td>\n",
       "    </tr>\n",
       "    <tr>\n",
       "      <th>2022-07-07 11:00:00+02:00</th>\n",
       "      <td>10187.850</td>\n",
       "      <td>4675.527000</td>\n",
       "      <td>2.203438</td>\n",
       "      <td>0.988897</td>\n",
       "      <td>10187.850</td>\n",
       "    </tr>\n",
       "  </tbody>\n",
       "</table>\n",
       "<p>144 rows × 5 columns</p>\n",
       "</div>"
      ],
      "text/plain": [
       "                           generation        trend  seasonal  residual  \\\n",
       "datetime_utc                                                             \n",
       "2022-07-01 12:00:00+02:00   10658.400  4673.235458  2.358597  0.966987   \n",
       "2022-07-01 13:00:00+02:00   10722.100  4673.241708  2.395936  0.957605   \n",
       "2022-07-01 14:00:00+02:00   10845.200  4673.241708  2.403090  0.965716   \n",
       "2022-07-01 15:00:00+02:00   10289.381  4673.241708  2.353735  0.935435   \n",
       "2022-07-01 16:00:00+02:00   10001.975  4673.241708  2.239531  0.955675   \n",
       "...                               ...          ...       ...       ...   \n",
       "2022-07-07 07:00:00+02:00     861.858  4655.687833  0.164421  1.125884   \n",
       "2022-07-07 08:00:00+02:00    3636.675  4671.169188  0.769768  1.011391   \n",
       "2022-07-07 09:00:00+02:00    7027.300  4675.043146  1.478827  1.016449   \n",
       "2022-07-07 10:00:00+02:00    9076.450  4675.522833  1.928396  1.006676   \n",
       "2022-07-07 11:00:00+02:00   10187.850  4675.527000  2.203438  0.988897   \n",
       "\n",
       "                           component_all  \n",
       "datetime_utc                              \n",
       "2022-07-01 12:00:00+02:00      10658.400  \n",
       "2022-07-01 13:00:00+02:00      10722.100  \n",
       "2022-07-01 14:00:00+02:00      10845.200  \n",
       "2022-07-01 15:00:00+02:00      10289.381  \n",
       "2022-07-01 16:00:00+02:00      10001.975  \n",
       "...                                  ...  \n",
       "2022-07-07 07:00:00+02:00        861.858  \n",
       "2022-07-07 08:00:00+02:00       3636.675  \n",
       "2022-07-07 09:00:00+02:00       7027.300  \n",
       "2022-07-07 10:00:00+02:00       9076.450  \n",
       "2022-07-07 11:00:00+02:00      10187.850  \n",
       "\n",
       "[144 rows x 5 columns]"
      ]
     },
     "execution_count": 5,
     "metadata": {},
     "output_type": "execute_result"
    }
   ],
   "source": [
    "import statsmodels.api as sm\n",
    "\n",
    "data = df_solar['generation'].values\n",
    "result = sm.tsa.seasonal_decompose(data, model='multiplicative', period=24)\n",
    "\n",
    "df_component = (df_solar\n",
    " .assign(\n",
    "    trend = result.trend,\n",
    "    seasonal = result.seasonal,\n",
    "    residual = result.resid)\n",
    " .dropna())\n",
    "\n",
    "df_component['component_all'] = df_component.trend * df_component.seasonal * df_component.residual\n",
    "df_component"
   ]
  },
  {
   "cell_type": "code",
   "execution_count": 6,
   "id": "f4a98c60",
   "metadata": {
    "execution": {
     "iopub.execute_input": "2024-05-29T22:25:31.673792Z",
     "iopub.status.busy": "2024-05-29T22:25:31.673622Z",
     "iopub.status.idle": "2024-05-29T22:25:32.191033Z",
     "shell.execute_reply": "2024-05-29T22:25:32.190669Z"
    },
    "papermill": {
     "duration": 0.520084,
     "end_time": "2024-05-29T22:25:32.191829",
     "exception": false,
     "start_time": "2024-05-29T22:25:31.671745",
     "status": "completed"
    },
    "tags": []
   },
   "outputs": [
    {
     "data": {
      "application/vnd.plotly.v1+json": {
       "config": {
        "plotlyServerURL": "https://plot.ly"
       },
       "data": [
        {
         "fillpattern": {
          "shape": ""
         },
         "hovertemplate": "x=%{x}<br>y=%{y}<extra></extra>",
         "legendgroup": "",
         "line": {
          "color": "#636efa"
         },
         "marker": {
          "symbol": "circle"
         },
         "mode": "lines",
         "name": "",
         "orientation": "v",
         "showlegend": false,
         "stackgroup": "1",
         "type": "scatter",
         "x": [
          "2022-07-01T00:00:00+02:00",
          "2022-07-01T01:00:00+02:00",
          "2022-07-01T02:00:00+02:00",
          "2022-07-01T03:00:00+02:00",
          "2022-07-01T04:00:00+02:00",
          "2022-07-01T05:00:00+02:00",
          "2022-07-01T06:00:00+02:00",
          "2022-07-01T07:00:00+02:00",
          "2022-07-01T08:00:00+02:00",
          "2022-07-01T09:00:00+02:00",
          "2022-07-01T10:00:00+02:00",
          "2022-07-01T11:00:00+02:00",
          "2022-07-01T12:00:00+02:00",
          "2022-07-01T13:00:00+02:00",
          "2022-07-01T14:00:00+02:00",
          "2022-07-01T15:00:00+02:00",
          "2022-07-01T16:00:00+02:00",
          "2022-07-01T17:00:00+02:00",
          "2022-07-01T18:00:00+02:00",
          "2022-07-01T19:00:00+02:00",
          "2022-07-01T20:00:00+02:00",
          "2022-07-01T21:00:00+02:00",
          "2022-07-01T22:00:00+02:00",
          "2022-07-01T23:00:00+02:00",
          "2022-07-02T00:00:00+02:00",
          "2022-07-02T01:00:00+02:00",
          "2022-07-02T02:00:00+02:00",
          "2022-07-02T03:00:00+02:00",
          "2022-07-02T04:00:00+02:00",
          "2022-07-02T05:00:00+02:00",
          "2022-07-02T06:00:00+02:00",
          "2022-07-02T07:00:00+02:00",
          "2022-07-02T08:00:00+02:00",
          "2022-07-02T09:00:00+02:00",
          "2022-07-02T10:00:00+02:00",
          "2022-07-02T11:00:00+02:00",
          "2022-07-02T12:00:00+02:00",
          "2022-07-02T13:00:00+02:00",
          "2022-07-02T14:00:00+02:00",
          "2022-07-02T15:00:00+02:00",
          "2022-07-02T16:00:00+02:00",
          "2022-07-02T17:00:00+02:00",
          "2022-07-02T18:00:00+02:00",
          "2022-07-02T19:00:00+02:00",
          "2022-07-02T20:00:00+02:00",
          "2022-07-02T21:00:00+02:00",
          "2022-07-02T22:00:00+02:00",
          "2022-07-02T23:00:00+02:00",
          "2022-07-03T00:00:00+02:00",
          "2022-07-03T01:00:00+02:00",
          "2022-07-03T02:00:00+02:00",
          "2022-07-03T03:00:00+02:00",
          "2022-07-03T04:00:00+02:00",
          "2022-07-03T05:00:00+02:00",
          "2022-07-03T06:00:00+02:00",
          "2022-07-03T07:00:00+02:00",
          "2022-07-03T08:00:00+02:00",
          "2022-07-03T09:00:00+02:00",
          "2022-07-03T10:00:00+02:00",
          "2022-07-03T11:00:00+02:00",
          "2022-07-03T12:00:00+02:00",
          "2022-07-03T13:00:00+02:00",
          "2022-07-03T14:00:00+02:00",
          "2022-07-03T15:00:00+02:00",
          "2022-07-03T16:00:00+02:00",
          "2022-07-03T17:00:00+02:00",
          "2022-07-03T18:00:00+02:00",
          "2022-07-03T19:00:00+02:00",
          "2022-07-03T20:00:00+02:00",
          "2022-07-03T21:00:00+02:00",
          "2022-07-03T22:00:00+02:00",
          "2022-07-03T23:00:00+02:00",
          "2022-07-04T00:00:00+02:00",
          "2022-07-04T01:00:00+02:00",
          "2022-07-04T02:00:00+02:00",
          "2022-07-04T03:00:00+02:00",
          "2022-07-04T04:00:00+02:00",
          "2022-07-04T05:00:00+02:00",
          "2022-07-04T06:00:00+02:00",
          "2022-07-04T07:00:00+02:00",
          "2022-07-04T08:00:00+02:00",
          "2022-07-04T09:00:00+02:00",
          "2022-07-04T10:00:00+02:00",
          "2022-07-04T11:00:00+02:00",
          "2022-07-04T12:00:00+02:00",
          "2022-07-04T13:00:00+02:00",
          "2022-07-04T14:00:00+02:00",
          "2022-07-04T15:00:00+02:00",
          "2022-07-04T16:00:00+02:00",
          "2022-07-04T17:00:00+02:00",
          "2022-07-04T18:00:00+02:00",
          "2022-07-04T19:00:00+02:00",
          "2022-07-04T20:00:00+02:00",
          "2022-07-04T21:00:00+02:00",
          "2022-07-04T22:00:00+02:00",
          "2022-07-04T23:00:00+02:00",
          "2022-07-05T00:00:00+02:00",
          "2022-07-05T01:00:00+02:00",
          "2022-07-05T02:00:00+02:00",
          "2022-07-05T03:00:00+02:00",
          "2022-07-05T04:00:00+02:00",
          "2022-07-05T05:00:00+02:00",
          "2022-07-05T06:00:00+02:00",
          "2022-07-05T07:00:00+02:00",
          "2022-07-05T08:00:00+02:00",
          "2022-07-05T09:00:00+02:00",
          "2022-07-05T10:00:00+02:00",
          "2022-07-05T11:00:00+02:00",
          "2022-07-05T12:00:00+02:00",
          "2022-07-05T13:00:00+02:00",
          "2022-07-05T14:00:00+02:00",
          "2022-07-05T15:00:00+02:00",
          "2022-07-05T16:00:00+02:00",
          "2022-07-05T17:00:00+02:00",
          "2022-07-05T18:00:00+02:00",
          "2022-07-05T19:00:00+02:00",
          "2022-07-05T20:00:00+02:00",
          "2022-07-05T21:00:00+02:00",
          "2022-07-05T22:00:00+02:00",
          "2022-07-05T23:00:00+02:00",
          "2022-07-06T00:00:00+02:00",
          "2022-07-06T01:00:00+02:00",
          "2022-07-06T02:00:00+02:00",
          "2022-07-06T03:00:00+02:00",
          "2022-07-06T04:00:00+02:00",
          "2022-07-06T05:00:00+02:00",
          "2022-07-06T06:00:00+02:00",
          "2022-07-06T07:00:00+02:00",
          "2022-07-06T08:00:00+02:00",
          "2022-07-06T09:00:00+02:00",
          "2022-07-06T10:00:00+02:00",
          "2022-07-06T11:00:00+02:00",
          "2022-07-06T12:00:00+02:00",
          "2022-07-06T13:00:00+02:00",
          "2022-07-06T14:00:00+02:00",
          "2022-07-06T15:00:00+02:00",
          "2022-07-06T16:00:00+02:00",
          "2022-07-06T17:00:00+02:00",
          "2022-07-06T18:00:00+02:00",
          "2022-07-06T19:00:00+02:00",
          "2022-07-06T20:00:00+02:00",
          "2022-07-06T21:00:00+02:00",
          "2022-07-06T22:00:00+02:00",
          "2022-07-06T23:00:00+02:00",
          "2022-07-07T00:00:00+02:00",
          "2022-07-07T01:00:00+02:00",
          "2022-07-07T02:00:00+02:00",
          "2022-07-07T03:00:00+02:00",
          "2022-07-07T04:00:00+02:00",
          "2022-07-07T05:00:00+02:00",
          "2022-07-07T06:00:00+02:00",
          "2022-07-07T07:00:00+02:00",
          "2022-07-07T08:00:00+02:00",
          "2022-07-07T09:00:00+02:00",
          "2022-07-07T10:00:00+02:00",
          "2022-07-07T11:00:00+02:00",
          "2022-07-07T12:00:00+02:00",
          "2022-07-07T13:00:00+02:00",
          "2022-07-07T14:00:00+02:00",
          "2022-07-07T15:00:00+02:00",
          "2022-07-07T16:00:00+02:00",
          "2022-07-07T17:00:00+02:00",
          "2022-07-07T18:00:00+02:00",
          "2022-07-07T19:00:00+02:00",
          "2022-07-07T20:00:00+02:00",
          "2022-07-07T21:00:00+02:00",
          "2022-07-07T22:00:00+02:00",
          "2022-07-07T23:00:00+02:00"
         ],
         "xaxis": "x",
         "y": [
          0.1,
          0.1,
          0.1,
          0.1,
          0.1,
          5,
          24.3,
          912,
          4058.7,
          7439.7,
          9332.2,
          10138.15,
          10658.4,
          10722.1,
          10845.2,
          10289.381,
          10001.975,
          9562.85,
          8540.17,
          6469.6,
          2780.075,
          373.8,
          2.7,
          0.7,
          0.4,
          0.1,
          0.1,
          0.1,
          0.1,
          0.1,
          17.8,
          771.5,
          3585.5,
          6726.6,
          8737.6,
          9953.8,
          10495.8,
          10687.3,
          10700.65,
          10750.675,
          10306.925,
          9249.9,
          7751.55,
          5444.625,
          2280.7,
          286.3,
          2.4,
          0.8,
          0.1,
          0.1,
          0.1,
          0.1,
          0.1,
          0.1,
          16.4,
          658.9,
          3064.975,
          5862.1,
          7843.975,
          9170.5,
          10223.1,
          10300.7,
          10340.4,
          10194.85,
          9610.8,
          8614.85,
          7291.8,
          5229.7,
          2286.4,
          302.35,
          2.5,
          0.7,
          0.1,
          1.2,
          1.3,
          1.3,
          0.2,
          0.2,
          16.2,
          807.8,
          3713.1,
          7052.4,
          9112.8,
          10282.6,
          11055.775,
          11262.45,
          11190.9,
          11013.4,
          10561.4,
          9873.525,
          8497.7,
          6147.875,
          2650.575,
          343.175,
          2.8,
          0.7,
          0.1,
          0.1,
          0.1,
          0.1,
          0.1,
          0.1,
          12.2,
          740.3,
          3523.6,
          6741.8,
          8631.6,
          9884.05,
          10368.8,
          10529.65,
          10528,
          10225.3,
          9563.1,
          8443.9,
          7220.2,
          5204.375,
          2252.6,
          319.2,
          2.8,
          0.7,
          0.1,
          0.1,
          0.1,
          0.1,
          0.1,
          0.1,
          10.7,
          563.4,
          3041.1,
          6076.5,
          8064.6,
          9296.2,
          10073.5,
          10365.2,
          10449.05,
          10252.3,
          9666.875,
          8904.6,
          7600.825,
          5504.15,
          2405.2,
          329.375,
          2.4,
          0.4,
          0.6,
          0.4,
          0.4,
          0.6,
          0.1,
          0.1,
          10.8,
          861.858,
          3636.675,
          7027.3,
          9076.45,
          10187.85,
          10727.9,
          10952.2,
          10999.7,
          10908.4,
          10371.3,
          9938.225,
          8504.135,
          6084.13,
          2568.325,
          352.2,
          2.6,
          0.4
         ],
         "yaxis": "y"
        }
       ],
       "layout": {
        "legend": {
         "tracegroupgap": 0
        },
        "template": {
         "data": {
          "bar": [
           {
            "error_x": {
             "color": "#2a3f5f"
            },
            "error_y": {
             "color": "#2a3f5f"
            },
            "marker": {
             "line": {
              "color": "#E5ECF6",
              "width": 0.5
             },
             "pattern": {
              "fillmode": "overlay",
              "size": 10,
              "solidity": 0.2
             }
            },
            "type": "bar"
           }
          ],
          "barpolar": [
           {
            "marker": {
             "line": {
              "color": "#E5ECF6",
              "width": 0.5
             },
             "pattern": {
              "fillmode": "overlay",
              "size": 10,
              "solidity": 0.2
             }
            },
            "type": "barpolar"
           }
          ],
          "carpet": [
           {
            "aaxis": {
             "endlinecolor": "#2a3f5f",
             "gridcolor": "white",
             "linecolor": "white",
             "minorgridcolor": "white",
             "startlinecolor": "#2a3f5f"
            },
            "baxis": {
             "endlinecolor": "#2a3f5f",
             "gridcolor": "white",
             "linecolor": "white",
             "minorgridcolor": "white",
             "startlinecolor": "#2a3f5f"
            },
            "type": "carpet"
           }
          ],
          "choropleth": [
           {
            "colorbar": {
             "outlinewidth": 0,
             "ticks": ""
            },
            "type": "choropleth"
           }
          ],
          "contour": [
           {
            "colorbar": {
             "outlinewidth": 0,
             "ticks": ""
            },
            "colorscale": [
             [
              0,
              "#0d0887"
             ],
             [
              0.1111111111111111,
              "#46039f"
             ],
             [
              0.2222222222222222,
              "#7201a8"
             ],
             [
              0.3333333333333333,
              "#9c179e"
             ],
             [
              0.4444444444444444,
              "#bd3786"
             ],
             [
              0.5555555555555556,
              "#d8576b"
             ],
             [
              0.6666666666666666,
              "#ed7953"
             ],
             [
              0.7777777777777778,
              "#fb9f3a"
             ],
             [
              0.8888888888888888,
              "#fdca26"
             ],
             [
              1,
              "#f0f921"
             ]
            ],
            "type": "contour"
           }
          ],
          "contourcarpet": [
           {
            "colorbar": {
             "outlinewidth": 0,
             "ticks": ""
            },
            "type": "contourcarpet"
           }
          ],
          "heatmap": [
           {
            "colorbar": {
             "outlinewidth": 0,
             "ticks": ""
            },
            "colorscale": [
             [
              0,
              "#0d0887"
             ],
             [
              0.1111111111111111,
              "#46039f"
             ],
             [
              0.2222222222222222,
              "#7201a8"
             ],
             [
              0.3333333333333333,
              "#9c179e"
             ],
             [
              0.4444444444444444,
              "#bd3786"
             ],
             [
              0.5555555555555556,
              "#d8576b"
             ],
             [
              0.6666666666666666,
              "#ed7953"
             ],
             [
              0.7777777777777778,
              "#fb9f3a"
             ],
             [
              0.8888888888888888,
              "#fdca26"
             ],
             [
              1,
              "#f0f921"
             ]
            ],
            "type": "heatmap"
           }
          ],
          "heatmapgl": [
           {
            "colorbar": {
             "outlinewidth": 0,
             "ticks": ""
            },
            "colorscale": [
             [
              0,
              "#0d0887"
             ],
             [
              0.1111111111111111,
              "#46039f"
             ],
             [
              0.2222222222222222,
              "#7201a8"
             ],
             [
              0.3333333333333333,
              "#9c179e"
             ],
             [
              0.4444444444444444,
              "#bd3786"
             ],
             [
              0.5555555555555556,
              "#d8576b"
             ],
             [
              0.6666666666666666,
              "#ed7953"
             ],
             [
              0.7777777777777778,
              "#fb9f3a"
             ],
             [
              0.8888888888888888,
              "#fdca26"
             ],
             [
              1,
              "#f0f921"
             ]
            ],
            "type": "heatmapgl"
           }
          ],
          "histogram": [
           {
            "marker": {
             "pattern": {
              "fillmode": "overlay",
              "size": 10,
              "solidity": 0.2
             }
            },
            "type": "histogram"
           }
          ],
          "histogram2d": [
           {
            "colorbar": {
             "outlinewidth": 0,
             "ticks": ""
            },
            "colorscale": [
             [
              0,
              "#0d0887"
             ],
             [
              0.1111111111111111,
              "#46039f"
             ],
             [
              0.2222222222222222,
              "#7201a8"
             ],
             [
              0.3333333333333333,
              "#9c179e"
             ],
             [
              0.4444444444444444,
              "#bd3786"
             ],
             [
              0.5555555555555556,
              "#d8576b"
             ],
             [
              0.6666666666666666,
              "#ed7953"
             ],
             [
              0.7777777777777778,
              "#fb9f3a"
             ],
             [
              0.8888888888888888,
              "#fdca26"
             ],
             [
              1,
              "#f0f921"
             ]
            ],
            "type": "histogram2d"
           }
          ],
          "histogram2dcontour": [
           {
            "colorbar": {
             "outlinewidth": 0,
             "ticks": ""
            },
            "colorscale": [
             [
              0,
              "#0d0887"
             ],
             [
              0.1111111111111111,
              "#46039f"
             ],
             [
              0.2222222222222222,
              "#7201a8"
             ],
             [
              0.3333333333333333,
              "#9c179e"
             ],
             [
              0.4444444444444444,
              "#bd3786"
             ],
             [
              0.5555555555555556,
              "#d8576b"
             ],
             [
              0.6666666666666666,
              "#ed7953"
             ],
             [
              0.7777777777777778,
              "#fb9f3a"
             ],
             [
              0.8888888888888888,
              "#fdca26"
             ],
             [
              1,
              "#f0f921"
             ]
            ],
            "type": "histogram2dcontour"
           }
          ],
          "mesh3d": [
           {
            "colorbar": {
             "outlinewidth": 0,
             "ticks": ""
            },
            "type": "mesh3d"
           }
          ],
          "parcoords": [
           {
            "line": {
             "colorbar": {
              "outlinewidth": 0,
              "ticks": ""
             }
            },
            "type": "parcoords"
           }
          ],
          "pie": [
           {
            "automargin": true,
            "type": "pie"
           }
          ],
          "scatter": [
           {
            "fillpattern": {
             "fillmode": "overlay",
             "size": 10,
             "solidity": 0.2
            },
            "type": "scatter"
           }
          ],
          "scatter3d": [
           {
            "line": {
             "colorbar": {
              "outlinewidth": 0,
              "ticks": ""
             }
            },
            "marker": {
             "colorbar": {
              "outlinewidth": 0,
              "ticks": ""
             }
            },
            "type": "scatter3d"
           }
          ],
          "scattercarpet": [
           {
            "marker": {
             "colorbar": {
              "outlinewidth": 0,
              "ticks": ""
             }
            },
            "type": "scattercarpet"
           }
          ],
          "scattergeo": [
           {
            "marker": {
             "colorbar": {
              "outlinewidth": 0,
              "ticks": ""
             }
            },
            "type": "scattergeo"
           }
          ],
          "scattergl": [
           {
            "marker": {
             "colorbar": {
              "outlinewidth": 0,
              "ticks": ""
             }
            },
            "type": "scattergl"
           }
          ],
          "scattermapbox": [
           {
            "marker": {
             "colorbar": {
              "outlinewidth": 0,
              "ticks": ""
             }
            },
            "type": "scattermapbox"
           }
          ],
          "scatterpolar": [
           {
            "marker": {
             "colorbar": {
              "outlinewidth": 0,
              "ticks": ""
             }
            },
            "type": "scatterpolar"
           }
          ],
          "scatterpolargl": [
           {
            "marker": {
             "colorbar": {
              "outlinewidth": 0,
              "ticks": ""
             }
            },
            "type": "scatterpolargl"
           }
          ],
          "scatterternary": [
           {
            "marker": {
             "colorbar": {
              "outlinewidth": 0,
              "ticks": ""
             }
            },
            "type": "scatterternary"
           }
          ],
          "surface": [
           {
            "colorbar": {
             "outlinewidth": 0,
             "ticks": ""
            },
            "colorscale": [
             [
              0,
              "#0d0887"
             ],
             [
              0.1111111111111111,
              "#46039f"
             ],
             [
              0.2222222222222222,
              "#7201a8"
             ],
             [
              0.3333333333333333,
              "#9c179e"
             ],
             [
              0.4444444444444444,
              "#bd3786"
             ],
             [
              0.5555555555555556,
              "#d8576b"
             ],
             [
              0.6666666666666666,
              "#ed7953"
             ],
             [
              0.7777777777777778,
              "#fb9f3a"
             ],
             [
              0.8888888888888888,
              "#fdca26"
             ],
             [
              1,
              "#f0f921"
             ]
            ],
            "type": "surface"
           }
          ],
          "table": [
           {
            "cells": {
             "fill": {
              "color": "#EBF0F8"
             },
             "line": {
              "color": "white"
             }
            },
            "header": {
             "fill": {
              "color": "#C8D4E3"
             },
             "line": {
              "color": "white"
             }
            },
            "type": "table"
           }
          ]
         },
         "layout": {
          "annotationdefaults": {
           "arrowcolor": "#2a3f5f",
           "arrowhead": 0,
           "arrowwidth": 1
          },
          "autotypenumbers": "strict",
          "coloraxis": {
           "colorbar": {
            "outlinewidth": 0,
            "ticks": ""
           }
          },
          "colorscale": {
           "diverging": [
            [
             0,
             "#8e0152"
            ],
            [
             0.1,
             "#c51b7d"
            ],
            [
             0.2,
             "#de77ae"
            ],
            [
             0.3,
             "#f1b6da"
            ],
            [
             0.4,
             "#fde0ef"
            ],
            [
             0.5,
             "#f7f7f7"
            ],
            [
             0.6,
             "#e6f5d0"
            ],
            [
             0.7,
             "#b8e186"
            ],
            [
             0.8,
             "#7fbc41"
            ],
            [
             0.9,
             "#4d9221"
            ],
            [
             1,
             "#276419"
            ]
           ],
           "sequential": [
            [
             0,
             "#0d0887"
            ],
            [
             0.1111111111111111,
             "#46039f"
            ],
            [
             0.2222222222222222,
             "#7201a8"
            ],
            [
             0.3333333333333333,
             "#9c179e"
            ],
            [
             0.4444444444444444,
             "#bd3786"
            ],
            [
             0.5555555555555556,
             "#d8576b"
            ],
            [
             0.6666666666666666,
             "#ed7953"
            ],
            [
             0.7777777777777778,
             "#fb9f3a"
            ],
            [
             0.8888888888888888,
             "#fdca26"
            ],
            [
             1,
             "#f0f921"
            ]
           ],
           "sequentialminus": [
            [
             0,
             "#0d0887"
            ],
            [
             0.1111111111111111,
             "#46039f"
            ],
            [
             0.2222222222222222,
             "#7201a8"
            ],
            [
             0.3333333333333333,
             "#9c179e"
            ],
            [
             0.4444444444444444,
             "#bd3786"
            ],
            [
             0.5555555555555556,
             "#d8576b"
            ],
            [
             0.6666666666666666,
             "#ed7953"
            ],
            [
             0.7777777777777778,
             "#fb9f3a"
            ],
            [
             0.8888888888888888,
             "#fdca26"
            ],
            [
             1,
             "#f0f921"
            ]
           ]
          },
          "colorway": [
           "#636efa",
           "#EF553B",
           "#00cc96",
           "#ab63fa",
           "#FFA15A",
           "#19d3f3",
           "#FF6692",
           "#B6E880",
           "#FF97FF",
           "#FECB52"
          ],
          "font": {
           "color": "#2a3f5f"
          },
          "geo": {
           "bgcolor": "white",
           "lakecolor": "white",
           "landcolor": "#E5ECF6",
           "showlakes": true,
           "showland": true,
           "subunitcolor": "white"
          },
          "hoverlabel": {
           "align": "left"
          },
          "hovermode": "closest",
          "mapbox": {
           "style": "light"
          },
          "paper_bgcolor": "white",
          "plot_bgcolor": "#E5ECF6",
          "polar": {
           "angularaxis": {
            "gridcolor": "white",
            "linecolor": "white",
            "ticks": ""
           },
           "bgcolor": "#E5ECF6",
           "radialaxis": {
            "gridcolor": "white",
            "linecolor": "white",
            "ticks": ""
           }
          },
          "scene": {
           "xaxis": {
            "backgroundcolor": "#E5ECF6",
            "gridcolor": "white",
            "gridwidth": 2,
            "linecolor": "white",
            "showbackground": true,
            "ticks": "",
            "zerolinecolor": "white"
           },
           "yaxis": {
            "backgroundcolor": "#E5ECF6",
            "gridcolor": "white",
            "gridwidth": 2,
            "linecolor": "white",
            "showbackground": true,
            "ticks": "",
            "zerolinecolor": "white"
           },
           "zaxis": {
            "backgroundcolor": "#E5ECF6",
            "gridcolor": "white",
            "gridwidth": 2,
            "linecolor": "white",
            "showbackground": true,
            "ticks": "",
            "zerolinecolor": "white"
           }
          },
          "shapedefaults": {
           "line": {
            "color": "#2a3f5f"
           }
          },
          "ternary": {
           "aaxis": {
            "gridcolor": "white",
            "linecolor": "white",
            "ticks": ""
           },
           "baxis": {
            "gridcolor": "white",
            "linecolor": "white",
            "ticks": ""
           },
           "bgcolor": "#E5ECF6",
           "caxis": {
            "gridcolor": "white",
            "linecolor": "white",
            "ticks": ""
           }
          },
          "title": {
           "x": 0.05
          },
          "xaxis": {
           "automargin": true,
           "gridcolor": "white",
           "linecolor": "white",
           "ticks": "",
           "title": {
            "standoff": 15
           },
           "zerolinecolor": "white",
           "zerolinewidth": 2
          },
          "yaxis": {
           "automargin": true,
           "gridcolor": "white",
           "linecolor": "white",
           "ticks": "",
           "title": {
            "standoff": 15
           },
           "zerolinecolor": "white",
           "zerolinewidth": 2
          }
         }
        },
        "title": {
         "text": "Original Time Series"
        },
        "xaxis": {
         "anchor": "y",
         "domain": [
          0,
          1
         ],
         "title": {
          "text": "x"
         }
        },
        "yaxis": {
         "anchor": "x",
         "domain": [
          0,
          1
         ],
         "title": {
          "text": "y"
         }
        }
       }
      }
     },
     "metadata": {},
     "output_type": "display_data"
    }
   ],
   "source": [
    "import plotly.express as px\n",
    "\n",
    "fig = px.area(x=df_solar.index, y=df_solar['generation'], title='Original Time Series')\n",
    "fig"
   ]
  },
  {
   "cell_type": "code",
   "execution_count": 7,
   "id": "a7d8ba80",
   "metadata": {
    "execution": {
     "iopub.execute_input": "2024-05-29T22:25:32.195894Z",
     "iopub.status.busy": "2024-05-29T22:25:32.195762Z",
     "iopub.status.idle": "2024-05-29T22:25:32.257702Z",
     "shell.execute_reply": "2024-05-29T22:25:32.257443Z"
    },
    "papermill": {
     "duration": 0.065015,
     "end_time": "2024-05-29T22:25:32.258665",
     "exception": false,
     "start_time": "2024-05-29T22:25:32.193650",
     "status": "completed"
    },
    "tags": []
   },
   "outputs": [
    {
     "data": {
      "application/vnd.plotly.v1+json": {
       "config": {
        "plotlyServerURL": "https://plot.ly"
       },
       "data": [
        {
         "fillpattern": {
          "shape": ""
         },
         "hovertemplate": "variable=trend<br>datetime_utc=%{x}<br>value=%{y}<extra></extra>",
         "legendgroup": "",
         "line": {
          "color": "#636efa"
         },
         "marker": {
          "symbol": "circle"
         },
         "mode": "lines",
         "name": "",
         "orientation": "v",
         "showlegend": false,
         "stackgroup": "1",
         "type": "scatter",
         "x": [
          "2022-07-01T12:00:00+02:00",
          "2022-07-01T13:00:00+02:00",
          "2022-07-01T14:00:00+02:00",
          "2022-07-01T15:00:00+02:00",
          "2022-07-01T16:00:00+02:00",
          "2022-07-01T17:00:00+02:00",
          "2022-07-01T18:00:00+02:00",
          "2022-07-01T19:00:00+02:00",
          "2022-07-01T20:00:00+02:00",
          "2022-07-01T21:00:00+02:00",
          "2022-07-01T22:00:00+02:00",
          "2022-07-01T23:00:00+02:00",
          "2022-07-02T00:00:00+02:00",
          "2022-07-02T01:00:00+02:00",
          "2022-07-02T02:00:00+02:00",
          "2022-07-02T03:00:00+02:00",
          "2022-07-02T04:00:00+02:00",
          "2022-07-02T05:00:00+02:00",
          "2022-07-02T06:00:00+02:00",
          "2022-07-02T07:00:00+02:00",
          "2022-07-02T08:00:00+02:00",
          "2022-07-02T09:00:00+02:00",
          "2022-07-02T10:00:00+02:00",
          "2022-07-02T11:00:00+02:00",
          "2022-07-02T12:00:00+02:00",
          "2022-07-02T13:00:00+02:00",
          "2022-07-02T14:00:00+02:00",
          "2022-07-02T15:00:00+02:00",
          "2022-07-02T16:00:00+02:00",
          "2022-07-02T17:00:00+02:00",
          "2022-07-02T18:00:00+02:00",
          "2022-07-02T19:00:00+02:00",
          "2022-07-02T20:00:00+02:00",
          "2022-07-02T21:00:00+02:00",
          "2022-07-02T22:00:00+02:00",
          "2022-07-02T23:00:00+02:00",
          "2022-07-03T00:00:00+02:00",
          "2022-07-03T01:00:00+02:00",
          "2022-07-03T02:00:00+02:00",
          "2022-07-03T03:00:00+02:00",
          "2022-07-03T04:00:00+02:00",
          "2022-07-03T05:00:00+02:00",
          "2022-07-03T06:00:00+02:00",
          "2022-07-03T07:00:00+02:00",
          "2022-07-03T08:00:00+02:00",
          "2022-07-03T09:00:00+02:00",
          "2022-07-03T10:00:00+02:00",
          "2022-07-03T11:00:00+02:00",
          "2022-07-03T12:00:00+02:00",
          "2022-07-03T13:00:00+02:00",
          "2022-07-03T14:00:00+02:00",
          "2022-07-03T15:00:00+02:00",
          "2022-07-03T16:00:00+02:00",
          "2022-07-03T17:00:00+02:00",
          "2022-07-03T18:00:00+02:00",
          "2022-07-03T19:00:00+02:00",
          "2022-07-03T20:00:00+02:00",
          "2022-07-03T21:00:00+02:00",
          "2022-07-03T22:00:00+02:00",
          "2022-07-03T23:00:00+02:00",
          "2022-07-04T00:00:00+02:00",
          "2022-07-04T01:00:00+02:00",
          "2022-07-04T02:00:00+02:00",
          "2022-07-04T03:00:00+02:00",
          "2022-07-04T04:00:00+02:00",
          "2022-07-04T05:00:00+02:00",
          "2022-07-04T06:00:00+02:00",
          "2022-07-04T07:00:00+02:00",
          "2022-07-04T08:00:00+02:00",
          "2022-07-04T09:00:00+02:00",
          "2022-07-04T10:00:00+02:00",
          "2022-07-04T11:00:00+02:00",
          "2022-07-04T12:00:00+02:00",
          "2022-07-04T13:00:00+02:00",
          "2022-07-04T14:00:00+02:00",
          "2022-07-04T15:00:00+02:00",
          "2022-07-04T16:00:00+02:00",
          "2022-07-04T17:00:00+02:00",
          "2022-07-04T18:00:00+02:00",
          "2022-07-04T19:00:00+02:00",
          "2022-07-04T20:00:00+02:00",
          "2022-07-04T21:00:00+02:00",
          "2022-07-04T22:00:00+02:00",
          "2022-07-04T23:00:00+02:00",
          "2022-07-05T00:00:00+02:00",
          "2022-07-05T01:00:00+02:00",
          "2022-07-05T02:00:00+02:00",
          "2022-07-05T03:00:00+02:00",
          "2022-07-05T04:00:00+02:00",
          "2022-07-05T05:00:00+02:00",
          "2022-07-05T06:00:00+02:00",
          "2022-07-05T07:00:00+02:00",
          "2022-07-05T08:00:00+02:00",
          "2022-07-05T09:00:00+02:00",
          "2022-07-05T10:00:00+02:00",
          "2022-07-05T11:00:00+02:00",
          "2022-07-05T12:00:00+02:00",
          "2022-07-05T13:00:00+02:00",
          "2022-07-05T14:00:00+02:00",
          "2022-07-05T15:00:00+02:00",
          "2022-07-05T16:00:00+02:00",
          "2022-07-05T17:00:00+02:00",
          "2022-07-05T18:00:00+02:00",
          "2022-07-05T19:00:00+02:00",
          "2022-07-05T20:00:00+02:00",
          "2022-07-05T21:00:00+02:00",
          "2022-07-05T22:00:00+02:00",
          "2022-07-05T23:00:00+02:00",
          "2022-07-06T00:00:00+02:00",
          "2022-07-06T01:00:00+02:00",
          "2022-07-06T02:00:00+02:00",
          "2022-07-06T03:00:00+02:00",
          "2022-07-06T04:00:00+02:00",
          "2022-07-06T05:00:00+02:00",
          "2022-07-06T06:00:00+02:00",
          "2022-07-06T07:00:00+02:00",
          "2022-07-06T08:00:00+02:00",
          "2022-07-06T09:00:00+02:00",
          "2022-07-06T10:00:00+02:00",
          "2022-07-06T11:00:00+02:00",
          "2022-07-06T12:00:00+02:00",
          "2022-07-06T13:00:00+02:00",
          "2022-07-06T14:00:00+02:00",
          "2022-07-06T15:00:00+02:00",
          "2022-07-06T16:00:00+02:00",
          "2022-07-06T17:00:00+02:00",
          "2022-07-06T18:00:00+02:00",
          "2022-07-06T19:00:00+02:00",
          "2022-07-06T20:00:00+02:00",
          "2022-07-06T21:00:00+02:00",
          "2022-07-06T22:00:00+02:00",
          "2022-07-06T23:00:00+02:00",
          "2022-07-07T00:00:00+02:00",
          "2022-07-07T01:00:00+02:00",
          "2022-07-07T02:00:00+02:00",
          "2022-07-07T03:00:00+02:00",
          "2022-07-07T04:00:00+02:00",
          "2022-07-07T05:00:00+02:00",
          "2022-07-07T06:00:00+02:00",
          "2022-07-07T07:00:00+02:00",
          "2022-07-07T08:00:00+02:00",
          "2022-07-07T09:00:00+02:00",
          "2022-07-07T10:00:00+02:00",
          "2022-07-07T11:00:00+02:00"
         ],
         "xaxis": "x",
         "y": [
          4673.235458333333,
          4673.241708333333,
          4673.241708333333,
          4673.241708333333,
          4673.241708333332,
          4673.139625,
          4672.902124999999,
          4669.839625,
          4657.054208333332,
          4632.339624999999,
          4605.095875,
          4588.86775,
          4581.639625000001,
          4577.5271250000005,
          4573.790666666667,
          4580.3895,
          4596.352916666666,
          4596.18625,
          4573.2368750000005,
          4535.453645833333,
          4503.696354166666,
          4491.469791666666,
          4489.640624999999,
          4489.6364583333325,
          4489.632291666668,
          4489.626041666667,
          4489.626041666667,
          4489.626041666666,
          4489.626041666667,
          4489.626041666667,
          4489.596874999999,
          4487.221874999999,
          4474.031770833333,
          4445.177083333333,
          4408.549479166667,
          4373.613541666667,
          4351.613541666666,
          4337.878124999999,
          4322.31875,
          4303.233854166667,
          4277.151562499999,
          4249.418749999999,
          4226.610416666666,
          4212.554687499999,
          4208.195833333332,
          4208.648958333332,
          4208.9854166666655,
          4208.985416666666,
          4208.983333333333,
          4209.0062499999985,
          4209.054166666666,
          4209.104166666666,
          4209.131249999999,
          4209.135416666667,
          4209.133333333332,
          4212.231249999999,
          4228.835937500001,
          4267.136458333334,
          4318.368229166667,
          4367.970833333334,
          4408.486979166667,
          4445.870833333333,
          4483.626041666666,
          4518.397916666667,
          4555.255208333333,
          4601.281770833333,
          4652.627083333334,
          4696.878645833333,
          4723.594270833332,
          4732.031770833333,
          4732.888541666667,
          4732.8947916666675,
          4732.894791666667,
          4732.871875000001,
          4732.823958333333,
          4732.773958333333,
          4732.746875,
          4732.742708333333,
          4732.6572916666655,
          4731.167708333332,
          4725.813541666666,
          4715.394791666667,
          4698.898958333332,
          4680.570833333332,
          4657.955729166666,
          4628.377083333333,
          4599.299999999999,
          4569.070833333333,
          4531.854166666666,
          4481.272395833334,
          4424.873958333333,
          4378.603125,
          4350.655729166667,
          4341.865104166666,
          4341.365625,
          4341.365625000001,
          4341.365625,
          4341.365625,
          4341.365625,
          4341.365624999999,
          4341.365624999999,
          4341.365624999999,
          4341.3343749999985,
          4337.617708333332,
          4323.880208333333,
          4299.967708333333,
          4274.294791666666,
          4250.235416666666,
          4231.836458333332,
          4222.258333333333,
          4217.1875,
          4216.1052083333325,
          4218.8296875,
          4230.589583333333,
          4248.1171875,
          4262.292187499999,
          4271.716666666667,
          4275.1078125,
          4275.311458333333,
          4275.296875,
          4275.301041666666,
          4275.317708333332,
          4275.330208333332,
          4275.346874999998,
          4275.357291666665,
          4275.357291666665,
          4275.359374999999,
          4281.579333333331,
          4300.205020833332,
          4332.421166666667,
          4373.309708333333,
          4412.965958333333,
          4445.175333333333,
          4471.037833333333,
          4494.738875,
          4519.8795,
          4548.223770833333,
          4584.433145833334,
          4624.785958333334,
          4655.687833333334,
          4671.169187500001,
          4675.043145833333,
          4675.522833333333,
          4675.527
         ],
         "yaxis": "y"
        },
        {
         "fillpattern": {
          "shape": ""
         },
         "hovertemplate": "variable=seasonal<br>datetime_utc=%{x}<br>value=%{y}<extra></extra>",
         "legendgroup": "",
         "line": {
          "color": "#636efa"
         },
         "marker": {
          "symbol": "circle"
         },
         "mode": "lines",
         "name": "",
         "orientation": "v",
         "showlegend": false,
         "stackgroup": "1",
         "type": "scatter",
         "x": [
          "2022-07-01T12:00:00+02:00",
          "2022-07-01T13:00:00+02:00",
          "2022-07-01T14:00:00+02:00",
          "2022-07-01T15:00:00+02:00",
          "2022-07-01T16:00:00+02:00",
          "2022-07-01T17:00:00+02:00",
          "2022-07-01T18:00:00+02:00",
          "2022-07-01T19:00:00+02:00",
          "2022-07-01T20:00:00+02:00",
          "2022-07-01T21:00:00+02:00",
          "2022-07-01T22:00:00+02:00",
          "2022-07-01T23:00:00+02:00",
          "2022-07-02T00:00:00+02:00",
          "2022-07-02T01:00:00+02:00",
          "2022-07-02T02:00:00+02:00",
          "2022-07-02T03:00:00+02:00",
          "2022-07-02T04:00:00+02:00",
          "2022-07-02T05:00:00+02:00",
          "2022-07-02T06:00:00+02:00",
          "2022-07-02T07:00:00+02:00",
          "2022-07-02T08:00:00+02:00",
          "2022-07-02T09:00:00+02:00",
          "2022-07-02T10:00:00+02:00",
          "2022-07-02T11:00:00+02:00",
          "2022-07-02T12:00:00+02:00",
          "2022-07-02T13:00:00+02:00",
          "2022-07-02T14:00:00+02:00",
          "2022-07-02T15:00:00+02:00",
          "2022-07-02T16:00:00+02:00",
          "2022-07-02T17:00:00+02:00",
          "2022-07-02T18:00:00+02:00",
          "2022-07-02T19:00:00+02:00",
          "2022-07-02T20:00:00+02:00",
          "2022-07-02T21:00:00+02:00",
          "2022-07-02T22:00:00+02:00",
          "2022-07-02T23:00:00+02:00",
          "2022-07-03T00:00:00+02:00",
          "2022-07-03T01:00:00+02:00",
          "2022-07-03T02:00:00+02:00",
          "2022-07-03T03:00:00+02:00",
          "2022-07-03T04:00:00+02:00",
          "2022-07-03T05:00:00+02:00",
          "2022-07-03T06:00:00+02:00",
          "2022-07-03T07:00:00+02:00",
          "2022-07-03T08:00:00+02:00",
          "2022-07-03T09:00:00+02:00",
          "2022-07-03T10:00:00+02:00",
          "2022-07-03T11:00:00+02:00",
          "2022-07-03T12:00:00+02:00",
          "2022-07-03T13:00:00+02:00",
          "2022-07-03T14:00:00+02:00",
          "2022-07-03T15:00:00+02:00",
          "2022-07-03T16:00:00+02:00",
          "2022-07-03T17:00:00+02:00",
          "2022-07-03T18:00:00+02:00",
          "2022-07-03T19:00:00+02:00",
          "2022-07-03T20:00:00+02:00",
          "2022-07-03T21:00:00+02:00",
          "2022-07-03T22:00:00+02:00",
          "2022-07-03T23:00:00+02:00",
          "2022-07-04T00:00:00+02:00",
          "2022-07-04T01:00:00+02:00",
          "2022-07-04T02:00:00+02:00",
          "2022-07-04T03:00:00+02:00",
          "2022-07-04T04:00:00+02:00",
          "2022-07-04T05:00:00+02:00",
          "2022-07-04T06:00:00+02:00",
          "2022-07-04T07:00:00+02:00",
          "2022-07-04T08:00:00+02:00",
          "2022-07-04T09:00:00+02:00",
          "2022-07-04T10:00:00+02:00",
          "2022-07-04T11:00:00+02:00",
          "2022-07-04T12:00:00+02:00",
          "2022-07-04T13:00:00+02:00",
          "2022-07-04T14:00:00+02:00",
          "2022-07-04T15:00:00+02:00",
          "2022-07-04T16:00:00+02:00",
          "2022-07-04T17:00:00+02:00",
          "2022-07-04T18:00:00+02:00",
          "2022-07-04T19:00:00+02:00",
          "2022-07-04T20:00:00+02:00",
          "2022-07-04T21:00:00+02:00",
          "2022-07-04T22:00:00+02:00",
          "2022-07-04T23:00:00+02:00",
          "2022-07-05T00:00:00+02:00",
          "2022-07-05T01:00:00+02:00",
          "2022-07-05T02:00:00+02:00",
          "2022-07-05T03:00:00+02:00",
          "2022-07-05T04:00:00+02:00",
          "2022-07-05T05:00:00+02:00",
          "2022-07-05T06:00:00+02:00",
          "2022-07-05T07:00:00+02:00",
          "2022-07-05T08:00:00+02:00",
          "2022-07-05T09:00:00+02:00",
          "2022-07-05T10:00:00+02:00",
          "2022-07-05T11:00:00+02:00",
          "2022-07-05T12:00:00+02:00",
          "2022-07-05T13:00:00+02:00",
          "2022-07-05T14:00:00+02:00",
          "2022-07-05T15:00:00+02:00",
          "2022-07-05T16:00:00+02:00",
          "2022-07-05T17:00:00+02:00",
          "2022-07-05T18:00:00+02:00",
          "2022-07-05T19:00:00+02:00",
          "2022-07-05T20:00:00+02:00",
          "2022-07-05T21:00:00+02:00",
          "2022-07-05T22:00:00+02:00",
          "2022-07-05T23:00:00+02:00",
          "2022-07-06T00:00:00+02:00",
          "2022-07-06T01:00:00+02:00",
          "2022-07-06T02:00:00+02:00",
          "2022-07-06T03:00:00+02:00",
          "2022-07-06T04:00:00+02:00",
          "2022-07-06T05:00:00+02:00",
          "2022-07-06T06:00:00+02:00",
          "2022-07-06T07:00:00+02:00",
          "2022-07-06T08:00:00+02:00",
          "2022-07-06T09:00:00+02:00",
          "2022-07-06T10:00:00+02:00",
          "2022-07-06T11:00:00+02:00",
          "2022-07-06T12:00:00+02:00",
          "2022-07-06T13:00:00+02:00",
          "2022-07-06T14:00:00+02:00",
          "2022-07-06T15:00:00+02:00",
          "2022-07-06T16:00:00+02:00",
          "2022-07-06T17:00:00+02:00",
          "2022-07-06T18:00:00+02:00",
          "2022-07-06T19:00:00+02:00",
          "2022-07-06T20:00:00+02:00",
          "2022-07-06T21:00:00+02:00",
          "2022-07-06T22:00:00+02:00",
          "2022-07-06T23:00:00+02:00",
          "2022-07-07T00:00:00+02:00",
          "2022-07-07T01:00:00+02:00",
          "2022-07-07T02:00:00+02:00",
          "2022-07-07T03:00:00+02:00",
          "2022-07-07T04:00:00+02:00",
          "2022-07-07T05:00:00+02:00",
          "2022-07-07T06:00:00+02:00",
          "2022-07-07T07:00:00+02:00",
          "2022-07-07T08:00:00+02:00",
          "2022-07-07T09:00:00+02:00",
          "2022-07-07T10:00:00+02:00",
          "2022-07-07T11:00:00+02:00"
         ],
         "xaxis": "x2",
         "y": [
          2.358597357058376,
          2.395936100853486,
          2.4030898637526663,
          2.3537346025203965,
          2.2395314987689723,
          2.0479757014845323,
          1.7567750152191866,
          1.2729821462480013,
          0.5490103769883786,
          0.07328792571551822,
          0.0005858751539974987,
          0.00015035289145205925,
          0.0000522616160517345,
          0.00007505325759337446,
          0.00007836290380200983,
          0.0000853318430782837,
          0.000026176713617129417,
          0.000026130588131772113,
          0.003149506437118745,
          0.16442130956741904,
          0.7697682304534788,
          1.4788270111254633,
          1.92839570445015,
          2.2034381043891336,
          2.358597357058376,
          2.395936100853486,
          2.4030898637526663,
          2.3537346025203965,
          2.2395314987689723,
          2.0479757014845323,
          1.7567750152191866,
          1.2729821462480013,
          0.5490103769883786,
          0.07328792571551822,
          0.0005858751539974987,
          0.00015035289145205925,
          0.0000522616160517345,
          0.00007505325759337446,
          0.00007836290380200983,
          0.0000853318430782837,
          0.000026176713617129417,
          0.000026130588131772113,
          0.003149506437118745,
          0.16442130956741904,
          0.7697682304534788,
          1.4788270111254633,
          1.92839570445015,
          2.2034381043891336,
          2.358597357058376,
          2.395936100853486,
          2.4030898637526663,
          2.3537346025203965,
          2.2395314987689723,
          2.0479757014845323,
          1.7567750152191866,
          1.2729821462480013,
          0.5490103769883786,
          0.07328792571551822,
          0.0005858751539974987,
          0.00015035289145205925,
          0.0000522616160517345,
          0.00007505325759337446,
          0.00007836290380200983,
          0.0000853318430782837,
          0.000026176713617129417,
          0.000026130588131772113,
          0.003149506437118745,
          0.16442130956741904,
          0.7697682304534788,
          1.4788270111254633,
          1.92839570445015,
          2.2034381043891336,
          2.358597357058376,
          2.395936100853486,
          2.4030898637526663,
          2.3537346025203965,
          2.2395314987689723,
          2.0479757014845323,
          1.7567750152191866,
          1.2729821462480013,
          0.5490103769883786,
          0.07328792571551822,
          0.0005858751539974987,
          0.00015035289145205925,
          0.0000522616160517345,
          0.00007505325759337446,
          0.00007836290380200983,
          0.0000853318430782837,
          0.000026176713617129417,
          0.000026130588131772113,
          0.003149506437118745,
          0.16442130956741904,
          0.7697682304534788,
          1.4788270111254633,
          1.92839570445015,
          2.2034381043891336,
          2.358597357058376,
          2.395936100853486,
          2.4030898637526663,
          2.3537346025203965,
          2.2395314987689723,
          2.0479757014845323,
          1.7567750152191866,
          1.2729821462480013,
          0.5490103769883786,
          0.07328792571551822,
          0.0005858751539974987,
          0.00015035289145205925,
          0.0000522616160517345,
          0.00007505325759337446,
          0.00007836290380200983,
          0.0000853318430782837,
          0.000026176713617129417,
          0.000026130588131772113,
          0.003149506437118745,
          0.16442130956741904,
          0.7697682304534788,
          1.4788270111254633,
          1.92839570445015,
          2.2034381043891336,
          2.358597357058376,
          2.395936100853486,
          2.4030898637526663,
          2.3537346025203965,
          2.2395314987689723,
          2.0479757014845323,
          1.7567750152191866,
          1.2729821462480013,
          0.5490103769883786,
          0.07328792571551822,
          0.0005858751539974987,
          0.00015035289145205925,
          0.0000522616160517345,
          0.00007505325759337446,
          0.00007836290380200983,
          0.0000853318430782837,
          0.000026176713617129417,
          0.000026130588131772113,
          0.003149506437118745,
          0.16442130956741904,
          0.7697682304534788,
          1.4788270111254633,
          1.92839570445015,
          2.2034381043891336
         ],
         "yaxis": "y2"
        },
        {
         "fillpattern": {
          "shape": ""
         },
         "hovertemplate": "variable=residual<br>datetime_utc=%{x}<br>value=%{y}<extra></extra>",
         "legendgroup": "",
         "line": {
          "color": "#636efa"
         },
         "marker": {
          "symbol": "circle"
         },
         "mode": "lines",
         "name": "",
         "orientation": "v",
         "showlegend": false,
         "stackgroup": "1",
         "type": "scatter",
         "x": [
          "2022-07-01T12:00:00+02:00",
          "2022-07-01T13:00:00+02:00",
          "2022-07-01T14:00:00+02:00",
          "2022-07-01T15:00:00+02:00",
          "2022-07-01T16:00:00+02:00",
          "2022-07-01T17:00:00+02:00",
          "2022-07-01T18:00:00+02:00",
          "2022-07-01T19:00:00+02:00",
          "2022-07-01T20:00:00+02:00",
          "2022-07-01T21:00:00+02:00",
          "2022-07-01T22:00:00+02:00",
          "2022-07-01T23:00:00+02:00",
          "2022-07-02T00:00:00+02:00",
          "2022-07-02T01:00:00+02:00",
          "2022-07-02T02:00:00+02:00",
          "2022-07-02T03:00:00+02:00",
          "2022-07-02T04:00:00+02:00",
          "2022-07-02T05:00:00+02:00",
          "2022-07-02T06:00:00+02:00",
          "2022-07-02T07:00:00+02:00",
          "2022-07-02T08:00:00+02:00",
          "2022-07-02T09:00:00+02:00",
          "2022-07-02T10:00:00+02:00",
          "2022-07-02T11:00:00+02:00",
          "2022-07-02T12:00:00+02:00",
          "2022-07-02T13:00:00+02:00",
          "2022-07-02T14:00:00+02:00",
          "2022-07-02T15:00:00+02:00",
          "2022-07-02T16:00:00+02:00",
          "2022-07-02T17:00:00+02:00",
          "2022-07-02T18:00:00+02:00",
          "2022-07-02T19:00:00+02:00",
          "2022-07-02T20:00:00+02:00",
          "2022-07-02T21:00:00+02:00",
          "2022-07-02T22:00:00+02:00",
          "2022-07-02T23:00:00+02:00",
          "2022-07-03T00:00:00+02:00",
          "2022-07-03T01:00:00+02:00",
          "2022-07-03T02:00:00+02:00",
          "2022-07-03T03:00:00+02:00",
          "2022-07-03T04:00:00+02:00",
          "2022-07-03T05:00:00+02:00",
          "2022-07-03T06:00:00+02:00",
          "2022-07-03T07:00:00+02:00",
          "2022-07-03T08:00:00+02:00",
          "2022-07-03T09:00:00+02:00",
          "2022-07-03T10:00:00+02:00",
          "2022-07-03T11:00:00+02:00",
          "2022-07-03T12:00:00+02:00",
          "2022-07-03T13:00:00+02:00",
          "2022-07-03T14:00:00+02:00",
          "2022-07-03T15:00:00+02:00",
          "2022-07-03T16:00:00+02:00",
          "2022-07-03T17:00:00+02:00",
          "2022-07-03T18:00:00+02:00",
          "2022-07-03T19:00:00+02:00",
          "2022-07-03T20:00:00+02:00",
          "2022-07-03T21:00:00+02:00",
          "2022-07-03T22:00:00+02:00",
          "2022-07-03T23:00:00+02:00",
          "2022-07-04T00:00:00+02:00",
          "2022-07-04T01:00:00+02:00",
          "2022-07-04T02:00:00+02:00",
          "2022-07-04T03:00:00+02:00",
          "2022-07-04T04:00:00+02:00",
          "2022-07-04T05:00:00+02:00",
          "2022-07-04T06:00:00+02:00",
          "2022-07-04T07:00:00+02:00",
          "2022-07-04T08:00:00+02:00",
          "2022-07-04T09:00:00+02:00",
          "2022-07-04T10:00:00+02:00",
          "2022-07-04T11:00:00+02:00",
          "2022-07-04T12:00:00+02:00",
          "2022-07-04T13:00:00+02:00",
          "2022-07-04T14:00:00+02:00",
          "2022-07-04T15:00:00+02:00",
          "2022-07-04T16:00:00+02:00",
          "2022-07-04T17:00:00+02:00",
          "2022-07-04T18:00:00+02:00",
          "2022-07-04T19:00:00+02:00",
          "2022-07-04T20:00:00+02:00",
          "2022-07-04T21:00:00+02:00",
          "2022-07-04T22:00:00+02:00",
          "2022-07-04T23:00:00+02:00",
          "2022-07-05T00:00:00+02:00",
          "2022-07-05T01:00:00+02:00",
          "2022-07-05T02:00:00+02:00",
          "2022-07-05T03:00:00+02:00",
          "2022-07-05T04:00:00+02:00",
          "2022-07-05T05:00:00+02:00",
          "2022-07-05T06:00:00+02:00",
          "2022-07-05T07:00:00+02:00",
          "2022-07-05T08:00:00+02:00",
          "2022-07-05T09:00:00+02:00",
          "2022-07-05T10:00:00+02:00",
          "2022-07-05T11:00:00+02:00",
          "2022-07-05T12:00:00+02:00",
          "2022-07-05T13:00:00+02:00",
          "2022-07-05T14:00:00+02:00",
          "2022-07-05T15:00:00+02:00",
          "2022-07-05T16:00:00+02:00",
          "2022-07-05T17:00:00+02:00",
          "2022-07-05T18:00:00+02:00",
          "2022-07-05T19:00:00+02:00",
          "2022-07-05T20:00:00+02:00",
          "2022-07-05T21:00:00+02:00",
          "2022-07-05T22:00:00+02:00",
          "2022-07-05T23:00:00+02:00",
          "2022-07-06T00:00:00+02:00",
          "2022-07-06T01:00:00+02:00",
          "2022-07-06T02:00:00+02:00",
          "2022-07-06T03:00:00+02:00",
          "2022-07-06T04:00:00+02:00",
          "2022-07-06T05:00:00+02:00",
          "2022-07-06T06:00:00+02:00",
          "2022-07-06T07:00:00+02:00",
          "2022-07-06T08:00:00+02:00",
          "2022-07-06T09:00:00+02:00",
          "2022-07-06T10:00:00+02:00",
          "2022-07-06T11:00:00+02:00",
          "2022-07-06T12:00:00+02:00",
          "2022-07-06T13:00:00+02:00",
          "2022-07-06T14:00:00+02:00",
          "2022-07-06T15:00:00+02:00",
          "2022-07-06T16:00:00+02:00",
          "2022-07-06T17:00:00+02:00",
          "2022-07-06T18:00:00+02:00",
          "2022-07-06T19:00:00+02:00",
          "2022-07-06T20:00:00+02:00",
          "2022-07-06T21:00:00+02:00",
          "2022-07-06T22:00:00+02:00",
          "2022-07-06T23:00:00+02:00",
          "2022-07-07T00:00:00+02:00",
          "2022-07-07T01:00:00+02:00",
          "2022-07-07T02:00:00+02:00",
          "2022-07-07T03:00:00+02:00",
          "2022-07-07T04:00:00+02:00",
          "2022-07-07T05:00:00+02:00",
          "2022-07-07T06:00:00+02:00",
          "2022-07-07T07:00:00+02:00",
          "2022-07-07T08:00:00+02:00",
          "2022-07-07T09:00:00+02:00",
          "2022-07-07T10:00:00+02:00",
          "2022-07-07T11:00:00+02:00"
         ],
         "xaxis": "x3",
         "y": [
          0.9669867963347868,
          0.9576049403550931,
          0.9657157395225554,
          0.9354347789330377,
          0.9556752646262576,
          0.999203132495763,
          1.040312183695719,
          1.0883113325225122,
          1.0873382504207534,
          1.1010485630135116,
          1.000737115183448,
          1.0145669571336287,
          1.6705375041350066,
          0.2910713944750902,
          0.2790057767356878,
          0.2558506139916969,
          0.8311348847163686,
          0.8326321885073114,
          1.2358159762617753,
          1.0345633634271647,
          1.0342383597854263,
          1.01272083607932,
          1.0092166913260066,
          1.006182776012598,
          0.9911764297847613,
          0.9935336955921927,
          0.9918134174805091,
          1.0173445727990735,
          1.0250894698218445,
          1.0060094715632384,
          0.9827997998570818,
          0.9531650644640597,
          0.9285141907037986,
          0.8788198369524142,
          0.9292026540437963,
          1.216571944575469,
          0.43971050914267007,
          0.30715182979496475,
          0.2952382948573084,
          0.27232902175683926,
          0.8931620017871402,
          0.9005779004774979,
          1.2319955203256674,
          0.9512963988012718,
          0.9461740032243328,
          0.9418747302507567,
          0.9664126908188608,
          0.9888143006016089,
          1.0297969361764074,
          1.0214378265688655,
          1.0223104794229556,
          1.0290433595233066,
          1.0195532100780698,
          0.9993785465296233,
          0.9861112621682655,
          0.9753090587271034,
          0.9848063078935648,
          0.9668097281244163,
          0.9881326645312623,
          1.0658756130597196,
          0.43403784904908244,
          3.5962912647797207,
          3.7000146922088875,
          3.3716908819505984,
          1.6772668387584004,
          1.663420241021936,
          1.1055395143342384,
          1.0460113730529663,
          1.0211841734004359,
          1.0077943296730343,
          0.9984570926309656,
          0.9859961876305919,
          0.9903952152035042,
          0.9931912777231435,
          0.9839536760653711,
          0.9886627196810457,
          0.9964397377934445,
          1.018672390657134,
          1.0220689427185914,
          1.0207852196153793,
          1.0216048869730128,
          0.9930363656947845,
          1.0170840513187756,
          0.994689270943158,
          0.410791840295295,
          0.2878735201414752,
          0.2774583126953608,
          0.25648441633835944,
          0.8429638534285347,
          0.8539834846198987,
          0.8754199225543922,
          1.0282863334129897,
          1.0521360457728473,
          1.049982749302677,
          1.0310240306859835,
          1.033255474590624,
          1.0126242578324394,
          1.0123072359909908,
          1.0091355399163067,
          1.0006730497049927,
          0.9835923874677733,
          0.9497119848791605,
          0.9466944790412704,
          0.94252959577613,
          0.9489205962635621,
          1.0128969387858762,
          1.1181201630259354,
          1.0954013444877553,
          0.4521559906291797,
          0.3155626914162367,
          0.3025983591148776,
          0.2779568838983938,
          0.9055092370351806,
          0.9045861199113115,
          0.799732579729719,
          0.8039249766551372,
          0.9248435645444938,
          0.9611453213822414,
          0.978180311661381,
          0.9868208702394655,
          0.9989871055674726,
          1.0118917646690861,
          1.0170378884916733,
          1.0188082602579154,
          1.009616671111982,
          1.016991214774451,
          1.0119800734184428,
          1.0098664697941875,
          1.0187825086446798,
          1.0373553083283693,
          0.9366900927961521,
          0.6028616106996392,
          2.582733047648137,
          1.1920160402918836,
          1.135651305287249,
          1.5556549229634835,
          0.839929925173746,
          0.8347668063614161,
          0.7414632276935782,
          1.1258842955498412,
          1.0113905941718342,
          1.0164487742113404,
          1.0066759237761733,
          0.9888971318244844
         ],
         "yaxis": "y3"
        }
       ],
       "layout": {
        "annotations": [
         {
          "font": {},
          "showarrow": false,
          "text": "variable=trend",
          "x": 0.15,
          "xanchor": "center",
          "xref": "paper",
          "y": 1,
          "yanchor": "bottom",
          "yref": "paper"
         },
         {
          "font": {},
          "showarrow": false,
          "text": "variable=seasonal",
          "x": 0.49999999999999994,
          "xanchor": "center",
          "xref": "paper",
          "y": 1,
          "yanchor": "bottom",
          "yref": "paper"
         },
         {
          "font": {},
          "showarrow": false,
          "text": "variable=residual",
          "x": 0.85,
          "xanchor": "center",
          "xref": "paper",
          "y": 1,
          "yanchor": "bottom",
          "yref": "paper"
         }
        ],
        "legend": {
         "tracegroupgap": 0
        },
        "template": {
         "data": {
          "bar": [
           {
            "error_x": {
             "color": "#2a3f5f"
            },
            "error_y": {
             "color": "#2a3f5f"
            },
            "marker": {
             "line": {
              "color": "#E5ECF6",
              "width": 0.5
             },
             "pattern": {
              "fillmode": "overlay",
              "size": 10,
              "solidity": 0.2
             }
            },
            "type": "bar"
           }
          ],
          "barpolar": [
           {
            "marker": {
             "line": {
              "color": "#E5ECF6",
              "width": 0.5
             },
             "pattern": {
              "fillmode": "overlay",
              "size": 10,
              "solidity": 0.2
             }
            },
            "type": "barpolar"
           }
          ],
          "carpet": [
           {
            "aaxis": {
             "endlinecolor": "#2a3f5f",
             "gridcolor": "white",
             "linecolor": "white",
             "minorgridcolor": "white",
             "startlinecolor": "#2a3f5f"
            },
            "baxis": {
             "endlinecolor": "#2a3f5f",
             "gridcolor": "white",
             "linecolor": "white",
             "minorgridcolor": "white",
             "startlinecolor": "#2a3f5f"
            },
            "type": "carpet"
           }
          ],
          "choropleth": [
           {
            "colorbar": {
             "outlinewidth": 0,
             "ticks": ""
            },
            "type": "choropleth"
           }
          ],
          "contour": [
           {
            "colorbar": {
             "outlinewidth": 0,
             "ticks": ""
            },
            "colorscale": [
             [
              0,
              "#0d0887"
             ],
             [
              0.1111111111111111,
              "#46039f"
             ],
             [
              0.2222222222222222,
              "#7201a8"
             ],
             [
              0.3333333333333333,
              "#9c179e"
             ],
             [
              0.4444444444444444,
              "#bd3786"
             ],
             [
              0.5555555555555556,
              "#d8576b"
             ],
             [
              0.6666666666666666,
              "#ed7953"
             ],
             [
              0.7777777777777778,
              "#fb9f3a"
             ],
             [
              0.8888888888888888,
              "#fdca26"
             ],
             [
              1,
              "#f0f921"
             ]
            ],
            "type": "contour"
           }
          ],
          "contourcarpet": [
           {
            "colorbar": {
             "outlinewidth": 0,
             "ticks": ""
            },
            "type": "contourcarpet"
           }
          ],
          "heatmap": [
           {
            "colorbar": {
             "outlinewidth": 0,
             "ticks": ""
            },
            "colorscale": [
             [
              0,
              "#0d0887"
             ],
             [
              0.1111111111111111,
              "#46039f"
             ],
             [
              0.2222222222222222,
              "#7201a8"
             ],
             [
              0.3333333333333333,
              "#9c179e"
             ],
             [
              0.4444444444444444,
              "#bd3786"
             ],
             [
              0.5555555555555556,
              "#d8576b"
             ],
             [
              0.6666666666666666,
              "#ed7953"
             ],
             [
              0.7777777777777778,
              "#fb9f3a"
             ],
             [
              0.8888888888888888,
              "#fdca26"
             ],
             [
              1,
              "#f0f921"
             ]
            ],
            "type": "heatmap"
           }
          ],
          "heatmapgl": [
           {
            "colorbar": {
             "outlinewidth": 0,
             "ticks": ""
            },
            "colorscale": [
             [
              0,
              "#0d0887"
             ],
             [
              0.1111111111111111,
              "#46039f"
             ],
             [
              0.2222222222222222,
              "#7201a8"
             ],
             [
              0.3333333333333333,
              "#9c179e"
             ],
             [
              0.4444444444444444,
              "#bd3786"
             ],
             [
              0.5555555555555556,
              "#d8576b"
             ],
             [
              0.6666666666666666,
              "#ed7953"
             ],
             [
              0.7777777777777778,
              "#fb9f3a"
             ],
             [
              0.8888888888888888,
              "#fdca26"
             ],
             [
              1,
              "#f0f921"
             ]
            ],
            "type": "heatmapgl"
           }
          ],
          "histogram": [
           {
            "marker": {
             "pattern": {
              "fillmode": "overlay",
              "size": 10,
              "solidity": 0.2
             }
            },
            "type": "histogram"
           }
          ],
          "histogram2d": [
           {
            "colorbar": {
             "outlinewidth": 0,
             "ticks": ""
            },
            "colorscale": [
             [
              0,
              "#0d0887"
             ],
             [
              0.1111111111111111,
              "#46039f"
             ],
             [
              0.2222222222222222,
              "#7201a8"
             ],
             [
              0.3333333333333333,
              "#9c179e"
             ],
             [
              0.4444444444444444,
              "#bd3786"
             ],
             [
              0.5555555555555556,
              "#d8576b"
             ],
             [
              0.6666666666666666,
              "#ed7953"
             ],
             [
              0.7777777777777778,
              "#fb9f3a"
             ],
             [
              0.8888888888888888,
              "#fdca26"
             ],
             [
              1,
              "#f0f921"
             ]
            ],
            "type": "histogram2d"
           }
          ],
          "histogram2dcontour": [
           {
            "colorbar": {
             "outlinewidth": 0,
             "ticks": ""
            },
            "colorscale": [
             [
              0,
              "#0d0887"
             ],
             [
              0.1111111111111111,
              "#46039f"
             ],
             [
              0.2222222222222222,
              "#7201a8"
             ],
             [
              0.3333333333333333,
              "#9c179e"
             ],
             [
              0.4444444444444444,
              "#bd3786"
             ],
             [
              0.5555555555555556,
              "#d8576b"
             ],
             [
              0.6666666666666666,
              "#ed7953"
             ],
             [
              0.7777777777777778,
              "#fb9f3a"
             ],
             [
              0.8888888888888888,
              "#fdca26"
             ],
             [
              1,
              "#f0f921"
             ]
            ],
            "type": "histogram2dcontour"
           }
          ],
          "mesh3d": [
           {
            "colorbar": {
             "outlinewidth": 0,
             "ticks": ""
            },
            "type": "mesh3d"
           }
          ],
          "parcoords": [
           {
            "line": {
             "colorbar": {
              "outlinewidth": 0,
              "ticks": ""
             }
            },
            "type": "parcoords"
           }
          ],
          "pie": [
           {
            "automargin": true,
            "type": "pie"
           }
          ],
          "scatter": [
           {
            "fillpattern": {
             "fillmode": "overlay",
             "size": 10,
             "solidity": 0.2
            },
            "type": "scatter"
           }
          ],
          "scatter3d": [
           {
            "line": {
             "colorbar": {
              "outlinewidth": 0,
              "ticks": ""
             }
            },
            "marker": {
             "colorbar": {
              "outlinewidth": 0,
              "ticks": ""
             }
            },
            "type": "scatter3d"
           }
          ],
          "scattercarpet": [
           {
            "marker": {
             "colorbar": {
              "outlinewidth": 0,
              "ticks": ""
             }
            },
            "type": "scattercarpet"
           }
          ],
          "scattergeo": [
           {
            "marker": {
             "colorbar": {
              "outlinewidth": 0,
              "ticks": ""
             }
            },
            "type": "scattergeo"
           }
          ],
          "scattergl": [
           {
            "marker": {
             "colorbar": {
              "outlinewidth": 0,
              "ticks": ""
             }
            },
            "type": "scattergl"
           }
          ],
          "scattermapbox": [
           {
            "marker": {
             "colorbar": {
              "outlinewidth": 0,
              "ticks": ""
             }
            },
            "type": "scattermapbox"
           }
          ],
          "scatterpolar": [
           {
            "marker": {
             "colorbar": {
              "outlinewidth": 0,
              "ticks": ""
             }
            },
            "type": "scatterpolar"
           }
          ],
          "scatterpolargl": [
           {
            "marker": {
             "colorbar": {
              "outlinewidth": 0,
              "ticks": ""
             }
            },
            "type": "scatterpolargl"
           }
          ],
          "scatterternary": [
           {
            "marker": {
             "colorbar": {
              "outlinewidth": 0,
              "ticks": ""
             }
            },
            "type": "scatterternary"
           }
          ],
          "surface": [
           {
            "colorbar": {
             "outlinewidth": 0,
             "ticks": ""
            },
            "colorscale": [
             [
              0,
              "#0d0887"
             ],
             [
              0.1111111111111111,
              "#46039f"
             ],
             [
              0.2222222222222222,
              "#7201a8"
             ],
             [
              0.3333333333333333,
              "#9c179e"
             ],
             [
              0.4444444444444444,
              "#bd3786"
             ],
             [
              0.5555555555555556,
              "#d8576b"
             ],
             [
              0.6666666666666666,
              "#ed7953"
             ],
             [
              0.7777777777777778,
              "#fb9f3a"
             ],
             [
              0.8888888888888888,
              "#fdca26"
             ],
             [
              1,
              "#f0f921"
             ]
            ],
            "type": "surface"
           }
          ],
          "table": [
           {
            "cells": {
             "fill": {
              "color": "#EBF0F8"
             },
             "line": {
              "color": "white"
             }
            },
            "header": {
             "fill": {
              "color": "#C8D4E3"
             },
             "line": {
              "color": "white"
             }
            },
            "type": "table"
           }
          ]
         },
         "layout": {
          "annotationdefaults": {
           "arrowcolor": "#2a3f5f",
           "arrowhead": 0,
           "arrowwidth": 1
          },
          "autotypenumbers": "strict",
          "coloraxis": {
           "colorbar": {
            "outlinewidth": 0,
            "ticks": ""
           }
          },
          "colorscale": {
           "diverging": [
            [
             0,
             "#8e0152"
            ],
            [
             0.1,
             "#c51b7d"
            ],
            [
             0.2,
             "#de77ae"
            ],
            [
             0.3,
             "#f1b6da"
            ],
            [
             0.4,
             "#fde0ef"
            ],
            [
             0.5,
             "#f7f7f7"
            ],
            [
             0.6,
             "#e6f5d0"
            ],
            [
             0.7,
             "#b8e186"
            ],
            [
             0.8,
             "#7fbc41"
            ],
            [
             0.9,
             "#4d9221"
            ],
            [
             1,
             "#276419"
            ]
           ],
           "sequential": [
            [
             0,
             "#0d0887"
            ],
            [
             0.1111111111111111,
             "#46039f"
            ],
            [
             0.2222222222222222,
             "#7201a8"
            ],
            [
             0.3333333333333333,
             "#9c179e"
            ],
            [
             0.4444444444444444,
             "#bd3786"
            ],
            [
             0.5555555555555556,
             "#d8576b"
            ],
            [
             0.6666666666666666,
             "#ed7953"
            ],
            [
             0.7777777777777778,
             "#fb9f3a"
            ],
            [
             0.8888888888888888,
             "#fdca26"
            ],
            [
             1,
             "#f0f921"
            ]
           ],
           "sequentialminus": [
            [
             0,
             "#0d0887"
            ],
            [
             0.1111111111111111,
             "#46039f"
            ],
            [
             0.2222222222222222,
             "#7201a8"
            ],
            [
             0.3333333333333333,
             "#9c179e"
            ],
            [
             0.4444444444444444,
             "#bd3786"
            ],
            [
             0.5555555555555556,
             "#d8576b"
            ],
            [
             0.6666666666666666,
             "#ed7953"
            ],
            [
             0.7777777777777778,
             "#fb9f3a"
            ],
            [
             0.8888888888888888,
             "#fdca26"
            ],
            [
             1,
             "#f0f921"
            ]
           ]
          },
          "colorway": [
           "#636efa",
           "#EF553B",
           "#00cc96",
           "#ab63fa",
           "#FFA15A",
           "#19d3f3",
           "#FF6692",
           "#B6E880",
           "#FF97FF",
           "#FECB52"
          ],
          "font": {
           "color": "#2a3f5f"
          },
          "geo": {
           "bgcolor": "white",
           "lakecolor": "white",
           "landcolor": "#E5ECF6",
           "showlakes": true,
           "showland": true,
           "subunitcolor": "white"
          },
          "hoverlabel": {
           "align": "left"
          },
          "hovermode": "closest",
          "mapbox": {
           "style": "light"
          },
          "paper_bgcolor": "white",
          "plot_bgcolor": "#E5ECF6",
          "polar": {
           "angularaxis": {
            "gridcolor": "white",
            "linecolor": "white",
            "ticks": ""
           },
           "bgcolor": "#E5ECF6",
           "radialaxis": {
            "gridcolor": "white",
            "linecolor": "white",
            "ticks": ""
           }
          },
          "scene": {
           "xaxis": {
            "backgroundcolor": "#E5ECF6",
            "gridcolor": "white",
            "gridwidth": 2,
            "linecolor": "white",
            "showbackground": true,
            "ticks": "",
            "zerolinecolor": "white"
           },
           "yaxis": {
            "backgroundcolor": "#E5ECF6",
            "gridcolor": "white",
            "gridwidth": 2,
            "linecolor": "white",
            "showbackground": true,
            "ticks": "",
            "zerolinecolor": "white"
           },
           "zaxis": {
            "backgroundcolor": "#E5ECF6",
            "gridcolor": "white",
            "gridwidth": 2,
            "linecolor": "white",
            "showbackground": true,
            "ticks": "",
            "zerolinecolor": "white"
           }
          },
          "shapedefaults": {
           "line": {
            "color": "#2a3f5f"
           }
          },
          "ternary": {
           "aaxis": {
            "gridcolor": "white",
            "linecolor": "white",
            "ticks": ""
           },
           "baxis": {
            "gridcolor": "white",
            "linecolor": "white",
            "ticks": ""
           },
           "bgcolor": "#E5ECF6",
           "caxis": {
            "gridcolor": "white",
            "linecolor": "white",
            "ticks": ""
           }
          },
          "title": {
           "x": 0.05
          },
          "xaxis": {
           "automargin": true,
           "gridcolor": "white",
           "linecolor": "white",
           "ticks": "",
           "title": {
            "standoff": 15
           },
           "zerolinecolor": "white",
           "zerolinewidth": 2
          },
          "yaxis": {
           "automargin": true,
           "gridcolor": "white",
           "linecolor": "white",
           "ticks": "",
           "title": {
            "standoff": 15
           },
           "zerolinecolor": "white",
           "zerolinewidth": 2
          }
         }
        },
        "title": {
         "text": "Multiplicative Model: Components of Time Series"
        },
        "xaxis": {
         "anchor": "y",
         "domain": [
          0,
          0.3
         ],
         "title": {
          "text": "datetime_utc"
         }
        },
        "xaxis2": {
         "anchor": "y2",
         "domain": [
          0.35,
          0.6499999999999999
         ],
         "matches": "x",
         "title": {
          "text": "datetime_utc"
         }
        },
        "xaxis3": {
         "anchor": "y3",
         "domain": [
          0.7,
          1
         ],
         "matches": "x",
         "title": {
          "text": "datetime_utc"
         }
        },
        "yaxis": {
         "anchor": "x",
         "domain": [
          0,
          1
         ],
         "showticklabels": true,
         "title": {
          "text": "value"
         }
        },
        "yaxis2": {
         "anchor": "x2",
         "domain": [
          0,
          1
         ],
         "showticklabels": true
        },
        "yaxis3": {
         "anchor": "x3",
         "domain": [
          0,
          1
         ],
         "showticklabels": true
        }
       }
      }
     },
     "metadata": {},
     "output_type": "display_data"
    }
   ],
   "source": [
    "dff = df_component.melt(ignore_index=False)\n",
    "dff = dff.query('~variable.isin([\"generation\", \"component_all\"])')\n",
    "\n",
    "fig = px.area(dff, x=dff.index, y='value', facet_col='variable', title='Multiplicative Model: Components of Time Series', facet_col_spacing=0.05)\n",
    "fig = fig.update_yaxes(matches=None)\n",
    "\n",
    "for axis in fig.layout:\n",
    "    if 'yaxis' in axis:\n",
    "        fig.layout[axis].showticklabels = True\n",
    "\n",
    "fig"
   ]
  },
  {
   "cell_type": "markdown",
   "id": "2717178d",
   "metadata": {
    "papermill": {
     "duration": 0.001635,
     "end_time": "2024-05-29T22:25:32.323066",
     "exception": false,
     "start_time": "2024-05-29T22:25:32.321431",
     "status": "completed"
    },
    "tags": []
   },
   "source": [
    "## Additive Model\n",
    "\n",
    "$y_t = T_t + S_t + e_t$"
   ]
  },
  {
   "cell_type": "code",
   "execution_count": 8,
   "id": "73d7d042",
   "metadata": {
    "execution": {
     "iopub.execute_input": "2024-05-29T22:25:32.327060Z",
     "iopub.status.busy": "2024-05-29T22:25:32.326952Z",
     "iopub.status.idle": "2024-05-29T22:25:32.332357Z",
     "shell.execute_reply": "2024-05-29T22:25:32.332160Z"
    },
    "papermill": {
     "duration": 0.008477,
     "end_time": "2024-05-29T22:25:32.333333",
     "exception": false,
     "start_time": "2024-05-29T22:25:32.324856",
     "status": "completed"
    },
    "tags": []
   },
   "outputs": [
    {
     "data": {
      "text/html": [
       "<div>\n",
       "<style scoped>\n",
       "    .dataframe tbody tr th:only-of-type {\n",
       "        vertical-align: middle;\n",
       "    }\n",
       "\n",
       "    .dataframe tbody tr th {\n",
       "        vertical-align: top;\n",
       "    }\n",
       "\n",
       "    .dataframe thead th {\n",
       "        text-align: right;\n",
       "    }\n",
       "</style>\n",
       "<table border=\"1\" class=\"dataframe\">\n",
       "  <thead>\n",
       "    <tr style=\"text-align: right;\">\n",
       "      <th></th>\n",
       "      <th>generation</th>\n",
       "      <th>trend</th>\n",
       "      <th>seasonal</th>\n",
       "      <th>residual</th>\n",
       "      <th>component_sum</th>\n",
       "    </tr>\n",
       "    <tr>\n",
       "      <th>datetime_utc</th>\n",
       "      <th></th>\n",
       "      <th></th>\n",
       "      <th></th>\n",
       "      <th></th>\n",
       "      <th></th>\n",
       "    </tr>\n",
       "  </thead>\n",
       "  <tbody>\n",
       "    <tr>\n",
       "      <th>2022-07-01 12:00:00+02:00</th>\n",
       "      <td>10658.400</td>\n",
       "      <td>4673.235458</td>\n",
       "      <td>6032.180305</td>\n",
       "      <td>-47.015763</td>\n",
       "      <td>10658.400</td>\n",
       "    </tr>\n",
       "    <tr>\n",
       "      <th>2022-07-01 13:00:00+02:00</th>\n",
       "      <td>10722.100</td>\n",
       "      <td>4673.241708</td>\n",
       "      <td>6197.515027</td>\n",
       "      <td>-148.656735</td>\n",
       "      <td>10722.100</td>\n",
       "    </tr>\n",
       "    <tr>\n",
       "      <th>2022-07-01 14:00:00+02:00</th>\n",
       "      <td>10845.200</td>\n",
       "      <td>4673.241708</td>\n",
       "      <td>6228.646277</td>\n",
       "      <td>-56.687985</td>\n",
       "      <td>10845.200</td>\n",
       "    </tr>\n",
       "    <tr>\n",
       "      <th>2022-07-01 15:00:00+02:00</th>\n",
       "      <td>10289.381</td>\n",
       "      <td>4673.241708</td>\n",
       "      <td>6007.261166</td>\n",
       "      <td>-391.121874</td>\n",
       "      <td>10289.381</td>\n",
       "    </tr>\n",
       "    <tr>\n",
       "      <th>2022-07-01 16:00:00+02:00</th>\n",
       "      <td>10001.975</td>\n",
       "      <td>4673.241708</td>\n",
       "      <td>5504.787596</td>\n",
       "      <td>-176.054305</td>\n",
       "      <td>10001.975</td>\n",
       "    </tr>\n",
       "    <tr>\n",
       "      <th>...</th>\n",
       "      <td>...</td>\n",
       "      <td>...</td>\n",
       "      <td>...</td>\n",
       "      <td>...</td>\n",
       "      <td>...</td>\n",
       "    </tr>\n",
       "    <tr>\n",
       "      <th>2022-07-07 07:00:00+02:00</th>\n",
       "      <td>861.858</td>\n",
       "      <td>4655.687833</td>\n",
       "      <td>-3716.432126</td>\n",
       "      <td>-77.397707</td>\n",
       "      <td>861.858</td>\n",
       "    </tr>\n",
       "    <tr>\n",
       "      <th>2022-07-07 08:00:00+02:00</th>\n",
       "      <td>3636.675</td>\n",
       "      <td>4671.169188</td>\n",
       "      <td>-1020.826445</td>\n",
       "      <td>-13.667742</td>\n",
       "      <td>3636.675</td>\n",
       "    </tr>\n",
       "    <tr>\n",
       "      <th>2022-07-07 09:00:00+02:00</th>\n",
       "      <td>7027.300</td>\n",
       "      <td>4675.043146</td>\n",
       "      <td>2133.608798</td>\n",
       "      <td>218.648057</td>\n",
       "      <td>7027.300</td>\n",
       "    </tr>\n",
       "    <tr>\n",
       "      <th>2022-07-07 10:00:00+02:00</th>\n",
       "      <td>9076.450</td>\n",
       "      <td>4675.522833</td>\n",
       "      <td>4130.404978</td>\n",
       "      <td>270.522189</td>\n",
       "      <td>9076.450</td>\n",
       "    </tr>\n",
       "    <tr>\n",
       "      <th>2022-07-07 11:00:00+02:00</th>\n",
       "      <td>10187.850</td>\n",
       "      <td>4675.527000</td>\n",
       "      <td>5348.402200</td>\n",
       "      <td>163.920800</td>\n",
       "      <td>10187.850</td>\n",
       "    </tr>\n",
       "  </tbody>\n",
       "</table>\n",
       "<p>144 rows × 5 columns</p>\n",
       "</div>"
      ],
      "text/plain": [
       "                           generation        trend     seasonal    residual  \\\n",
       "datetime_utc                                                                  \n",
       "2022-07-01 12:00:00+02:00   10658.400  4673.235458  6032.180305  -47.015763   \n",
       "2022-07-01 13:00:00+02:00   10722.100  4673.241708  6197.515027 -148.656735   \n",
       "2022-07-01 14:00:00+02:00   10845.200  4673.241708  6228.646277  -56.687985   \n",
       "2022-07-01 15:00:00+02:00   10289.381  4673.241708  6007.261166 -391.121874   \n",
       "2022-07-01 16:00:00+02:00   10001.975  4673.241708  5504.787596 -176.054305   \n",
       "...                               ...          ...          ...         ...   \n",
       "2022-07-07 07:00:00+02:00     861.858  4655.687833 -3716.432126  -77.397707   \n",
       "2022-07-07 08:00:00+02:00    3636.675  4671.169188 -1020.826445  -13.667742   \n",
       "2022-07-07 09:00:00+02:00    7027.300  4675.043146  2133.608798  218.648057   \n",
       "2022-07-07 10:00:00+02:00    9076.450  4675.522833  4130.404978  270.522189   \n",
       "2022-07-07 11:00:00+02:00   10187.850  4675.527000  5348.402200  163.920800   \n",
       "\n",
       "                           component_sum  \n",
       "datetime_utc                              \n",
       "2022-07-01 12:00:00+02:00      10658.400  \n",
       "2022-07-01 13:00:00+02:00      10722.100  \n",
       "2022-07-01 14:00:00+02:00      10845.200  \n",
       "2022-07-01 15:00:00+02:00      10289.381  \n",
       "2022-07-01 16:00:00+02:00      10001.975  \n",
       "...                                  ...  \n",
       "2022-07-07 07:00:00+02:00        861.858  \n",
       "2022-07-07 08:00:00+02:00       3636.675  \n",
       "2022-07-07 09:00:00+02:00       7027.300  \n",
       "2022-07-07 10:00:00+02:00       9076.450  \n",
       "2022-07-07 11:00:00+02:00      10187.850  \n",
       "\n",
       "[144 rows x 5 columns]"
      ]
     },
     "execution_count": 8,
     "metadata": {},
     "output_type": "execute_result"
    }
   ],
   "source": [
    "import statsmodels.api as sm\n",
    "\n",
    "data = df_solar['generation'].values\n",
    "result = sm.tsa.seasonal_decompose(data, model='additive', period=24)\n",
    "\n",
    "df_component = (df_solar\n",
    " .assign(\n",
    "    trend = result.trend,\n",
    "    seasonal = result.seasonal,\n",
    "    residual = result.resid)\n",
    " .dropna())\n",
    "\n",
    "df_component['component_sum'] = df_component.trend + df_component.seasonal + df_component.residual\n",
    "df_component"
   ]
  },
  {
   "cell_type": "code",
   "execution_count": 9,
   "id": "61e98c79",
   "metadata": {
    "execution": {
     "iopub.execute_input": "2024-05-29T22:25:32.337760Z",
     "iopub.status.busy": "2024-05-29T22:25:32.337650Z",
     "iopub.status.idle": "2024-05-29T22:25:32.339214Z",
     "shell.execute_reply": "2024-05-29T22:25:32.339024Z"
    },
    "papermill": {
     "duration": 0.004334,
     "end_time": "2024-05-29T22:25:32.339883",
     "exception": false,
     "start_time": "2024-05-29T22:25:32.335549",
     "status": "completed"
    },
    "tags": []
   },
   "outputs": [],
   "source": [
    "import plotly.express as px"
   ]
  },
  {
   "cell_type": "code",
   "execution_count": 10,
   "id": "669b2f93",
   "metadata": {
    "execution": {
     "iopub.execute_input": "2024-05-29T22:25:32.343562Z",
     "iopub.status.busy": "2024-05-29T22:25:32.343475Z",
     "iopub.status.idle": "2024-05-29T22:25:32.368706Z",
     "shell.execute_reply": "2024-05-29T22:25:32.368463Z"
    },
    "papermill": {
     "duration": 0.027946,
     "end_time": "2024-05-29T22:25:32.369428",
     "exception": false,
     "start_time": "2024-05-29T22:25:32.341482",
     "status": "completed"
    },
    "tags": []
   },
   "outputs": [
    {
     "data": {
      "application/vnd.plotly.v1+json": {
       "config": {
        "plotlyServerURL": "https://plot.ly"
       },
       "data": [
        {
         "fillpattern": {
          "shape": ""
         },
         "hovertemplate": "datetime_utc=%{x}<br>generation=%{y}<extra></extra>",
         "legendgroup": "",
         "line": {
          "color": "#636efa"
         },
         "marker": {
          "symbol": "circle"
         },
         "mode": "lines",
         "name": "",
         "orientation": "v",
         "showlegend": false,
         "stackgroup": "1",
         "type": "scatter",
         "x": [
          "2022-07-01T12:00:00+02:00",
          "2022-07-01T13:00:00+02:00",
          "2022-07-01T14:00:00+02:00",
          "2022-07-01T15:00:00+02:00",
          "2022-07-01T16:00:00+02:00",
          "2022-07-01T17:00:00+02:00",
          "2022-07-01T18:00:00+02:00",
          "2022-07-01T19:00:00+02:00",
          "2022-07-01T20:00:00+02:00",
          "2022-07-01T21:00:00+02:00",
          "2022-07-01T22:00:00+02:00",
          "2022-07-01T23:00:00+02:00",
          "2022-07-02T00:00:00+02:00",
          "2022-07-02T01:00:00+02:00",
          "2022-07-02T02:00:00+02:00",
          "2022-07-02T03:00:00+02:00",
          "2022-07-02T04:00:00+02:00",
          "2022-07-02T05:00:00+02:00",
          "2022-07-02T06:00:00+02:00",
          "2022-07-02T07:00:00+02:00",
          "2022-07-02T08:00:00+02:00",
          "2022-07-02T09:00:00+02:00",
          "2022-07-02T10:00:00+02:00",
          "2022-07-02T11:00:00+02:00",
          "2022-07-02T12:00:00+02:00",
          "2022-07-02T13:00:00+02:00",
          "2022-07-02T14:00:00+02:00",
          "2022-07-02T15:00:00+02:00",
          "2022-07-02T16:00:00+02:00",
          "2022-07-02T17:00:00+02:00",
          "2022-07-02T18:00:00+02:00",
          "2022-07-02T19:00:00+02:00",
          "2022-07-02T20:00:00+02:00",
          "2022-07-02T21:00:00+02:00",
          "2022-07-02T22:00:00+02:00",
          "2022-07-02T23:00:00+02:00",
          "2022-07-03T00:00:00+02:00",
          "2022-07-03T01:00:00+02:00",
          "2022-07-03T02:00:00+02:00",
          "2022-07-03T03:00:00+02:00",
          "2022-07-03T04:00:00+02:00",
          "2022-07-03T05:00:00+02:00",
          "2022-07-03T06:00:00+02:00",
          "2022-07-03T07:00:00+02:00",
          "2022-07-03T08:00:00+02:00",
          "2022-07-03T09:00:00+02:00",
          "2022-07-03T10:00:00+02:00",
          "2022-07-03T11:00:00+02:00",
          "2022-07-03T12:00:00+02:00",
          "2022-07-03T13:00:00+02:00",
          "2022-07-03T14:00:00+02:00",
          "2022-07-03T15:00:00+02:00",
          "2022-07-03T16:00:00+02:00",
          "2022-07-03T17:00:00+02:00",
          "2022-07-03T18:00:00+02:00",
          "2022-07-03T19:00:00+02:00",
          "2022-07-03T20:00:00+02:00",
          "2022-07-03T21:00:00+02:00",
          "2022-07-03T22:00:00+02:00",
          "2022-07-03T23:00:00+02:00",
          "2022-07-04T00:00:00+02:00",
          "2022-07-04T01:00:00+02:00",
          "2022-07-04T02:00:00+02:00",
          "2022-07-04T03:00:00+02:00",
          "2022-07-04T04:00:00+02:00",
          "2022-07-04T05:00:00+02:00",
          "2022-07-04T06:00:00+02:00",
          "2022-07-04T07:00:00+02:00",
          "2022-07-04T08:00:00+02:00",
          "2022-07-04T09:00:00+02:00",
          "2022-07-04T10:00:00+02:00",
          "2022-07-04T11:00:00+02:00",
          "2022-07-04T12:00:00+02:00",
          "2022-07-04T13:00:00+02:00",
          "2022-07-04T14:00:00+02:00",
          "2022-07-04T15:00:00+02:00",
          "2022-07-04T16:00:00+02:00",
          "2022-07-04T17:00:00+02:00",
          "2022-07-04T18:00:00+02:00",
          "2022-07-04T19:00:00+02:00",
          "2022-07-04T20:00:00+02:00",
          "2022-07-04T21:00:00+02:00",
          "2022-07-04T22:00:00+02:00",
          "2022-07-04T23:00:00+02:00",
          "2022-07-05T00:00:00+02:00",
          "2022-07-05T01:00:00+02:00",
          "2022-07-05T02:00:00+02:00",
          "2022-07-05T03:00:00+02:00",
          "2022-07-05T04:00:00+02:00",
          "2022-07-05T05:00:00+02:00",
          "2022-07-05T06:00:00+02:00",
          "2022-07-05T07:00:00+02:00",
          "2022-07-05T08:00:00+02:00",
          "2022-07-05T09:00:00+02:00",
          "2022-07-05T10:00:00+02:00",
          "2022-07-05T11:00:00+02:00",
          "2022-07-05T12:00:00+02:00",
          "2022-07-05T13:00:00+02:00",
          "2022-07-05T14:00:00+02:00",
          "2022-07-05T15:00:00+02:00",
          "2022-07-05T16:00:00+02:00",
          "2022-07-05T17:00:00+02:00",
          "2022-07-05T18:00:00+02:00",
          "2022-07-05T19:00:00+02:00",
          "2022-07-05T20:00:00+02:00",
          "2022-07-05T21:00:00+02:00",
          "2022-07-05T22:00:00+02:00",
          "2022-07-05T23:00:00+02:00",
          "2022-07-06T00:00:00+02:00",
          "2022-07-06T01:00:00+02:00",
          "2022-07-06T02:00:00+02:00",
          "2022-07-06T03:00:00+02:00",
          "2022-07-06T04:00:00+02:00",
          "2022-07-06T05:00:00+02:00",
          "2022-07-06T06:00:00+02:00",
          "2022-07-06T07:00:00+02:00",
          "2022-07-06T08:00:00+02:00",
          "2022-07-06T09:00:00+02:00",
          "2022-07-06T10:00:00+02:00",
          "2022-07-06T11:00:00+02:00",
          "2022-07-06T12:00:00+02:00",
          "2022-07-06T13:00:00+02:00",
          "2022-07-06T14:00:00+02:00",
          "2022-07-06T15:00:00+02:00",
          "2022-07-06T16:00:00+02:00",
          "2022-07-06T17:00:00+02:00",
          "2022-07-06T18:00:00+02:00",
          "2022-07-06T19:00:00+02:00",
          "2022-07-06T20:00:00+02:00",
          "2022-07-06T21:00:00+02:00",
          "2022-07-06T22:00:00+02:00",
          "2022-07-06T23:00:00+02:00",
          "2022-07-07T00:00:00+02:00",
          "2022-07-07T01:00:00+02:00",
          "2022-07-07T02:00:00+02:00",
          "2022-07-07T03:00:00+02:00",
          "2022-07-07T04:00:00+02:00",
          "2022-07-07T05:00:00+02:00",
          "2022-07-07T06:00:00+02:00",
          "2022-07-07T07:00:00+02:00",
          "2022-07-07T08:00:00+02:00",
          "2022-07-07T09:00:00+02:00",
          "2022-07-07T10:00:00+02:00",
          "2022-07-07T11:00:00+02:00"
         ],
         "xaxis": "x",
         "y": [
          10658.4,
          10722.1,
          10845.2,
          10289.381,
          10001.975,
          9562.85,
          8540.17,
          6469.6,
          2780.075,
          373.8,
          2.7,
          0.7,
          0.4,
          0.1,
          0.1,
          0.1,
          0.1,
          0.1,
          17.8,
          771.5,
          3585.5,
          6726.6,
          8737.6,
          9953.8,
          10495.8,
          10687.3,
          10700.65,
          10750.675,
          10306.925,
          9249.9,
          7751.55,
          5444.625,
          2280.7,
          286.3,
          2.4,
          0.8,
          0.1,
          0.1,
          0.1,
          0.1,
          0.1,
          0.1,
          16.4,
          658.9,
          3064.975,
          5862.1,
          7843.975,
          9170.5,
          10223.1,
          10300.7,
          10340.4,
          10194.85,
          9610.8,
          8614.85,
          7291.8,
          5229.7,
          2286.4,
          302.35,
          2.5,
          0.7,
          0.1,
          1.2,
          1.3,
          1.3,
          0.2,
          0.2,
          16.2,
          807.8,
          3713.1,
          7052.4,
          9112.8,
          10282.6,
          11055.775,
          11262.45,
          11190.9,
          11013.4,
          10561.4,
          9873.525,
          8497.7,
          6147.875,
          2650.575,
          343.175,
          2.8,
          0.7,
          0.1,
          0.1,
          0.1,
          0.1,
          0.1,
          0.1,
          12.2,
          740.3,
          3523.6,
          6741.8,
          8631.6,
          9884.05,
          10368.8,
          10529.65,
          10528,
          10225.3,
          9563.1,
          8443.9,
          7220.2,
          5204.375,
          2252.6,
          319.2,
          2.8,
          0.7,
          0.1,
          0.1,
          0.1,
          0.1,
          0.1,
          0.1,
          10.7,
          563.4,
          3041.1,
          6076.5,
          8064.6,
          9296.2,
          10073.5,
          10365.2,
          10449.05,
          10252.3,
          9666.875,
          8904.6,
          7600.825,
          5504.15,
          2405.2,
          329.375,
          2.4,
          0.4,
          0.6,
          0.4,
          0.4,
          0.6,
          0.1,
          0.1,
          10.8,
          861.858,
          3636.675,
          7027.3,
          9076.45,
          10187.85
         ],
         "yaxis": "y"
        }
       ],
       "layout": {
        "legend": {
         "tracegroupgap": 0
        },
        "margin": {
         "t": 60
        },
        "template": {
         "data": {
          "bar": [
           {
            "error_x": {
             "color": "#2a3f5f"
            },
            "error_y": {
             "color": "#2a3f5f"
            },
            "marker": {
             "line": {
              "color": "#E5ECF6",
              "width": 0.5
             },
             "pattern": {
              "fillmode": "overlay",
              "size": 10,
              "solidity": 0.2
             }
            },
            "type": "bar"
           }
          ],
          "barpolar": [
           {
            "marker": {
             "line": {
              "color": "#E5ECF6",
              "width": 0.5
             },
             "pattern": {
              "fillmode": "overlay",
              "size": 10,
              "solidity": 0.2
             }
            },
            "type": "barpolar"
           }
          ],
          "carpet": [
           {
            "aaxis": {
             "endlinecolor": "#2a3f5f",
             "gridcolor": "white",
             "linecolor": "white",
             "minorgridcolor": "white",
             "startlinecolor": "#2a3f5f"
            },
            "baxis": {
             "endlinecolor": "#2a3f5f",
             "gridcolor": "white",
             "linecolor": "white",
             "minorgridcolor": "white",
             "startlinecolor": "#2a3f5f"
            },
            "type": "carpet"
           }
          ],
          "choropleth": [
           {
            "colorbar": {
             "outlinewidth": 0,
             "ticks": ""
            },
            "type": "choropleth"
           }
          ],
          "contour": [
           {
            "colorbar": {
             "outlinewidth": 0,
             "ticks": ""
            },
            "colorscale": [
             [
              0,
              "#0d0887"
             ],
             [
              0.1111111111111111,
              "#46039f"
             ],
             [
              0.2222222222222222,
              "#7201a8"
             ],
             [
              0.3333333333333333,
              "#9c179e"
             ],
             [
              0.4444444444444444,
              "#bd3786"
             ],
             [
              0.5555555555555556,
              "#d8576b"
             ],
             [
              0.6666666666666666,
              "#ed7953"
             ],
             [
              0.7777777777777778,
              "#fb9f3a"
             ],
             [
              0.8888888888888888,
              "#fdca26"
             ],
             [
              1,
              "#f0f921"
             ]
            ],
            "type": "contour"
           }
          ],
          "contourcarpet": [
           {
            "colorbar": {
             "outlinewidth": 0,
             "ticks": ""
            },
            "type": "contourcarpet"
           }
          ],
          "heatmap": [
           {
            "colorbar": {
             "outlinewidth": 0,
             "ticks": ""
            },
            "colorscale": [
             [
              0,
              "#0d0887"
             ],
             [
              0.1111111111111111,
              "#46039f"
             ],
             [
              0.2222222222222222,
              "#7201a8"
             ],
             [
              0.3333333333333333,
              "#9c179e"
             ],
             [
              0.4444444444444444,
              "#bd3786"
             ],
             [
              0.5555555555555556,
              "#d8576b"
             ],
             [
              0.6666666666666666,
              "#ed7953"
             ],
             [
              0.7777777777777778,
              "#fb9f3a"
             ],
             [
              0.8888888888888888,
              "#fdca26"
             ],
             [
              1,
              "#f0f921"
             ]
            ],
            "type": "heatmap"
           }
          ],
          "heatmapgl": [
           {
            "colorbar": {
             "outlinewidth": 0,
             "ticks": ""
            },
            "colorscale": [
             [
              0,
              "#0d0887"
             ],
             [
              0.1111111111111111,
              "#46039f"
             ],
             [
              0.2222222222222222,
              "#7201a8"
             ],
             [
              0.3333333333333333,
              "#9c179e"
             ],
             [
              0.4444444444444444,
              "#bd3786"
             ],
             [
              0.5555555555555556,
              "#d8576b"
             ],
             [
              0.6666666666666666,
              "#ed7953"
             ],
             [
              0.7777777777777778,
              "#fb9f3a"
             ],
             [
              0.8888888888888888,
              "#fdca26"
             ],
             [
              1,
              "#f0f921"
             ]
            ],
            "type": "heatmapgl"
           }
          ],
          "histogram": [
           {
            "marker": {
             "pattern": {
              "fillmode": "overlay",
              "size": 10,
              "solidity": 0.2
             }
            },
            "type": "histogram"
           }
          ],
          "histogram2d": [
           {
            "colorbar": {
             "outlinewidth": 0,
             "ticks": ""
            },
            "colorscale": [
             [
              0,
              "#0d0887"
             ],
             [
              0.1111111111111111,
              "#46039f"
             ],
             [
              0.2222222222222222,
              "#7201a8"
             ],
             [
              0.3333333333333333,
              "#9c179e"
             ],
             [
              0.4444444444444444,
              "#bd3786"
             ],
             [
              0.5555555555555556,
              "#d8576b"
             ],
             [
              0.6666666666666666,
              "#ed7953"
             ],
             [
              0.7777777777777778,
              "#fb9f3a"
             ],
             [
              0.8888888888888888,
              "#fdca26"
             ],
             [
              1,
              "#f0f921"
             ]
            ],
            "type": "histogram2d"
           }
          ],
          "histogram2dcontour": [
           {
            "colorbar": {
             "outlinewidth": 0,
             "ticks": ""
            },
            "colorscale": [
             [
              0,
              "#0d0887"
             ],
             [
              0.1111111111111111,
              "#46039f"
             ],
             [
              0.2222222222222222,
              "#7201a8"
             ],
             [
              0.3333333333333333,
              "#9c179e"
             ],
             [
              0.4444444444444444,
              "#bd3786"
             ],
             [
              0.5555555555555556,
              "#d8576b"
             ],
             [
              0.6666666666666666,
              "#ed7953"
             ],
             [
              0.7777777777777778,
              "#fb9f3a"
             ],
             [
              0.8888888888888888,
              "#fdca26"
             ],
             [
              1,
              "#f0f921"
             ]
            ],
            "type": "histogram2dcontour"
           }
          ],
          "mesh3d": [
           {
            "colorbar": {
             "outlinewidth": 0,
             "ticks": ""
            },
            "type": "mesh3d"
           }
          ],
          "parcoords": [
           {
            "line": {
             "colorbar": {
              "outlinewidth": 0,
              "ticks": ""
             }
            },
            "type": "parcoords"
           }
          ],
          "pie": [
           {
            "automargin": true,
            "type": "pie"
           }
          ],
          "scatter": [
           {
            "fillpattern": {
             "fillmode": "overlay",
             "size": 10,
             "solidity": 0.2
            },
            "type": "scatter"
           }
          ],
          "scatter3d": [
           {
            "line": {
             "colorbar": {
              "outlinewidth": 0,
              "ticks": ""
             }
            },
            "marker": {
             "colorbar": {
              "outlinewidth": 0,
              "ticks": ""
             }
            },
            "type": "scatter3d"
           }
          ],
          "scattercarpet": [
           {
            "marker": {
             "colorbar": {
              "outlinewidth": 0,
              "ticks": ""
             }
            },
            "type": "scattercarpet"
           }
          ],
          "scattergeo": [
           {
            "marker": {
             "colorbar": {
              "outlinewidth": 0,
              "ticks": ""
             }
            },
            "type": "scattergeo"
           }
          ],
          "scattergl": [
           {
            "marker": {
             "colorbar": {
              "outlinewidth": 0,
              "ticks": ""
             }
            },
            "type": "scattergl"
           }
          ],
          "scattermapbox": [
           {
            "marker": {
             "colorbar": {
              "outlinewidth": 0,
              "ticks": ""
             }
            },
            "type": "scattermapbox"
           }
          ],
          "scatterpolar": [
           {
            "marker": {
             "colorbar": {
              "outlinewidth": 0,
              "ticks": ""
             }
            },
            "type": "scatterpolar"
           }
          ],
          "scatterpolargl": [
           {
            "marker": {
             "colorbar": {
              "outlinewidth": 0,
              "ticks": ""
             }
            },
            "type": "scatterpolargl"
           }
          ],
          "scatterternary": [
           {
            "marker": {
             "colorbar": {
              "outlinewidth": 0,
              "ticks": ""
             }
            },
            "type": "scatterternary"
           }
          ],
          "surface": [
           {
            "colorbar": {
             "outlinewidth": 0,
             "ticks": ""
            },
            "colorscale": [
             [
              0,
              "#0d0887"
             ],
             [
              0.1111111111111111,
              "#46039f"
             ],
             [
              0.2222222222222222,
              "#7201a8"
             ],
             [
              0.3333333333333333,
              "#9c179e"
             ],
             [
              0.4444444444444444,
              "#bd3786"
             ],
             [
              0.5555555555555556,
              "#d8576b"
             ],
             [
              0.6666666666666666,
              "#ed7953"
             ],
             [
              0.7777777777777778,
              "#fb9f3a"
             ],
             [
              0.8888888888888888,
              "#fdca26"
             ],
             [
              1,
              "#f0f921"
             ]
            ],
            "type": "surface"
           }
          ],
          "table": [
           {
            "cells": {
             "fill": {
              "color": "#EBF0F8"
             },
             "line": {
              "color": "white"
             }
            },
            "header": {
             "fill": {
              "color": "#C8D4E3"
             },
             "line": {
              "color": "white"
             }
            },
            "type": "table"
           }
          ]
         },
         "layout": {
          "annotationdefaults": {
           "arrowcolor": "#2a3f5f",
           "arrowhead": 0,
           "arrowwidth": 1
          },
          "autotypenumbers": "strict",
          "coloraxis": {
           "colorbar": {
            "outlinewidth": 0,
            "ticks": ""
           }
          },
          "colorscale": {
           "diverging": [
            [
             0,
             "#8e0152"
            ],
            [
             0.1,
             "#c51b7d"
            ],
            [
             0.2,
             "#de77ae"
            ],
            [
             0.3,
             "#f1b6da"
            ],
            [
             0.4,
             "#fde0ef"
            ],
            [
             0.5,
             "#f7f7f7"
            ],
            [
             0.6,
             "#e6f5d0"
            ],
            [
             0.7,
             "#b8e186"
            ],
            [
             0.8,
             "#7fbc41"
            ],
            [
             0.9,
             "#4d9221"
            ],
            [
             1,
             "#276419"
            ]
           ],
           "sequential": [
            [
             0,
             "#0d0887"
            ],
            [
             0.1111111111111111,
             "#46039f"
            ],
            [
             0.2222222222222222,
             "#7201a8"
            ],
            [
             0.3333333333333333,
             "#9c179e"
            ],
            [
             0.4444444444444444,
             "#bd3786"
            ],
            [
             0.5555555555555556,
             "#d8576b"
            ],
            [
             0.6666666666666666,
             "#ed7953"
            ],
            [
             0.7777777777777778,
             "#fb9f3a"
            ],
            [
             0.8888888888888888,
             "#fdca26"
            ],
            [
             1,
             "#f0f921"
            ]
           ],
           "sequentialminus": [
            [
             0,
             "#0d0887"
            ],
            [
             0.1111111111111111,
             "#46039f"
            ],
            [
             0.2222222222222222,
             "#7201a8"
            ],
            [
             0.3333333333333333,
             "#9c179e"
            ],
            [
             0.4444444444444444,
             "#bd3786"
            ],
            [
             0.5555555555555556,
             "#d8576b"
            ],
            [
             0.6666666666666666,
             "#ed7953"
            ],
            [
             0.7777777777777778,
             "#fb9f3a"
            ],
            [
             0.8888888888888888,
             "#fdca26"
            ],
            [
             1,
             "#f0f921"
            ]
           ]
          },
          "colorway": [
           "#636efa",
           "#EF553B",
           "#00cc96",
           "#ab63fa",
           "#FFA15A",
           "#19d3f3",
           "#FF6692",
           "#B6E880",
           "#FF97FF",
           "#FECB52"
          ],
          "font": {
           "color": "#2a3f5f"
          },
          "geo": {
           "bgcolor": "white",
           "lakecolor": "white",
           "landcolor": "#E5ECF6",
           "showlakes": true,
           "showland": true,
           "subunitcolor": "white"
          },
          "hoverlabel": {
           "align": "left"
          },
          "hovermode": "closest",
          "mapbox": {
           "style": "light"
          },
          "paper_bgcolor": "white",
          "plot_bgcolor": "#E5ECF6",
          "polar": {
           "angularaxis": {
            "gridcolor": "white",
            "linecolor": "white",
            "ticks": ""
           },
           "bgcolor": "#E5ECF6",
           "radialaxis": {
            "gridcolor": "white",
            "linecolor": "white",
            "ticks": ""
           }
          },
          "scene": {
           "xaxis": {
            "backgroundcolor": "#E5ECF6",
            "gridcolor": "white",
            "gridwidth": 2,
            "linecolor": "white",
            "showbackground": true,
            "ticks": "",
            "zerolinecolor": "white"
           },
           "yaxis": {
            "backgroundcolor": "#E5ECF6",
            "gridcolor": "white",
            "gridwidth": 2,
            "linecolor": "white",
            "showbackground": true,
            "ticks": "",
            "zerolinecolor": "white"
           },
           "zaxis": {
            "backgroundcolor": "#E5ECF6",
            "gridcolor": "white",
            "gridwidth": 2,
            "linecolor": "white",
            "showbackground": true,
            "ticks": "",
            "zerolinecolor": "white"
           }
          },
          "shapedefaults": {
           "line": {
            "color": "#2a3f5f"
           }
          },
          "ternary": {
           "aaxis": {
            "gridcolor": "white",
            "linecolor": "white",
            "ticks": ""
           },
           "baxis": {
            "gridcolor": "white",
            "linecolor": "white",
            "ticks": ""
           },
           "bgcolor": "#E5ECF6",
           "caxis": {
            "gridcolor": "white",
            "linecolor": "white",
            "ticks": ""
           }
          },
          "title": {
           "x": 0.05
          },
          "xaxis": {
           "automargin": true,
           "gridcolor": "white",
           "linecolor": "white",
           "ticks": "",
           "title": {
            "standoff": 15
           },
           "zerolinecolor": "white",
           "zerolinewidth": 2
          },
          "yaxis": {
           "automargin": true,
           "gridcolor": "white",
           "linecolor": "white",
           "ticks": "",
           "title": {
            "standoff": 15
           },
           "zerolinecolor": "white",
           "zerolinewidth": 2
          }
         }
        },
        "xaxis": {
         "anchor": "y",
         "domain": [
          0,
          1
         ],
         "title": {
          "text": "datetime_utc"
         }
        },
        "yaxis": {
         "anchor": "x",
         "domain": [
          0,
          1
         ],
         "title": {
          "text": "generation"
         }
        }
       }
      }
     },
     "metadata": {},
     "output_type": "display_data"
    }
   ],
   "source": [
    "px.area(data_frame=df_component, x=df_component.index, y='generation')"
   ]
  },
  {
   "cell_type": "code",
   "execution_count": 11,
   "id": "be739a46",
   "metadata": {
    "execution": {
     "iopub.execute_input": "2024-05-29T22:25:32.373583Z",
     "iopub.status.busy": "2024-05-29T22:25:32.373488Z",
     "iopub.status.idle": "2024-05-29T22:25:32.376004Z",
     "shell.execute_reply": "2024-05-29T22:25:32.375813Z"
    },
    "papermill": {
     "duration": 0.005175,
     "end_time": "2024-05-29T22:25:32.376606",
     "exception": false,
     "start_time": "2024-05-29T22:25:32.371431",
     "status": "completed"
    },
    "tags": []
   },
   "outputs": [],
   "source": [
    "dff = df_component.drop(columns=['generation', 'component_sum'])\n",
    "dff = dff.melt(ignore_index=False)"
   ]
  },
  {
   "cell_type": "code",
   "execution_count": 12,
   "id": "cb24bafa",
   "metadata": {
    "execution": {
     "iopub.execute_input": "2024-05-29T22:25:32.380289Z",
     "iopub.status.busy": "2024-05-29T22:25:32.380203Z",
     "iopub.status.idle": "2024-05-29T22:25:32.422985Z",
     "shell.execute_reply": "2024-05-29T22:25:32.422751Z"
    },
    "papermill": {
     "duration": 0.045445,
     "end_time": "2024-05-29T22:25:32.423721",
     "exception": false,
     "start_time": "2024-05-29T22:25:32.378276",
     "status": "completed"
    },
    "tags": []
   },
   "outputs": [
    {
     "data": {
      "application/vnd.plotly.v1+json": {
       "config": {
        "plotlyServerURL": "https://plot.ly"
       },
       "data": [
        {
         "fillpattern": {
          "shape": ""
         },
         "hovertemplate": "variable=trend<br>datetime_utc=%{x}<br>value=%{y}<extra></extra>",
         "legendgroup": "",
         "line": {
          "color": "#636efa"
         },
         "marker": {
          "symbol": "circle"
         },
         "mode": "lines",
         "name": "",
         "orientation": "v",
         "showlegend": false,
         "stackgroup": "1",
         "type": "scatter",
         "x": [
          "2022-07-01T12:00:00+02:00",
          "2022-07-01T13:00:00+02:00",
          "2022-07-01T14:00:00+02:00",
          "2022-07-01T15:00:00+02:00",
          "2022-07-01T16:00:00+02:00",
          "2022-07-01T17:00:00+02:00",
          "2022-07-01T18:00:00+02:00",
          "2022-07-01T19:00:00+02:00",
          "2022-07-01T20:00:00+02:00",
          "2022-07-01T21:00:00+02:00",
          "2022-07-01T22:00:00+02:00",
          "2022-07-01T23:00:00+02:00",
          "2022-07-02T00:00:00+02:00",
          "2022-07-02T01:00:00+02:00",
          "2022-07-02T02:00:00+02:00",
          "2022-07-02T03:00:00+02:00",
          "2022-07-02T04:00:00+02:00",
          "2022-07-02T05:00:00+02:00",
          "2022-07-02T06:00:00+02:00",
          "2022-07-02T07:00:00+02:00",
          "2022-07-02T08:00:00+02:00",
          "2022-07-02T09:00:00+02:00",
          "2022-07-02T10:00:00+02:00",
          "2022-07-02T11:00:00+02:00",
          "2022-07-02T12:00:00+02:00",
          "2022-07-02T13:00:00+02:00",
          "2022-07-02T14:00:00+02:00",
          "2022-07-02T15:00:00+02:00",
          "2022-07-02T16:00:00+02:00",
          "2022-07-02T17:00:00+02:00",
          "2022-07-02T18:00:00+02:00",
          "2022-07-02T19:00:00+02:00",
          "2022-07-02T20:00:00+02:00",
          "2022-07-02T21:00:00+02:00",
          "2022-07-02T22:00:00+02:00",
          "2022-07-02T23:00:00+02:00",
          "2022-07-03T00:00:00+02:00",
          "2022-07-03T01:00:00+02:00",
          "2022-07-03T02:00:00+02:00",
          "2022-07-03T03:00:00+02:00",
          "2022-07-03T04:00:00+02:00",
          "2022-07-03T05:00:00+02:00",
          "2022-07-03T06:00:00+02:00",
          "2022-07-03T07:00:00+02:00",
          "2022-07-03T08:00:00+02:00",
          "2022-07-03T09:00:00+02:00",
          "2022-07-03T10:00:00+02:00",
          "2022-07-03T11:00:00+02:00",
          "2022-07-03T12:00:00+02:00",
          "2022-07-03T13:00:00+02:00",
          "2022-07-03T14:00:00+02:00",
          "2022-07-03T15:00:00+02:00",
          "2022-07-03T16:00:00+02:00",
          "2022-07-03T17:00:00+02:00",
          "2022-07-03T18:00:00+02:00",
          "2022-07-03T19:00:00+02:00",
          "2022-07-03T20:00:00+02:00",
          "2022-07-03T21:00:00+02:00",
          "2022-07-03T22:00:00+02:00",
          "2022-07-03T23:00:00+02:00",
          "2022-07-04T00:00:00+02:00",
          "2022-07-04T01:00:00+02:00",
          "2022-07-04T02:00:00+02:00",
          "2022-07-04T03:00:00+02:00",
          "2022-07-04T04:00:00+02:00",
          "2022-07-04T05:00:00+02:00",
          "2022-07-04T06:00:00+02:00",
          "2022-07-04T07:00:00+02:00",
          "2022-07-04T08:00:00+02:00",
          "2022-07-04T09:00:00+02:00",
          "2022-07-04T10:00:00+02:00",
          "2022-07-04T11:00:00+02:00",
          "2022-07-04T12:00:00+02:00",
          "2022-07-04T13:00:00+02:00",
          "2022-07-04T14:00:00+02:00",
          "2022-07-04T15:00:00+02:00",
          "2022-07-04T16:00:00+02:00",
          "2022-07-04T17:00:00+02:00",
          "2022-07-04T18:00:00+02:00",
          "2022-07-04T19:00:00+02:00",
          "2022-07-04T20:00:00+02:00",
          "2022-07-04T21:00:00+02:00",
          "2022-07-04T22:00:00+02:00",
          "2022-07-04T23:00:00+02:00",
          "2022-07-05T00:00:00+02:00",
          "2022-07-05T01:00:00+02:00",
          "2022-07-05T02:00:00+02:00",
          "2022-07-05T03:00:00+02:00",
          "2022-07-05T04:00:00+02:00",
          "2022-07-05T05:00:00+02:00",
          "2022-07-05T06:00:00+02:00",
          "2022-07-05T07:00:00+02:00",
          "2022-07-05T08:00:00+02:00",
          "2022-07-05T09:00:00+02:00",
          "2022-07-05T10:00:00+02:00",
          "2022-07-05T11:00:00+02:00",
          "2022-07-05T12:00:00+02:00",
          "2022-07-05T13:00:00+02:00",
          "2022-07-05T14:00:00+02:00",
          "2022-07-05T15:00:00+02:00",
          "2022-07-05T16:00:00+02:00",
          "2022-07-05T17:00:00+02:00",
          "2022-07-05T18:00:00+02:00",
          "2022-07-05T19:00:00+02:00",
          "2022-07-05T20:00:00+02:00",
          "2022-07-05T21:00:00+02:00",
          "2022-07-05T22:00:00+02:00",
          "2022-07-05T23:00:00+02:00",
          "2022-07-06T00:00:00+02:00",
          "2022-07-06T01:00:00+02:00",
          "2022-07-06T02:00:00+02:00",
          "2022-07-06T03:00:00+02:00",
          "2022-07-06T04:00:00+02:00",
          "2022-07-06T05:00:00+02:00",
          "2022-07-06T06:00:00+02:00",
          "2022-07-06T07:00:00+02:00",
          "2022-07-06T08:00:00+02:00",
          "2022-07-06T09:00:00+02:00",
          "2022-07-06T10:00:00+02:00",
          "2022-07-06T11:00:00+02:00",
          "2022-07-06T12:00:00+02:00",
          "2022-07-06T13:00:00+02:00",
          "2022-07-06T14:00:00+02:00",
          "2022-07-06T15:00:00+02:00",
          "2022-07-06T16:00:00+02:00",
          "2022-07-06T17:00:00+02:00",
          "2022-07-06T18:00:00+02:00",
          "2022-07-06T19:00:00+02:00",
          "2022-07-06T20:00:00+02:00",
          "2022-07-06T21:00:00+02:00",
          "2022-07-06T22:00:00+02:00",
          "2022-07-06T23:00:00+02:00",
          "2022-07-07T00:00:00+02:00",
          "2022-07-07T01:00:00+02:00",
          "2022-07-07T02:00:00+02:00",
          "2022-07-07T03:00:00+02:00",
          "2022-07-07T04:00:00+02:00",
          "2022-07-07T05:00:00+02:00",
          "2022-07-07T06:00:00+02:00",
          "2022-07-07T07:00:00+02:00",
          "2022-07-07T08:00:00+02:00",
          "2022-07-07T09:00:00+02:00",
          "2022-07-07T10:00:00+02:00",
          "2022-07-07T11:00:00+02:00"
         ],
         "xaxis": "x",
         "y": [
          4673.235458333333,
          4673.241708333333,
          4673.241708333333,
          4673.241708333333,
          4673.241708333332,
          4673.139625,
          4672.902124999999,
          4669.839625,
          4657.054208333332,
          4632.339624999999,
          4605.095875,
          4588.86775,
          4581.639625000001,
          4577.5271250000005,
          4573.790666666667,
          4580.3895,
          4596.352916666666,
          4596.18625,
          4573.2368750000005,
          4535.453645833333,
          4503.696354166666,
          4491.469791666666,
          4489.640624999999,
          4489.6364583333325,
          4489.632291666668,
          4489.626041666667,
          4489.626041666667,
          4489.626041666666,
          4489.626041666667,
          4489.626041666667,
          4489.596874999999,
          4487.221874999999,
          4474.031770833333,
          4445.177083333333,
          4408.549479166667,
          4373.613541666667,
          4351.613541666666,
          4337.878124999999,
          4322.31875,
          4303.233854166667,
          4277.151562499999,
          4249.418749999999,
          4226.610416666666,
          4212.554687499999,
          4208.195833333332,
          4208.648958333332,
          4208.9854166666655,
          4208.985416666666,
          4208.983333333333,
          4209.0062499999985,
          4209.054166666666,
          4209.104166666666,
          4209.131249999999,
          4209.135416666667,
          4209.133333333332,
          4212.231249999999,
          4228.835937500001,
          4267.136458333334,
          4318.368229166667,
          4367.970833333334,
          4408.486979166667,
          4445.870833333333,
          4483.626041666666,
          4518.397916666667,
          4555.255208333333,
          4601.281770833333,
          4652.627083333334,
          4696.878645833333,
          4723.594270833332,
          4732.031770833333,
          4732.888541666667,
          4732.8947916666675,
          4732.894791666667,
          4732.871875000001,
          4732.823958333333,
          4732.773958333333,
          4732.746875,
          4732.742708333333,
          4732.6572916666655,
          4731.167708333332,
          4725.813541666666,
          4715.394791666667,
          4698.898958333332,
          4680.570833333332,
          4657.955729166666,
          4628.377083333333,
          4599.299999999999,
          4569.070833333333,
          4531.854166666666,
          4481.272395833334,
          4424.873958333333,
          4378.603125,
          4350.655729166667,
          4341.865104166666,
          4341.365625,
          4341.365625000001,
          4341.365625,
          4341.365625,
          4341.365625,
          4341.365624999999,
          4341.365624999999,
          4341.365624999999,
          4341.3343749999985,
          4337.617708333332,
          4323.880208333333,
          4299.967708333333,
          4274.294791666666,
          4250.235416666666,
          4231.836458333332,
          4222.258333333333,
          4217.1875,
          4216.1052083333325,
          4218.8296875,
          4230.589583333333,
          4248.1171875,
          4262.292187499999,
          4271.716666666667,
          4275.1078125,
          4275.311458333333,
          4275.296875,
          4275.301041666666,
          4275.317708333332,
          4275.330208333332,
          4275.346874999998,
          4275.357291666665,
          4275.357291666665,
          4275.359374999999,
          4281.579333333331,
          4300.205020833332,
          4332.421166666667,
          4373.309708333333,
          4412.965958333333,
          4445.175333333333,
          4471.037833333333,
          4494.738875,
          4519.8795,
          4548.223770833333,
          4584.433145833334,
          4624.785958333334,
          4655.687833333334,
          4671.169187500001,
          4675.043145833333,
          4675.522833333333,
          4675.527
         ],
         "yaxis": "y"
        },
        {
         "fillpattern": {
          "shape": ""
         },
         "hovertemplate": "variable=seasonal<br>datetime_utc=%{x}<br>value=%{y}<extra></extra>",
         "legendgroup": "",
         "line": {
          "color": "#636efa"
         },
         "marker": {
          "symbol": "circle"
         },
         "mode": "lines",
         "name": "",
         "orientation": "v",
         "showlegend": false,
         "stackgroup": "1",
         "type": "scatter",
         "x": [
          "2022-07-01T12:00:00+02:00",
          "2022-07-01T13:00:00+02:00",
          "2022-07-01T14:00:00+02:00",
          "2022-07-01T15:00:00+02:00",
          "2022-07-01T16:00:00+02:00",
          "2022-07-01T17:00:00+02:00",
          "2022-07-01T18:00:00+02:00",
          "2022-07-01T19:00:00+02:00",
          "2022-07-01T20:00:00+02:00",
          "2022-07-01T21:00:00+02:00",
          "2022-07-01T22:00:00+02:00",
          "2022-07-01T23:00:00+02:00",
          "2022-07-02T00:00:00+02:00",
          "2022-07-02T01:00:00+02:00",
          "2022-07-02T02:00:00+02:00",
          "2022-07-02T03:00:00+02:00",
          "2022-07-02T04:00:00+02:00",
          "2022-07-02T05:00:00+02:00",
          "2022-07-02T06:00:00+02:00",
          "2022-07-02T07:00:00+02:00",
          "2022-07-02T08:00:00+02:00",
          "2022-07-02T09:00:00+02:00",
          "2022-07-02T10:00:00+02:00",
          "2022-07-02T11:00:00+02:00",
          "2022-07-02T12:00:00+02:00",
          "2022-07-02T13:00:00+02:00",
          "2022-07-02T14:00:00+02:00",
          "2022-07-02T15:00:00+02:00",
          "2022-07-02T16:00:00+02:00",
          "2022-07-02T17:00:00+02:00",
          "2022-07-02T18:00:00+02:00",
          "2022-07-02T19:00:00+02:00",
          "2022-07-02T20:00:00+02:00",
          "2022-07-02T21:00:00+02:00",
          "2022-07-02T22:00:00+02:00",
          "2022-07-02T23:00:00+02:00",
          "2022-07-03T00:00:00+02:00",
          "2022-07-03T01:00:00+02:00",
          "2022-07-03T02:00:00+02:00",
          "2022-07-03T03:00:00+02:00",
          "2022-07-03T04:00:00+02:00",
          "2022-07-03T05:00:00+02:00",
          "2022-07-03T06:00:00+02:00",
          "2022-07-03T07:00:00+02:00",
          "2022-07-03T08:00:00+02:00",
          "2022-07-03T09:00:00+02:00",
          "2022-07-03T10:00:00+02:00",
          "2022-07-03T11:00:00+02:00",
          "2022-07-03T12:00:00+02:00",
          "2022-07-03T13:00:00+02:00",
          "2022-07-03T14:00:00+02:00",
          "2022-07-03T15:00:00+02:00",
          "2022-07-03T16:00:00+02:00",
          "2022-07-03T17:00:00+02:00",
          "2022-07-03T18:00:00+02:00",
          "2022-07-03T19:00:00+02:00",
          "2022-07-03T20:00:00+02:00",
          "2022-07-03T21:00:00+02:00",
          "2022-07-03T22:00:00+02:00",
          "2022-07-03T23:00:00+02:00",
          "2022-07-04T00:00:00+02:00",
          "2022-07-04T01:00:00+02:00",
          "2022-07-04T02:00:00+02:00",
          "2022-07-04T03:00:00+02:00",
          "2022-07-04T04:00:00+02:00",
          "2022-07-04T05:00:00+02:00",
          "2022-07-04T06:00:00+02:00",
          "2022-07-04T07:00:00+02:00",
          "2022-07-04T08:00:00+02:00",
          "2022-07-04T09:00:00+02:00",
          "2022-07-04T10:00:00+02:00",
          "2022-07-04T11:00:00+02:00",
          "2022-07-04T12:00:00+02:00",
          "2022-07-04T13:00:00+02:00",
          "2022-07-04T14:00:00+02:00",
          "2022-07-04T15:00:00+02:00",
          "2022-07-04T16:00:00+02:00",
          "2022-07-04T17:00:00+02:00",
          "2022-07-04T18:00:00+02:00",
          "2022-07-04T19:00:00+02:00",
          "2022-07-04T20:00:00+02:00",
          "2022-07-04T21:00:00+02:00",
          "2022-07-04T22:00:00+02:00",
          "2022-07-04T23:00:00+02:00",
          "2022-07-05T00:00:00+02:00",
          "2022-07-05T01:00:00+02:00",
          "2022-07-05T02:00:00+02:00",
          "2022-07-05T03:00:00+02:00",
          "2022-07-05T04:00:00+02:00",
          "2022-07-05T05:00:00+02:00",
          "2022-07-05T06:00:00+02:00",
          "2022-07-05T07:00:00+02:00",
          "2022-07-05T08:00:00+02:00",
          "2022-07-05T09:00:00+02:00",
          "2022-07-05T10:00:00+02:00",
          "2022-07-05T11:00:00+02:00",
          "2022-07-05T12:00:00+02:00",
          "2022-07-05T13:00:00+02:00",
          "2022-07-05T14:00:00+02:00",
          "2022-07-05T15:00:00+02:00",
          "2022-07-05T16:00:00+02:00",
          "2022-07-05T17:00:00+02:00",
          "2022-07-05T18:00:00+02:00",
          "2022-07-05T19:00:00+02:00",
          "2022-07-05T20:00:00+02:00",
          "2022-07-05T21:00:00+02:00",
          "2022-07-05T22:00:00+02:00",
          "2022-07-05T23:00:00+02:00",
          "2022-07-06T00:00:00+02:00",
          "2022-07-06T01:00:00+02:00",
          "2022-07-06T02:00:00+02:00",
          "2022-07-06T03:00:00+02:00",
          "2022-07-06T04:00:00+02:00",
          "2022-07-06T05:00:00+02:00",
          "2022-07-06T06:00:00+02:00",
          "2022-07-06T07:00:00+02:00",
          "2022-07-06T08:00:00+02:00",
          "2022-07-06T09:00:00+02:00",
          "2022-07-06T10:00:00+02:00",
          "2022-07-06T11:00:00+02:00",
          "2022-07-06T12:00:00+02:00",
          "2022-07-06T13:00:00+02:00",
          "2022-07-06T14:00:00+02:00",
          "2022-07-06T15:00:00+02:00",
          "2022-07-06T16:00:00+02:00",
          "2022-07-06T17:00:00+02:00",
          "2022-07-06T18:00:00+02:00",
          "2022-07-06T19:00:00+02:00",
          "2022-07-06T20:00:00+02:00",
          "2022-07-06T21:00:00+02:00",
          "2022-07-06T22:00:00+02:00",
          "2022-07-06T23:00:00+02:00",
          "2022-07-07T00:00:00+02:00",
          "2022-07-07T01:00:00+02:00",
          "2022-07-07T02:00:00+02:00",
          "2022-07-07T03:00:00+02:00",
          "2022-07-07T04:00:00+02:00",
          "2022-07-07T05:00:00+02:00",
          "2022-07-07T06:00:00+02:00",
          "2022-07-07T07:00:00+02:00",
          "2022-07-07T08:00:00+02:00",
          "2022-07-07T09:00:00+02:00",
          "2022-07-07T10:00:00+02:00",
          "2022-07-07T11:00:00+02:00"
         ],
         "xaxis": "x2",
         "y": [
          6032.180304542824,
          6197.515026765046,
          6228.646276765047,
          6007.261165653935,
          5504.787596209491,
          4661.229610098379,
          3370.063498987269,
          1219.964478153936,
          -2002.5252197627315,
          -4116.51957740162,
          -4437.299612123843,
          -4438.517494068287,
          -4439.364716290508,
          -4440.304994068287,
          -4441.623744068288,
          -4444.276240596065,
          -4447.974657262731,
          -4450.56042115162,
          -4437.83868504051,
          -3716.432126012731,
          -1020.8264454571762,
          2133.6087975983796,
          4130.404978153936,
          5348.402200376157,
          6032.180304542824,
          6197.515026765046,
          6228.646276765047,
          6007.261165653935,
          5504.787596209491,
          4661.229610098379,
          3370.063498987269,
          1219.964478153936,
          -2002.5252197627315,
          -4116.51957740162,
          -4437.299612123843,
          -4438.517494068287,
          -4439.364716290508,
          -4440.304994068287,
          -4441.623744068288,
          -4444.276240596065,
          -4447.974657262731,
          -4450.56042115162,
          -4437.83868504051,
          -3716.432126012731,
          -1020.8264454571762,
          2133.6087975983796,
          4130.404978153936,
          5348.402200376157,
          6032.180304542824,
          6197.515026765046,
          6228.646276765047,
          6007.261165653935,
          5504.787596209491,
          4661.229610098379,
          3370.063498987269,
          1219.964478153936,
          -2002.5252197627315,
          -4116.51957740162,
          -4437.299612123843,
          -4438.517494068287,
          -4439.364716290508,
          -4440.304994068287,
          -4441.623744068288,
          -4444.276240596065,
          -4447.974657262731,
          -4450.56042115162,
          -4437.83868504051,
          -3716.432126012731,
          -1020.8264454571762,
          2133.6087975983796,
          4130.404978153936,
          5348.402200376157,
          6032.180304542824,
          6197.515026765046,
          6228.646276765047,
          6007.261165653935,
          5504.787596209491,
          4661.229610098379,
          3370.063498987269,
          1219.964478153936,
          -2002.5252197627315,
          -4116.51957740162,
          -4437.299612123843,
          -4438.517494068287,
          -4439.364716290508,
          -4440.304994068287,
          -4441.623744068288,
          -4444.276240596065,
          -4447.974657262731,
          -4450.56042115162,
          -4437.83868504051,
          -3716.432126012731,
          -1020.8264454571762,
          2133.6087975983796,
          4130.404978153936,
          5348.402200376157,
          6032.180304542824,
          6197.515026765046,
          6228.646276765047,
          6007.261165653935,
          5504.787596209491,
          4661.229610098379,
          3370.063498987269,
          1219.964478153936,
          -2002.5252197627315,
          -4116.51957740162,
          -4437.299612123843,
          -4438.517494068287,
          -4439.364716290508,
          -4440.304994068287,
          -4441.623744068288,
          -4444.276240596065,
          -4447.974657262731,
          -4450.56042115162,
          -4437.83868504051,
          -3716.432126012731,
          -1020.8264454571762,
          2133.6087975983796,
          4130.404978153936,
          5348.402200376157,
          6032.180304542824,
          6197.515026765046,
          6228.646276765047,
          6007.261165653935,
          5504.787596209491,
          4661.229610098379,
          3370.063498987269,
          1219.964478153936,
          -2002.5252197627315,
          -4116.51957740162,
          -4437.299612123843,
          -4438.517494068287,
          -4439.364716290508,
          -4440.304994068287,
          -4441.623744068288,
          -4444.276240596065,
          -4447.974657262731,
          -4450.56042115162,
          -4437.83868504051,
          -3716.432126012731,
          -1020.8264454571762,
          2133.6087975983796,
          4130.404978153936,
          5348.402200376157
         ],
         "yaxis": "y2"
        },
        {
         "fillpattern": {
          "shape": ""
         },
         "hovertemplate": "variable=residual<br>datetime_utc=%{x}<br>value=%{y}<extra></extra>",
         "legendgroup": "",
         "line": {
          "color": "#636efa"
         },
         "marker": {
          "symbol": "circle"
         },
         "mode": "lines",
         "name": "",
         "orientation": "v",
         "showlegend": false,
         "stackgroup": "1",
         "type": "scatter",
         "x": [
          "2022-07-01T12:00:00+02:00",
          "2022-07-01T13:00:00+02:00",
          "2022-07-01T14:00:00+02:00",
          "2022-07-01T15:00:00+02:00",
          "2022-07-01T16:00:00+02:00",
          "2022-07-01T17:00:00+02:00",
          "2022-07-01T18:00:00+02:00",
          "2022-07-01T19:00:00+02:00",
          "2022-07-01T20:00:00+02:00",
          "2022-07-01T21:00:00+02:00",
          "2022-07-01T22:00:00+02:00",
          "2022-07-01T23:00:00+02:00",
          "2022-07-02T00:00:00+02:00",
          "2022-07-02T01:00:00+02:00",
          "2022-07-02T02:00:00+02:00",
          "2022-07-02T03:00:00+02:00",
          "2022-07-02T04:00:00+02:00",
          "2022-07-02T05:00:00+02:00",
          "2022-07-02T06:00:00+02:00",
          "2022-07-02T07:00:00+02:00",
          "2022-07-02T08:00:00+02:00",
          "2022-07-02T09:00:00+02:00",
          "2022-07-02T10:00:00+02:00",
          "2022-07-02T11:00:00+02:00",
          "2022-07-02T12:00:00+02:00",
          "2022-07-02T13:00:00+02:00",
          "2022-07-02T14:00:00+02:00",
          "2022-07-02T15:00:00+02:00",
          "2022-07-02T16:00:00+02:00",
          "2022-07-02T17:00:00+02:00",
          "2022-07-02T18:00:00+02:00",
          "2022-07-02T19:00:00+02:00",
          "2022-07-02T20:00:00+02:00",
          "2022-07-02T21:00:00+02:00",
          "2022-07-02T22:00:00+02:00",
          "2022-07-02T23:00:00+02:00",
          "2022-07-03T00:00:00+02:00",
          "2022-07-03T01:00:00+02:00",
          "2022-07-03T02:00:00+02:00",
          "2022-07-03T03:00:00+02:00",
          "2022-07-03T04:00:00+02:00",
          "2022-07-03T05:00:00+02:00",
          "2022-07-03T06:00:00+02:00",
          "2022-07-03T07:00:00+02:00",
          "2022-07-03T08:00:00+02:00",
          "2022-07-03T09:00:00+02:00",
          "2022-07-03T10:00:00+02:00",
          "2022-07-03T11:00:00+02:00",
          "2022-07-03T12:00:00+02:00",
          "2022-07-03T13:00:00+02:00",
          "2022-07-03T14:00:00+02:00",
          "2022-07-03T15:00:00+02:00",
          "2022-07-03T16:00:00+02:00",
          "2022-07-03T17:00:00+02:00",
          "2022-07-03T18:00:00+02:00",
          "2022-07-03T19:00:00+02:00",
          "2022-07-03T20:00:00+02:00",
          "2022-07-03T21:00:00+02:00",
          "2022-07-03T22:00:00+02:00",
          "2022-07-03T23:00:00+02:00",
          "2022-07-04T00:00:00+02:00",
          "2022-07-04T01:00:00+02:00",
          "2022-07-04T02:00:00+02:00",
          "2022-07-04T03:00:00+02:00",
          "2022-07-04T04:00:00+02:00",
          "2022-07-04T05:00:00+02:00",
          "2022-07-04T06:00:00+02:00",
          "2022-07-04T07:00:00+02:00",
          "2022-07-04T08:00:00+02:00",
          "2022-07-04T09:00:00+02:00",
          "2022-07-04T10:00:00+02:00",
          "2022-07-04T11:00:00+02:00",
          "2022-07-04T12:00:00+02:00",
          "2022-07-04T13:00:00+02:00",
          "2022-07-04T14:00:00+02:00",
          "2022-07-04T15:00:00+02:00",
          "2022-07-04T16:00:00+02:00",
          "2022-07-04T17:00:00+02:00",
          "2022-07-04T18:00:00+02:00",
          "2022-07-04T19:00:00+02:00",
          "2022-07-04T20:00:00+02:00",
          "2022-07-04T21:00:00+02:00",
          "2022-07-04T22:00:00+02:00",
          "2022-07-04T23:00:00+02:00",
          "2022-07-05T00:00:00+02:00",
          "2022-07-05T01:00:00+02:00",
          "2022-07-05T02:00:00+02:00",
          "2022-07-05T03:00:00+02:00",
          "2022-07-05T04:00:00+02:00",
          "2022-07-05T05:00:00+02:00",
          "2022-07-05T06:00:00+02:00",
          "2022-07-05T07:00:00+02:00",
          "2022-07-05T08:00:00+02:00",
          "2022-07-05T09:00:00+02:00",
          "2022-07-05T10:00:00+02:00",
          "2022-07-05T11:00:00+02:00",
          "2022-07-05T12:00:00+02:00",
          "2022-07-05T13:00:00+02:00",
          "2022-07-05T14:00:00+02:00",
          "2022-07-05T15:00:00+02:00",
          "2022-07-05T16:00:00+02:00",
          "2022-07-05T17:00:00+02:00",
          "2022-07-05T18:00:00+02:00",
          "2022-07-05T19:00:00+02:00",
          "2022-07-05T20:00:00+02:00",
          "2022-07-05T21:00:00+02:00",
          "2022-07-05T22:00:00+02:00",
          "2022-07-05T23:00:00+02:00",
          "2022-07-06T00:00:00+02:00",
          "2022-07-06T01:00:00+02:00",
          "2022-07-06T02:00:00+02:00",
          "2022-07-06T03:00:00+02:00",
          "2022-07-06T04:00:00+02:00",
          "2022-07-06T05:00:00+02:00",
          "2022-07-06T06:00:00+02:00",
          "2022-07-06T07:00:00+02:00",
          "2022-07-06T08:00:00+02:00",
          "2022-07-06T09:00:00+02:00",
          "2022-07-06T10:00:00+02:00",
          "2022-07-06T11:00:00+02:00",
          "2022-07-06T12:00:00+02:00",
          "2022-07-06T13:00:00+02:00",
          "2022-07-06T14:00:00+02:00",
          "2022-07-06T15:00:00+02:00",
          "2022-07-06T16:00:00+02:00",
          "2022-07-06T17:00:00+02:00",
          "2022-07-06T18:00:00+02:00",
          "2022-07-06T19:00:00+02:00",
          "2022-07-06T20:00:00+02:00",
          "2022-07-06T21:00:00+02:00",
          "2022-07-06T22:00:00+02:00",
          "2022-07-06T23:00:00+02:00",
          "2022-07-07T00:00:00+02:00",
          "2022-07-07T01:00:00+02:00",
          "2022-07-07T02:00:00+02:00",
          "2022-07-07T03:00:00+02:00",
          "2022-07-07T04:00:00+02:00",
          "2022-07-07T05:00:00+02:00",
          "2022-07-07T06:00:00+02:00",
          "2022-07-07T07:00:00+02:00",
          "2022-07-07T08:00:00+02:00",
          "2022-07-07T09:00:00+02:00",
          "2022-07-07T10:00:00+02:00",
          "2022-07-07T11:00:00+02:00"
         ],
         "xaxis": "x3",
         "y": [
          -47.01576287615717,
          -148.6567350983787,
          -56.68798509837961,
          -391.1218739872684,
          -176.05430454282305,
          228.48076490162111,
          497.20437601273215,
          579.7958968460648,
          125.54601142939919,
          -142.02004759837837,
          -165.0962628761572,
          -149.65025593171322,
          -141.87490870949296,
          -137.1221309317134,
          -132.06692259837837,
          -136.01325940393508,
          -148.2782594039345,
          -145.5258288483792,
          -117.5981899594899,
          -47.52151982060241,
          102.63009129050977,
          101.52141073495432,
          117.55439684606517,
          115.76134129050934,
          -26.012596209492585,
          0.15893156828587962,
          -17.62231843171503,
          253.78779267939808,
          312.5113621238406,
          99.04434823495285,
          -108.1103739872683,
          -262.5613531539352,
          -190.80655107060193,
          -42.357505931712694,
          31.15013295717563,
          65.70395240162088,
          87.85117462384278,
          102.52686906828785,
          119.40499406828803,
          141.14238642939836,
          170.92309476273203,
          201.24167115162163,
          227.62826837384364,
          162.7774385127318,
          -122.3943878761562,
          -480.15775593171156,
          -495.41539482060125,
          -386.8876170428239,
          -18.063637876156463,
          -105.82127676504388,
          -97.30044343171357,
          -21.515332320600464,
          -103.1188462094915,
          -255.51502676504606,
          -287.39683232060133,
          -202.49572815393503,
          60.08928226273065,
          151.73311906828576,
          121.43138295717563,
          71.24666073495337,
          30.977737123841507,
          -4.365839265046816,
          -40.70229759837821,
          -72.82167607060182,
          -107.08055107060227,
          -150.52134968171322,
          -198.5883982928235,
          -172.6465198206024,
          10.332174623843798,
          186.7594315682868,
          249.50648017939602,
          201.3030079571754,
          290.69990379050887,
          332.06309823495394,
          229.4297649016189,
          273.36487601273166,
          323.8655287905085,
          479.55268156828697,
          394.979209346066,
          196.74281351273248,
          -72.71332190393514,
          -255.70021426504627,
          -258.79934620948916,
          -241.35333926504518,
          -218.49101287615758,
          -187.97208926504572,
          -157.57625593171088,
          -124.69459273726807,
          -83.77950940393475,
          -30.611974681713036,
          25.16472670717758,
          78.12900101273135,
          193.7707162905093,
          266.3260982349543,
          159.8293968460639,
          194.28217462384055,
          -4.745929542825252,
          -9.230651765046787,
          -42.011901765047696,
          -123.32679065393495,
          -283.0532212094904,
          -558.6952350983793,
          -491.19787398726794,
          -353.20718648726825,
          -68.75498857060165,
          135.7518690682873,
          165.8048204571769,
          188.9820774016207,
          207.62825795717617,
          218.1466607349539,
          224.5362440682884,
          228.27103226273266,
          229.24496976273167,
          220.07083781828715,
          200.42149754051025,
          17.539938512731624,
          -209.79022120949105,
          -332.21661009838,
          -341.1164364872684,
          -327.4990753761567,
          -233.98134620948986,
          -107.63273509837745,
          -54.92648509838,
          -30.30804065393386,
          -113.26988787615664,
          -31.986901765044422,
          -44.597873987268486,
          2.6061885127323876,
          107.52019892939916,
          113.47341073495318,
          66.38990379050938,
          25.951535734953723,
          -5.210617042824197,
          -30.33283926504646,
          -52.71513093171234,
          -75.00325940393486,
          -100.14911357060191,
          -133.77272468171304,
          -176.14727329282323,
          -77.39770732060333,
          -13.667742042824216,
          218.6480565682873,
          270.5221885127312,
          163.92079962384287
         ],
         "yaxis": "y3"
        }
       ],
       "layout": {
        "annotations": [
         {
          "font": {},
          "showarrow": false,
          "text": "variable=trend",
          "x": 0.15,
          "xanchor": "center",
          "xref": "paper",
          "y": 1,
          "yanchor": "bottom",
          "yref": "paper"
         },
         {
          "font": {},
          "showarrow": false,
          "text": "variable=seasonal",
          "x": 0.49999999999999994,
          "xanchor": "center",
          "xref": "paper",
          "y": 1,
          "yanchor": "bottom",
          "yref": "paper"
         },
         {
          "font": {},
          "showarrow": false,
          "text": "variable=residual",
          "x": 0.85,
          "xanchor": "center",
          "xref": "paper",
          "y": 1,
          "yanchor": "bottom",
          "yref": "paper"
         }
        ],
        "legend": {
         "tracegroupgap": 0
        },
        "template": {
         "data": {
          "bar": [
           {
            "error_x": {
             "color": "#2a3f5f"
            },
            "error_y": {
             "color": "#2a3f5f"
            },
            "marker": {
             "line": {
              "color": "#E5ECF6",
              "width": 0.5
             },
             "pattern": {
              "fillmode": "overlay",
              "size": 10,
              "solidity": 0.2
             }
            },
            "type": "bar"
           }
          ],
          "barpolar": [
           {
            "marker": {
             "line": {
              "color": "#E5ECF6",
              "width": 0.5
             },
             "pattern": {
              "fillmode": "overlay",
              "size": 10,
              "solidity": 0.2
             }
            },
            "type": "barpolar"
           }
          ],
          "carpet": [
           {
            "aaxis": {
             "endlinecolor": "#2a3f5f",
             "gridcolor": "white",
             "linecolor": "white",
             "minorgridcolor": "white",
             "startlinecolor": "#2a3f5f"
            },
            "baxis": {
             "endlinecolor": "#2a3f5f",
             "gridcolor": "white",
             "linecolor": "white",
             "minorgridcolor": "white",
             "startlinecolor": "#2a3f5f"
            },
            "type": "carpet"
           }
          ],
          "choropleth": [
           {
            "colorbar": {
             "outlinewidth": 0,
             "ticks": ""
            },
            "type": "choropleth"
           }
          ],
          "contour": [
           {
            "colorbar": {
             "outlinewidth": 0,
             "ticks": ""
            },
            "colorscale": [
             [
              0,
              "#0d0887"
             ],
             [
              0.1111111111111111,
              "#46039f"
             ],
             [
              0.2222222222222222,
              "#7201a8"
             ],
             [
              0.3333333333333333,
              "#9c179e"
             ],
             [
              0.4444444444444444,
              "#bd3786"
             ],
             [
              0.5555555555555556,
              "#d8576b"
             ],
             [
              0.6666666666666666,
              "#ed7953"
             ],
             [
              0.7777777777777778,
              "#fb9f3a"
             ],
             [
              0.8888888888888888,
              "#fdca26"
             ],
             [
              1,
              "#f0f921"
             ]
            ],
            "type": "contour"
           }
          ],
          "contourcarpet": [
           {
            "colorbar": {
             "outlinewidth": 0,
             "ticks": ""
            },
            "type": "contourcarpet"
           }
          ],
          "heatmap": [
           {
            "colorbar": {
             "outlinewidth": 0,
             "ticks": ""
            },
            "colorscale": [
             [
              0,
              "#0d0887"
             ],
             [
              0.1111111111111111,
              "#46039f"
             ],
             [
              0.2222222222222222,
              "#7201a8"
             ],
             [
              0.3333333333333333,
              "#9c179e"
             ],
             [
              0.4444444444444444,
              "#bd3786"
             ],
             [
              0.5555555555555556,
              "#d8576b"
             ],
             [
              0.6666666666666666,
              "#ed7953"
             ],
             [
              0.7777777777777778,
              "#fb9f3a"
             ],
             [
              0.8888888888888888,
              "#fdca26"
             ],
             [
              1,
              "#f0f921"
             ]
            ],
            "type": "heatmap"
           }
          ],
          "heatmapgl": [
           {
            "colorbar": {
             "outlinewidth": 0,
             "ticks": ""
            },
            "colorscale": [
             [
              0,
              "#0d0887"
             ],
             [
              0.1111111111111111,
              "#46039f"
             ],
             [
              0.2222222222222222,
              "#7201a8"
             ],
             [
              0.3333333333333333,
              "#9c179e"
             ],
             [
              0.4444444444444444,
              "#bd3786"
             ],
             [
              0.5555555555555556,
              "#d8576b"
             ],
             [
              0.6666666666666666,
              "#ed7953"
             ],
             [
              0.7777777777777778,
              "#fb9f3a"
             ],
             [
              0.8888888888888888,
              "#fdca26"
             ],
             [
              1,
              "#f0f921"
             ]
            ],
            "type": "heatmapgl"
           }
          ],
          "histogram": [
           {
            "marker": {
             "pattern": {
              "fillmode": "overlay",
              "size": 10,
              "solidity": 0.2
             }
            },
            "type": "histogram"
           }
          ],
          "histogram2d": [
           {
            "colorbar": {
             "outlinewidth": 0,
             "ticks": ""
            },
            "colorscale": [
             [
              0,
              "#0d0887"
             ],
             [
              0.1111111111111111,
              "#46039f"
             ],
             [
              0.2222222222222222,
              "#7201a8"
             ],
             [
              0.3333333333333333,
              "#9c179e"
             ],
             [
              0.4444444444444444,
              "#bd3786"
             ],
             [
              0.5555555555555556,
              "#d8576b"
             ],
             [
              0.6666666666666666,
              "#ed7953"
             ],
             [
              0.7777777777777778,
              "#fb9f3a"
             ],
             [
              0.8888888888888888,
              "#fdca26"
             ],
             [
              1,
              "#f0f921"
             ]
            ],
            "type": "histogram2d"
           }
          ],
          "histogram2dcontour": [
           {
            "colorbar": {
             "outlinewidth": 0,
             "ticks": ""
            },
            "colorscale": [
             [
              0,
              "#0d0887"
             ],
             [
              0.1111111111111111,
              "#46039f"
             ],
             [
              0.2222222222222222,
              "#7201a8"
             ],
             [
              0.3333333333333333,
              "#9c179e"
             ],
             [
              0.4444444444444444,
              "#bd3786"
             ],
             [
              0.5555555555555556,
              "#d8576b"
             ],
             [
              0.6666666666666666,
              "#ed7953"
             ],
             [
              0.7777777777777778,
              "#fb9f3a"
             ],
             [
              0.8888888888888888,
              "#fdca26"
             ],
             [
              1,
              "#f0f921"
             ]
            ],
            "type": "histogram2dcontour"
           }
          ],
          "mesh3d": [
           {
            "colorbar": {
             "outlinewidth": 0,
             "ticks": ""
            },
            "type": "mesh3d"
           }
          ],
          "parcoords": [
           {
            "line": {
             "colorbar": {
              "outlinewidth": 0,
              "ticks": ""
             }
            },
            "type": "parcoords"
           }
          ],
          "pie": [
           {
            "automargin": true,
            "type": "pie"
           }
          ],
          "scatter": [
           {
            "fillpattern": {
             "fillmode": "overlay",
             "size": 10,
             "solidity": 0.2
            },
            "type": "scatter"
           }
          ],
          "scatter3d": [
           {
            "line": {
             "colorbar": {
              "outlinewidth": 0,
              "ticks": ""
             }
            },
            "marker": {
             "colorbar": {
              "outlinewidth": 0,
              "ticks": ""
             }
            },
            "type": "scatter3d"
           }
          ],
          "scattercarpet": [
           {
            "marker": {
             "colorbar": {
              "outlinewidth": 0,
              "ticks": ""
             }
            },
            "type": "scattercarpet"
           }
          ],
          "scattergeo": [
           {
            "marker": {
             "colorbar": {
              "outlinewidth": 0,
              "ticks": ""
             }
            },
            "type": "scattergeo"
           }
          ],
          "scattergl": [
           {
            "marker": {
             "colorbar": {
              "outlinewidth": 0,
              "ticks": ""
             }
            },
            "type": "scattergl"
           }
          ],
          "scattermapbox": [
           {
            "marker": {
             "colorbar": {
              "outlinewidth": 0,
              "ticks": ""
             }
            },
            "type": "scattermapbox"
           }
          ],
          "scatterpolar": [
           {
            "marker": {
             "colorbar": {
              "outlinewidth": 0,
              "ticks": ""
             }
            },
            "type": "scatterpolar"
           }
          ],
          "scatterpolargl": [
           {
            "marker": {
             "colorbar": {
              "outlinewidth": 0,
              "ticks": ""
             }
            },
            "type": "scatterpolargl"
           }
          ],
          "scatterternary": [
           {
            "marker": {
             "colorbar": {
              "outlinewidth": 0,
              "ticks": ""
             }
            },
            "type": "scatterternary"
           }
          ],
          "surface": [
           {
            "colorbar": {
             "outlinewidth": 0,
             "ticks": ""
            },
            "colorscale": [
             [
              0,
              "#0d0887"
             ],
             [
              0.1111111111111111,
              "#46039f"
             ],
             [
              0.2222222222222222,
              "#7201a8"
             ],
             [
              0.3333333333333333,
              "#9c179e"
             ],
             [
              0.4444444444444444,
              "#bd3786"
             ],
             [
              0.5555555555555556,
              "#d8576b"
             ],
             [
              0.6666666666666666,
              "#ed7953"
             ],
             [
              0.7777777777777778,
              "#fb9f3a"
             ],
             [
              0.8888888888888888,
              "#fdca26"
             ],
             [
              1,
              "#f0f921"
             ]
            ],
            "type": "surface"
           }
          ],
          "table": [
           {
            "cells": {
             "fill": {
              "color": "#EBF0F8"
             },
             "line": {
              "color": "white"
             }
            },
            "header": {
             "fill": {
              "color": "#C8D4E3"
             },
             "line": {
              "color": "white"
             }
            },
            "type": "table"
           }
          ]
         },
         "layout": {
          "annotationdefaults": {
           "arrowcolor": "#2a3f5f",
           "arrowhead": 0,
           "arrowwidth": 1
          },
          "autotypenumbers": "strict",
          "coloraxis": {
           "colorbar": {
            "outlinewidth": 0,
            "ticks": ""
           }
          },
          "colorscale": {
           "diverging": [
            [
             0,
             "#8e0152"
            ],
            [
             0.1,
             "#c51b7d"
            ],
            [
             0.2,
             "#de77ae"
            ],
            [
             0.3,
             "#f1b6da"
            ],
            [
             0.4,
             "#fde0ef"
            ],
            [
             0.5,
             "#f7f7f7"
            ],
            [
             0.6,
             "#e6f5d0"
            ],
            [
             0.7,
             "#b8e186"
            ],
            [
             0.8,
             "#7fbc41"
            ],
            [
             0.9,
             "#4d9221"
            ],
            [
             1,
             "#276419"
            ]
           ],
           "sequential": [
            [
             0,
             "#0d0887"
            ],
            [
             0.1111111111111111,
             "#46039f"
            ],
            [
             0.2222222222222222,
             "#7201a8"
            ],
            [
             0.3333333333333333,
             "#9c179e"
            ],
            [
             0.4444444444444444,
             "#bd3786"
            ],
            [
             0.5555555555555556,
             "#d8576b"
            ],
            [
             0.6666666666666666,
             "#ed7953"
            ],
            [
             0.7777777777777778,
             "#fb9f3a"
            ],
            [
             0.8888888888888888,
             "#fdca26"
            ],
            [
             1,
             "#f0f921"
            ]
           ],
           "sequentialminus": [
            [
             0,
             "#0d0887"
            ],
            [
             0.1111111111111111,
             "#46039f"
            ],
            [
             0.2222222222222222,
             "#7201a8"
            ],
            [
             0.3333333333333333,
             "#9c179e"
            ],
            [
             0.4444444444444444,
             "#bd3786"
            ],
            [
             0.5555555555555556,
             "#d8576b"
            ],
            [
             0.6666666666666666,
             "#ed7953"
            ],
            [
             0.7777777777777778,
             "#fb9f3a"
            ],
            [
             0.8888888888888888,
             "#fdca26"
            ],
            [
             1,
             "#f0f921"
            ]
           ]
          },
          "colorway": [
           "#636efa",
           "#EF553B",
           "#00cc96",
           "#ab63fa",
           "#FFA15A",
           "#19d3f3",
           "#FF6692",
           "#B6E880",
           "#FF97FF",
           "#FECB52"
          ],
          "font": {
           "color": "#2a3f5f"
          },
          "geo": {
           "bgcolor": "white",
           "lakecolor": "white",
           "landcolor": "#E5ECF6",
           "showlakes": true,
           "showland": true,
           "subunitcolor": "white"
          },
          "hoverlabel": {
           "align": "left"
          },
          "hovermode": "closest",
          "mapbox": {
           "style": "light"
          },
          "paper_bgcolor": "white",
          "plot_bgcolor": "#E5ECF6",
          "polar": {
           "angularaxis": {
            "gridcolor": "white",
            "linecolor": "white",
            "ticks": ""
           },
           "bgcolor": "#E5ECF6",
           "radialaxis": {
            "gridcolor": "white",
            "linecolor": "white",
            "ticks": ""
           }
          },
          "scene": {
           "xaxis": {
            "backgroundcolor": "#E5ECF6",
            "gridcolor": "white",
            "gridwidth": 2,
            "linecolor": "white",
            "showbackground": true,
            "ticks": "",
            "zerolinecolor": "white"
           },
           "yaxis": {
            "backgroundcolor": "#E5ECF6",
            "gridcolor": "white",
            "gridwidth": 2,
            "linecolor": "white",
            "showbackground": true,
            "ticks": "",
            "zerolinecolor": "white"
           },
           "zaxis": {
            "backgroundcolor": "#E5ECF6",
            "gridcolor": "white",
            "gridwidth": 2,
            "linecolor": "white",
            "showbackground": true,
            "ticks": "",
            "zerolinecolor": "white"
           }
          },
          "shapedefaults": {
           "line": {
            "color": "#2a3f5f"
           }
          },
          "ternary": {
           "aaxis": {
            "gridcolor": "white",
            "linecolor": "white",
            "ticks": ""
           },
           "baxis": {
            "gridcolor": "white",
            "linecolor": "white",
            "ticks": ""
           },
           "bgcolor": "#E5ECF6",
           "caxis": {
            "gridcolor": "white",
            "linecolor": "white",
            "ticks": ""
           }
          },
          "title": {
           "x": 0.05
          },
          "xaxis": {
           "automargin": true,
           "gridcolor": "white",
           "linecolor": "white",
           "ticks": "",
           "title": {
            "standoff": 15
           },
           "zerolinecolor": "white",
           "zerolinewidth": 2
          },
          "yaxis": {
           "automargin": true,
           "gridcolor": "white",
           "linecolor": "white",
           "ticks": "",
           "title": {
            "standoff": 15
           },
           "zerolinecolor": "white",
           "zerolinewidth": 2
          }
         }
        },
        "title": {
         "text": "Additive Model: Components of Time Series"
        },
        "xaxis": {
         "anchor": "y",
         "domain": [
          0,
          0.3
         ],
         "title": {
          "text": "datetime_utc"
         }
        },
        "xaxis2": {
         "anchor": "y2",
         "domain": [
          0.35,
          0.6499999999999999
         ],
         "matches": "x",
         "title": {
          "text": "datetime_utc"
         }
        },
        "xaxis3": {
         "anchor": "y3",
         "domain": [
          0.7,
          1
         ],
         "matches": "x",
         "title": {
          "text": "datetime_utc"
         }
        },
        "yaxis": {
         "anchor": "x",
         "domain": [
          0,
          1
         ],
         "showticklabels": true,
         "title": {
          "text": "value"
         }
        },
        "yaxis2": {
         "anchor": "x2",
         "domain": [
          0,
          1
         ],
         "matches": "y",
         "showticklabels": true
        },
        "yaxis3": {
         "anchor": "x3",
         "domain": [
          0,
          1
         ],
         "matches": "y",
         "showticklabels": true
        }
       }
      }
     },
     "metadata": {},
     "output_type": "display_data"
    }
   ],
   "source": [
    "fig = px.area(dff, x=dff.index, y='value', facet_col='variable', title='Additive Model: Components of Time Series', facet_col_spacing=0.05)\n",
    "\n",
    "for axis in fig.layout:\n",
    "    if 'yaxis' in axis:\n",
    "        fig.layout[axis].showticklabels = True\n",
    "        \n",
    "fig"
   ]
  },
  {
   "cell_type": "code",
   "execution_count": null,
   "id": "1fe5ce7d",
   "metadata": {},
   "outputs": [],
   "source": []
  }
 ],
 "metadata": {
  "kernelspec": {
   "display_name": "Python 3",
   "language": "python",
   "name": "python3"
  },
  "language_info": {
   "codemirror_mode": {
    "name": "ipython",
    "version": 3
   },
   "file_extension": ".py",
   "mimetype": "text/x-python",
   "name": "python",
   "nbconvert_exporter": "python",
   "pygments_lexer": "ipython3",
   "version": "3.11.9"
  },
  "papermill": {
   "default_parameters": {},
   "duration": 2.873626,
   "end_time": "2024-05-29T22:25:32.799727",
   "environment_variables": {},
   "exception": null,
   "input_path": "/Users/sota/Library/CloudStorage/Dropbox/2 Business/1 Datons/2 Areas/Courses/22 TS/solutions-new/notebooks/20_Components/5_Solar Daily/1.ipynb",
   "output_path": "/Users/sota/Library/CloudStorage/Dropbox/2 Business/1 Datons/2 Areas/Courses/22 TS/solutions-new/notebooks/20_Components/5_Solar Daily/1.ipynb",
   "parameters": {},
   "start_time": "2024-05-29T22:25:29.926101",
   "version": "2.5.0"
  },
  "toc-autonumbering": true
 },
 "nbformat": 4,
 "nbformat_minor": 5
}
