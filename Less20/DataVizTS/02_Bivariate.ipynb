{
 "cells": [
  {
   "cell_type": "markdown",
   "id": "88abf4f5",
   "metadata": {
    "papermill": {
     "duration": 0.003815,
     "end_time": "2024-05-29T22:25:12.873064",
     "exception": false,
     "start_time": "2024-05-29T22:25:12.869249",
     "status": "completed"
    },
    "tags": []
   },
   "source": [
    "# Bivariate Time Series Manipulation & Visualization"
   ]
  },
  {
   "cell_type": "code",
   "execution_count": 1,
   "id": "82251e53",
   "metadata": {
    "execution": {
     "iopub.execute_input": "2024-05-29T22:25:12.893837Z",
     "iopub.status.busy": "2024-05-29T22:25:12.893650Z",
     "iopub.status.idle": "2024-05-29T22:25:12.912710Z",
     "shell.execute_reply": "2024-05-29T22:25:12.912446Z"
    },
    "jupyter": {
     "source_hidden": true
    },
    "papermill": {
     "duration": 0.02271,
     "end_time": "2024-05-29T22:25:12.913501",
     "exception": false,
     "start_time": "2024-05-29T22:25:12.890791",
     "status": "completed"
    },
    "tags": [
     "Fixed"
    ]
   },
   "outputs": [
    {
     "data": {
      "text/html": [
       "<div>\n",
       "<style scoped>\n",
       "    .dataframe tbody tr th:only-of-type {\n",
       "        vertical-align: middle;\n",
       "    }\n",
       "\n",
       "    .dataframe tbody tr th {\n",
       "        vertical-align: top;\n",
       "    }\n",
       "\n",
       "    .dataframe thead th {\n",
       "        text-align: right;\n",
       "    }\n",
       "</style>\n",
       "<table border=\"1\" class=\"dataframe\">\n",
       "  <thead>\n",
       "    <tr style=\"text-align: right;\">\n",
       "      <th></th>\n",
       "      <th>Coal</th>\n",
       "      <th>Cogeneration</th>\n",
       "      <th>Combined Cycle (Gas)</th>\n",
       "      <th>Eolic</th>\n",
       "      <th>Hydraulic</th>\n",
       "      <th>Non-Renewable Residues</th>\n",
       "      <th>Nuclear</th>\n",
       "      <th>Pumped Storage Hydropower</th>\n",
       "      <th>Renewables Other</th>\n",
       "      <th>Solar Photovoltaic</th>\n",
       "      <th>Solar Thermal</th>\n",
       "    </tr>\n",
       "    <tr>\n",
       "      <th>time</th>\n",
       "      <th></th>\n",
       "      <th></th>\n",
       "      <th></th>\n",
       "      <th></th>\n",
       "      <th></th>\n",
       "      <th></th>\n",
       "      <th></th>\n",
       "      <th></th>\n",
       "      <th></th>\n",
       "      <th></th>\n",
       "      <th></th>\n",
       "    </tr>\n",
       "  </thead>\n",
       "  <tbody>\n",
       "    <tr>\n",
       "      <th>2022-09-01 00:00:00</th>\n",
       "      <td>695.00</td>\n",
       "      <td>1155.1</td>\n",
       "      <td>14748.950</td>\n",
       "      <td>4387.050</td>\n",
       "      <td>899.675</td>\n",
       "      <td>273.7</td>\n",
       "      <td>6869.9</td>\n",
       "      <td>201.600</td>\n",
       "      <td>516.600</td>\n",
       "      <td>1.000</td>\n",
       "      <td>287.7</td>\n",
       "    </tr>\n",
       "    <tr>\n",
       "      <th>2022-09-01 01:00:00</th>\n",
       "      <td>750.00</td>\n",
       "      <td>1162.1</td>\n",
       "      <td>14255.600</td>\n",
       "      <td>4008.900</td>\n",
       "      <td>850.200</td>\n",
       "      <td>271.6</td>\n",
       "      <td>6881.9</td>\n",
       "      <td>117.700</td>\n",
       "      <td>514.400</td>\n",
       "      <td>1.000</td>\n",
       "      <td>247.7</td>\n",
       "    </tr>\n",
       "    <tr>\n",
       "      <th>2022-09-01 02:00:00</th>\n",
       "      <td>777.50</td>\n",
       "      <td>1153.9</td>\n",
       "      <td>13644.750</td>\n",
       "      <td>3547.500</td>\n",
       "      <td>798.100</td>\n",
       "      <td>272.6</td>\n",
       "      <td>6873.9</td>\n",
       "      <td>78.000</td>\n",
       "      <td>512.700</td>\n",
       "      <td>1.200</td>\n",
       "      <td>239.7</td>\n",
       "    </tr>\n",
       "    <tr>\n",
       "      <th>2022-09-01 03:00:00</th>\n",
       "      <td>802.50</td>\n",
       "      <td>1146.0</td>\n",
       "      <td>13736.500</td>\n",
       "      <td>3188.650</td>\n",
       "      <td>795.500</td>\n",
       "      <td>273.0</td>\n",
       "      <td>6879.9</td>\n",
       "      <td>78.000</td>\n",
       "      <td>512.500</td>\n",
       "      <td>0.200</td>\n",
       "      <td>209.7</td>\n",
       "    </tr>\n",
       "    <tr>\n",
       "      <th>2022-09-01 04:00:00</th>\n",
       "      <td>816.25</td>\n",
       "      <td>1152.8</td>\n",
       "      <td>13706.825</td>\n",
       "      <td>2594.225</td>\n",
       "      <td>821.600</td>\n",
       "      <td>271.7</td>\n",
       "      <td>6873.9</td>\n",
       "      <td>78.100</td>\n",
       "      <td>513.100</td>\n",
       "      <td>0.400</td>\n",
       "      <td>231.5</td>\n",
       "    </tr>\n",
       "    <tr>\n",
       "      <th>...</th>\n",
       "      <td>...</td>\n",
       "      <td>...</td>\n",
       "      <td>...</td>\n",
       "      <td>...</td>\n",
       "      <td>...</td>\n",
       "      <td>...</td>\n",
       "      <td>...</td>\n",
       "      <td>...</td>\n",
       "      <td>...</td>\n",
       "      <td>...</td>\n",
       "      <td>...</td>\n",
       "    </tr>\n",
       "    <tr>\n",
       "      <th>2023-08-31 19:00:00</th>\n",
       "      <td>472.50</td>\n",
       "      <td>2084.9</td>\n",
       "      <td>9390.275</td>\n",
       "      <td>2780.800</td>\n",
       "      <td>2335.900</td>\n",
       "      <td>228.4</td>\n",
       "      <td>6853.0</td>\n",
       "      <td>1611.600</td>\n",
       "      <td>493.575</td>\n",
       "      <td>5212.173</td>\n",
       "      <td>1691.6</td>\n",
       "    </tr>\n",
       "    <tr>\n",
       "      <th>2023-08-31 20:00:00</th>\n",
       "      <td>455.00</td>\n",
       "      <td>2141.1</td>\n",
       "      <td>10097.725</td>\n",
       "      <td>3072.800</td>\n",
       "      <td>3860.400</td>\n",
       "      <td>230.9</td>\n",
       "      <td>6857.0</td>\n",
       "      <td>1910.850</td>\n",
       "      <td>500.600</td>\n",
       "      <td>861.975</td>\n",
       "      <td>1039.1</td>\n",
       "    </tr>\n",
       "    <tr>\n",
       "      <th>2023-08-31 21:00:00</th>\n",
       "      <td>509.10</td>\n",
       "      <td>2149.1</td>\n",
       "      <td>11359.425</td>\n",
       "      <td>3057.150</td>\n",
       "      <td>3852.325</td>\n",
       "      <td>236.9</td>\n",
       "      <td>6864.0</td>\n",
       "      <td>1343.375</td>\n",
       "      <td>505.100</td>\n",
       "      <td>21.400</td>\n",
       "      <td>668.8</td>\n",
       "    </tr>\n",
       "    <tr>\n",
       "      <th>2023-08-31 22:00:00</th>\n",
       "      <td>477.50</td>\n",
       "      <td>2153.4</td>\n",
       "      <td>10575.375</td>\n",
       "      <td>3057.950</td>\n",
       "      <td>3541.400</td>\n",
       "      <td>239.4</td>\n",
       "      <td>6866.0</td>\n",
       "      <td>946.250</td>\n",
       "      <td>510.700</td>\n",
       "      <td>17.600</td>\n",
       "      <td>607.9</td>\n",
       "    </tr>\n",
       "    <tr>\n",
       "      <th>2023-08-31 23:00:00</th>\n",
       "      <td>500.00</td>\n",
       "      <td>2127.7</td>\n",
       "      <td>9988.875</td>\n",
       "      <td>3028.675</td>\n",
       "      <td>3159.500</td>\n",
       "      <td>240.8</td>\n",
       "      <td>6869.0</td>\n",
       "      <td>334.950</td>\n",
       "      <td>511.900</td>\n",
       "      <td>17.400</td>\n",
       "      <td>619.8</td>\n",
       "    </tr>\n",
       "  </tbody>\n",
       "</table>\n",
       "<p>8759 rows × 11 columns</p>\n",
       "</div>"
      ],
      "text/plain": [
       "                       Coal  Cogeneration  Combined Cycle (Gas)     Eolic  \\\n",
       "time                                                                        \n",
       "2022-09-01 00:00:00  695.00        1155.1             14748.950  4387.050   \n",
       "2022-09-01 01:00:00  750.00        1162.1             14255.600  4008.900   \n",
       "2022-09-01 02:00:00  777.50        1153.9             13644.750  3547.500   \n",
       "2022-09-01 03:00:00  802.50        1146.0             13736.500  3188.650   \n",
       "2022-09-01 04:00:00  816.25        1152.8             13706.825  2594.225   \n",
       "...                     ...           ...                   ...       ...   \n",
       "2023-08-31 19:00:00  472.50        2084.9              9390.275  2780.800   \n",
       "2023-08-31 20:00:00  455.00        2141.1             10097.725  3072.800   \n",
       "2023-08-31 21:00:00  509.10        2149.1             11359.425  3057.150   \n",
       "2023-08-31 22:00:00  477.50        2153.4             10575.375  3057.950   \n",
       "2023-08-31 23:00:00  500.00        2127.7              9988.875  3028.675   \n",
       "\n",
       "                     Hydraulic  Non-Renewable Residues  Nuclear  \\\n",
       "time                                                              \n",
       "2022-09-01 00:00:00    899.675                   273.7   6869.9   \n",
       "2022-09-01 01:00:00    850.200                   271.6   6881.9   \n",
       "2022-09-01 02:00:00    798.100                   272.6   6873.9   \n",
       "2022-09-01 03:00:00    795.500                   273.0   6879.9   \n",
       "2022-09-01 04:00:00    821.600                   271.7   6873.9   \n",
       "...                        ...                     ...      ...   \n",
       "2023-08-31 19:00:00   2335.900                   228.4   6853.0   \n",
       "2023-08-31 20:00:00   3860.400                   230.9   6857.0   \n",
       "2023-08-31 21:00:00   3852.325                   236.9   6864.0   \n",
       "2023-08-31 22:00:00   3541.400                   239.4   6866.0   \n",
       "2023-08-31 23:00:00   3159.500                   240.8   6869.0   \n",
       "\n",
       "                     Pumped Storage Hydropower  Renewables Other  \\\n",
       "time                                                               \n",
       "2022-09-01 00:00:00                    201.600           516.600   \n",
       "2022-09-01 01:00:00                    117.700           514.400   \n",
       "2022-09-01 02:00:00                     78.000           512.700   \n",
       "2022-09-01 03:00:00                     78.000           512.500   \n",
       "2022-09-01 04:00:00                     78.100           513.100   \n",
       "...                                        ...               ...   \n",
       "2023-08-31 19:00:00                   1611.600           493.575   \n",
       "2023-08-31 20:00:00                   1910.850           500.600   \n",
       "2023-08-31 21:00:00                   1343.375           505.100   \n",
       "2023-08-31 22:00:00                    946.250           510.700   \n",
       "2023-08-31 23:00:00                    334.950           511.900   \n",
       "\n",
       "                     Solar Photovoltaic  Solar Thermal  \n",
       "time                                                    \n",
       "2022-09-01 00:00:00               1.000          287.7  \n",
       "2022-09-01 01:00:00               1.000          247.7  \n",
       "2022-09-01 02:00:00               1.200          239.7  \n",
       "2022-09-01 03:00:00               0.200          209.7  \n",
       "2022-09-01 04:00:00               0.400          231.5  \n",
       "...                                 ...            ...  \n",
       "2023-08-31 19:00:00            5212.173         1691.6  \n",
       "2023-08-31 20:00:00             861.975         1039.1  \n",
       "2023-08-31 21:00:00              21.400          668.8  \n",
       "2023-08-31 22:00:00              17.600          607.9  \n",
       "2023-08-31 23:00:00              17.400          619.8  \n",
       "\n",
       "[8759 rows x 11 columns]"
      ]
     },
     "execution_count": 1,
     "metadata": {},
     "output_type": "execute_result"
    }
   ],
   "source": [
    "import pandas as pd\n",
    "\n",
    "path = 'energy_generation_hourly_year.csv'\n",
    "\n",
    "df = pd.read_csv(path,\n",
    "                index_col=0, \n",
    "                parse_dates=True,\n",
    "                )\n",
    "\n",
    "df"
   ]
  },
  {
   "cell_type": "code",
   "execution_count": 2,
   "id": "0585cdb6",
   "metadata": {
    "execution": {
     "iopub.execute_input": "2024-05-29T22:25:12.918505Z",
     "iopub.status.busy": "2024-05-29T22:25:12.918395Z",
     "iopub.status.idle": "2024-05-29T22:25:12.921924Z",
     "shell.execute_reply": "2024-05-29T22:25:12.921697Z"
    },
    "jupyter": {
     "source_hidden": true
    },
    "papermill": {
     "duration": 0.006772,
     "end_time": "2024-05-29T22:25:12.922669",
     "exception": false,
     "start_time": "2024-05-29T22:25:12.915897",
     "status": "completed"
    },
    "tags": []
   },
   "outputs": [
    {
     "data": {
      "text/html": [
       "<div>\n",
       "<style scoped>\n",
       "    .dataframe tbody tr th:only-of-type {\n",
       "        vertical-align: middle;\n",
       "    }\n",
       "\n",
       "    .dataframe tbody tr th {\n",
       "        vertical-align: top;\n",
       "    }\n",
       "\n",
       "    .dataframe thead th {\n",
       "        text-align: right;\n",
       "    }\n",
       "</style>\n",
       "<table border=\"1\" class=\"dataframe\">\n",
       "  <thead>\n",
       "    <tr style=\"text-align: right;\">\n",
       "      <th></th>\n",
       "      <th>Solar Photovoltaic</th>\n",
       "      <th>Eolic</th>\n",
       "    </tr>\n",
       "    <tr>\n",
       "      <th>time</th>\n",
       "      <th></th>\n",
       "      <th></th>\n",
       "    </tr>\n",
       "  </thead>\n",
       "  <tbody>\n",
       "    <tr>\n",
       "      <th>2022-09-01 00:00:00</th>\n",
       "      <td>1.000</td>\n",
       "      <td>4387.050</td>\n",
       "    </tr>\n",
       "    <tr>\n",
       "      <th>2022-09-01 01:00:00</th>\n",
       "      <td>1.000</td>\n",
       "      <td>4008.900</td>\n",
       "    </tr>\n",
       "    <tr>\n",
       "      <th>2022-09-01 02:00:00</th>\n",
       "      <td>1.200</td>\n",
       "      <td>3547.500</td>\n",
       "    </tr>\n",
       "    <tr>\n",
       "      <th>2022-09-01 03:00:00</th>\n",
       "      <td>0.200</td>\n",
       "      <td>3188.650</td>\n",
       "    </tr>\n",
       "    <tr>\n",
       "      <th>2022-09-01 04:00:00</th>\n",
       "      <td>0.400</td>\n",
       "      <td>2594.225</td>\n",
       "    </tr>\n",
       "    <tr>\n",
       "      <th>...</th>\n",
       "      <td>...</td>\n",
       "      <td>...</td>\n",
       "    </tr>\n",
       "    <tr>\n",
       "      <th>2023-08-31 19:00:00</th>\n",
       "      <td>5212.173</td>\n",
       "      <td>2780.800</td>\n",
       "    </tr>\n",
       "    <tr>\n",
       "      <th>2023-08-31 20:00:00</th>\n",
       "      <td>861.975</td>\n",
       "      <td>3072.800</td>\n",
       "    </tr>\n",
       "    <tr>\n",
       "      <th>2023-08-31 21:00:00</th>\n",
       "      <td>21.400</td>\n",
       "      <td>3057.150</td>\n",
       "    </tr>\n",
       "    <tr>\n",
       "      <th>2023-08-31 22:00:00</th>\n",
       "      <td>17.600</td>\n",
       "      <td>3057.950</td>\n",
       "    </tr>\n",
       "    <tr>\n",
       "      <th>2023-08-31 23:00:00</th>\n",
       "      <td>17.400</td>\n",
       "      <td>3028.675</td>\n",
       "    </tr>\n",
       "  </tbody>\n",
       "</table>\n",
       "<p>8759 rows × 2 columns</p>\n",
       "</div>"
      ],
      "text/plain": [
       "                     Solar Photovoltaic     Eolic\n",
       "time                                             \n",
       "2022-09-01 00:00:00               1.000  4387.050\n",
       "2022-09-01 01:00:00               1.000  4008.900\n",
       "2022-09-01 02:00:00               1.200  3547.500\n",
       "2022-09-01 03:00:00               0.200  3188.650\n",
       "2022-09-01 04:00:00               0.400  2594.225\n",
       "...                                 ...       ...\n",
       "2023-08-31 19:00:00            5212.173  2780.800\n",
       "2023-08-31 20:00:00             861.975  3072.800\n",
       "2023-08-31 21:00:00              21.400  3057.150\n",
       "2023-08-31 22:00:00              17.600  3057.950\n",
       "2023-08-31 23:00:00              17.400  3028.675\n",
       "\n",
       "[8759 rows x 2 columns]"
      ]
     },
     "execution_count": 2,
     "metadata": {},
     "output_type": "execute_result"
    }
   ],
   "source": [
    "df_renewable = df[['Solar Photovoltaic', 'Eolic']]\n",
    "df_renewable"
   ]
  },
  {
   "cell_type": "code",
   "execution_count": 3,
   "id": "5d926633",
   "metadata": {
    "execution": {
     "iopub.execute_input": "2024-05-29T22:25:13.504403Z",
     "iopub.status.busy": "2024-05-29T22:25:13.504120Z",
     "iopub.status.idle": "2024-05-29T22:25:13.667035Z",
     "shell.execute_reply": "2024-05-29T22:25:13.666444Z"
    },
    "jupyter": {
     "source_hidden": true
    },
    "papermill": {
     "duration": 0.167841,
     "end_time": "2024-05-29T22:25:13.669083",
     "exception": false,
     "start_time": "2024-05-29T22:25:13.501242",
     "status": "completed"
    },
    "tags": []
   },
   "outputs": [
    {
     "data": {
      "image/png": "[encoded data removed]",
      "text/plain": [
       "<Figure size 640x480 with 1 Axes>"
      ]
     },
     "metadata": {},
     "output_type": "display_data"
    }
   ],
   "source": [
    "df_renewable.plot(); "
   ]
  },
  {
   "cell_type": "markdown",
   "id": "9189999f",
   "metadata": {
    "papermill": {
     "duration": 0.006491,
     "end_time": "2024-05-29T22:25:13.681118",
     "exception": false,
     "start_time": "2024-05-29T22:25:13.674627",
     "status": "completed"
    },
    "tags": []
   },
   "source": [
    "## Resampling the Time\n",
    "- [Date offset `rule` list](https://pandas.pydata.org/docs/user_guide/timeseries.html#dateoffset-objects)\n",
    "- [Pandas plot `kind` list](https://pandas.pydata.org/docs/reference/api/pandas.DataFrame.plot.html)"
   ]
  },
  {
   "cell_type": "markdown",
   "id": "2725a317",
   "metadata": {
    "papermill": {
     "duration": 0.002785,
     "end_time": "2024-05-29T22:25:13.687319",
     "exception": false,
     "start_time": "2024-05-29T22:25:13.684534",
     "status": "completed"
    },
    "tags": []
   },
   "source": [
    "### Daily"
   ]
  },
  {
   "cell_type": "code",
   "execution_count": 4,
   "id": "f0b6275b",
   "metadata": {
    "execution": {
     "iopub.execute_input": "2024-05-29T22:25:13.698325Z",
     "iopub.status.busy": "2024-05-29T22:25:13.697932Z",
     "iopub.status.idle": "2024-05-29T22:25:13.865886Z",
     "shell.execute_reply": "2024-05-29T22:25:13.865035Z"
    },
    "jupyter": {
     "source_hidden": true
    },
    "papermill": {
     "duration": 0.173677,
     "end_time": "2024-05-29T22:25:13.868012",
     "exception": false,
     "start_time": "2024-05-29T22:25:13.694335",
     "status": "completed"
    },
    "tags": []
   },
   "outputs": [
    {
     "data": {
      "text/plain": [
       "<Axes: xlabel='time'>"
      ]
     },
     "execution_count": 4,
     "metadata": {},
     "output_type": "execute_result"
    },
    {
     "data": {
      "image/png": "[encoded data removed]",
      "text/plain": [
       "<Figure size 640x480 with 1 Axes>"
      ]
     },
     "metadata": {},
     "output_type": "display_data"
    }
   ],
   "source": [
    "df_renewable.resample(rule='D').sum().plot.line() "
   ]
  },
  {
   "cell_type": "markdown",
   "id": "8c84fc95",
   "metadata": {
    "papermill": {
     "duration": 0.00438,
     "end_time": "2024-05-29T22:25:13.876252",
     "exception": false,
     "start_time": "2024-05-29T22:25:13.871872",
     "status": "completed"
    },
    "tags": []
   },
   "source": [
    "### Monthly"
   ]
  },
  {
   "cell_type": "code",
   "execution_count": 5,
   "id": "963efba3",
   "metadata": {
    "execution": {
     "iopub.execute_input": "2024-05-29T22:25:13.883042Z",
     "iopub.status.busy": "2024-05-29T22:25:13.882885Z",
     "iopub.status.idle": "2024-05-29T22:25:13.947743Z",
     "shell.execute_reply": "2024-05-29T22:25:13.947499Z"
    },
    "jupyter": {
     "source_hidden": true
    },
    "papermill": {
     "duration": 0.069372,
     "end_time": "2024-05-29T22:25:13.948493",
     "exception": false,
     "start_time": "2024-05-29T22:25:13.879121",
     "status": "completed"
    },
    "tags": []
   },
   "outputs": [
    {
     "name": "stderr",
     "output_type": "stream",
     "text": [
      "C:\\Users\\danie\\AppData\\Local\\Temp\\ipykernel_4008\\2457417073.py:1: FutureWarning: 'M' is deprecated and will be removed in a future version, please use 'ME' instead.\n",
      "  df_renewable.resample(rule='M').sum().plot.line()\n"
     ]
    },
    {
     "data": {
      "text/plain": [
       "<Axes: xlabel='time'>"
      ]
     },
     "execution_count": 5,
     "metadata": {},
     "output_type": "execute_result"
    },
    {
     "data": {
      "image/png": "[encoded data removed]",
      "text/plain": [
       "<Figure size 640x480 with 1 Axes>"
      ]
     },
     "metadata": {},
     "output_type": "display_data"
    }
   ],
   "source": [
    "df_renewable.resample(rule='M').sum().plot.line() "
   ]
  },
  {
   "cell_type": "code",
   "execution_count": 6,
   "id": "dc4a06d9",
   "metadata": {
    "execution": {
     "iopub.execute_input": "2024-05-29T22:25:13.955522Z",
     "iopub.status.busy": "2024-05-29T22:25:13.955402Z",
     "iopub.status.idle": "2024-05-29T22:25:14.018019Z",
     "shell.execute_reply": "2024-05-29T22:25:14.017723Z"
    },
    "jupyter": {
     "source_hidden": true
    },
    "papermill": {
     "duration": 0.067191,
     "end_time": "2024-05-29T22:25:14.018958",
     "exception": false,
     "start_time": "2024-05-29T22:25:13.951767",
     "status": "completed"
    },
    "tags": []
   },
   "outputs": [
    {
     "name": "stderr",
     "output_type": "stream",
     "text": [
      "C:\\Users\\danie\\AppData\\Local\\Temp\\ipykernel_4008\\1938345245.py:1: FutureWarning: 'M' is deprecated and will be removed in a future version, please use 'ME' instead.\n",
      "  df_renewable.resample(rule='M').sum().plot.area()\n"
     ]
    },
    {
     "data": {
      "text/plain": [
       "<Axes: xlabel='time'>"
      ]
     },
     "execution_count": 6,
     "metadata": {},
     "output_type": "execute_result"
    },
    {
     "data": {
      "image/png": "[encoded data removed]",
      "text/plain": [
       "<Figure size 640x480 with 1 Axes>"
      ]
     },
     "metadata": {},
     "output_type": "display_data"
    }
   ],
   "source": [
    "df_renewable.resample(rule='M').sum().plot.area() "
   ]
  },
  {
   "cell_type": "code",
   "execution_count": 7,
   "id": "a7a19428",
   "metadata": {
    "execution": {
     "iopub.execute_input": "2024-05-29T22:25:14.026692Z",
     "iopub.status.busy": "2024-05-29T22:25:14.026385Z",
     "iopub.status.idle": "2024-05-29T22:25:14.099365Z",
     "shell.execute_reply": "2024-05-29T22:25:14.099142Z"
    },
    "jupyter": {
     "source_hidden": true
    },
    "papermill": {
     "duration": 0.077553,
     "end_time": "2024-05-29T22:25:14.100159",
     "exception": false,
     "start_time": "2024-05-29T22:25:14.022606",
     "status": "completed"
    },
    "tags": []
   },
   "outputs": [
    {
     "name": "stderr",
     "output_type": "stream",
     "text": [
      "C:\\Users\\danie\\AppData\\Local\\Temp\\ipykernel_4008\\41412083.py:1: FutureWarning: 'M' is deprecated and will be removed in a future version, please use 'ME' instead.\n",
      "  df_renewable.resample(rule='M').sum().plot.bar();\n"
     ]
    },
    {
     "data": {
      "image/png": "[encoded data removed]",
      "text/plain": [
       "<Figure size 640x480 with 1 Axes>"
      ]
     },
     "metadata": {},
     "output_type": "display_data"
    }
   ],
   "source": [
    "df_renewable.resample(rule='M').sum().plot.bar(); "
   ]
  },
  {
   "cell_type": "markdown",
   "id": "6ba6dff1",
   "metadata": {
    "papermill": {
     "duration": 0.00319,
     "end_time": "2024-05-29T22:25:14.106461",
     "exception": false,
     "start_time": "2024-05-29T22:25:14.103271",
     "status": "completed"
    },
    "tags": []
   },
   "source": [
    "## Visualize Time Series Correlation"
   ]
  },
  {
   "cell_type": "code",
   "execution_count": 8,
   "id": "79f0e84a",
   "metadata": {
    "execution": {
     "iopub.execute_input": "2024-05-29T22:25:14.113087Z",
     "iopub.status.busy": "2024-05-29T22:25:14.112961Z",
     "iopub.status.idle": "2024-05-29T22:25:14.117822Z",
     "shell.execute_reply": "2024-05-29T22:25:14.117543Z"
    },
    "jupyter": {
     "source_hidden": true
    },
    "papermill": {
     "duration": 0.009288,
     "end_time": "2024-05-29T22:25:14.118688",
     "exception": false,
     "start_time": "2024-05-29T22:25:14.109400",
     "status": "completed"
    },
    "tags": []
   },
   "outputs": [
    {
     "data": {
      "text/html": [
       "<div>\n",
       "<style scoped>\n",
       "    .dataframe tbody tr th:only-of-type {\n",
       "        vertical-align: middle;\n",
       "    }\n",
       "\n",
       "    .dataframe tbody tr th {\n",
       "        vertical-align: top;\n",
       "    }\n",
       "\n",
       "    .dataframe thead th {\n",
       "        text-align: right;\n",
       "    }\n",
       "</style>\n",
       "<table border=\"1\" class=\"dataframe\">\n",
       "  <thead>\n",
       "    <tr style=\"text-align: right;\">\n",
       "      <th></th>\n",
       "      <th>Solar Photovoltaic</th>\n",
       "      <th>Eolic</th>\n",
       "    </tr>\n",
       "    <tr>\n",
       "      <th>time</th>\n",
       "      <th></th>\n",
       "      <th></th>\n",
       "    </tr>\n",
       "  </thead>\n",
       "  <tbody>\n",
       "    <tr>\n",
       "      <th>2022-09-01</th>\n",
       "      <td>695863.476</td>\n",
       "      <td>864037.706</td>\n",
       "    </tr>\n",
       "    <tr>\n",
       "      <th>2022-09-08</th>\n",
       "      <td>555033.259</td>\n",
       "      <td>871012.693</td>\n",
       "    </tr>\n",
       "    <tr>\n",
       "      <th>2022-09-15</th>\n",
       "      <td>608068.827</td>\n",
       "      <td>778374.750</td>\n",
       "    </tr>\n",
       "    <tr>\n",
       "      <th>2022-09-22</th>\n",
       "      <td>613341.384</td>\n",
       "      <td>1057348.168</td>\n",
       "    </tr>\n",
       "    <tr>\n",
       "      <th>2022-09-29</th>\n",
       "      <td>611811.472</td>\n",
       "      <td>815926.017</td>\n",
       "    </tr>\n",
       "    <tr>\n",
       "      <th>2022-10-06</th>\n",
       "      <td>509740.354</td>\n",
       "      <td>645895.633</td>\n",
       "    </tr>\n",
       "    <tr>\n",
       "      <th>2022-10-13</th>\n",
       "      <td>512404.453</td>\n",
       "      <td>1167372.855</td>\n",
       "    </tr>\n",
       "    <tr>\n",
       "      <th>2022-10-20</th>\n",
       "      <td>316921.100</td>\n",
       "      <td>1745376.081</td>\n",
       "    </tr>\n",
       "    <tr>\n",
       "      <th>2022-10-27</th>\n",
       "      <td>402224.625</td>\n",
       "      <td>1254445.187</td>\n",
       "    </tr>\n",
       "    <tr>\n",
       "      <th>2022-11-03</th>\n",
       "      <td>415140.085</td>\n",
       "      <td>1270797.307</td>\n",
       "    </tr>\n",
       "    <tr>\n",
       "      <th>2022-11-10</th>\n",
       "      <td>338373.924</td>\n",
       "      <td>1564617.825</td>\n",
       "    </tr>\n",
       "    <tr>\n",
       "      <th>2022-11-17</th>\n",
       "      <td>264809.239</td>\n",
       "      <td>2449319.174</td>\n",
       "    </tr>\n",
       "    <tr>\n",
       "      <th>2022-11-24</th>\n",
       "      <td>385240.742</td>\n",
       "      <td>1233707.088</td>\n",
       "    </tr>\n",
       "    <tr>\n",
       "      <th>2022-12-01</th>\n",
       "      <td>276701.375</td>\n",
       "      <td>584594.980</td>\n",
       "    </tr>\n",
       "    <tr>\n",
       "      <th>2022-12-08</th>\n",
       "      <td>159828.131</td>\n",
       "      <td>1694506.250</td>\n",
       "    </tr>\n",
       "    <tr>\n",
       "      <th>2022-12-15</th>\n",
       "      <td>263867.125</td>\n",
       "      <td>1437610.551</td>\n",
       "    </tr>\n",
       "    <tr>\n",
       "      <th>2022-12-22</th>\n",
       "      <td>349902.850</td>\n",
       "      <td>1211112.633</td>\n",
       "    </tr>\n",
       "    <tr>\n",
       "      <th>2022-12-29</th>\n",
       "      <td>320753.344</td>\n",
       "      <td>1138819.166</td>\n",
       "    </tr>\n",
       "    <tr>\n",
       "      <th>2023-01-05</th>\n",
       "      <td>317114.450</td>\n",
       "      <td>1520485.440</td>\n",
       "    </tr>\n",
       "    <tr>\n",
       "      <th>2023-01-12</th>\n",
       "      <td>344942.764</td>\n",
       "      <td>1975520.371</td>\n",
       "    </tr>\n",
       "    <tr>\n",
       "      <th>2023-01-19</th>\n",
       "      <td>445207.023</td>\n",
       "      <td>1981880.187</td>\n",
       "    </tr>\n",
       "    <tr>\n",
       "      <th>2023-01-26</th>\n",
       "      <td>523462.844</td>\n",
       "      <td>1755601.281</td>\n",
       "    </tr>\n",
       "    <tr>\n",
       "      <th>2023-02-02</th>\n",
       "      <td>533611.220</td>\n",
       "      <td>1274421.588</td>\n",
       "    </tr>\n",
       "    <tr>\n",
       "      <th>2023-02-09</th>\n",
       "      <td>509696.575</td>\n",
       "      <td>1076615.664</td>\n",
       "    </tr>\n",
       "    <tr>\n",
       "      <th>2023-02-16</th>\n",
       "      <td>543974.525</td>\n",
       "      <td>719159.350</td>\n",
       "    </tr>\n",
       "    <tr>\n",
       "      <th>2023-02-23</th>\n",
       "      <td>616904.186</td>\n",
       "      <td>1617881.799</td>\n",
       "    </tr>\n",
       "    <tr>\n",
       "      <th>2023-03-02</th>\n",
       "      <td>549889.779</td>\n",
       "      <td>1465548.791</td>\n",
       "    </tr>\n",
       "    <tr>\n",
       "      <th>2023-03-09</th>\n",
       "      <td>645638.331</td>\n",
       "      <td>1949745.807</td>\n",
       "    </tr>\n",
       "    <tr>\n",
       "      <th>2023-03-16</th>\n",
       "      <td>732019.803</td>\n",
       "      <td>1042578.481</td>\n",
       "    </tr>\n",
       "    <tr>\n",
       "      <th>2023-03-23</th>\n",
       "      <td>758342.915</td>\n",
       "      <td>1338817.198</td>\n",
       "    </tr>\n",
       "    <tr>\n",
       "      <th>2023-03-30</th>\n",
       "      <td>768282.292</td>\n",
       "      <td>1681614.157</td>\n",
       "    </tr>\n",
       "    <tr>\n",
       "      <th>2023-04-06</th>\n",
       "      <td>853877.175</td>\n",
       "      <td>871504.524</td>\n",
       "    </tr>\n",
       "    <tr>\n",
       "      <th>2023-04-13</th>\n",
       "      <td>859382.794</td>\n",
       "      <td>1504434.778</td>\n",
       "    </tr>\n",
       "    <tr>\n",
       "      <th>2023-04-20</th>\n",
       "      <td>894569.659</td>\n",
       "      <td>871425.518</td>\n",
       "    </tr>\n",
       "    <tr>\n",
       "      <th>2023-04-27</th>\n",
       "      <td>837950.462</td>\n",
       "      <td>974474.245</td>\n",
       "    </tr>\n",
       "    <tr>\n",
       "      <th>2023-05-04</th>\n",
       "      <td>981307.539</td>\n",
       "      <td>1024088.348</td>\n",
       "    </tr>\n",
       "    <tr>\n",
       "      <th>2023-05-11</th>\n",
       "      <td>939416.769</td>\n",
       "      <td>1705621.992</td>\n",
       "    </tr>\n",
       "    <tr>\n",
       "      <th>2023-05-18</th>\n",
       "      <td>751625.093</td>\n",
       "      <td>1462285.188</td>\n",
       "    </tr>\n",
       "    <tr>\n",
       "      <th>2023-05-25</th>\n",
       "      <td>749192.723</td>\n",
       "      <td>736695.807</td>\n",
       "    </tr>\n",
       "    <tr>\n",
       "      <th>2023-06-01</th>\n",
       "      <td>782792.846</td>\n",
       "      <td>435403.341</td>\n",
       "    </tr>\n",
       "    <tr>\n",
       "      <th>2023-06-08</th>\n",
       "      <td>862283.924</td>\n",
       "      <td>727809.852</td>\n",
       "    </tr>\n",
       "    <tr>\n",
       "      <th>2023-06-15</th>\n",
       "      <td>906376.428</td>\n",
       "      <td>630582.970</td>\n",
       "    </tr>\n",
       "    <tr>\n",
       "      <th>2023-06-22</th>\n",
       "      <td>1006500.171</td>\n",
       "      <td>897370.984</td>\n",
       "    </tr>\n",
       "    <tr>\n",
       "      <th>2023-06-29</th>\n",
       "      <td>1008587.972</td>\n",
       "      <td>950167.003</td>\n",
       "    </tr>\n",
       "    <tr>\n",
       "      <th>2023-07-06</th>\n",
       "      <td>989741.068</td>\n",
       "      <td>776764.638</td>\n",
       "    </tr>\n",
       "    <tr>\n",
       "      <th>2023-07-13</th>\n",
       "      <td>1014225.113</td>\n",
       "      <td>971454.595</td>\n",
       "    </tr>\n",
       "    <tr>\n",
       "      <th>2023-07-20</th>\n",
       "      <td>1020947.706</td>\n",
       "      <td>956924.652</td>\n",
       "    </tr>\n",
       "    <tr>\n",
       "      <th>2023-07-27</th>\n",
       "      <td>1072551.850</td>\n",
       "      <td>832933.871</td>\n",
       "    </tr>\n",
       "    <tr>\n",
       "      <th>2023-08-03</th>\n",
       "      <td>992046.304</td>\n",
       "      <td>1209851.487</td>\n",
       "    </tr>\n",
       "    <tr>\n",
       "      <th>2023-08-10</th>\n",
       "      <td>1037438.439</td>\n",
       "      <td>752514.313</td>\n",
       "    </tr>\n",
       "    <tr>\n",
       "      <th>2023-08-17</th>\n",
       "      <td>1017469.609</td>\n",
       "      <td>663859.931</td>\n",
       "    </tr>\n",
       "    <tr>\n",
       "      <th>2023-08-24</th>\n",
       "      <td>900329.814</td>\n",
       "      <td>1164917.767</td>\n",
       "    </tr>\n",
       "    <tr>\n",
       "      <th>2023-08-31</th>\n",
       "      <td>138880.021</td>\n",
       "      <td>69646.772</td>\n",
       "    </tr>\n",
       "  </tbody>\n",
       "</table>\n",
       "</div>"
      ],
      "text/plain": [
       "            Solar Photovoltaic        Eolic\n",
       "time                                       \n",
       "2022-09-01          695863.476   864037.706\n",
       "2022-09-08          555033.259   871012.693\n",
       "2022-09-15          608068.827   778374.750\n",
       "2022-09-22          613341.384  1057348.168\n",
       "2022-09-29          611811.472   815926.017\n",
       "2022-10-06          509740.354   645895.633\n",
       "2022-10-13          512404.453  1167372.855\n",
       "2022-10-20          316921.100  1745376.081\n",
       "2022-10-27          402224.625  1254445.187\n",
       "2022-11-03          415140.085  1270797.307\n",
       "2022-11-10          338373.924  1564617.825\n",
       "2022-11-17          264809.239  2449319.174\n",
       "2022-11-24          385240.742  1233707.088\n",
       "2022-12-01          276701.375   584594.980\n",
       "2022-12-08          159828.131  1694506.250\n",
       "2022-12-15          263867.125  1437610.551\n",
       "2022-12-22          349902.850  1211112.633\n",
       "2022-12-29          320753.344  1138819.166\n",
       "2023-01-05          317114.450  1520485.440\n",
       "2023-01-12          344942.764  1975520.371\n",
       "2023-01-19          445207.023  1981880.187\n",
       "2023-01-26          523462.844  1755601.281\n",
       "2023-02-02          533611.220  1274421.588\n",
       "2023-02-09          509696.575  1076615.664\n",
       "2023-02-16          543974.525   719159.350\n",
       "2023-02-23          616904.186  1617881.799\n",
       "2023-03-02          549889.779  1465548.791\n",
       "2023-03-09          645638.331  1949745.807\n",
       "2023-03-16          732019.803  1042578.481\n",
       "2023-03-23          758342.915  1338817.198\n",
       "2023-03-30          768282.292  1681614.157\n",
       "2023-04-06          853877.175   871504.524\n",
       "2023-04-13          859382.794  1504434.778\n",
       "2023-04-20          894569.659   871425.518\n",
       "2023-04-27          837950.462   974474.245\n",
       "2023-05-04          981307.539  1024088.348\n",
       "2023-05-11          939416.769  1705621.992\n",
       "2023-05-18          751625.093  1462285.188\n",
       "2023-05-25          749192.723   736695.807\n",
       "2023-06-01          782792.846   435403.341\n",
       "2023-06-08          862283.924   727809.852\n",
       "2023-06-15          906376.428   630582.970\n",
       "2023-06-22         1006500.171   897370.984\n",
       "2023-06-29         1008587.972   950167.003\n",
       "2023-07-06          989741.068   776764.638\n",
       "2023-07-13         1014225.113   971454.595\n",
       "2023-07-20         1020947.706   956924.652\n",
       "2023-07-27         1072551.850   832933.871\n",
       "2023-08-03          992046.304  1209851.487\n",
       "2023-08-10         1037438.439   752514.313\n",
       "2023-08-17         1017469.609   663859.931\n",
       "2023-08-24          900329.814  1164917.767\n",
       "2023-08-31          138880.021    69646.772"
      ]
     },
     "execution_count": 8,
     "metadata": {},
     "output_type": "execute_result"
    }
   ],
   "source": [
    "df_renewable_weekly = df_renewable.resample('7D').sum()\n",
    "df_renewable_weekly"
   ]
  },
  {
   "cell_type": "code",
   "execution_count": 9,
   "id": "21d660b4",
   "metadata": {
    "execution": {
     "iopub.execute_input": "2024-05-29T22:25:14.125768Z",
     "iopub.status.busy": "2024-05-29T22:25:14.125653Z",
     "iopub.status.idle": "2024-05-29T22:25:14.171198Z",
     "shell.execute_reply": "2024-05-29T22:25:14.170948Z"
    },
    "jupyter": {
     "source_hidden": true
    },
    "papermill": {
     "duration": 0.05019,
     "end_time": "2024-05-29T22:25:14.172052",
     "exception": false,
     "start_time": "2024-05-29T22:25:14.121862",
     "status": "completed"
    },
    "tags": []
   },
   "outputs": [
    {
     "data": {
      "image/png": "[encoded data removed]",
      "text/plain": [
       "<Figure size 640x480 with 1 Axes>"
      ]
     },
     "metadata": {},
     "output_type": "display_data"
    }
   ],
   "source": [
    "df_renewable_weekly.plot.scatter(x='Solar Photovoltaic', y='Eolic');"
   ]
  },
  {
   "cell_type": "markdown",
   "id": "408c4b83",
   "metadata": {
    "papermill": {
     "duration": 0.003903,
     "end_time": "2024-05-29T22:25:14.179789",
     "exception": false,
     "start_time": "2024-05-29T22:25:14.175886",
     "status": "completed"
    },
    "tags": []
   },
   "source": [
    "## Data Visualization with Plotly\n",
    "\n",
    "- [Plotly Express Overview](https://plotly.com/python/plotly-express/#overview)"
   ]
  },
  {
   "cell_type": "code",
   "execution_count": 10,
   "id": "cbbcf12b",
   "metadata": {
    "execution": {
     "iopub.execute_input": "2024-05-29T22:25:14.187287Z",
     "iopub.status.busy": "2024-05-29T22:25:14.187136Z",
     "iopub.status.idle": "2024-05-29T22:25:14.697592Z",
     "shell.execute_reply": "2024-05-29T22:25:14.697271Z"
    },
    "jupyter": {
     "source_hidden": true
    },
    "papermill": {
     "duration": 0.515066,
     "end_time": "2024-05-29T22:25:14.698380",
     "exception": false,
     "start_time": "2024-05-29T22:25:14.183314",
     "status": "completed"
    },
    "tags": []
   },
   "outputs": [
    {
     "data": {
      "application/vnd.plotly.v1+json": {
       "config": {
        "plotlyServerURL": "https://plot.ly"
       },
       "data": [
        {
         "hovertemplate": "Solar Photovoltaic=%{x}<br>Eolic=%{y}<extra></extra>",
         "legendgroup": "",
         "marker": {
          "color": "#636efa",
          "symbol": "circle"
         },
         "mode": "markers",
         "name": "",
         "orientation": "v",
         "showlegend": false,
         "type": "scatter",
         "x": [
          695863.476,
          555033.259,
          608068.827,
          613341.384,
          611811.472,
          509740.354,
          512404.453,
          316921.1,
          402224.625,
          415140.085,
          338373.924,
          264809.239,
          385240.74199999997,
          276701.375,
          159828.131,
          263867.125,
          349902.85,
          320753.344,
          317114.45,
          344942.764,
          445207.023,
          523462.844,
          533611.22,
          509696.575,
          543974.525,
          616904.186,
          549889.779,
          645638.331,
          732019.803,
          758342.915,
          768282.292,
          853877.175,
          859382.794,
          894569.659,
          837950.462,
          981307.539,
          939416.769,
          751625.093,
          749192.723,
          782792.846,
          862283.924,
          906376.428,
          1006500.171,
          1008587.972,
          989741.068,
          1014225.113,
          1020947.706,
          1072551.85,
          992046.304,
          1037438.439,
          1017469.609,
          900329.814,
          138880.021
         ],
         "xaxis": "x",
         "y": [
          864037.706,
          871012.693,
          778374.75,
          1057348.168,
          815926.017,
          645895.633,
          1167372.855,
          1745376.081,
          1254445.187,
          1270797.307,
          1564617.825,
          2449319.174,
          1233707.088,
          584594.98,
          1694506.25,
          1437610.551,
          1211112.633,
          1138819.166,
          1520485.44,
          1975520.371,
          1981880.187,
          1755601.281,
          1274421.588,
          1076615.664,
          719159.35,
          1617881.7989999999,
          1465548.791,
          1949745.807,
          1042578.481,
          1338817.198,
          1681614.157,
          871504.524,
          1504434.778,
          871425.518,
          974474.245,
          1024088.348,
          1705621.992,
          1462285.188,
          736695.807,
          435403.341,
          727809.852,
          630582.97,
          897370.9839999999,
          950167.003,
          776764.638,
          971454.595,
          956924.652,
          832933.871,
          1209851.487,
          752514.313,
          663859.931,
          1164917.767,
          69646.772
         ],
         "yaxis": "y"
        }
       ],
       "layout": {
        "legend": {
         "tracegroupgap": 0
        },
        "margin": {
         "t": 60
        },
        "template": {
         "data": {
          "bar": [
           {
            "error_x": {
             "color": "#2a3f5f"
            },
            "error_y": {
             "color": "#2a3f5f"
            },
            "marker": {
             "line": {
              "color": "#E5ECF6",
              "width": 0.5
             },
             "pattern": {
              "fillmode": "overlay",
              "size": 10,
              "solidity": 0.2
             }
            },
            "type": "bar"
           }
          ],
          "barpolar": [
           {
            "marker": {
             "line": {
              "color": "#E5ECF6",
              "width": 0.5
             },
             "pattern": {
              "fillmode": "overlay",
              "size": 10,
              "solidity": 0.2
             }
            },
            "type": "barpolar"
           }
          ],
          "carpet": [
           {
            "aaxis": {
             "endlinecolor": "#2a3f5f",
             "gridcolor": "white",
             "linecolor": "white",
             "minorgridcolor": "white",
             "startlinecolor": "#2a3f5f"
            },
            "baxis": {
             "endlinecolor": "#2a3f5f",
             "gridcolor": "white",
             "linecolor": "white",
             "minorgridcolor": "white",
             "startlinecolor": "#2a3f5f"
            },
            "type": "carpet"
           }
          ],
          "choropleth": [
           {
            "colorbar": {
             "outlinewidth": 0,
             "ticks": ""
            },
            "type": "choropleth"
           }
          ],
          "contour": [
           {
            "colorbar": {
             "outlinewidth": 0,
             "ticks": ""
            },
            "colorscale": [
             [
              0,
              "#0d0887"
             ],
             [
              0.1111111111111111,
              "#46039f"
             ],
             [
              0.2222222222222222,
              "#7201a8"
             ],
             [
              0.3333333333333333,
              "#9c179e"
             ],
             [
              0.4444444444444444,
              "#bd3786"
             ],
             [
              0.5555555555555556,
              "#d8576b"
             ],
             [
              0.6666666666666666,
              "#ed7953"
             ],
             [
              0.7777777777777778,
              "#fb9f3a"
             ],
             [
              0.8888888888888888,
              "#fdca26"
             ],
             [
              1,
              "#f0f921"
             ]
            ],
            "type": "contour"
           }
          ],
          "contourcarpet": [
           {
            "colorbar": {
             "outlinewidth": 0,
             "ticks": ""
            },
            "type": "contourcarpet"
           }
          ],
          "heatmap": [
           {
            "colorbar": {
             "outlinewidth": 0,
             "ticks": ""
            },
            "colorscale": [
             [
              0,
              "#0d0887"
             ],
             [
              0.1111111111111111,
              "#46039f"
             ],
             [
              0.2222222222222222,
              "#7201a8"
             ],
             [
              0.3333333333333333,
              "#9c179e"
             ],
             [
              0.4444444444444444,
              "#bd3786"
             ],
             [
              0.5555555555555556,
              "#d8576b"
             ],
             [
              0.6666666666666666,
              "#ed7953"
             ],
             [
              0.7777777777777778,
              "#fb9f3a"
             ],
             [
              0.8888888888888888,
              "#fdca26"
             ],
             [
              1,
              "#f0f921"
             ]
            ],
            "type": "heatmap"
           }
          ],
          "heatmapgl": [
           {
            "colorbar": {
             "outlinewidth": 0,
             "ticks": ""
            },
            "colorscale": [
             [
              0,
              "#0d0887"
             ],
             [
              0.1111111111111111,
              "#46039f"
             ],
             [
              0.2222222222222222,
              "#7201a8"
             ],
             [
              0.3333333333333333,
              "#9c179e"
             ],
             [
              0.4444444444444444,
              "#bd3786"
             ],
             [
              0.5555555555555556,
              "#d8576b"
             ],
             [
              0.6666666666666666,
              "#ed7953"
             ],
             [
              0.7777777777777778,
              "#fb9f3a"
             ],
             [
              0.8888888888888888,
              "#fdca26"
             ],
             [
              1,
              "#f0f921"
             ]
            ],
            "type": "heatmapgl"
           }
          ],
          "histogram": [
           {
            "marker": {
             "pattern": {
              "fillmode": "overlay",
              "size": 10,
              "solidity": 0.2
             }
            },
            "type": "histogram"
           }
          ],
          "histogram2d": [
           {
            "colorbar": {
             "outlinewidth": 0,
             "ticks": ""
            },
            "colorscale": [
             [
              0,
              "#0d0887"
             ],
             [
              0.1111111111111111,
              "#46039f"
             ],
             [
              0.2222222222222222,
              "#7201a8"
             ],
             [
              0.3333333333333333,
              "#9c179e"
             ],
             [
              0.4444444444444444,
              "#bd3786"
             ],
             [
              0.5555555555555556,
              "#d8576b"
             ],
             [
              0.6666666666666666,
              "#ed7953"
             ],
             [
              0.7777777777777778,
              "#fb9f3a"
             ],
             [
              0.8888888888888888,
              "#fdca26"
             ],
             [
              1,
              "#f0f921"
             ]
            ],
            "type": "histogram2d"
           }
          ],
          "histogram2dcontour": [
           {
            "colorbar": {
             "outlinewidth": 0,
             "ticks": ""
            },
            "colorscale": [
             [
              0,
              "#0d0887"
             ],
             [
              0.1111111111111111,
              "#46039f"
             ],
             [
              0.2222222222222222,
              "#7201a8"
             ],
             [
              0.3333333333333333,
              "#9c179e"
             ],
             [
              0.4444444444444444,
              "#bd3786"
             ],
             [
              0.5555555555555556,
              "#d8576b"
             ],
             [
              0.6666666666666666,
              "#ed7953"
             ],
             [
              0.7777777777777778,
              "#fb9f3a"
             ],
             [
              0.8888888888888888,
              "#fdca26"
             ],
             [
              1,
              "#f0f921"
             ]
            ],
            "type": "histogram2dcontour"
           }
          ],
          "mesh3d": [
           {
            "colorbar": {
             "outlinewidth": 0,
             "ticks": ""
            },
            "type": "mesh3d"
           }
          ],
          "parcoords": [
           {
            "line": {
             "colorbar": {
              "outlinewidth": 0,
              "ticks": ""
             }
            },
            "type": "parcoords"
           }
          ],
          "pie": [
           {
            "automargin": true,
            "type": "pie"
           }
          ],
          "scatter": [
           {
            "fillpattern": {
             "fillmode": "overlay",
             "size": 10,
             "solidity": 0.2
            },
            "type": "scatter"
           }
          ],
          "scatter3d": [
           {
            "line": {
             "colorbar": {
              "outlinewidth": 0,
              "ticks": ""
             }
            },
            "marker": {
             "colorbar": {
              "outlinewidth": 0,
              "ticks": ""
             }
            },
            "type": "scatter3d"
           }
          ],
          "scattercarpet": [
           {
            "marker": {
             "colorbar": {
              "outlinewidth": 0,
              "ticks": ""
             }
            },
            "type": "scattercarpet"
           }
          ],
          "scattergeo": [
           {
            "marker": {
             "colorbar": {
              "outlinewidth": 0,
              "ticks": ""
             }
            },
            "type": "scattergeo"
           }
          ],
          "scattergl": [
           {
            "marker": {
             "colorbar": {
              "outlinewidth": 0,
              "ticks": ""
             }
            },
            "type": "scattergl"
           }
          ],
          "scattermapbox": [
           {
            "marker": {
             "colorbar": {
              "outlinewidth": 0,
              "ticks": ""
             }
            },
            "type": "scattermapbox"
           }
          ],
          "scatterpolar": [
           {
            "marker": {
             "colorbar": {
              "outlinewidth": 0,
              "ticks": ""
             }
            },
            "type": "scatterpolar"
           }
          ],
          "scatterpolargl": [
           {
            "marker": {
             "colorbar": {
              "outlinewidth": 0,
              "ticks": ""
             }
            },
            "type": "scatterpolargl"
           }
          ],
          "scatterternary": [
           {
            "marker": {
             "colorbar": {
              "outlinewidth": 0,
              "ticks": ""
             }
            },
            "type": "scatterternary"
           }
          ],
          "surface": [
           {
            "colorbar": {
             "outlinewidth": 0,
             "ticks": ""
            },
            "colorscale": [
             [
              0,
              "#0d0887"
             ],
             [
              0.1111111111111111,
              "#46039f"
             ],
             [
              0.2222222222222222,
              "#7201a8"
             ],
             [
              0.3333333333333333,
              "#9c179e"
             ],
             [
              0.4444444444444444,
              "#bd3786"
             ],
             [
              0.5555555555555556,
              "#d8576b"
             ],
             [
              0.6666666666666666,
              "#ed7953"
             ],
             [
              0.7777777777777778,
              "#fb9f3a"
             ],
             [
              0.8888888888888888,
              "#fdca26"
             ],
             [
              1,
              "#f0f921"
             ]
            ],
            "type": "surface"
           }
          ],
          "table": [
           {
            "cells": {
             "fill": {
              "color": "#EBF0F8"
             },
             "line": {
              "color": "white"
             }
            },
            "header": {
             "fill": {
              "color": "#C8D4E3"
             },
             "line": {
              "color": "white"
             }
            },
            "type": "table"
           }
          ]
         },
         "layout": {
          "annotationdefaults": {
           "arrowcolor": "#2a3f5f",
           "arrowhead": 0,
           "arrowwidth": 1
          },
          "autotypenumbers": "strict",
          "coloraxis": {
           "colorbar": {
            "outlinewidth": 0,
            "ticks": ""
           }
          },
          "colorscale": {
           "diverging": [
            [
             0,
             "#8e0152"
            ],
            [
             0.1,
             "#c51b7d"
            ],
            [
             0.2,
             "#de77ae"
            ],
            [
             0.3,
             "#f1b6da"
            ],
            [
             0.4,
             "#fde0ef"
            ],
            [
             0.5,
             "#f7f7f7"
            ],
            [
             0.6,
             "#e6f5d0"
            ],
            [
             0.7,
             "#b8e186"
            ],
            [
             0.8,
             "#7fbc41"
            ],
            [
             0.9,
             "#4d9221"
            ],
            [
             1,
             "#276419"
            ]
           ],
           "sequential": [
            [
             0,
             "#0d0887"
            ],
            [
             0.1111111111111111,
             "#46039f"
            ],
            [
             0.2222222222222222,
             "#7201a8"
            ],
            [
             0.3333333333333333,
             "#9c179e"
            ],
            [
             0.4444444444444444,
             "#bd3786"
            ],
            [
             0.5555555555555556,
             "#d8576b"
            ],
            [
             0.6666666666666666,
             "#ed7953"
            ],
            [
             0.7777777777777778,
             "#fb9f3a"
            ],
            [
             0.8888888888888888,
             "#fdca26"
            ],
            [
             1,
             "#f0f921"
            ]
           ],
           "sequentialminus": [
            [
             0,
             "#0d0887"
            ],
            [
             0.1111111111111111,
             "#46039f"
            ],
            [
             0.2222222222222222,
             "#7201a8"
            ],
            [
             0.3333333333333333,
             "#9c179e"
            ],
            [
             0.4444444444444444,
             "#bd3786"
            ],
            [
             0.5555555555555556,
             "#d8576b"
            ],
            [
             0.6666666666666666,
             "#ed7953"
            ],
            [
             0.7777777777777778,
             "#fb9f3a"
            ],
            [
             0.8888888888888888,
             "#fdca26"
            ],
            [
             1,
             "#f0f921"
            ]
           ]
          },
          "colorway": [
           "#636efa",
           "#EF553B",
           "#00cc96",
           "#ab63fa",
           "#FFA15A",
           "#19d3f3",
           "#FF6692",
           "#B6E880",
           "#FF97FF",
           "#FECB52"
          ],
          "font": {
           "color": "#2a3f5f"
          },
          "geo": {
           "bgcolor": "white",
           "lakecolor": "white",
           "landcolor": "#E5ECF6",
           "showlakes": true,
           "showland": true,
           "subunitcolor": "white"
          },
          "hoverlabel": {
           "align": "left"
          },
          "hovermode": "closest",
          "mapbox": {
           "style": "light"
          },
          "paper_bgcolor": "white",
          "plot_bgcolor": "#E5ECF6",
          "polar": {
           "angularaxis": {
            "gridcolor": "white",
            "linecolor": "white",
            "ticks": ""
           },
           "bgcolor": "#E5ECF6",
           "radialaxis": {
            "gridcolor": "white",
            "linecolor": "white",
            "ticks": ""
           }
          },
          "scene": {
           "xaxis": {
            "backgroundcolor": "#E5ECF6",
            "gridcolor": "white",
            "gridwidth": 2,
            "linecolor": "white",
            "showbackground": true,
            "ticks": "",
            "zerolinecolor": "white"
           },
           "yaxis": {
            "backgroundcolor": "#E5ECF6",
            "gridcolor": "white",
            "gridwidth": 2,
            "linecolor": "white",
            "showbackground": true,
            "ticks": "",
            "zerolinecolor": "white"
           },
           "zaxis": {
            "backgroundcolor": "#E5ECF6",
            "gridcolor": "white",
            "gridwidth": 2,
            "linecolor": "white",
            "showbackground": true,
            "ticks": "",
            "zerolinecolor": "white"
           }
          },
          "shapedefaults": {
           "line": {
            "color": "#2a3f5f"
           }
          },
          "ternary": {
           "aaxis": {
            "gridcolor": "white",
            "linecolor": "white",
            "ticks": ""
           },
           "baxis": {
            "gridcolor": "white",
            "linecolor": "white",
            "ticks": ""
           },
           "bgcolor": "#E5ECF6",
           "caxis": {
            "gridcolor": "white",
            "linecolor": "white",
            "ticks": ""
           }
          },
          "title": {
           "x": 0.05
          },
          "xaxis": {
           "automargin": true,
           "gridcolor": "white",
           "linecolor": "white",
           "ticks": "",
           "title": {
            "standoff": 15
           },
           "zerolinecolor": "white",
           "zerolinewidth": 2
          },
          "yaxis": {
           "automargin": true,
           "gridcolor": "white",
           "linecolor": "white",
           "ticks": "",
           "title": {
            "standoff": 15
           },
           "zerolinecolor": "white",
           "zerolinewidth": 2
          }
         }
        },
        "xaxis": {
         "anchor": "y",
         "domain": [
          0,
          1
         ],
         "title": {
          "text": "Solar Photovoltaic"
         }
        },
        "yaxis": {
         "anchor": "x",
         "domain": [
          0,
          1
         ],
         "title": {
          "text": "Eolic"
         }
        }
       }
      }
     },
     "metadata": {},
     "output_type": "display_data"
    }
   ],
   "source": [
    "import plotly.express as px\n",
    "\n",
    "px.scatter(data_frame=df_renewable_weekly, x='Solar Photovoltaic', y='Eolic')"
   ]
  },
  {
   "cell_type": "code",
   "execution_count": 11,
   "id": "9bad4ee5",
   "metadata": {
    "execution": {
     "iopub.execute_input": "2024-05-29T22:25:14.706051Z",
     "iopub.status.busy": "2024-05-29T22:25:14.705932Z",
     "iopub.status.idle": "2024-05-29T22:25:15.105476Z",
     "shell.execute_reply": "2024-05-29T22:25:15.105206Z"
    },
    "jupyter": {
     "source_hidden": true
    },
    "papermill": {
     "duration": 0.404197,
     "end_time": "2024-05-29T22:25:15.106280",
     "exception": false,
     "start_time": "2024-05-29T22:25:14.702083",
     "status": "completed"
    },
    "tags": []
   },
   "outputs": [
    {
     "data": {
      "application/vnd.plotly.v1+json": {
       "config": {
        "plotlyServerURL": "https://plot.ly"
       },
       "data": [
        {
         "hovertemplate": "Solar Photovoltaic=%{x}<br>Eolic=%{y}<extra></extra>",
         "legendgroup": "",
         "marker": {
          "color": "#636efa",
          "symbol": "circle"
         },
         "mode": "markers",
         "name": "",
         "orientation": "v",
         "showlegend": false,
         "type": "scatter",
         "x": [
          695863.476,
          555033.259,
          608068.827,
          613341.384,
          611811.472,
          509740.354,
          512404.453,
          316921.1,
          402224.625,
          415140.085,
          338373.924,
          264809.239,
          385240.74199999997,
          276701.375,
          159828.131,
          263867.125,
          349902.85,
          320753.344,
          317114.45,
          344942.764,
          445207.023,
          523462.844,
          533611.22,
          509696.575,
          543974.525,
          616904.186,
          549889.779,
          645638.331,
          732019.803,
          758342.915,
          768282.292,
          853877.175,
          859382.794,
          894569.659,
          837950.462,
          981307.539,
          939416.769,
          751625.093,
          749192.723,
          782792.846,
          862283.924,
          906376.428,
          1006500.171,
          1008587.972,
          989741.068,
          1014225.113,
          1020947.706,
          1072551.85,
          992046.304,
          1037438.439,
          1017469.609,
          900329.814,
          138880.021
         ],
         "xaxis": "x",
         "y": [
          864037.706,
          871012.693,
          778374.75,
          1057348.168,
          815926.017,
          645895.633,
          1167372.855,
          1745376.081,
          1254445.187,
          1270797.307,
          1564617.825,
          2449319.174,
          1233707.088,
          584594.98,
          1694506.25,
          1437610.551,
          1211112.633,
          1138819.166,
          1520485.44,
          1975520.371,
          1981880.187,
          1755601.281,
          1274421.588,
          1076615.664,
          719159.35,
          1617881.7989999999,
          1465548.791,
          1949745.807,
          1042578.481,
          1338817.198,
          1681614.157,
          871504.524,
          1504434.778,
          871425.518,
          974474.245,
          1024088.348,
          1705621.992,
          1462285.188,
          736695.807,
          435403.341,
          727809.852,
          630582.97,
          897370.9839999999,
          950167.003,
          776764.638,
          971454.595,
          956924.652,
          832933.871,
          1209851.487,
          752514.313,
          663859.931,
          1164917.767,
          69646.772
         ],
         "yaxis": "y"
        },
        {
         "hovertemplate": "<b>OLS trendline</b><br>Eolic = -0.570831 * Solar Photovoltaic + 1.52968e+06<br>R<sup>2</sup>=0.112598<br><br>Solar Photovoltaic=%{x}<br>Eolic=%{y} <b>(trend)</b><extra></extra>",
         "legendgroup": "",
         "marker": {
          "color": "#636efa",
          "symbol": "circle"
         },
         "mode": "lines",
         "name": "",
         "showlegend": false,
         "type": "scatter",
         "x": [
          138880.021,
          159828.131,
          263867.125,
          264809.239,
          276701.375,
          316921.1,
          317114.45,
          320753.344,
          338373.924,
          344942.764,
          349902.85,
          385240.74199999997,
          402224.625,
          415140.085,
          445207.023,
          509696.575,
          509740.354,
          512404.453,
          523462.844,
          533611.22,
          543974.525,
          549889.779,
          555033.259,
          608068.827,
          611811.472,
          613341.384,
          616904.186,
          645638.331,
          695863.476,
          732019.803,
          749192.723,
          751625.093,
          758342.915,
          768282.292,
          782792.846,
          837950.462,
          853877.175,
          859382.794,
          862283.924,
          894569.659,
          900329.814,
          906376.428,
          939416.769,
          981307.539,
          989741.068,
          992046.304,
          1006500.171,
          1008587.972,
          1014225.113,
          1017469.609,
          1020947.706,
          1037438.439,
          1072551.85
         ],
         "xaxis": "x",
         "y": [
          1450400.5391954826,
          1438442.713578835,
          1379054.0552424279,
          1378516.2675888876,
          1371727.8705212064,
          1348769.2142080818,
          1348658.8440800377,
          1346581.6514412046,
          1336523.2823136703,
          1332773.5863638371,
          1329942.216687452,
          1309770.260831008,
          1300075.3379378426,
          1292702.7960503504,
          1275539.6628879523,
          1238727.0427082921,
          1238702.0523083147,
          1237181.3026431904,
          1230868.8328700839,
          1225075.8276538532,
          1219160.1343525418,
          1215783.5253978353,
          1212847.4687844836,
          1182573.135031994,
          1180436.7181306593,
          1179563.3972962347,
          1177529.6403118267,
          1161127.3063946632,
          1132457.2485478763,
          1111818.1048158407,
          1102015.2737877122,
          1100626.8021644887,
          1096792.0627059084,
          1091118.3605483333,
          1082835.2899356168,
          1051349.6259039678,
          1042258.1681686209,
          1039115.3914735538,
          1037459.3372218229,
          1019029.6464747672,
          1015741.5728005855,
          1012289.9795168391,
          993429.5364509693,
          969516.9962453324,
          964702.8784506988,
          963386.9788257102,
          955136.2668964613,
          953944.4858584458,
          950726.6323597551,
          948874.5742322241,
          946889.169467604,
          937475.7517652576,
          917431.9365693432
         ],
         "yaxis": "y"
        }
       ],
       "layout": {
        "legend": {
         "tracegroupgap": 0
        },
        "margin": {
         "t": 60
        },
        "template": {
         "data": {
          "bar": [
           {
            "error_x": {
             "color": "#2a3f5f"
            },
            "error_y": {
             "color": "#2a3f5f"
            },
            "marker": {
             "line": {
              "color": "#E5ECF6",
              "width": 0.5
             },
             "pattern": {
              "fillmode": "overlay",
              "size": 10,
              "solidity": 0.2
             }
            },
            "type": "bar"
           }
          ],
          "barpolar": [
           {
            "marker": {
             "line": {
              "color": "#E5ECF6",
              "width": 0.5
             },
             "pattern": {
              "fillmode": "overlay",
              "size": 10,
              "solidity": 0.2
             }
            },
            "type": "barpolar"
           }
          ],
          "carpet": [
           {
            "aaxis": {
             "endlinecolor": "#2a3f5f",
             "gridcolor": "white",
             "linecolor": "white",
             "minorgridcolor": "white",
             "startlinecolor": "#2a3f5f"
            },
            "baxis": {
             "endlinecolor": "#2a3f5f",
             "gridcolor": "white",
             "linecolor": "white",
             "minorgridcolor": "white",
             "startlinecolor": "#2a3f5f"
            },
            "type": "carpet"
           }
          ],
          "choropleth": [
           {
            "colorbar": {
             "outlinewidth": 0,
             "ticks": ""
            },
            "type": "choropleth"
           }
          ],
          "contour": [
           {
            "colorbar": {
             "outlinewidth": 0,
             "ticks": ""
            },
            "colorscale": [
             [
              0,
              "#0d0887"
             ],
             [
              0.1111111111111111,
              "#46039f"
             ],
             [
              0.2222222222222222,
              "#7201a8"
             ],
             [
              0.3333333333333333,
              "#9c179e"
             ],
             [
              0.4444444444444444,
              "#bd3786"
             ],
             [
              0.5555555555555556,
              "#d8576b"
             ],
             [
              0.6666666666666666,
              "#ed7953"
             ],
             [
              0.7777777777777778,
              "#fb9f3a"
             ],
             [
              0.8888888888888888,
              "#fdca26"
             ],
             [
              1,
              "#f0f921"
             ]
            ],
            "type": "contour"
           }
          ],
          "contourcarpet": [
           {
            "colorbar": {
             "outlinewidth": 0,
             "ticks": ""
            },
            "type": "contourcarpet"
           }
          ],
          "heatmap": [
           {
            "colorbar": {
             "outlinewidth": 0,
             "ticks": ""
            },
            "colorscale": [
             [
              0,
              "#0d0887"
             ],
             [
              0.1111111111111111,
              "#46039f"
             ],
             [
              0.2222222222222222,
              "#7201a8"
             ],
             [
              0.3333333333333333,
              "#9c179e"
             ],
             [
              0.4444444444444444,
              "#bd3786"
             ],
             [
              0.5555555555555556,
              "#d8576b"
             ],
             [
              0.6666666666666666,
              "#ed7953"
             ],
             [
              0.7777777777777778,
              "#fb9f3a"
             ],
             [
              0.8888888888888888,
              "#fdca26"
             ],
             [
              1,
              "#f0f921"
             ]
            ],
            "type": "heatmap"
           }
          ],
          "heatmapgl": [
           {
            "colorbar": {
             "outlinewidth": 0,
             "ticks": ""
            },
            "colorscale": [
             [
              0,
              "#0d0887"
             ],
             [
              0.1111111111111111,
              "#46039f"
             ],
             [
              0.2222222222222222,
              "#7201a8"
             ],
             [
              0.3333333333333333,
              "#9c179e"
             ],
             [
              0.4444444444444444,
              "#bd3786"
             ],
             [
              0.5555555555555556,
              "#d8576b"
             ],
             [
              0.6666666666666666,
              "#ed7953"
             ],
             [
              0.7777777777777778,
              "#fb9f3a"
             ],
             [
              0.8888888888888888,
              "#fdca26"
             ],
             [
              1,
              "#f0f921"
             ]
            ],
            "type": "heatmapgl"
           }
          ],
          "histogram": [
           {
            "marker": {
             "pattern": {
              "fillmode": "overlay",
              "size": 10,
              "solidity": 0.2
             }
            },
            "type": "histogram"
           }
          ],
          "histogram2d": [
           {
            "colorbar": {
             "outlinewidth": 0,
             "ticks": ""
            },
            "colorscale": [
             [
              0,
              "#0d0887"
             ],
             [
              0.1111111111111111,
              "#46039f"
             ],
             [
              0.2222222222222222,
              "#7201a8"
             ],
             [
              0.3333333333333333,
              "#9c179e"
             ],
             [
              0.4444444444444444,
              "#bd3786"
             ],
             [
              0.5555555555555556,
              "#d8576b"
             ],
             [
              0.6666666666666666,
              "#ed7953"
             ],
             [
              0.7777777777777778,
              "#fb9f3a"
             ],
             [
              0.8888888888888888,
              "#fdca26"
             ],
             [
              1,
              "#f0f921"
             ]
            ],
            "type": "histogram2d"
           }
          ],
          "histogram2dcontour": [
           {
            "colorbar": {
             "outlinewidth": 0,
             "ticks": ""
            },
            "colorscale": [
             [
              0,
              "#0d0887"
             ],
             [
              0.1111111111111111,
              "#46039f"
             ],
             [
              0.2222222222222222,
              "#7201a8"
             ],
             [
              0.3333333333333333,
              "#9c179e"
             ],
             [
              0.4444444444444444,
              "#bd3786"
             ],
             [
              0.5555555555555556,
              "#d8576b"
             ],
             [
              0.6666666666666666,
              "#ed7953"
             ],
             [
              0.7777777777777778,
              "#fb9f3a"
             ],
             [
              0.8888888888888888,
              "#fdca26"
             ],
             [
              1,
              "#f0f921"
             ]
            ],
            "type": "histogram2dcontour"
           }
          ],
          "mesh3d": [
           {
            "colorbar": {
             "outlinewidth": 0,
             "ticks": ""
            },
            "type": "mesh3d"
           }
          ],
          "parcoords": [
           {
            "line": {
             "colorbar": {
              "outlinewidth": 0,
              "ticks": ""
             }
            },
            "type": "parcoords"
           }
          ],
          "pie": [
           {
            "automargin": true,
            "type": "pie"
           }
          ],
          "scatter": [
           {
            "fillpattern": {
             "fillmode": "overlay",
             "size": 10,
             "solidity": 0.2
            },
            "type": "scatter"
           }
          ],
          "scatter3d": [
           {
            "line": {
             "colorbar": {
              "outlinewidth": 0,
              "ticks": ""
             }
            },
            "marker": {
             "colorbar": {
              "outlinewidth": 0,
              "ticks": ""
             }
            },
            "type": "scatter3d"
           }
          ],
          "scattercarpet": [
           {
            "marker": {
             "colorbar": {
              "outlinewidth": 0,
              "ticks": ""
             }
            },
            "type": "scattercarpet"
           }
          ],
          "scattergeo": [
           {
            "marker": {
             "colorbar": {
              "outlinewidth": 0,
              "ticks": ""
             }
            },
            "type": "scattergeo"
           }
          ],
          "scattergl": [
           {
            "marker": {
             "colorbar": {
              "outlinewidth": 0,
              "ticks": ""
             }
            },
            "type": "scattergl"
           }
          ],
          "scattermapbox": [
           {
            "marker": {
             "colorbar": {
              "outlinewidth": 0,
              "ticks": ""
             }
            },
            "type": "scattermapbox"
           }
          ],
          "scatterpolar": [
           {
            "marker": {
             "colorbar": {
              "outlinewidth": 0,
              "ticks": ""
             }
            },
            "type": "scatterpolar"
           }
          ],
          "scatterpolargl": [
           {
            "marker": {
             "colorbar": {
              "outlinewidth": 0,
              "ticks": ""
             }
            },
            "type": "scatterpolargl"
           }
          ],
          "scatterternary": [
           {
            "marker": {
             "colorbar": {
              "outlinewidth": 0,
              "ticks": ""
             }
            },
            "type": "scatterternary"
           }
          ],
          "surface": [
           {
            "colorbar": {
             "outlinewidth": 0,
             "ticks": ""
            },
            "colorscale": [
             [
              0,
              "#0d0887"
             ],
             [
              0.1111111111111111,
              "#46039f"
             ],
             [
              0.2222222222222222,
              "#7201a8"
             ],
             [
              0.3333333333333333,
              "#9c179e"
             ],
             [
              0.4444444444444444,
              "#bd3786"
             ],
             [
              0.5555555555555556,
              "#d8576b"
             ],
             [
              0.6666666666666666,
              "#ed7953"
             ],
             [
              0.7777777777777778,
              "#fb9f3a"
             ],
             [
              0.8888888888888888,
              "#fdca26"
             ],
             [
              1,
              "#f0f921"
             ]
            ],
            "type": "surface"
           }
          ],
          "table": [
           {
            "cells": {
             "fill": {
              "color": "#EBF0F8"
             },
             "line": {
              "color": "white"
             }
            },
            "header": {
             "fill": {
              "color": "#C8D4E3"
             },
             "line": {
              "color": "white"
             }
            },
            "type": "table"
           }
          ]
         },
         "layout": {
          "annotationdefaults": {
           "arrowcolor": "#2a3f5f",
           "arrowhead": 0,
           "arrowwidth": 1
          },
          "autotypenumbers": "strict",
          "coloraxis": {
           "colorbar": {
            "outlinewidth": 0,
            "ticks": ""
           }
          },
          "colorscale": {
           "diverging": [
            [
             0,
             "#8e0152"
            ],
            [
             0.1,
             "#c51b7d"
            ],
            [
             0.2,
             "#de77ae"
            ],
            [
             0.3,
             "#f1b6da"
            ],
            [
             0.4,
             "#fde0ef"
            ],
            [
             0.5,
             "#f7f7f7"
            ],
            [
             0.6,
             "#e6f5d0"
            ],
            [
             0.7,
             "#b8e186"
            ],
            [
             0.8,
             "#7fbc41"
            ],
            [
             0.9,
             "#4d9221"
            ],
            [
             1,
             "#276419"
            ]
           ],
           "sequential": [
            [
             0,
             "#0d0887"
            ],
            [
             0.1111111111111111,
             "#46039f"
            ],
            [
             0.2222222222222222,
             "#7201a8"
            ],
            [
             0.3333333333333333,
             "#9c179e"
            ],
            [
             0.4444444444444444,
             "#bd3786"
            ],
            [
             0.5555555555555556,
             "#d8576b"
            ],
            [
             0.6666666666666666,
             "#ed7953"
            ],
            [
             0.7777777777777778,
             "#fb9f3a"
            ],
            [
             0.8888888888888888,
             "#fdca26"
            ],
            [
             1,
             "#f0f921"
            ]
           ],
           "sequentialminus": [
            [
             0,
             "#0d0887"
            ],
            [
             0.1111111111111111,
             "#46039f"
            ],
            [
             0.2222222222222222,
             "#7201a8"
            ],
            [
             0.3333333333333333,
             "#9c179e"
            ],
            [
             0.4444444444444444,
             "#bd3786"
            ],
            [
             0.5555555555555556,
             "#d8576b"
            ],
            [
             0.6666666666666666,
             "#ed7953"
            ],
            [
             0.7777777777777778,
             "#fb9f3a"
            ],
            [
             0.8888888888888888,
             "#fdca26"
            ],
            [
             1,
             "#f0f921"
            ]
           ]
          },
          "colorway": [
           "#636efa",
           "#EF553B",
           "#00cc96",
           "#ab63fa",
           "#FFA15A",
           "#19d3f3",
           "#FF6692",
           "#B6E880",
           "#FF97FF",
           "#FECB52"
          ],
          "font": {
           "color": "#2a3f5f"
          },
          "geo": {
           "bgcolor": "white",
           "lakecolor": "white",
           "landcolor": "#E5ECF6",
           "showlakes": true,
           "showland": true,
           "subunitcolor": "white"
          },
          "hoverlabel": {
           "align": "left"
          },
          "hovermode": "closest",
          "mapbox": {
           "style": "light"
          },
          "paper_bgcolor": "white",
          "plot_bgcolor": "#E5ECF6",
          "polar": {
           "angularaxis": {
            "gridcolor": "white",
            "linecolor": "white",
            "ticks": ""
           },
           "bgcolor": "#E5ECF6",
           "radialaxis": {
            "gridcolor": "white",
            "linecolor": "white",
            "ticks": ""
           }
          },
          "scene": {
           "xaxis": {
            "backgroundcolor": "#E5ECF6",
            "gridcolor": "white",
            "gridwidth": 2,
            "linecolor": "white",
            "showbackground": true,
            "ticks": "",
            "zerolinecolor": "white"
           },
           "yaxis": {
            "backgroundcolor": "#E5ECF6",
            "gridcolor": "white",
            "gridwidth": 2,
            "linecolor": "white",
            "showbackground": true,
            "ticks": "",
            "zerolinecolor": "white"
           },
           "zaxis": {
            "backgroundcolor": "#E5ECF6",
            "gridcolor": "white",
            "gridwidth": 2,
            "linecolor": "white",
            "showbackground": true,
            "ticks": "",
            "zerolinecolor": "white"
           }
          },
          "shapedefaults": {
           "line": {
            "color": "#2a3f5f"
           }
          },
          "ternary": {
           "aaxis": {
            "gridcolor": "white",
            "linecolor": "white",
            "ticks": ""
           },
           "baxis": {
            "gridcolor": "white",
            "linecolor": "white",
            "ticks": ""
           },
           "bgcolor": "#E5ECF6",
           "caxis": {
            "gridcolor": "white",
            "linecolor": "white",
            "ticks": ""
           }
          },
          "title": {
           "x": 0.05
          },
          "xaxis": {
           "automargin": true,
           "gridcolor": "white",
           "linecolor": "white",
           "ticks": "",
           "title": {
            "standoff": 15
           },
           "zerolinecolor": "white",
           "zerolinewidth": 2
          },
          "yaxis": {
           "automargin": true,
           "gridcolor": "white",
           "linecolor": "white",
           "ticks": "",
           "title": {
            "standoff": 15
           },
           "zerolinecolor": "white",
           "zerolinewidth": 2
          }
         }
        },
        "xaxis": {
         "anchor": "y",
         "domain": [
          0,
          1
         ],
         "title": {
          "text": "Solar Photovoltaic"
         }
        },
        "yaxis": {
         "anchor": "x",
         "domain": [
          0,
          1
         ],
         "title": {
          "text": "Eolic"
         }
        }
       }
      }
     },
     "metadata": {},
     "output_type": "display_data"
    }
   ],
   "source": [
    "fig = px.scatter(data_frame=df_renewable_weekly, x='Solar Photovoltaic', y='Eolic', trendline='ols')\n",
    "fig"
   ]
  },
  {
   "cell_type": "code",
   "execution_count": 12,
   "id": "bf5c6eca",
   "metadata": {
    "execution": {
     "iopub.execute_input": "2024-05-29T22:25:15.143681Z",
     "iopub.status.busy": "2024-05-29T22:25:15.143578Z",
     "iopub.status.idle": "2024-05-29T22:25:15.179716Z",
     "shell.execute_reply": "2024-05-29T22:25:15.179480Z"
    },
    "jupyter": {
     "source_hidden": true
    },
    "papermill": {
     "duration": 0.040628,
     "end_time": "2024-05-29T22:25:15.180519",
     "exception": false,
     "start_time": "2024-05-29T22:25:15.139891",
     "status": "completed"
    },
    "tags": []
   },
   "outputs": [
    {
     "data": {
      "application/vnd.plotly.v1+json": {
       "config": {
        "plotlyServerURL": "https://plot.ly"
       },
       "data": [
        {
         "fillpattern": {
          "shape": ""
         },
         "hovertemplate": "variable=Solar Photovoltaic<br>time=%{x}<br>value=%{y}<extra></extra>",
         "legendgroup": "Solar Photovoltaic",
         "line": {
          "color": "#636efa"
         },
         "marker": {
          "symbol": "circle"
         },
         "mode": "lines",
         "name": "Solar Photovoltaic",
         "orientation": "v",
         "showlegend": true,
         "stackgroup": "1",
         "type": "scatter",
         "x": [
          "2022-09-01T00:00:00",
          "2022-09-08T00:00:00",
          "2022-09-15T00:00:00",
          "2022-09-22T00:00:00",
          "2022-09-29T00:00:00",
          "2022-10-06T00:00:00",
          "2022-10-13T00:00:00",
          "2022-10-20T00:00:00",
          "2022-10-27T00:00:00",
          "2022-11-03T00:00:00",
          "2022-11-10T00:00:00",
          "2022-11-17T00:00:00",
          "2022-11-24T00:00:00",
          "2022-12-01T00:00:00",
          "2022-12-08T00:00:00",
          "2022-12-15T00:00:00",
          "2022-12-22T00:00:00",
          "2022-12-29T00:00:00",
          "2023-01-05T00:00:00",
          "2023-01-12T00:00:00",
          "2023-01-19T00:00:00",
          "2023-01-26T00:00:00",
          "2023-02-02T00:00:00",
          "2023-02-09T00:00:00",
          "2023-02-16T00:00:00",
          "2023-02-23T00:00:00",
          "2023-03-02T00:00:00",
          "2023-03-09T00:00:00",
          "2023-03-16T00:00:00",
          "2023-03-23T00:00:00",
          "2023-03-30T00:00:00",
          "2023-04-06T00:00:00",
          "2023-04-13T00:00:00",
          "2023-04-20T00:00:00",
          "2023-04-27T00:00:00",
          "2023-05-04T00:00:00",
          "2023-05-11T00:00:00",
          "2023-05-18T00:00:00",
          "2023-05-25T00:00:00",
          "2023-06-01T00:00:00",
          "2023-06-08T00:00:00",
          "2023-06-15T00:00:00",
          "2023-06-22T00:00:00",
          "2023-06-29T00:00:00",
          "2023-07-06T00:00:00",
          "2023-07-13T00:00:00",
          "2023-07-20T00:00:00",
          "2023-07-27T00:00:00",
          "2023-08-03T00:00:00",
          "2023-08-10T00:00:00",
          "2023-08-17T00:00:00",
          "2023-08-24T00:00:00",
          "2023-08-31T00:00:00"
         ],
         "xaxis": "x",
         "y": [
          695863.476,
          555033.259,
          608068.827,
          613341.384,
          611811.472,
          509740.354,
          512404.453,
          316921.1,
          402224.625,
          415140.085,
          338373.924,
          264809.239,
          385240.74199999997,
          276701.375,
          159828.131,
          263867.125,
          349902.85,
          320753.344,
          317114.45,
          344942.764,
          445207.023,
          523462.844,
          533611.22,
          509696.575,
          543974.525,
          616904.186,
          549889.779,
          645638.331,
          732019.803,
          758342.915,
          768282.292,
          853877.175,
          859382.794,
          894569.659,
          837950.462,
          981307.539,
          939416.769,
          751625.093,
          749192.723,
          782792.846,
          862283.924,
          906376.428,
          1006500.171,
          1008587.972,
          989741.068,
          1014225.113,
          1020947.706,
          1072551.85,
          992046.304,
          1037438.439,
          1017469.609,
          900329.814,
          138880.021
         ],
         "yaxis": "y"
        },
        {
         "fillpattern": {
          "shape": ""
         },
         "hovertemplate": "variable=Eolic<br>time=%{x}<br>value=%{y}<extra></extra>",
         "legendgroup": "Eolic",
         "line": {
          "color": "#EF553B"
         },
         "marker": {
          "symbol": "circle"
         },
         "mode": "lines",
         "name": "Eolic",
         "orientation": "v",
         "showlegend": true,
         "stackgroup": "1",
         "type": "scatter",
         "x": [
          "2022-09-01T00:00:00",
          "2022-09-08T00:00:00",
          "2022-09-15T00:00:00",
          "2022-09-22T00:00:00",
          "2022-09-29T00:00:00",
          "2022-10-06T00:00:00",
          "2022-10-13T00:00:00",
          "2022-10-20T00:00:00",
          "2022-10-27T00:00:00",
          "2022-11-03T00:00:00",
          "2022-11-10T00:00:00",
          "2022-11-17T00:00:00",
          "2022-11-24T00:00:00",
          "2022-12-01T00:00:00",
          "2022-12-08T00:00:00",
          "2022-12-15T00:00:00",
          "2022-12-22T00:00:00",
          "2022-12-29T00:00:00",
          "2023-01-05T00:00:00",
          "2023-01-12T00:00:00",
          "2023-01-19T00:00:00",
          "2023-01-26T00:00:00",
          "2023-02-02T00:00:00",
          "2023-02-09T00:00:00",
          "2023-02-16T00:00:00",
          "2023-02-23T00:00:00",
          "2023-03-02T00:00:00",
          "2023-03-09T00:00:00",
          "2023-03-16T00:00:00",
          "2023-03-23T00:00:00",
          "2023-03-30T00:00:00",
          "2023-04-06T00:00:00",
          "2023-04-13T00:00:00",
          "2023-04-20T00:00:00",
          "2023-04-27T00:00:00",
          "2023-05-04T00:00:00",
          "2023-05-11T00:00:00",
          "2023-05-18T00:00:00",
          "2023-05-25T00:00:00",
          "2023-06-01T00:00:00",
          "2023-06-08T00:00:00",
          "2023-06-15T00:00:00",
          "2023-06-22T00:00:00",
          "2023-06-29T00:00:00",
          "2023-07-06T00:00:00",
          "2023-07-13T00:00:00",
          "2023-07-20T00:00:00",
          "2023-07-27T00:00:00",
          "2023-08-03T00:00:00",
          "2023-08-10T00:00:00",
          "2023-08-17T00:00:00",
          "2023-08-24T00:00:00",
          "2023-08-31T00:00:00"
         ],
         "xaxis": "x",
         "y": [
          864037.706,
          871012.693,
          778374.75,
          1057348.168,
          815926.017,
          645895.633,
          1167372.855,
          1745376.081,
          1254445.187,
          1270797.307,
          1564617.825,
          2449319.174,
          1233707.088,
          584594.98,
          1694506.25,
          1437610.551,
          1211112.633,
          1138819.166,
          1520485.44,
          1975520.371,
          1981880.187,
          1755601.281,
          1274421.588,
          1076615.664,
          719159.35,
          1617881.7989999999,
          1465548.791,
          1949745.807,
          1042578.481,
          1338817.198,
          1681614.157,
          871504.524,
          1504434.778,
          871425.518,
          974474.245,
          1024088.348,
          1705621.992,
          1462285.188,
          736695.807,
          435403.341,
          727809.852,
          630582.97,
          897370.9839999999,
          950167.003,
          776764.638,
          971454.595,
          956924.652,
          832933.871,
          1209851.487,
          752514.313,
          663859.931,
          1164917.767,
          69646.772
         ],
         "yaxis": "y"
        }
       ],
       "layout": {
        "legend": {
         "title": {
          "text": "variable"
         },
         "tracegroupgap": 0
        },
        "margin": {
         "t": 60
        },
        "template": {
         "data": {
          "bar": [
           {
            "error_x": {
             "color": "#2a3f5f"
            },
            "error_y": {
             "color": "#2a3f5f"
            },
            "marker": {
             "line": {
              "color": "#E5ECF6",
              "width": 0.5
             },
             "pattern": {
              "fillmode": "overlay",
              "size": 10,
              "solidity": 0.2
             }
            },
            "type": "bar"
           }
          ],
          "barpolar": [
           {
            "marker": {
             "line": {
              "color": "#E5ECF6",
              "width": 0.5
             },
             "pattern": {
              "fillmode": "overlay",
              "size": 10,
              "solidity": 0.2
             }
            },
            "type": "barpolar"
           }
          ],
          "carpet": [
           {
            "aaxis": {
             "endlinecolor": "#2a3f5f",
             "gridcolor": "white",
             "linecolor": "white",
             "minorgridcolor": "white",
             "startlinecolor": "#2a3f5f"
            },
            "baxis": {
             "endlinecolor": "#2a3f5f",
             "gridcolor": "white",
             "linecolor": "white",
             "minorgridcolor": "white",
             "startlinecolor": "#2a3f5f"
            },
            "type": "carpet"
           }
          ],
          "choropleth": [
           {
            "colorbar": {
             "outlinewidth": 0,
             "ticks": ""
            },
            "type": "choropleth"
           }
          ],
          "contour": [
           {
            "colorbar": {
             "outlinewidth": 0,
             "ticks": ""
            },
            "colorscale": [
             [
              0,
              "#0d0887"
             ],
             [
              0.1111111111111111,
              "#46039f"
             ],
             [
              0.2222222222222222,
              "#7201a8"
             ],
             [
              0.3333333333333333,
              "#9c179e"
             ],
             [
              0.4444444444444444,
              "#bd3786"
             ],
             [
              0.5555555555555556,
              "#d8576b"
             ],
             [
              0.6666666666666666,
              "#ed7953"
             ],
             [
              0.7777777777777778,
              "#fb9f3a"
             ],
             [
              0.8888888888888888,
              "#fdca26"
             ],
             [
              1,
              "#f0f921"
             ]
            ],
            "type": "contour"
           }
          ],
          "contourcarpet": [
           {
            "colorbar": {
             "outlinewidth": 0,
             "ticks": ""
            },
            "type": "contourcarpet"
           }
          ],
          "heatmap": [
           {
            "colorbar": {
             "outlinewidth": 0,
             "ticks": ""
            },
            "colorscale": [
             [
              0,
              "#0d0887"
             ],
             [
              0.1111111111111111,
              "#46039f"
             ],
             [
              0.2222222222222222,
              "#7201a8"
             ],
             [
              0.3333333333333333,
              "#9c179e"
             ],
             [
              0.4444444444444444,
              "#bd3786"
             ],
             [
              0.5555555555555556,
              "#d8576b"
             ],
             [
              0.6666666666666666,
              "#ed7953"
             ],
             [
              0.7777777777777778,
              "#fb9f3a"
             ],
             [
              0.8888888888888888,
              "#fdca26"
             ],
             [
              1,
              "#f0f921"
             ]
            ],
            "type": "heatmap"
           }
          ],
          "heatmapgl": [
           {
            "colorbar": {
             "outlinewidth": 0,
             "ticks": ""
            },
            "colorscale": [
             [
              0,
              "#0d0887"
             ],
             [
              0.1111111111111111,
              "#46039f"
             ],
             [
              0.2222222222222222,
              "#7201a8"
             ],
             [
              0.3333333333333333,
              "#9c179e"
             ],
             [
              0.4444444444444444,
              "#bd3786"
             ],
             [
              0.5555555555555556,
              "#d8576b"
             ],
             [
              0.6666666666666666,
              "#ed7953"
             ],
             [
              0.7777777777777778,
              "#fb9f3a"
             ],
             [
              0.8888888888888888,
              "#fdca26"
             ],
             [
              1,
              "#f0f921"
             ]
            ],
            "type": "heatmapgl"
           }
          ],
          "histogram": [
           {
            "marker": {
             "pattern": {
              "fillmode": "overlay",
              "size": 10,
              "solidity": 0.2
             }
            },
            "type": "histogram"
           }
          ],
          "histogram2d": [
           {
            "colorbar": {
             "outlinewidth": 0,
             "ticks": ""
            },
            "colorscale": [
             [
              0,
              "#0d0887"
             ],
             [
              0.1111111111111111,
              "#46039f"
             ],
             [
              0.2222222222222222,
              "#7201a8"
             ],
             [
              0.3333333333333333,
              "#9c179e"
             ],
             [
              0.4444444444444444,
              "#bd3786"
             ],
             [
              0.5555555555555556,
              "#d8576b"
             ],
             [
              0.6666666666666666,
              "#ed7953"
             ],
             [
              0.7777777777777778,
              "#fb9f3a"
             ],
             [
              0.8888888888888888,
              "#fdca26"
             ],
             [
              1,
              "#f0f921"
             ]
            ],
            "type": "histogram2d"
           }
          ],
          "histogram2dcontour": [
           {
            "colorbar": {
             "outlinewidth": 0,
             "ticks": ""
            },
            "colorscale": [
             [
              0,
              "#0d0887"
             ],
             [
              0.1111111111111111,
              "#46039f"
             ],
             [
              0.2222222222222222,
              "#7201a8"
             ],
             [
              0.3333333333333333,
              "#9c179e"
             ],
             [
              0.4444444444444444,
              "#bd3786"
             ],
             [
              0.5555555555555556,
              "#d8576b"
             ],
             [
              0.6666666666666666,
              "#ed7953"
             ],
             [
              0.7777777777777778,
              "#fb9f3a"
             ],
             [
              0.8888888888888888,
              "#fdca26"
             ],
             [
              1,
              "#f0f921"
             ]
            ],
            "type": "histogram2dcontour"
           }
          ],
          "mesh3d": [
           {
            "colorbar": {
             "outlinewidth": 0,
             "ticks": ""
            },
            "type": "mesh3d"
           }
          ],
          "parcoords": [
           {
            "line": {
             "colorbar": {
              "outlinewidth": 0,
              "ticks": ""
             }
            },
            "type": "parcoords"
           }
          ],
          "pie": [
           {
            "automargin": true,
            "type": "pie"
           }
          ],
          "scatter": [
           {
            "fillpattern": {
             "fillmode": "overlay",
             "size": 10,
             "solidity": 0.2
            },
            "type": "scatter"
           }
          ],
          "scatter3d": [
           {
            "line": {
             "colorbar": {
              "outlinewidth": 0,
              "ticks": ""
             }
            },
            "marker": {
             "colorbar": {
              "outlinewidth": 0,
              "ticks": ""
             }
            },
            "type": "scatter3d"
           }
          ],
          "scattercarpet": [
           {
            "marker": {
             "colorbar": {
              "outlinewidth": 0,
              "ticks": ""
             }
            },
            "type": "scattercarpet"
           }
          ],
          "scattergeo": [
           {
            "marker": {
             "colorbar": {
              "outlinewidth": 0,
              "ticks": ""
             }
            },
            "type": "scattergeo"
           }
          ],
          "scattergl": [
           {
            "marker": {
             "colorbar": {
              "outlinewidth": 0,
              "ticks": ""
             }
            },
            "type": "scattergl"
           }
          ],
          "scattermapbox": [
           {
            "marker": {
             "colorbar": {
              "outlinewidth": 0,
              "ticks": ""
             }
            },
            "type": "scattermapbox"
           }
          ],
          "scatterpolar": [
           {
            "marker": {
             "colorbar": {
              "outlinewidth": 0,
              "ticks": ""
             }
            },
            "type": "scatterpolar"
           }
          ],
          "scatterpolargl": [
           {
            "marker": {
             "colorbar": {
              "outlinewidth": 0,
              "ticks": ""
             }
            },
            "type": "scatterpolargl"
           }
          ],
          "scatterternary": [
           {
            "marker": {
             "colorbar": {
              "outlinewidth": 0,
              "ticks": ""
             }
            },
            "type": "scatterternary"
           }
          ],
          "surface": [
           {
            "colorbar": {
             "outlinewidth": 0,
             "ticks": ""
            },
            "colorscale": [
             [
              0,
              "#0d0887"
             ],
             [
              0.1111111111111111,
              "#46039f"
             ],
             [
              0.2222222222222222,
              "#7201a8"
             ],
             [
              0.3333333333333333,
              "#9c179e"
             ],
             [
              0.4444444444444444,
              "#bd3786"
             ],
             [
              0.5555555555555556,
              "#d8576b"
             ],
             [
              0.6666666666666666,
              "#ed7953"
             ],
             [
              0.7777777777777778,
              "#fb9f3a"
             ],
             [
              0.8888888888888888,
              "#fdca26"
             ],
             [
              1,
              "#f0f921"
             ]
            ],
            "type": "surface"
           }
          ],
          "table": [
           {
            "cells": {
             "fill": {
              "color": "#EBF0F8"
             },
             "line": {
              "color": "white"
             }
            },
            "header": {
             "fill": {
              "color": "#C8D4E3"
             },
             "line": {
              "color": "white"
             }
            },
            "type": "table"
           }
          ]
         },
         "layout": {
          "annotationdefaults": {
           "arrowcolor": "#2a3f5f",
           "arrowhead": 0,
           "arrowwidth": 1
          },
          "autotypenumbers": "strict",
          "coloraxis": {
           "colorbar": {
            "outlinewidth": 0,
            "ticks": ""
           }
          },
          "colorscale": {
           "diverging": [
            [
             0,
             "#8e0152"
            ],
            [
             0.1,
             "#c51b7d"
            ],
            [
             0.2,
             "#de77ae"
            ],
            [
             0.3,
             "#f1b6da"
            ],
            [
             0.4,
             "#fde0ef"
            ],
            [
             0.5,
             "#f7f7f7"
            ],
            [
             0.6,
             "#e6f5d0"
            ],
            [
             0.7,
             "#b8e186"
            ],
            [
             0.8,
             "#7fbc41"
            ],
            [
             0.9,
             "#4d9221"
            ],
            [
             1,
             "#276419"
            ]
           ],
           "sequential": [
            [
             0,
             "#0d0887"
            ],
            [
             0.1111111111111111,
             "#46039f"
            ],
            [
             0.2222222222222222,
             "#7201a8"
            ],
            [
             0.3333333333333333,
             "#9c179e"
            ],
            [
             0.4444444444444444,
             "#bd3786"
            ],
            [
             0.5555555555555556,
             "#d8576b"
            ],
            [
             0.6666666666666666,
             "#ed7953"
            ],
            [
             0.7777777777777778,
             "#fb9f3a"
            ],
            [
             0.8888888888888888,
             "#fdca26"
            ],
            [
             1,
             "#f0f921"
            ]
           ],
           "sequentialminus": [
            [
             0,
             "#0d0887"
            ],
            [
             0.1111111111111111,
             "#46039f"
            ],
            [
             0.2222222222222222,
             "#7201a8"
            ],
            [
             0.3333333333333333,
             "#9c179e"
            ],
            [
             0.4444444444444444,
             "#bd3786"
            ],
            [
             0.5555555555555556,
             "#d8576b"
            ],
            [
             0.6666666666666666,
             "#ed7953"
            ],
            [
             0.7777777777777778,
             "#fb9f3a"
            ],
            [
             0.8888888888888888,
             "#fdca26"
            ],
            [
             1,
             "#f0f921"
            ]
           ]
          },
          "colorway": [
           "#636efa",
           "#EF553B",
           "#00cc96",
           "#ab63fa",
           "#FFA15A",
           "#19d3f3",
           "#FF6692",
           "#B6E880",
           "#FF97FF",
           "#FECB52"
          ],
          "font": {
           "color": "#2a3f5f"
          },
          "geo": {
           "bgcolor": "white",
           "lakecolor": "white",
           "landcolor": "#E5ECF6",
           "showlakes": true,
           "showland": true,
           "subunitcolor": "white"
          },
          "hoverlabel": {
           "align": "left"
          },
          "hovermode": "closest",
          "mapbox": {
           "style": "light"
          },
          "paper_bgcolor": "white",
          "plot_bgcolor": "#E5ECF6",
          "polar": {
           "angularaxis": {
            "gridcolor": "white",
            "linecolor": "white",
            "ticks": ""
           },
           "bgcolor": "#E5ECF6",
           "radialaxis": {
            "gridcolor": "white",
            "linecolor": "white",
            "ticks": ""
           }
          },
          "scene": {
           "xaxis": {
            "backgroundcolor": "#E5ECF6",
            "gridcolor": "white",
            "gridwidth": 2,
            "linecolor": "white",
            "showbackground": true,
            "ticks": "",
            "zerolinecolor": "white"
           },
           "yaxis": {
            "backgroundcolor": "#E5ECF6",
            "gridcolor": "white",
            "gridwidth": 2,
            "linecolor": "white",
            "showbackground": true,
            "ticks": "",
            "zerolinecolor": "white"
           },
           "zaxis": {
            "backgroundcolor": "#E5ECF6",
            "gridcolor": "white",
            "gridwidth": 2,
            "linecolor": "white",
            "showbackground": true,
            "ticks": "",
            "zerolinecolor": "white"
           }
          },
          "shapedefaults": {
           "line": {
            "color": "#2a3f5f"
           }
          },
          "ternary": {
           "aaxis": {
            "gridcolor": "white",
            "linecolor": "white",
            "ticks": ""
           },
           "baxis": {
            "gridcolor": "white",
            "linecolor": "white",
            "ticks": ""
           },
           "bgcolor": "#E5ECF6",
           "caxis": {
            "gridcolor": "white",
            "linecolor": "white",
            "ticks": ""
           }
          },
          "title": {
           "x": 0.05
          },
          "xaxis": {
           "automargin": true,
           "gridcolor": "white",
           "linecolor": "white",
           "ticks": "",
           "title": {
            "standoff": 15
           },
           "zerolinecolor": "white",
           "zerolinewidth": 2
          },
          "yaxis": {
           "automargin": true,
           "gridcolor": "white",
           "linecolor": "white",
           "ticks": "",
           "title": {
            "standoff": 15
           },
           "zerolinecolor": "white",
           "zerolinewidth": 2
          }
         }
        },
        "xaxis": {
         "anchor": "y",
         "domain": [
          0,
          1
         ],
         "title": {
          "text": "time"
         }
        },
        "yaxis": {
         "anchor": "x",
         "domain": [
          0,
          1
         ],
         "title": {
          "text": "value"
         }
        }
       }
      }
     },
     "metadata": {},
     "output_type": "display_data"
    }
   ],
   "source": [
    "fig = px.area(data_frame=df_renewable_weekly, \n",
    "              x=df_renewable_weekly.index, \n",
    "              y=['Solar Photovoltaic', 'Eolic'],\n",
    "              )\n",
    "fig"
   ]
  },
  {
   "cell_type": "markdown",
   "id": "4430a777",
   "metadata": {
    "papermill": {
     "duration": 0.003065,
     "end_time": "2024-05-29T22:25:15.219299",
     "exception": false,
     "start_time": "2024-05-29T22:25:15.216234",
     "status": "completed"
    },
    "tags": []
   },
   "source": [
    "## Pivot Tables"
   ]
  },
  {
   "cell_type": "markdown",
   "id": "c0e43e40",
   "metadata": {
    "papermill": {
     "duration": 0.002976,
     "end_time": "2024-05-29T22:25:15.225244",
     "exception": false,
     "start_time": "2024-05-29T22:25:15.222268",
     "status": "completed"
    },
    "tags": []
   },
   "source": [
    "### Transform object to DataFrame\n",
    "\n",
    "> Only if you don't have a DataFrame yet."
   ]
  },
  {
   "cell_type": "code",
   "execution_count": 13,
   "id": "b852981e",
   "metadata": {
    "execution": {
     "iopub.execute_input": "2024-05-29T22:25:15.231950Z",
     "iopub.status.busy": "2024-05-29T22:25:15.231844Z",
     "iopub.status.idle": "2024-05-29T22:25:15.235095Z",
     "shell.execute_reply": "2024-05-29T22:25:15.234892Z"
    },
    "jupyter": {
     "source_hidden": true
    },
    "papermill": {
     "duration": 0.007509,
     "end_time": "2024-05-29T22:25:15.235739",
     "exception": false,
     "start_time": "2024-05-29T22:25:15.228230",
     "status": "completed"
    },
    "tags": []
   },
   "outputs": [
    {
     "data": {
      "text/html": [
       "<div>\n",
       "<style scoped>\n",
       "    .dataframe tbody tr th:only-of-type {\n",
       "        vertical-align: middle;\n",
       "    }\n",
       "\n",
       "    .dataframe tbody tr th {\n",
       "        vertical-align: top;\n",
       "    }\n",
       "\n",
       "    .dataframe thead th {\n",
       "        text-align: right;\n",
       "    }\n",
       "</style>\n",
       "<table border=\"1\" class=\"dataframe\">\n",
       "  <thead>\n",
       "    <tr style=\"text-align: right;\">\n",
       "      <th></th>\n",
       "      <th>Solar Photovoltaic</th>\n",
       "      <th>Eolic</th>\n",
       "    </tr>\n",
       "    <tr>\n",
       "      <th>time</th>\n",
       "      <th></th>\n",
       "      <th></th>\n",
       "    </tr>\n",
       "  </thead>\n",
       "  <tbody>\n",
       "    <tr>\n",
       "      <th>2022-09-01 00:00:00</th>\n",
       "      <td>1.000</td>\n",
       "      <td>4387.050</td>\n",
       "    </tr>\n",
       "    <tr>\n",
       "      <th>2022-09-01 01:00:00</th>\n",
       "      <td>1.000</td>\n",
       "      <td>4008.900</td>\n",
       "    </tr>\n",
       "    <tr>\n",
       "      <th>2022-09-01 02:00:00</th>\n",
       "      <td>1.200</td>\n",
       "      <td>3547.500</td>\n",
       "    </tr>\n",
       "    <tr>\n",
       "      <th>2022-09-01 03:00:00</th>\n",
       "      <td>0.200</td>\n",
       "      <td>3188.650</td>\n",
       "    </tr>\n",
       "    <tr>\n",
       "      <th>2022-09-01 04:00:00</th>\n",
       "      <td>0.400</td>\n",
       "      <td>2594.225</td>\n",
       "    </tr>\n",
       "    <tr>\n",
       "      <th>...</th>\n",
       "      <td>...</td>\n",
       "      <td>...</td>\n",
       "    </tr>\n",
       "    <tr>\n",
       "      <th>2023-08-31 19:00:00</th>\n",
       "      <td>5212.173</td>\n",
       "      <td>2780.800</td>\n",
       "    </tr>\n",
       "    <tr>\n",
       "      <th>2023-08-31 20:00:00</th>\n",
       "      <td>861.975</td>\n",
       "      <td>3072.800</td>\n",
       "    </tr>\n",
       "    <tr>\n",
       "      <th>2023-08-31 21:00:00</th>\n",
       "      <td>21.400</td>\n",
       "      <td>3057.150</td>\n",
       "    </tr>\n",
       "    <tr>\n",
       "      <th>2023-08-31 22:00:00</th>\n",
       "      <td>17.600</td>\n",
       "      <td>3057.950</td>\n",
       "    </tr>\n",
       "    <tr>\n",
       "      <th>2023-08-31 23:00:00</th>\n",
       "      <td>17.400</td>\n",
       "      <td>3028.675</td>\n",
       "    </tr>\n",
       "  </tbody>\n",
       "</table>\n",
       "<p>8759 rows × 2 columns</p>\n",
       "</div>"
      ],
      "text/plain": [
       "                     Solar Photovoltaic     Eolic\n",
       "time                                             \n",
       "2022-09-01 00:00:00               1.000  4387.050\n",
       "2022-09-01 01:00:00               1.000  4008.900\n",
       "2022-09-01 02:00:00               1.200  3547.500\n",
       "2022-09-01 03:00:00               0.200  3188.650\n",
       "2022-09-01 04:00:00               0.400  2594.225\n",
       "...                                 ...       ...\n",
       "2023-08-31 19:00:00            5212.173  2780.800\n",
       "2023-08-31 20:00:00             861.975  3072.800\n",
       "2023-08-31 21:00:00              21.400  3057.150\n",
       "2023-08-31 22:00:00              17.600  3057.950\n",
       "2023-08-31 23:00:00              17.400  3028.675\n",
       "\n",
       "[8759 rows x 2 columns]"
      ]
     },
     "execution_count": 13,
     "metadata": {},
     "output_type": "execute_result"
    }
   ],
   "source": [
    "df_renewable"
   ]
  },
  {
   "cell_type": "markdown",
   "id": "3c05c232",
   "metadata": {
    "papermill": {
     "duration": 0.003093,
     "end_time": "2024-05-29T22:25:15.242155",
     "exception": false,
     "start_time": "2024-05-29T22:25:15.239062",
     "status": "completed"
    },
    "tags": []
   },
   "source": [
    "### Time series categories in one column"
   ]
  },
  {
   "cell_type": "code",
   "execution_count": 14,
   "id": "98f9ebdd",
   "metadata": {
    "execution": {
     "iopub.execute_input": "2024-05-29T22:25:15.249730Z",
     "iopub.status.busy": "2024-05-29T22:25:15.249610Z",
     "iopub.status.idle": "2024-05-29T22:25:15.253706Z",
     "shell.execute_reply": "2024-05-29T22:25:15.253510Z"
    },
    "jupyter": {
     "source_hidden": true
    },
    "papermill": {
     "duration": 0.008721,
     "end_time": "2024-05-29T22:25:15.254380",
     "exception": false,
     "start_time": "2024-05-29T22:25:15.245659",
     "status": "completed"
    },
    "tags": []
   },
   "outputs": [
    {
     "data": {
      "text/html": [
       "<div>\n",
       "<style scoped>\n",
       "    .dataframe tbody tr th:only-of-type {\n",
       "        vertical-align: middle;\n",
       "    }\n",
       "\n",
       "    .dataframe tbody tr th {\n",
       "        vertical-align: top;\n",
       "    }\n",
       "\n",
       "    .dataframe thead th {\n",
       "        text-align: right;\n",
       "    }\n",
       "</style>\n",
       "<table border=\"1\" class=\"dataframe\">\n",
       "  <thead>\n",
       "    <tr style=\"text-align: right;\">\n",
       "      <th></th>\n",
       "      <th>technology</th>\n",
       "      <th>generation</th>\n",
       "    </tr>\n",
       "    <tr>\n",
       "      <th>time</th>\n",
       "      <th></th>\n",
       "      <th></th>\n",
       "    </tr>\n",
       "  </thead>\n",
       "  <tbody>\n",
       "    <tr>\n",
       "      <th>2022-09-01 00:00:00</th>\n",
       "      <td>Solar Photovoltaic</td>\n",
       "      <td>1.000</td>\n",
       "    </tr>\n",
       "    <tr>\n",
       "      <th>2022-09-01 01:00:00</th>\n",
       "      <td>Solar Photovoltaic</td>\n",
       "      <td>1.000</td>\n",
       "    </tr>\n",
       "    <tr>\n",
       "      <th>2022-09-01 02:00:00</th>\n",
       "      <td>Solar Photovoltaic</td>\n",
       "      <td>1.200</td>\n",
       "    </tr>\n",
       "    <tr>\n",
       "      <th>2022-09-01 03:00:00</th>\n",
       "      <td>Solar Photovoltaic</td>\n",
       "      <td>0.200</td>\n",
       "    </tr>\n",
       "    <tr>\n",
       "      <th>2022-09-01 04:00:00</th>\n",
       "      <td>Solar Photovoltaic</td>\n",
       "      <td>0.400</td>\n",
       "    </tr>\n",
       "    <tr>\n",
       "      <th>...</th>\n",
       "      <td>...</td>\n",
       "      <td>...</td>\n",
       "    </tr>\n",
       "    <tr>\n",
       "      <th>2023-08-31 19:00:00</th>\n",
       "      <td>Eolic</td>\n",
       "      <td>2780.800</td>\n",
       "    </tr>\n",
       "    <tr>\n",
       "      <th>2023-08-31 20:00:00</th>\n",
       "      <td>Eolic</td>\n",
       "      <td>3072.800</td>\n",
       "    </tr>\n",
       "    <tr>\n",
       "      <th>2023-08-31 21:00:00</th>\n",
       "      <td>Eolic</td>\n",
       "      <td>3057.150</td>\n",
       "    </tr>\n",
       "    <tr>\n",
       "      <th>2023-08-31 22:00:00</th>\n",
       "      <td>Eolic</td>\n",
       "      <td>3057.950</td>\n",
       "    </tr>\n",
       "    <tr>\n",
       "      <th>2023-08-31 23:00:00</th>\n",
       "      <td>Eolic</td>\n",
       "      <td>3028.675</td>\n",
       "    </tr>\n",
       "  </tbody>\n",
       "</table>\n",
       "<p>17518 rows × 2 columns</p>\n",
       "</div>"
      ],
      "text/plain": [
       "                             technology  generation\n",
       "time                                               \n",
       "2022-09-01 00:00:00  Solar Photovoltaic       1.000\n",
       "2022-09-01 01:00:00  Solar Photovoltaic       1.000\n",
       "2022-09-01 02:00:00  Solar Photovoltaic       1.200\n",
       "2022-09-01 03:00:00  Solar Photovoltaic       0.200\n",
       "2022-09-01 04:00:00  Solar Photovoltaic       0.400\n",
       "...                                 ...         ...\n",
       "2023-08-31 19:00:00               Eolic    2780.800\n",
       "2023-08-31 20:00:00               Eolic    3072.800\n",
       "2023-08-31 21:00:00               Eolic    3057.150\n",
       "2023-08-31 22:00:00               Eolic    3057.950\n",
       "2023-08-31 23:00:00               Eolic    3028.675\n",
       "\n",
       "[17518 rows x 2 columns]"
      ]
     },
     "execution_count": 14,
     "metadata": {},
     "output_type": "execute_result"
    }
   ],
   "source": [
    "dff = df_renewable.melt(ignore_index=False, value_name='generation', var_name='technology')\n",
    "dff"
   ]
  },
  {
   "cell_type": "markdown",
   "id": "07829c35",
   "metadata": {
    "papermill": {
     "duration": 0.003255,
     "end_time": "2024-05-29T22:25:15.261039",
     "exception": false,
     "start_time": "2024-05-29T22:25:15.257784",
     "status": "completed"
    },
    "tags": []
   },
   "source": [
    "### Create columns with datetime information"
   ]
  },
  {
   "cell_type": "code",
   "execution_count": 15,
   "id": "43aabb01",
   "metadata": {
    "execution": {
     "iopub.execute_input": "2024-05-29T22:25:15.268776Z",
     "iopub.status.busy": "2024-05-29T22:25:15.268671Z",
     "iopub.status.idle": "2024-05-29T22:25:15.273554Z",
     "shell.execute_reply": "2024-05-29T22:25:15.273359Z"
    },
    "jupyter": {
     "source_hidden": true
    },
    "papermill": {
     "duration": 0.009678,
     "end_time": "2024-05-29T22:25:15.274239",
     "exception": false,
     "start_time": "2024-05-29T22:25:15.264561",
     "status": "completed"
    },
    "tags": []
   },
   "outputs": [
    {
     "data": {
      "text/html": [
       "<div>\n",
       "<style scoped>\n",
       "    .dataframe tbody tr th:only-of-type {\n",
       "        vertical-align: middle;\n",
       "    }\n",
       "\n",
       "    .dataframe tbody tr th {\n",
       "        vertical-align: top;\n",
       "    }\n",
       "\n",
       "    .dataframe thead th {\n",
       "        text-align: right;\n",
       "    }\n",
       "</style>\n",
       "<table border=\"1\" class=\"dataframe\">\n",
       "  <thead>\n",
       "    <tr style=\"text-align: right;\">\n",
       "      <th></th>\n",
       "      <th>technology</th>\n",
       "      <th>generation</th>\n",
       "      <th>year</th>\n",
       "      <th>month</th>\n",
       "      <th>day</th>\n",
       "      <th>hour</th>\n",
       "    </tr>\n",
       "    <tr>\n",
       "      <th>time</th>\n",
       "      <th></th>\n",
       "      <th></th>\n",
       "      <th></th>\n",
       "      <th></th>\n",
       "      <th></th>\n",
       "      <th></th>\n",
       "    </tr>\n",
       "  </thead>\n",
       "  <tbody>\n",
       "    <tr>\n",
       "      <th>2022-09-01 00:00:00</th>\n",
       "      <td>Solar Photovoltaic</td>\n",
       "      <td>1.000</td>\n",
       "      <td>2022</td>\n",
       "      <td>9</td>\n",
       "      <td>1</td>\n",
       "      <td>0</td>\n",
       "    </tr>\n",
       "    <tr>\n",
       "      <th>2022-09-01 01:00:00</th>\n",
       "      <td>Solar Photovoltaic</td>\n",
       "      <td>1.000</td>\n",
       "      <td>2022</td>\n",
       "      <td>9</td>\n",
       "      <td>1</td>\n",
       "      <td>1</td>\n",
       "    </tr>\n",
       "    <tr>\n",
       "      <th>2022-09-01 02:00:00</th>\n",
       "      <td>Solar Photovoltaic</td>\n",
       "      <td>1.200</td>\n",
       "      <td>2022</td>\n",
       "      <td>9</td>\n",
       "      <td>1</td>\n",
       "      <td>2</td>\n",
       "    </tr>\n",
       "    <tr>\n",
       "      <th>2022-09-01 03:00:00</th>\n",
       "      <td>Solar Photovoltaic</td>\n",
       "      <td>0.200</td>\n",
       "      <td>2022</td>\n",
       "      <td>9</td>\n",
       "      <td>1</td>\n",
       "      <td>3</td>\n",
       "    </tr>\n",
       "    <tr>\n",
       "      <th>2022-09-01 04:00:00</th>\n",
       "      <td>Solar Photovoltaic</td>\n",
       "      <td>0.400</td>\n",
       "      <td>2022</td>\n",
       "      <td>9</td>\n",
       "      <td>1</td>\n",
       "      <td>4</td>\n",
       "    </tr>\n",
       "    <tr>\n",
       "      <th>...</th>\n",
       "      <td>...</td>\n",
       "      <td>...</td>\n",
       "      <td>...</td>\n",
       "      <td>...</td>\n",
       "      <td>...</td>\n",
       "      <td>...</td>\n",
       "    </tr>\n",
       "    <tr>\n",
       "      <th>2023-08-31 19:00:00</th>\n",
       "      <td>Eolic</td>\n",
       "      <td>2780.800</td>\n",
       "      <td>2023</td>\n",
       "      <td>8</td>\n",
       "      <td>31</td>\n",
       "      <td>19</td>\n",
       "    </tr>\n",
       "    <tr>\n",
       "      <th>2023-08-31 20:00:00</th>\n",
       "      <td>Eolic</td>\n",
       "      <td>3072.800</td>\n",
       "      <td>2023</td>\n",
       "      <td>8</td>\n",
       "      <td>31</td>\n",
       "      <td>20</td>\n",
       "    </tr>\n",
       "    <tr>\n",
       "      <th>2023-08-31 21:00:00</th>\n",
       "      <td>Eolic</td>\n",
       "      <td>3057.150</td>\n",
       "      <td>2023</td>\n",
       "      <td>8</td>\n",
       "      <td>31</td>\n",
       "      <td>21</td>\n",
       "    </tr>\n",
       "    <tr>\n",
       "      <th>2023-08-31 22:00:00</th>\n",
       "      <td>Eolic</td>\n",
       "      <td>3057.950</td>\n",
       "      <td>2023</td>\n",
       "      <td>8</td>\n",
       "      <td>31</td>\n",
       "      <td>22</td>\n",
       "    </tr>\n",
       "    <tr>\n",
       "      <th>2023-08-31 23:00:00</th>\n",
       "      <td>Eolic</td>\n",
       "      <td>3028.675</td>\n",
       "      <td>2023</td>\n",
       "      <td>8</td>\n",
       "      <td>31</td>\n",
       "      <td>23</td>\n",
       "    </tr>\n",
       "  </tbody>\n",
       "</table>\n",
       "<p>17518 rows × 6 columns</p>\n",
       "</div>"
      ],
      "text/plain": [
       "                             technology  generation  year  month  day  hour\n",
       "time                                                                       \n",
       "2022-09-01 00:00:00  Solar Photovoltaic       1.000  2022      9    1     0\n",
       "2022-09-01 01:00:00  Solar Photovoltaic       1.000  2022      9    1     1\n",
       "2022-09-01 02:00:00  Solar Photovoltaic       1.200  2022      9    1     2\n",
       "2022-09-01 03:00:00  Solar Photovoltaic       0.200  2022      9    1     3\n",
       "2022-09-01 04:00:00  Solar Photovoltaic       0.400  2022      9    1     4\n",
       "...                                 ...         ...   ...    ...  ...   ...\n",
       "2023-08-31 19:00:00               Eolic    2780.800  2023      8   31    19\n",
       "2023-08-31 20:00:00               Eolic    3072.800  2023      8   31    20\n",
       "2023-08-31 21:00:00               Eolic    3057.150  2023      8   31    21\n",
       "2023-08-31 22:00:00               Eolic    3057.950  2023      8   31    22\n",
       "2023-08-31 23:00:00               Eolic    3028.675  2023      8   31    23\n",
       "\n",
       "[17518 rows x 6 columns]"
      ]
     },
     "execution_count": 15,
     "metadata": {},
     "output_type": "execute_result"
    }
   ],
   "source": [
    "dff = (dff\n",
    "        .assign(\n",
    "            year=lambda df: df.index.year,\n",
    "            month=lambda df: df.index.month,\n",
    "            day=lambda df: df.index.day,\n",
    "            hour=lambda df: df.index.hour))\n",
    "\n",
    "dff"
   ]
  },
  {
   "cell_type": "markdown",
   "id": "a603eaf7",
   "metadata": {
    "papermill": {
     "duration": 0.003301,
     "end_time": "2024-05-29T22:25:15.281153",
     "exception": false,
     "start_time": "2024-05-29T22:25:15.277852",
     "status": "completed"
    },
    "tags": []
   },
   "source": [
    "### Process `pivot_table`\n",
    "\n",
    "- Use this methodology."
   ]
  },
  {
   "cell_type": "code",
   "execution_count": 16,
   "id": "a7edefd5",
   "metadata": {
    "execution": {
     "iopub.execute_input": "2024-05-29T22:25:15.288609Z",
     "iopub.status.busy": "2024-05-29T22:25:15.288505Z",
     "iopub.status.idle": "2024-05-29T22:25:15.296620Z",
     "shell.execute_reply": "2024-05-29T22:25:15.296432Z"
    },
    "jupyter": {
     "source_hidden": true
    },
    "papermill": {
     "duration": 0.012847,
     "end_time": "2024-05-29T22:25:15.297342",
     "exception": false,
     "start_time": "2024-05-29T22:25:15.284495",
     "status": "completed"
    },
    "tags": []
   },
   "outputs": [
    {
     "data": {
      "text/html": [
       "<div>\n",
       "<style scoped>\n",
       "    .dataframe tbody tr th:only-of-type {\n",
       "        vertical-align: middle;\n",
       "    }\n",
       "\n",
       "    .dataframe tbody tr th {\n",
       "        vertical-align: top;\n",
       "    }\n",
       "\n",
       "    .dataframe thead tr th {\n",
       "        text-align: left;\n",
       "    }\n",
       "\n",
       "    .dataframe thead tr:last-of-type th {\n",
       "        text-align: right;\n",
       "    }\n",
       "</style>\n",
       "<table border=\"1\" class=\"dataframe\">\n",
       "  <thead>\n",
       "    <tr>\n",
       "      <th>year</th>\n",
       "      <th colspan=\"4\" halign=\"left\">2022</th>\n",
       "      <th colspan=\"8\" halign=\"left\">2023</th>\n",
       "    </tr>\n",
       "    <tr>\n",
       "      <th>month</th>\n",
       "      <th>9</th>\n",
       "      <th>10</th>\n",
       "      <th>11</th>\n",
       "      <th>12</th>\n",
       "      <th>1</th>\n",
       "      <th>2</th>\n",
       "      <th>3</th>\n",
       "      <th>4</th>\n",
       "      <th>5</th>\n",
       "      <th>6</th>\n",
       "      <th>7</th>\n",
       "      <th>8</th>\n",
       "    </tr>\n",
       "    <tr>\n",
       "      <th>technology</th>\n",
       "      <th></th>\n",
       "      <th></th>\n",
       "      <th></th>\n",
       "      <th></th>\n",
       "      <th></th>\n",
       "      <th></th>\n",
       "      <th></th>\n",
       "      <th></th>\n",
       "      <th></th>\n",
       "      <th></th>\n",
       "      <th></th>\n",
       "      <th></th>\n",
       "    </tr>\n",
       "  </thead>\n",
       "  <tbody>\n",
       "    <tr>\n",
       "      <th>Eolic</th>\n",
       "      <td>4058314.734</td>\n",
       "      <td>5002114.206</td>\n",
       "      <td>6657801.544</td>\n",
       "      <td>5671385.864</td>\n",
       "      <td>7426712.678</td>\n",
       "      <td>4700334.703</td>\n",
       "      <td>6603070.491</td>\n",
       "      <td>4844750.027</td>\n",
       "      <td>5370790.331</td>\n",
       "      <td>3083011.561</td>\n",
       "      <td>3759950.872</td>\n",
       "      <td>4197239.743</td>\n",
       "    </tr>\n",
       "    <tr>\n",
       "      <th>Solar Photovoltaic</th>\n",
       "      <td>2636219.180</td>\n",
       "      <td>2056758.270</td>\n",
       "      <td>1535995.490</td>\n",
       "      <td>1176871.031</td>\n",
       "      <td>1744956.450</td>\n",
       "      <td>2181165.122</td>\n",
       "      <td>2985426.080</td>\n",
       "      <td>3635891.249</td>\n",
       "      <td>3803151.814</td>\n",
       "      <td>3855930.011</td>\n",
       "      <td>4491017.672</td>\n",
       "      <td>4403223.582</td>\n",
       "    </tr>\n",
       "  </tbody>\n",
       "</table>\n",
       "</div>"
      ],
      "text/plain": [
       "year                       2022                                         \\\n",
       "month                        9            10           11           12   \n",
       "technology                                                               \n",
       "Eolic               4058314.734  5002114.206  6657801.544  5671385.864   \n",
       "Solar Photovoltaic  2636219.180  2056758.270  1535995.490  1176871.031   \n",
       "\n",
       "year                       2023                                         \\\n",
       "month                        1            2            3            4    \n",
       "technology                                                               \n",
       "Eolic               7426712.678  4700334.703  6603070.491  4844750.027   \n",
       "Solar Photovoltaic  1744956.450  2181165.122  2985426.080  3635891.249   \n",
       "\n",
       "year                                                                    \n",
       "month                        5            6            7            8   \n",
       "technology                                                              \n",
       "Eolic               5370790.331  3083011.561  3759950.872  4197239.743  \n",
       "Solar Photovoltaic  3803151.814  3855930.011  4491017.672  4403223.582  "
      ]
     },
     "execution_count": 16,
     "metadata": {},
     "output_type": "execute_result"
    }
   ],
   "source": [
    "dff = dff.pivot_table(\n",
    "                        values='generation',\n",
    "                        index='technology',\n",
    "                        columns=['year', 'month'],\n",
    "                        aggfunc='sum')\n",
    "\n",
    "dff"
   ]
  },
  {
   "cell_type": "markdown",
   "id": "2773419d",
   "metadata": {
    "papermill": {
     "duration": 0.003359,
     "end_time": "2024-05-29T22:25:15.304392",
     "exception": false,
     "start_time": "2024-05-29T22:25:15.301033",
     "status": "completed"
    },
    "tags": []
   },
   "source": [
    "### Style DataFrame"
   ]
  },
  {
   "cell_type": "code",
   "execution_count": 17,
   "id": "38d680d9",
   "metadata": {
    "execution": {
     "iopub.execute_input": "2024-05-29T22:25:15.312572Z",
     "iopub.status.busy": "2024-05-29T22:25:15.312353Z",
     "iopub.status.idle": "2024-05-29T22:25:15.315266Z",
     "shell.execute_reply": "2024-05-29T22:25:15.315056Z"
    },
    "jupyter": {
     "source_hidden": true
    },
    "papermill": {
     "duration": 0.008288,
     "end_time": "2024-05-29T22:25:15.316115",
     "exception": false,
     "start_time": "2024-05-29T22:25:15.307827",
     "status": "completed"
    },
    "tags": []
   },
   "outputs": [],
   "source": [
    "dff = (dff\n",
    " .div(1_000)\n",
    " .style\n",
    "    .background_gradient(cmap='Oranges', axis=0, vmin=0, vmax=7000)\n",
    "    .format(precision=2))"
   ]
  },
  {
   "cell_type": "code",
   "execution_count": 18,
   "id": "cdef6e5f",
   "metadata": {
    "execution": {
     "iopub.execute_input": "2024-05-29T22:25:15.326423Z",
     "iopub.status.busy": "2024-05-29T22:25:15.326272Z",
     "iopub.status.idle": "2024-05-29T22:25:15.332245Z",
     "shell.execute_reply": "2024-05-29T22:25:15.332002Z"
    },
    "jupyter": {
     "source_hidden": true
    },
    "papermill": {
     "duration": 0.011193,
     "end_time": "2024-05-29T22:25:15.333066",
     "exception": false,
     "start_time": "2024-05-29T22:25:15.321873",
     "status": "completed"
    },
    "tags": []
   },
   "outputs": [
    {
     "data": {
      "text/html": [
       "<style type=\"text/css\">\n",
       "#T_8216a_row0_col0 {\n",
       "  background-color: #f57622;\n",
       "  color: #f1f1f1;\n",
       "}\n",
       "#T_8216a_row0_col1 {\n",
       "  background-color: #e05206;\n",
       "  color: #f1f1f1;\n",
       "}\n",
       "#T_8216a_row0_col2 {\n",
       "  background-color: #8e2d04;\n",
       "  color: #f1f1f1;\n",
       "}\n",
       "#T_8216a_row0_col3 {\n",
       "  background-color: #c03f02;\n",
       "  color: #f1f1f1;\n",
       "}\n",
       "#T_8216a_row0_col4 {\n",
       "  background-color: #7f2704;\n",
       "  color: #f1f1f1;\n",
       "}\n",
       "#T_8216a_row0_col5 {\n",
       "  background-color: #e85d0c;\n",
       "  color: #f1f1f1;\n",
       "}\n",
       "#T_8216a_row0_col6 {\n",
       "  background-color: #902e04;\n",
       "  color: #f1f1f1;\n",
       "}\n",
       "#T_8216a_row0_col7 {\n",
       "  background-color: #e45709;\n",
       "  color: #f1f1f1;\n",
       "}\n",
       "#T_8216a_row0_col8 {\n",
       "  background-color: #d14501;\n",
       "  color: #f1f1f1;\n",
       "}\n",
       "#T_8216a_row0_col9 {\n",
       "  background-color: #fd9d53;\n",
       "  color: #000000;\n",
       "}\n",
       "#T_8216a_row0_col10 {\n",
       "  background-color: #f98230;\n",
       "  color: #f1f1f1;\n",
       "}\n",
       "#T_8216a_row0_col11 {\n",
       "  background-color: #f3701b;\n",
       "  color: #f1f1f1;\n",
       "}\n",
       "#T_8216a_row1_col0 {\n",
       "  background-color: #fdae6a;\n",
       "  color: #000000;\n",
       "}\n",
       "#T_8216a_row1_col1 {\n",
       "  background-color: #fdc48f;\n",
       "  color: #000000;\n",
       "}\n",
       "#T_8216a_row1_col2 {\n",
       "  background-color: #fdd5ad;\n",
       "  color: #000000;\n",
       "}\n",
       "#T_8216a_row1_col3 {\n",
       "  background-color: #fedebf;\n",
       "  color: #000000;\n",
       "}\n",
       "#T_8216a_row1_col4 {\n",
       "  background-color: #fdd1a3;\n",
       "  color: #000000;\n",
       "}\n",
       "#T_8216a_row1_col5 {\n",
       "  background-color: #fdc088;\n",
       "  color: #000000;\n",
       "}\n",
       "#T_8216a_row1_col6 {\n",
       "  background-color: #fda057;\n",
       "  color: #000000;\n",
       "}\n",
       "#T_8216a_row1_col7 {\n",
       "  background-color: #fb8836;\n",
       "  color: #f1f1f1;\n",
       "}\n",
       "#T_8216a_row1_col8 {\n",
       "  background-color: #f9802d;\n",
       "  color: #f1f1f1;\n",
       "}\n",
       "#T_8216a_row1_col9 {\n",
       "  background-color: #f87e2b;\n",
       "  color: #f1f1f1;\n",
       "}\n",
       "#T_8216a_row1_col10 {\n",
       "  background-color: #ee6410;\n",
       "  color: #f1f1f1;\n",
       "}\n",
       "#T_8216a_row1_col11 {\n",
       "  background-color: #f06712;\n",
       "  color: #f1f1f1;\n",
       "}\n",
       "</style>\n",
       "<table id=\"T_8216a\">\n",
       "  <thead>\n",
       "    <tr>\n",
       "      <th class=\"index_name level0\" >year</th>\n",
       "      <th id=\"T_8216a_level0_col0\" class=\"col_heading level0 col0\" colspan=\"4\">2022</th>\n",
       "      <th id=\"T_8216a_level0_col4\" class=\"col_heading level0 col4\" colspan=\"8\">2023</th>\n",
       "    </tr>\n",
       "    <tr>\n",
       "      <th class=\"index_name level1\" >month</th>\n",
       "      <th id=\"T_8216a_level1_col0\" class=\"col_heading level1 col0\" >9</th>\n",
       "      <th id=\"T_8216a_level1_col1\" class=\"col_heading level1 col1\" >10</th>\n",
       "      <th id=\"T_8216a_level1_col2\" class=\"col_heading level1 col2\" >11</th>\n",
       "      <th id=\"T_8216a_level1_col3\" class=\"col_heading level1 col3\" >12</th>\n",
       "      <th id=\"T_8216a_level1_col4\" class=\"col_heading level1 col4\" >1</th>\n",
       "      <th id=\"T_8216a_level1_col5\" class=\"col_heading level1 col5\" >2</th>\n",
       "      <th id=\"T_8216a_level1_col6\" class=\"col_heading level1 col6\" >3</th>\n",
       "      <th id=\"T_8216a_level1_col7\" class=\"col_heading level1 col7\" >4</th>\n",
       "      <th id=\"T_8216a_level1_col8\" class=\"col_heading level1 col8\" >5</th>\n",
       "      <th id=\"T_8216a_level1_col9\" class=\"col_heading level1 col9\" >6</th>\n",
       "      <th id=\"T_8216a_level1_col10\" class=\"col_heading level1 col10\" >7</th>\n",
       "      <th id=\"T_8216a_level1_col11\" class=\"col_heading level1 col11\" >8</th>\n",
       "    </tr>\n",
       "    <tr>\n",
       "      <th class=\"index_name level0\" >technology</th>\n",
       "      <th class=\"blank col0\" >&nbsp;</th>\n",
       "      <th class=\"blank col1\" >&nbsp;</th>\n",
       "      <th class=\"blank col2\" >&nbsp;</th>\n",
       "      <th class=\"blank col3\" >&nbsp;</th>\n",
       "      <th class=\"blank col4\" >&nbsp;</th>\n",
       "      <th class=\"blank col5\" >&nbsp;</th>\n",
       "      <th class=\"blank col6\" >&nbsp;</th>\n",
       "      <th class=\"blank col7\" >&nbsp;</th>\n",
       "      <th class=\"blank col8\" >&nbsp;</th>\n",
       "      <th class=\"blank col9\" >&nbsp;</th>\n",
       "      <th class=\"blank col10\" >&nbsp;</th>\n",
       "      <th class=\"blank col11\" >&nbsp;</th>\n",
       "    </tr>\n",
       "  </thead>\n",
       "  <tbody>\n",
       "    <tr>\n",
       "      <th id=\"T_8216a_level0_row0\" class=\"row_heading level0 row0\" >Eolic</th>\n",
       "      <td id=\"T_8216a_row0_col0\" class=\"data row0 col0\" >4058.31</td>\n",
       "      <td id=\"T_8216a_row0_col1\" class=\"data row0 col1\" >5002.11</td>\n",
       "      <td id=\"T_8216a_row0_col2\" class=\"data row0 col2\" >6657.80</td>\n",
       "      <td id=\"T_8216a_row0_col3\" class=\"data row0 col3\" >5671.39</td>\n",
       "      <td id=\"T_8216a_row0_col4\" class=\"data row0 col4\" >7426.71</td>\n",
       "      <td id=\"T_8216a_row0_col5\" class=\"data row0 col5\" >4700.33</td>\n",
       "      <td id=\"T_8216a_row0_col6\" class=\"data row0 col6\" >6603.07</td>\n",
       "      <td id=\"T_8216a_row0_col7\" class=\"data row0 col7\" >4844.75</td>\n",
       "      <td id=\"T_8216a_row0_col8\" class=\"data row0 col8\" >5370.79</td>\n",
       "      <td id=\"T_8216a_row0_col9\" class=\"data row0 col9\" >3083.01</td>\n",
       "      <td id=\"T_8216a_row0_col10\" class=\"data row0 col10\" >3759.95</td>\n",
       "      <td id=\"T_8216a_row0_col11\" class=\"data row0 col11\" >4197.24</td>\n",
       "    </tr>\n",
       "    <tr>\n",
       "      <th id=\"T_8216a_level0_row1\" class=\"row_heading level0 row1\" >Solar Photovoltaic</th>\n",
       "      <td id=\"T_8216a_row1_col0\" class=\"data row1 col0\" >2636.22</td>\n",
       "      <td id=\"T_8216a_row1_col1\" class=\"data row1 col1\" >2056.76</td>\n",
       "      <td id=\"T_8216a_row1_col2\" class=\"data row1 col2\" >1536.00</td>\n",
       "      <td id=\"T_8216a_row1_col3\" class=\"data row1 col3\" >1176.87</td>\n",
       "      <td id=\"T_8216a_row1_col4\" class=\"data row1 col4\" >1744.96</td>\n",
       "      <td id=\"T_8216a_row1_col5\" class=\"data row1 col5\" >2181.17</td>\n",
       "      <td id=\"T_8216a_row1_col6\" class=\"data row1 col6\" >2985.43</td>\n",
       "      <td id=\"T_8216a_row1_col7\" class=\"data row1 col7\" >3635.89</td>\n",
       "      <td id=\"T_8216a_row1_col8\" class=\"data row1 col8\" >3803.15</td>\n",
       "      <td id=\"T_8216a_row1_col9\" class=\"data row1 col9\" >3855.93</td>\n",
       "      <td id=\"T_8216a_row1_col10\" class=\"data row1 col10\" >4491.02</td>\n",
       "      <td id=\"T_8216a_row1_col11\" class=\"data row1 col11\" >4403.22</td>\n",
       "    </tr>\n",
       "  </tbody>\n",
       "</table>\n"
      ],
      "text/plain": [
       "<pandas.io.formats.style.Styler at 0x24898649bd0>"
      ]
     },
     "execution_count": 18,
     "metadata": {},
     "output_type": "execute_result"
    }
   ],
   "source": [
    "dff"
   ]
  },
  {
   "cell_type": "code",
   "execution_count": null,
   "id": "89f0ed35",
   "metadata": {},
   "outputs": [],
   "source": []
  }
 ],
 "metadata": {
  "kernelspec": {
   "display_name": "Python 3",
   "language": "python",
   "name": "python3"
  },
  "language_info": {
   "codemirror_mode": {
    "name": "ipython",
    "version": 3
   },
   "file_extension": ".py",
   "mimetype": "text/x-python",
   "name": "python",
   "nbconvert_exporter": "python",
   "pygments_lexer": "ipython3",
   "version": "3.11.9"
  },
  "papermill": {
   "default_parameters": {},
   "duration": 3.728502,
   "end_time": "2024-05-29T22:25:15.656277",
   "environment_variables": {},
   "exception": null,
   "input_path": "/Users/sota/Library/CloudStorage/Dropbox/2 Business/1 Datons/2 Areas/Courses/22 TS/solutions-new/notebooks/10_Preprocessing & DataViz/2_Bivariate/1.ipynb",
   "output_path": "/Users/sota/Library/CloudStorage/Dropbox/2 Business/1 Datons/2 Areas/Courses/22 TS/solutions-new/notebooks/10_Preprocessing & DataViz/2_Bivariate/1.ipynb",
   "parameters": {},
   "start_time": "2024-05-29T22:25:11.927775",
   "version": "2.5.0"
  }
 },
 "nbformat": 4,
 "nbformat_minor": 5
}
