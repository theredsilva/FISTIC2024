{
 "cells": [
  {
   "cell_type": "markdown",
   "metadata": {
    "id": "jTphEajTRcBT"
   },
   "source": [
    "# Diabetes"
   ]
  },
  {
   "cell_type": "markdown",
   "metadata": {
    "id": "C6BwwaWdRZN7"
   },
   "source": [
    "<img src= \"https://frenzy86.s3.eu-west-2.amazonaws.com/python/Diabetics.png\" width=1000>\n"
   ]
  },
  {
   "cell_type": "markdown",
   "metadata": {
    "id": "oRCCwI3F2bbc"
   },
   "source": [
    "Several constraints were placed on the selection of these instances from a larger database. In particular, all patients here are females at least 21 years old of Pima Indian heritage.\n",
    "\n",
    "- Pregnancies: Number of times pregnant\n",
    "- Glucose: Plasma glucose concentration a 2 hours in an oral glucose tolerance test\n",
    "- BloodPressure: Diastolic blood pressure (mm Hg)\n",
    "- SkinThickness: Triceps skin fold thickness (mm)\n",
    "- Insulin: 2-Hour serum insulin (mu U/ml)\n",
    "- BMI: Body mass index (weight in kg/(height in m)^2)\n",
    "- DiabetesPedigreeFunction: Diabetes pedigree function\n",
    "- Age: Age (years)\n",
    "- Outcome: Class variable (0 or 1)"
   ]
  },
  {
   "cell_type": "code",
   "execution_count": 6,
   "metadata": {
    "colab": {
     "base_uri": "https://localhost:8080/"
    },
    "executionInfo": {
     "elapsed": 715,
     "status": "ok",
     "timestamp": 1731324610166,
     "user": {
      "displayName": "Daniele Grotti",
      "userId": "05993002232846155126"
     },
     "user_tz": -60
    },
    "id": "_b4TmedT_AQ8",
    "outputId": "700b0ae0-7e2a-4b71-9ef5-3e0667af76d5"
   },
   "outputs": [
    {
     "name": "stdout",
     "output_type": "stream",
     "text": [
      "--2024-11-11 11:28:16--  https://frenzy86.s3.eu-west-2.amazonaws.com/python/data/diabetes_1.csv\n",
      "Resolving frenzy86.s3.eu-west-2.amazonaws.com (frenzy86.s3.eu-west-2.amazonaws.com)... 3.5.245.169, 52.95.150.66, 52.95.149.150, ...\n",
      "Connecting to frenzy86.s3.eu-west-2.amazonaws.com (frenzy86.s3.eu-west-2.amazonaws.com)|3.5.245.169|:443... connected.\n",
      "HTTP request sent, awaiting response... 200 OK\n",
      "Length: 23873 (23K) [text/csv]\n",
      "Saving to: ‘diabetes_1.csv.1’\n",
      "\n",
      "diabetes_1.csv.1    100%[===================>]  23.31K  --.-KB/s    in 0.001s  \n",
      "\n",
      "2024-11-11 11:28:17 (32.9 MB/s) - ‘diabetes_1.csv.1’ saved [23873/23873]\n",
      "\n"
     ]
    }
   ],
   "source": [
    "!wget https://frenzy86.s3.eu-west-2.amazonaws.com/python/data/diabetes_1.csv"
   ]
  },
  {
   "cell_type": "code",
   "execution_count": null,
   "metadata": {},
   "outputs": [],
   "source": []
  },
  {
   "cell_type": "code",
   "execution_count": null,
   "metadata": {},
   "outputs": [],
   "source": []
  },
  {
   "cell_type": "code",
   "execution_count": null,
   "metadata": {},
   "outputs": [],
   "source": []
  },
  {
   "cell_type": "code",
   "execution_count": 27,
   "metadata": {
    "colab": {
     "base_uri": "https://localhost:8080/",
     "height": 574,
     "referenced_widgets": [
      "239a4f530a9f495896e2fc9bde83a6a4",
      "0a204379b6164bbda97d5c71dc514ed2",
      "bd6ecf5abef9440b82d3d6c85573f3b8",
      "c49237d9353b4d3ea05100c8fb9f06c3",
      "3513f5d0b4a84cd6b986229305079498",
      "0a09ca7389e94a25a0bf10b5732ee45b",
      "603d97e483734dd4aca5972529c6aefa"
     ]
    },
    "executionInfo": {
     "elapsed": 566,
     "status": "ok",
     "timestamp": 1731325831151,
     "user": {
      "displayName": "Daniele Grotti",
      "userId": "05993002232846155126"
     },
     "user_tz": -60
    },
    "id": "x0mL3iIeBMcV",
    "outputId": "e4d6658f-e870-4e99-c649-81eda81e5216"
   },
   "outputs": [
    {
     "data": {
      "application/vnd.jupyter.widget-view+json": {
       "model_id": "239a4f530a9f495896e2fc9bde83a6a4",
       "version_major": 2,
       "version_minor": 0
      },
      "text/plain": [
       "interactive(children=(FloatSlider(value=0.5, description='threshold', max=1.0, step=0.01), Output()), _dom_cla…"
      ]
     },
     "metadata": {},
     "output_type": "display_data"
    }
   ],
   "source": [
    "from sklearn.metrics import confusion_matrix\n",
    "# see how model confusion matrix varies with threshold\n",
    "bestmodel = model_lr\n",
    "\n",
    "#labels = y_test.sort_values().drop_duplicates().to_list()\n",
    "labels = ['No Diabetics','Diabetics']\n",
    "\n",
    "def make_confusion_matrix(model, threshold=0.5):\n",
    "    # Predict class 1 if probability of being in class 1 is greater than threshold\n",
    "    # (bestmodel.predict(X_test) is done automatically with a threshold of 0.5)\n",
    "    y_pred = (bestmodel.predict_proba(X_test)[:, 1] >= threshold)\n",
    "    conf = confusion_matrix(y_test, y_pred)\n",
    "    plt.figure(figsize = [6,6])\n",
    "    sns.heatmap(conf, cmap='Blues', annot=True, square=True, cbar=False,\n",
    "           xticklabels=labels,\n",
    "           yticklabels=labels);\n",
    "    plt.xlabel('Actual')\n",
    "    plt.ylabel('Prediction')\n",
    "    plt.show() # This is part that needs to be added to fix the issue\n",
    "\n",
    "# Let's see how our confusion matrix changes with changes to the cutoff!\n",
    "from ipywidgets import interactive, FloatSlider\n",
    "interactive(lambda threshold: make_confusion_matrix(bestmodel, threshold), threshold=(0.0,1.0,0.01))"
   ]
  }
 ],
 "metadata": {
  "colab": {
   "provenance": []
  },
  "kernelspec": {
   "display_name": "Python 3",
   "name": "python3"
  },
  "language_info": {
   "name": "python"
  },
  "widgets": {
   "application/vnd.jupyter.widget-state+json": {
    "0a09ca7389e94a25a0bf10b5732ee45b": {
     "model_module": "@jupyter-widgets/controls",
     "model_module_version": "1.5.0",
     "model_name": "SliderStyleModel",
     "state": {
      "_model_module": "@jupyter-widgets/controls",
      "_model_module_version": "1.5.0",
      "_model_name": "SliderStyleModel",
      "_view_count": null,
      "_view_module": "@jupyter-widgets/base",
      "_view_module_version": "1.2.0",
      "_view_name": "StyleView",
      "description_width": "",
      "handle_color": null
     }
    },
    "0a204379b6164bbda97d5c71dc514ed2": {
     "model_module": "@jupyter-widgets/controls",
     "model_module_version": "1.5.0",
     "model_name": "FloatSliderModel",
     "state": {
      "_dom_classes": [],
      "_model_module": "@jupyter-widgets/controls",
      "_model_module_version": "1.5.0",
      "_model_name": "FloatSliderModel",
      "_view_count": null,
      "_view_module": "@jupyter-widgets/controls",
      "_view_module_version": "1.5.0",
      "_view_name": "FloatSliderView",
      "continuous_update": true,
      "description": "threshold",
      "description_tooltip": null,
      "disabled": false,
      "layout": "IPY_MODEL_3513f5d0b4a84cd6b986229305079498",
      "max": 1,
      "min": 0,
      "orientation": "horizontal",
      "readout": true,
      "readout_format": ".2f",
      "step": 0.01,
      "style": "IPY_MODEL_0a09ca7389e94a25a0bf10b5732ee45b",
      "value": 0.44
     }
    },
    "239a4f530a9f495896e2fc9bde83a6a4": {
     "model_module": "@jupyter-widgets/controls",
     "model_module_version": "1.5.0",
     "model_name": "VBoxModel",
     "state": {
      "_dom_classes": [
       "widget-interact"
      ],
      "_model_module": "@jupyter-widgets/controls",
      "_model_module_version": "1.5.0",
      "_model_name": "VBoxModel",
      "_view_count": null,
      "_view_module": "@jupyter-widgets/controls",
      "_view_module_version": "1.5.0",
      "_view_name": "VBoxView",
      "box_style": "",
      "children": [
       "IPY_MODEL_0a204379b6164bbda97d5c71dc514ed2",
       "IPY_MODEL_bd6ecf5abef9440b82d3d6c85573f3b8"
      ],
      "layout": "IPY_MODEL_c49237d9353b4d3ea05100c8fb9f06c3"
     }
    },
    "3513f5d0b4a84cd6b986229305079498": {
     "model_module": "@jupyter-widgets/base",
     "model_module_version": "1.2.0",
     "model_name": "LayoutModel",
     "state": {
      "_model_module": "@jupyter-widgets/base",
      "_model_module_version": "1.2.0",
      "_model_name": "LayoutModel",
      "_view_count": null,
      "_view_module": "@jupyter-widgets/base",
      "_view_module_version": "1.2.0",
      "_view_name": "LayoutView",
      "align_content": null,
      "align_items": null,
      "align_self": null,
      "border": null,
      "bottom": null,
      "display": null,
      "flex": null,
      "flex_flow": null,
      "grid_area": null,
      "grid_auto_columns": null,
      "grid_auto_flow": null,
      "grid_auto_rows": null,
      "grid_column": null,
      "grid_gap": null,
      "grid_row": null,
      "grid_template_areas": null,
      "grid_template_columns": null,
      "grid_template_rows": null,
      "height": null,
      "justify_content": null,
      "justify_items": null,
      "left": null,
      "margin": null,
      "max_height": null,
      "max_width": null,
      "min_height": null,
      "min_width": null,
      "object_fit": null,
      "object_position": null,
      "order": null,
      "overflow": null,
      "overflow_x": null,
      "overflow_y": null,
      "padding": null,
      "right": null,
      "top": null,
      "visibility": null,
      "width": null
     }
    },
    "603d97e483734dd4aca5972529c6aefa": {
     "model_module": "@jupyter-widgets/base",
     "model_module_version": "1.2.0",
     "model_name": "LayoutModel",
     "state": {
      "_model_module": "@jupyter-widgets/base",
      "_model_module_version": "1.2.0",
      "_model_name": "LayoutModel",
      "_view_count": null,
      "_view_module": "@jupyter-widgets/base",
      "_view_module_version": "1.2.0",
      "_view_name": "LayoutView",
      "align_content": null,
      "align_items": null,
      "align_self": null,
      "border": null,
      "bottom": null,
      "display": null,
      "flex": null,
      "flex_flow": null,
      "grid_area": null,
      "grid_auto_columns": null,
      "grid_auto_flow": null,
      "grid_auto_rows": null,
      "grid_column": null,
      "grid_gap": null,
      "grid_row": null,
      "grid_template_areas": null,
      "grid_template_columns": null,
      "grid_template_rows": null,
      "height": null,
      "justify_content": null,
      "justify_items": null,
      "left": null,
      "margin": null,
      "max_height": null,
      "max_width": null,
      "min_height": null,
      "min_width": null,
      "object_fit": null,
      "object_position": null,
      "order": null,
      "overflow": null,
      "overflow_x": null,
      "overflow_y": null,
      "padding": null,
      "right": null,
      "top": null,
      "visibility": null,
      "width": null
     }
    },
    "bd6ecf5abef9440b82d3d6c85573f3b8": {
     "model_module": "@jupyter-widgets/output",
     "model_module_version": "1.0.0",
     "model_name": "OutputModel",
     "state": {
      "_dom_classes": [],
      "_model_module": "@jupyter-widgets/output",
      "_model_module_version": "1.0.0",
      "_model_name": "OutputModel",
      "_view_count": null,
      "_view_module": "@jupyter-widgets/output",
      "_view_module_version": "1.0.0",
      "_view_name": "OutputView",
      "layout": "IPY_MODEL_603d97e483734dd4aca5972529c6aefa",
      "msg_id": "",
      "outputs": [
       {
        "data": {
         "image/png": "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\n",
         "text/plain": "<Figure size 600x600 with 1 Axes>"
        },
        "metadata": {},
        "output_type": "display_data"
       }
      ]
     }
    },
    "c49237d9353b4d3ea05100c8fb9f06c3": {
     "model_module": "@jupyter-widgets/base",
     "model_module_version": "1.2.0",
     "model_name": "LayoutModel",
     "state": {
      "_model_module": "@jupyter-widgets/base",
      "_model_module_version": "1.2.0",
      "_model_name": "LayoutModel",
      "_view_count": null,
      "_view_module": "@jupyter-widgets/base",
      "_view_module_version": "1.2.0",
      "_view_name": "LayoutView",
      "align_content": null,
      "align_items": null,
      "align_self": null,
      "border": null,
      "bottom": null,
      "display": null,
      "flex": null,
      "flex_flow": null,
      "grid_area": null,
      "grid_auto_columns": null,
      "grid_auto_flow": null,
      "grid_auto_rows": null,
      "grid_column": null,
      "grid_gap": null,
      "grid_row": null,
      "grid_template_areas": null,
      "grid_template_columns": null,
      "grid_template_rows": null,
      "height": null,
      "justify_content": null,
      "justify_items": null,
      "left": null,
      "margin": null,
      "max_height": null,
      "max_width": null,
      "min_height": null,
      "min_width": null,
      "object_fit": null,
      "object_position": null,
      "order": null,
      "overflow": null,
      "overflow_x": null,
      "overflow_y": null,
      "padding": null,
      "right": null,
      "top": null,
      "visibility": null,
      "width": null
     }
    }
   }
  }
 },
 "nbformat": 4,
 "nbformat_minor": 0
}
