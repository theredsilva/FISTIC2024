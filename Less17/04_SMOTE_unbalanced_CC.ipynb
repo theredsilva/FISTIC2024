{
 "cells": [
  {
   "cell_type": "markdown",
   "metadata": {
    "id": "VBttCKf00S2h"
   },
   "source": [
    "# Imbalanced Classification\n",
    "\n",
    "Imbalanced classification involves developing predictive models on classification datasets that have a severe class imbalance.\n"
   ]
  },
  {
   "cell_type": "code",
   "execution_count": 2,
   "metadata": {
    "executionInfo": {
     "elapsed": 3,
     "status": "ok",
     "timestamp": 1734475970517,
     "user": {
      "displayName": "Daniele Grotti",
      "userId": "05993002232846155126"
     },
     "user_tz": -60
    },
    "id": "SPvAE_ZKCALF"
   },
   "outputs": [],
   "source": [
    "path = 'https://frenzy86.s3.eu-west-2.amazonaws.com/timeseries/Data/creditcard.csv'"
   ]
  }
 ],
 "metadata": {
  "colab": {
   "provenance": []
  },
  "kernelspec": {
   "display_name": "Python 3",
   "language": "python",
   "name": "python3"
  },
  "language_info": {
   "codemirror_mode": {
    "name": "ipython",
    "version": 3
   },
   "file_extension": ".py",
   "mimetype": "text/x-python",
   "name": "python",
   "nbconvert_exporter": "python",
   "pygments_lexer": "ipython3",
   "version": "3.11.9"
  }
 },
 "nbformat": 4,
 "nbformat_minor": 0
}
